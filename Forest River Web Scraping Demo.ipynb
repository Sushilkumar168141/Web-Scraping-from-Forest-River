{
 "cells": [
  {
   "cell_type": "markdown",
   "metadata": {},
   "source": [
    "## Tasks:\n",
    "dealer name, address, phone no, website, brand name"
   ]
  },
  {
   "cell_type": "code",
   "execution_count": 104,
   "metadata": {},
   "outputs": [],
   "source": [
    "import warnings\n",
    "warnings.filterwarnings('ignore')"
   ]
  },
  {
   "cell_type": "code",
   "execution_count": 105,
   "metadata": {},
   "outputs": [
    {
     "data": {
      "text/html": [
       "<script>\n",
       "code_show_err=false; \n",
       "function code_toggle_err() {\n",
       " if (code_show_err){\n",
       " $('div.output_stderr').hide();\n",
       " } else {\n",
       " $('div.output_stderr').show();\n",
       " }\n",
       " code_show_err = !code_show_err\n",
       "} \n",
       "$( document ).ready(code_toggle_err);\n",
       "</script>\n",
       "To toggle on/off output_stderr, click <a href=\"javascript:code_toggle_err()\">here</a>."
      ],
      "text/plain": [
       "<IPython.core.display.HTML object>"
      ]
     },
     "execution_count": 105,
     "metadata": {},
     "output_type": "execute_result"
    }
   ],
   "source": [
    "from IPython.display import HTML\n",
    "HTML('''<script>\n",
    "code_show_err=false; \n",
    "function code_toggle_err() {\n",
    " if (code_show_err){\n",
    " $('div.output_stderr').hide();\n",
    " } else {\n",
    " $('div.output_stderr').show();\n",
    " }\n",
    " code_show_err = !code_show_err\n",
    "} \n",
    "$( document ).ready(code_toggle_err);\n",
    "</script>\n",
    "To toggle on/off output_stderr, click <a href=\"javascript:code_toggle_err()\">here</a>.''')"
   ]
  },
  {
   "cell_type": "code",
   "execution_count": 106,
   "metadata": {},
   "outputs": [],
   "source": [
    "from http_request_randomizer.requests.proxy.requestProxy import  RequestProxy"
   ]
  },
  {
   "cell_type": "code",
   "execution_count": 107,
   "metadata": {},
   "outputs": [],
   "source": [
    "from selenium import webdriver\n",
    "from selenium.webdriver.support.ui import Select\n",
    "import time\n",
    "import urllib.request\n",
    "from inscriptis import get_text\n",
    "from selenium.webdriver.common.keys import Keys\n",
    "from webdriver_manager.chrome import ChromeDriverManager\n",
    "from selenium.webdriver.common.by import By\n",
    "from selenium.webdriver.support import expected_conditions as EC\n",
    "from selenium.webdriver.common.desired_capabilities import DesiredCapabilities\n",
    "from selenium.webdriver.support.ui import WebDriverWait"
   ]
  },
  {
   "cell_type": "code",
   "execution_count": 108,
   "metadata": {},
   "outputs": [],
   "source": [
    "import requests\n",
    "import string\n",
    "import lxml.html as lh\n",
    "import pandas as pd\n",
    "from bs4 import BeautifulSoup"
   ]
  },
  {
   "cell_type": "code",
   "execution_count": 109,
   "metadata": {},
   "outputs": [],
   "source": [
    "import csv"
   ]
  },
  {
   "cell_type": "code",
   "execution_count": 110,
   "metadata": {},
   "outputs": [],
   "source": [
    "from fake_useragent import UserAgent\n",
    "ua = UserAgent()"
   ]
  },
  {
   "cell_type": "code",
   "execution_count": 111,
   "metadata": {},
   "outputs": [
    {
     "name": "stderr",
     "output_type": "stream",
     "text": [
      "2021-07-12 02:15:52,259 http_request_randomizer.requests.useragent.userAgent INFO     Using local file for user agents: D:\\users\\SUSHIL\\sushil\\anaconda\\installed\\lib\\site-packages\\http_request_randomizer\\requests\\proxy\\../data/user_agents.txt\n",
      "2021-07-12 02:15:52,261 root   DEBUG    === Initialized Proxy Parsers ===\n",
      "2021-07-12 02:15:52,262 root   DEBUG    \t FreeProxy parser of 'http://free-proxy-list.net' with required bandwidth: '150' KBs\n",
      "2021-07-12 02:15:52,263 root   DEBUG    \t PremProxy parser of 'https://premproxy.com/list/' with required bandwidth: '150' KBs\n",
      "2021-07-12 02:15:52,264 root   DEBUG    \t SslProxy parser of 'https://www.sslproxies.org' with required bandwidth: '150' KBs\n",
      "2021-07-12 02:15:52,265 root   DEBUG    =================================\n",
      "2021-07-12 02:16:12,599 root   DEBUG    Added 300 proxies from FreeProxy\n",
      "2021-07-12 02:16:13,240 http_request_randomizer.requests.parsers.PremProxyParser WARNING  Proxy Provider url failed: https://premproxy.com/list/\n",
      "2021-07-12 02:16:13,241 http_request_randomizer.requests.parsers.PremProxyParser DEBUG    Pages: set()\n",
      "2021-07-12 02:16:13,871 http_request_randomizer.requests.parsers.PremProxyParser WARNING  Proxy Provider url failed: https://premproxy.com/list/\n",
      "2021-07-12 02:16:13,872 root   DEBUG    Added 0 proxies from PremProxy\n",
      "2021-07-12 02:16:14,085 root   DEBUG    Added 100 proxies from SslProxy\n",
      "2021-07-12 02:16:14,086 root   DEBUG    Total proxies = 1200\n",
      "2021-07-12 02:16:14,087 root   DEBUG    Filtered proxies = 1200\n"
     ]
    }
   ],
   "source": [
    "req_proxy = RequestProxy()\n",
    "proxies = req_proxy.get_proxy_list()"
   ]
  },
  {
   "cell_type": "code",
   "execution_count": 112,
   "metadata": {},
   "outputs": [],
   "source": [
    "delayTime = 2\n",
    "audioToTextDelay = 10\n",
    "filename = \"test.mp3\"\n",
    "byPassUrl = \"https://forestriverinc.com/rvs/dealer-locator\"\n",
    "googleIBMLink = \"https://speech-to-text-demo.ng.bluemix.net/\""
   ]
  },
  {
   "cell_type": "code",
   "execution_count": 113,
   "metadata": {},
   "outputs": [
    {
     "data": {
      "text/plain": [
       "'options = webdriver.ChromeOptions()\\noptions.add_argument(\\'--disable-notifications\\')\\noptions.add_argument(\\'--mute-audio\\')\\noptions.add_argument(\"start-maximized\")\\noptions.add_experimental_option(\"excludeSwitches\", [\"enable-automation\"])\\noptions.add_experimental_option(\\'useAutomationExtension\\', False)\\n#driver = webdriver.Chrome(options=options, executable_path=r\\'D:\\\\Chromedriver\\\\chromedriver.exe\\')\\n#driver.execute_script(\"Object.defineProperty(navigator, \\'webdriver\\', {get: () => undefined})\")\\n#driver.execute_cdp_cmd(\\'Network.setUserAgentOverride\\', {\"userAgent\": \\'Mozilla/5.0 (Windows NT 10.0; Win64; x64) AppleWebKit/537.36 (KHTML, like Gecko) Chrome/83.0.4103.53 Safari/537.36\\'})\\n#print(driver.execute_script(\"return navigator.userAgent;\"))\\n#driver.get(\\'https://www.httpbin.org/headers\\')\\n#options.add_argument(\\'user-agent=Mozilla/5.0 (iPhone; CPU iPhone OS 12_2 like Mac OS X) AppleWebKit/605.1.15 (KHTML, like Gecko) Version/12.1 Mobile/15E148 Safari/604.1\\')'"
      ]
     },
     "execution_count": 113,
     "metadata": {},
     "output_type": "execute_result"
    }
   ],
   "source": [
    "\"\"\"options = webdriver.ChromeOptions()\n",
    "options.add_argument('--disable-notifications')\n",
    "options.add_argument('--mute-audio')\n",
    "options.add_argument(\"start-maximized\")\n",
    "options.add_experimental_option(\"excludeSwitches\", [\"enable-automation\"])\n",
    "options.add_experimental_option('useAutomationExtension', False)\n",
    "#driver = webdriver.Chrome(options=options, executable_path=r'D:\\Chromedriver\\chromedriver.exe')\n",
    "#driver.execute_script(\"Object.defineProperty(navigator, 'webdriver', {get: () => undefined})\")\n",
    "#driver.execute_cdp_cmd('Network.setUserAgentOverride', {\"userAgent\": 'Mozilla/5.0 (Windows NT 10.0; Win64; x64) AppleWebKit/537.36 (KHTML, like Gecko) Chrome/83.0.4103.53 Safari/537.36'})\n",
    "#print(driver.execute_script(\"return navigator.userAgent;\"))\n",
    "#driver.get('https://www.httpbin.org/headers')\n",
    "#options.add_argument('user-agent=Mozilla/5.0 (iPhone; CPU iPhone OS 12_2 like Mac OS X) AppleWebKit/605.1.15 (KHTML, like Gecko) Version/12.1 Mobile/15E148 Safari/604.1')\"\"\""
   ]
  },
  {
   "cell_type": "code",
   "execution_count": 114,
   "metadata": {},
   "outputs": [
    {
     "data": {
      "text/plain": [
       "'def audioToText(mp3path):\\n    driver.execute_script(\\'\\'\\'window.open(\"\",\"_blank\");\\'\\'\\')\\n    driver.switch_to.window(driver.window_handles[1])\\n    \\n    driver.get(googleIBMLink)\\n    \\n    # Upload file\\n    tiem.sleep(1)\\n    root = driver.find_element_by_id(\"root\").find_elements_by_id(\\'root\\').find_elements_by_class_name(\\'dropzone _container _container_large\\')\\n    btn = driver.find_element(By.XPATH, \\'//*[@id=\"root\"]/div/input\\')\\n    btn.send_keys(mp3path)\\n    # Audio to text  is processing\\n    time.sleep(audioToTextDelay)\\n    \\n    text = driver.find_element(By.XPATH, \\'//*[@id=\"root\"]/div/div[6]/div/div/dialog\\').find_elements_by_tag_name(\\'dd\\')\\n    result = \" \".join([each.text for each  in text])\\n    \\n    driver.close()\\n    driver.switch_to.windows(driver.window_handles[0])\\n    \\n    return  result\\n    '"
      ]
     },
     "execution_count": 114,
     "metadata": {},
     "output_type": "execute_result"
    }
   ],
   "source": [
    "\"\"\"def audioToText(mp3path):\n",
    "    driver.execute_script('''window.open(\"\",\"_blank\");''')\n",
    "    driver.switch_to.window(driver.window_handles[1])\n",
    "    \n",
    "    driver.get(googleIBMLink)\n",
    "    \n",
    "    # Upload file\n",
    "    tiem.sleep(1)\n",
    "    root = driver.find_element_by_id(\"root\").find_elements_by_id('root').find_elements_by_class_name('dropzone _container _container_large')\n",
    "    btn = driver.find_element(By.XPATH, '//*[@id=\"root\"]/div/input')\n",
    "    btn.send_keys(mp3path)\n",
    "    # Audio to text  is processing\n",
    "    time.sleep(audioToTextDelay)\n",
    "    \n",
    "    text = driver.find_element(By.XPATH, '//*[@id=\"root\"]/div/div[6]/div/div/dialog').find_elements_by_tag_name('dd')\n",
    "    result = \" \".join([each.text for each  in text])\n",
    "    \n",
    "    driver.close()\n",
    "    driver.switch_to.windows(driver.window_handles[0])\n",
    "    \n",
    "    return  result\n",
    "    \"\"\""
   ]
  },
  {
   "cell_type": "code",
   "execution_count": 115,
   "metadata": {},
   "outputs": [
    {
     "data": {
      "text/plain": [
       "'def saveFile(content, filename):\\n    with open(filename, \"wb\") as handle:\\n        for  data in  content.iter_content():\\n            handle.write(data)'"
      ]
     },
     "execution_count": 115,
     "metadata": {},
     "output_type": "execute_result"
    }
   ],
   "source": [
    "\"\"\"def saveFile(content, filename):\n",
    "    with open(filename, \"wb\") as handle:\n",
    "        for  data in  content.iter_content():\n",
    "            handle.write(data)\"\"\""
   ]
  },
  {
   "cell_type": "code",
   "execution_count": 116,
   "metadata": {},
   "outputs": [
    {
     "data": {
      "text/plain": [
       "'PROXY = proxies[0].get_address()\\nwebdriver.DesiredCapabilities.CHROME[\\'proxy\\'] = {\\n    \"httpProxy\":PROXY,\\n    \"ftpProxy\":PROXY,\\n    \"sslProxy\":PROXY,\\n    \\n    \\n    \"proxyType\":\"MANUAL\",\\n}'"
      ]
     },
     "execution_count": 116,
     "metadata": {},
     "output_type": "execute_result"
    }
   ],
   "source": [
    "\"\"\"PROXY = proxies[0].get_address()\n",
    "webdriver.DesiredCapabilities.CHROME['proxy'] = {\n",
    "    \"httpProxy\":PROXY,\n",
    "    \"ftpProxy\":PROXY,\n",
    "    \"sslProxy\":PROXY,\n",
    "    \n",
    "    \n",
    "    \"proxyType\":\"MANUAL\",\n",
    "}\"\"\""
   ]
  },
  {
   "cell_type": "code",
   "execution_count": 117,
   "metadata": {},
   "outputs": [],
   "source": [
    "zip_code_list = ['35010', '36420', '36201', '30601', '36502', '36830', '35020', '35203', '73030', '35045', '35055', '30030', '36732', '36301', '65708', '36027', '29506', '35967', '35901', '29601', '35976', '35801', '75951', '43302', '36602', '36104', '36801', '65679', '36867', '36610', '35768', '36701', '35660', '35150', '35160', '48098', '35401', '35674', '36088', '99501', '38016', '99701', '99827', '13077', '99801', '99901', '99615', '99752', '99762', '99645', '99664', '99835', '99840', '99686', '85321', '85323', '85603', '85122', '85225', '07013', '80118', '86001', '29506', '85337', '91204', '91203', '86401', '86403', '85201', '85621', '86039', '85004', '86303', '85251', '85635', '85281', '85638', '85701', '86042', '86515', '86047', '85364', '71923', '72055', '47006', '72015', '72315', '08104', '72034', '71635', '71730', '28301', '72335', '72904', '72601', '59601', '60174', '71901', '32202', '72401', '72201', '77382', '72110', '02840', '72114', '34773', '71601', '72756', '72143', '72160', '72956', '72301', '94501', '91801', '92805', '94509', '91006', '93301', '92311', '94002', '94704', '90210', '92821', '90621', '91502', '92231', '94515', '92008', '93923', '95928', '91910', '91711', '90220', '03301', '92118', '92626', '90232', '94014', '95616', '90241', '92243', '94530', '91731', '92025', '95501', '06824', '92335', '94536', '93721', '92832', '92843', '91204', '94544', '90038', '92648', '92201', '90301', '92606', '90631', '92651', '17602', '94550', '95240', '93436', '90802', '90012', '90265', '94553', '98270', '94025', '95340', '95354', '93940', '94040', '92363', '92663', '06851', '94945', '94612', '92054', '93023', '91762', '92866', '95965', '93030', '93950', '92262', '93550', '94301', '91101', '94952', '91766', '93041', '91730', '96080', '96001', '92373', '90277', '94063', '23219', '92501', '95678', '95814', '93901', '92401', '92672', '92101', '91401', '94103', '91776', '95112', '92675', '94577', '93401', '91108', '94401', '90731', '94901', '93452', '92701', '93101', '95050', '91321', '95060', '90401', '95401', '94965', '93065', '95476', '94080', '95202', '94087', '96130', '91362', '90503', '95380', '97880', '94590', '93001', '92395', '93291', '94596', '78252', '91790', '90601', '95695', '92886', '95991', '81101', '81611', '80011', '80302', '80424', '48116', '81212', '80427', '56523', '80903', '81321', '80813', '80202', '81301', '80110', '80517', '80521', '80701', '20007', '81601', '80401', '81501', '80631', '81230', '81050', '80461', '80120', '80501', '80537', '81401', '81427', '81147', '81004', '81433', '80487', '20164', '81435', '81657', '81089', '80030', '06401', '54923', '07003', '06405', '06604', '06010', '02816', '06810', '06820', '06418', '06118', '06512', '06082', '06824', '06032', '06830', '06340', '06437', '06518', '06103', '06759', '03104', '02048', '06451', '06457', '06460', '06770', '06051', '06511', '06320', '06473', '06851', '06360', '06475', '92866', '47274', '06484', '06070', '06489', '06901', '06378', '06615', '06790', '06492', '06702', '12188', '13601', '06107', '06516', '06880', '06109', '06226', '12496', '06095', '06096', '06098', '19901', '19958', '06460', '19720', '07102', '30080', '19801', '32320', '33830', '33430', '33431', '34205', '33904', '33755', '32931', '32955', '33134', '32114', '32720', '33441', '33444', '32034', '33301', '33901', '34950', '32548', '32601', '33009', '33013', '90038', '66757', '32202', '33040', '32055', '33853', '33801', '33771', '32901', '33131', '33139', '34102', '32168', '34475', '32801', '32174', '32177', '32905', '33480', '32401', '32501', '33060', '32084', '33701', '32771', '34237', '33870', '32301', '33602', '34689', '32796', '90291', '33401', '32096', '33880', '80482', '12210', '31709', '31711', '30601', '30334', '30904', '98110', '30512', '31520', '30701', '75006', '43215', '30533', '30720', '06820', '30030', '80118', '30344', '31750', '31030', '32601', '60525', '31201', '30060', '31061', '67665', '00165', '31401', '30577', '31601', '31830', '31088', '98826', '31501', '96714', '96720', '96704', '96813', '96732', '96744', '96746', '96743', '96761', '96762', '96786', '96793', '96743', '83221', '83702', '83805', '83605', '83814', '83631', '83402', '38301', '14092', '83843', '83651', '83204', '83856', '83440', '83353', '83301', '62002', '60004', '11368', '80011', '62220', '61008', '47405', '53005', '62206', '62914', '60409', '44702', '62901', '62626', '64836', '17920', '61820', '29401', '19013', '60604', '60411', '60804', '62234', '24541', '30030', '60115', '60016', '95620', '61244', '62201', '62401', '60120', '60126', '60201', '77541', '61036', '61401', '60137', '60026', '62040', '17102', '62948', '90042', '32202', '60432', '60901', '62233', '61443', '19144', '92630', '60048', '66762', '60532', '60148', '48048', '61938', '61265', '07722', '22309', '60060', '60540', '62354', '61761', '60064', '60302', '97712', '61350', '60074', '60466', '60068', '61554', '61602', '23803', '48342', '02169', '61866', '60305', '61201', '61101', '01970', '62984', '60076', '60473', '01103', '61364', '77002', '61801', '45377', '62690', '60085', '60187', '60091', '60093', '62095', '84737', '29624', '01730', '47405', '43215', '47331', '47112', '47933', '46312', '46516', '60421', '47708', '46802', '47432', '46402', '14456', '46528', '46140', '46324', '46342', '25701', '46204', '47130', '46901', '70501', '53715', '43302', '46360', '46544', '47305', '46550', '37243', '43054', '19720', '47631', '02360', '23219', '47579', '40065', '46601', '47807', '46383', '47591', '46992', '47906', '52203', '50010', '28607', '05401', '50613', '52401', '50616', '74342', '39056', '51501', '52801', '50309', '52001', '51334', '06824', '50501', '50112', '50125', '52240', '52632', '50401', '29464', '52761', '02459', '52577', '52501', '51101', '50701', '50595', '50265', '79601', '67005', '66002', '66720', '67337', '66846', '67801', '66801', '66701', '11530', '67530', '33607', '67501', '67301', '66441', '64106', '66044', '66048', '67301', '10024', '67460', '67104', '02459', '66061', '66064', '61350', '66204', '15219', '67401', '66203', '66967', '66612', '67202', '97520', '40906', '40004', '40403', '40475', '42101', '42718', '30014', '24541', '17022', '40601', '40831', '40330', '41701', '89015', '42748', '42240', '40508', '40202', '42066', '41056', '40965', '02840', '42303', '42003', '75008', '23219', '70510', '22314', '78602', '70802', '70427', '71111', '70053', '70360', '70501', '70601', '71201', '70380', '71457', '70560', '70112', '70570', '71270', '70582', '71107', '70301', '36830', '30904', '04401', '04609', '44256', '04915', '04005', '04538', '31520', '04619', '55402', '04421', '04631', '04605', '06032', '04743', '59030', '04730', '04046', '03904', '14092', '04652', '04654', '04473', '97201', '04769', '04841', '04276', '04072', '04074', '04901', '17401', '98520', '21401', '21202', '20814', '20715', '02138', '21228', '20742', '29201', '21502', '18042', '21921', '21727', '21701', '20770', '21740', '20781', '39440', '94612', '21842', '20850', '20686', '21801', '20910', '20912', '21286', '80030', '19001', '67301', '01913', '01002', '01810', '22201', '01331', '02703', '02630', '01730', '01915', '02203', '02532', '02184', '02301', '02445', '02138', '44702', '02129', '01824', '48118', '01013', '39056', '02025', '03301', '01923', '03755', '02026', '02638', '02332', '02642', '02539', '98201', '02719', '02720', '02540', '01420', '01702', '01930', '01230', '46140', '06340', '02646', '01830', '02043', '01040', '02601', '01938', '66044', '30326', '01453', '40508', '01851', '01056', '01902', '02148', '01945', '01752', '97501', '02186', '01908', '01760', '02740', '01950', '02459', '01247', '01060', '05907', '02062', '01960', '01201', '02360', '02657', '02169', '07869', '02151', '01970', '46123', '01906', '02143', '01075', '01103', '01263', '02072', '01566', '01776', '02780', '01876', '02657', '13601', '63119', '02482', '02667', '02379', '01089', '90067', '02188', '02382', '01267', '01801', '02543', '01608', '49221', '80420', '48104', '49017', '48708', '49022', '48304', '29577', '49720', '49721', '48126', '48226', '48823', '48021', '48229', '49829', '48502', '49417', '49503', '49738', '48230', '60611', '90042', '49423', '49931', '49643', '71953', '49938', '49849', '39201', '49007', '48933', '48150', '49431', '49701', '49660', '49855', '49858', '79701', '71201', '48043', '29464', '49440', '60714', '49770', '48342', '48060', '48067', '48601', '49781', '64501', '49783', '49684', '08608', '74136', '48192', '48197', '56007', '22314', '78701', '56601', '47405', '56401', '56716', '55802', '89301', '55734', '55021', '56537', '68901', '55746', '56649', '56345', '56001', '55415', '56560', '56073', '55057', '55060', '56164', '34684', '14604', '56301', '55101', '56378', '55075', '74074', '24522', '56201', '55987', '39520', '39530', '44702', '38614', '29201', '43215', '38834', '29601', '46142', '33707', '39401', '27540', '39201', '39440', '36609', '39120', '39564', '38655', '39567', '39571', '19102', '39150', '39759', '38804', '39183', '10996', '39194', '65233', '65616', '63701', '64836', '45601', '27520', '29201', '64024', '63135', '63031', '61252', '63401', '67301', '65101', '64801', '64106', '63501', '81052', '40508', '64468', '65708', '64850', '63869', '65401', '63301', '64501', '63103', '63670', '01970', '65301', '01103', '64093', '65775', '78701', '59101', '59715', '59701', '80435', '59442', '59330', '59401', '59501', '59601', '59901', '17044', '14454', '59301', '59802', '89440', '68310', '98004', '68010', '69337', '43215', '94536', '68801', '68901', '68847', '66762', '69001', '89423', '68410', '23510', '69101', '68102', '68048', '68970', '45365', '89005', '89701', '89801', '89301', '89406', '43430', '89013', '89015', '89101', '89030', '89501', '89431', '89440', '89445', '54923', '91711', '03301', '03038', '19901', '27701', '03833', '67301', '21076', '27278', '03431', '03246', '03104', '03064', '03458', '02360', '03801', '14604', '01970', '03878', '07712', '08401', '07002', '07003', '08505', '08805', '63044', '05401', '83605', '08104', '08204', '07013', '07016', '07017', '08817', '07201', '80110', '23801', '08028', '07601', '08033', '07030', '07111', '07302', '08733', '98499', '90802', '07740', '53715', '94025', '07078', '08332', '07042', '07960', '28120', '08901', '06776', '07102', '21842', '92866', '07054', '07055', '07505', '08861', '46168', '08542', '07450', '60172', '07070', '01970', '02143', '07079', '07512', '08608', '67301', '94587', '08360', '19087', '07086', '07093', '07052', '08046', '07095', '87034', '88310', '87102', '90701', '87002', '92008', '93612', '88030', '06032', '68102', '61036', '30326', '88001', '89101', '87544', '88260', '88130', '87740', '88203', '87501', '87420', '88061', '87801', '87571', '87901', '88401', '12210', '12010', '36830', '11704', '14020', '12508', '01730', '13905', '10462', '11216', '14202', '14757', '14225', '39056', '12047', '11224', '13326', '28107', '13045', '46307', '14048', '14052', '11937', '10709', '14901', '11354', '11375', '14063', '11530', '14456', '12801', '12078', '11023', '14840', '10027', '11550', '13350', '12534', '25701', '12538', '13357', '14850', '23185', '15901', '12401', '14218', '12946', '11756', '14094', '10543', '10024', '13662', '06457', '11501', '22309', '12561', '10801', '12553', '10007', '12550', '14301', '11030', '10960', '13669', '14760', '13421', '13820', '10562', '13126', '11771', '17078', '10566', '12901', '53074', '13676', '12601', '11366', '12140', '14604', '00165', '12306', '10580', '11963', '12983', '12866', '10583', '12305', '13148', '11942', '10306', '11790', '10980', '13202', '10591', '12883', '14223', '48098', '13502', '13601', '12189', '14891', '14224', '10601', '12498', '10701', '27203', '28801', '44256', '29902', '28607', '05401', '27516', '28280', '03301', '27701', '27932', '27909', '28301', '28052', '27530', '27401', '29601', '24558', '89015', '28601', '27260', '27278', '32202', '28501', '27949', '28358', '28557', '28655', '27959', '28560', '28374', '27601', '27801', '21801', '89119', '98826', '19801', '66736', '27101', '58501', '58301', '58601', '58102', '58203', '23185', '58554', '58701', '80246', '58072', '58075', '58801', '44308', '66604', '44004', '30601', '44203', '01730', '43311', '42101', '44702', '45601', '45202', '44113', '44118', '43215', '44030', '44221', '45402', '43512', '19954', '44112', '43920', '44035', '44123', '45840', '45631', '29601', '10004', '98032', '45429', '98499', '17602', '45801', '44052', '02048', '30060', '43302', '43935', '44646', '44060', '06457', '48160', '22309', '17959', '07102', '60714', '45239', '06851', '44074', '44077', '44129', '45356', '03801', '43456', '01970', '44870', '44122', '01103', '43952', '44883', '43604', '61801', '74136', '44691', '43085', '45385', '45387', '44503', '43701', '60611', '73521', '73717', '73005', '73401', '74003', '64424', '73018', '74017', '39056', '74023', '29334', '74701', '73034', '73036', '73644', '73701', '36027', '21701', '73044', '73942', '46342', '74848', '55038', '73501', '74501', '33131', '73110', '73160', '74401', '73069', '73102', '74447', '73075', '74056', '31069', '74601', '74361', '74955', '74063', '74066', '33772', '66203', '74074', '74464', '10014', '74103', '74301', '74884', '73801', '12210', '97520', '97103', '97814', '97005', '97703', '57006', '97720', '97420', '97333', '97401', '97526', '97124', '97031', '32202', '97845', '97601', '97850', '97035', '97630', '97128', '97501', '97132', '02840', '91762', '97045', '97801', '97465', '97201', '97754', '98052', '97467', '97470', '01970', '97138', '01103', '97058', '97141', '19001', '15001', '18101', '16601', '15003', '01730', '18018', '17815', '16701', '06010', '62901', '17013', '17201', '19013', '29201', '18042', '16501', '67301', '20874', '17325', '15601', '21076', '55939', '17102', '18201', '17033', '66757', '18431', '46072', '15644', '18229', '15901', '17602', '11756', '17044', '17745', '19053', '15132', '16335', '06457', '15146', '18634', '19720', '18938', '15068', '19401', '16301', '19102', '19460', '15219', '19464', '17901', '19601', '18503', '17872', '02067', '16801', '18360', '17801', '19081', '18252', '32796', '15401', '74136', '98826', '19380', '18701', '17701', '17401', '60010', '06010', '02863', '02910', '02818', '02914', '12401', '06457', '02882', '02840', '02852', '02860', '03801', '02903', '02879', '02878', '74136', '02889', '02891', '02852', '02895', '70510', '29801', '29624', '29902', '08104', '29401', '29201', '29532', '29506', '29340', '20007', '29601', '46142', '29550', '17602', '29464', '29577', '29115', '29730', '29306', '29150', '67301', '98520', '57717', '57006', '44702', '57730', '57231', '57732', '71901', '57350', '34787', '53715', '57252', '57301', '57601', '57501', '57701', '57104', '57783', '57785', '57069', '13601', '57078', '37701', '30601', '37402', '37040', '44113', '29201', '38501', '45402', '37643', '67301', '37066', '37738', '37743', '39201', '37604', '37659', '37660', '37902', '64468', '38103', '07960', '37130', '37243', '59745', '37830', '40065', '37388', '79601', '48326', '79107', '22201', '78701', '77520', '92223', '79720', '79007', '78520', '77803', '92008', '76031', '77840', '78401', '22202', '75201', '78840', '43023', '76201', '78852', '78539', '79901', '76102', '77541', '77550', '75040', '77963', '29601', '78550', '77002', '35801', '75060', '37604', '75662', '76541', '78363', '78040', '98632', '79401', '75904', '66427', '78501', '75069', '75149', '79701', '64801', '75961', '78130', '79761', '92866', '79065', '75008', '91101', '79772', '78577', '11803', '75074', '77640', '77979', '75081', '76903', '78205', '77474', '78666', '75090', '46818', '76501', '75501', '77590', '75702', '78801', '77901', '76701', '74066', '76301', '79907', '84092', '84003', '84010', '84302', '84720', '16833', '64153', '17070', '84023', '84032', '84741', '84041', '84043', '84321', '84642', '84532', '22902', '42071', '84648', '84401', '84758', '84058', '84759', '84060', '85541', '67301', '84606', '84770', '84111', '84660', '84663', '84074', '84078', '12065', '05101', '05201', '05301', '05401', '21221', '03104', '05753', '05602', '02840', '02360', '05701', '05478', '05819', '02067', '05404', '24210', '22314', '06010', '22902', '23320', '24541', '22030', '22046', '22401', '23669', '21076', '23860', '40508', '24504', '20110', '24112', '22844', '23606', '23510', '23803', '03801', '20190', '23219', '24011', '24401', '23434', '23451', '22980', '23185', '01890', '98520', '98221', '36830', '98004', '98225', '98337', '17920', '99116', '98239', '98926', '17522', '98201', '98550', '98626', '99336', '98632', '98837', '98277', '98501', '99301', '98281', '98362', '99163', '98372', '98052', '98057', '99352', '98164', '99201', '98402', '98660', '99362', '98801', '98901', '44256', '25801', '24701', '26201', '25414', '29401', '26301', '26241', '56031', '53024', '25425', '97124', '25951', '25701', '26726', '17837', '84321', '25401', '26505', '26041', '26155', '26101', '26416', '08742', '08542', '67568', '25443', '25303', '26651', '26062', '24801', '26070', '33327', '26003', '24986', '25661', '54911', '97520', '53913', '94002', '53511', '54701', '54935', '54301', '94544', '53545', '53140', '54601', '53147', '53715', '54220', '54143', '54952', '53202', '54956', '53574', '54153', '54901', '54157', '53901', '53821', '53403', '54501', '54971', '53081', '53588', '54481', '54235', '54880', '53186', '54403', '53213', '53214', '53095', '53965', '14202', '82601', '82001', '82414', '80118', '60201', '82716', '84023', '39201', '82520', '82070', '19720', '64061', '82301', '82501', '82901', '82801', '82442', '82443', '06790', '82401']"
   ]
  },
  {
   "cell_type": "code",
   "execution_count": 118,
   "metadata": {},
   "outputs": [],
   "source": [
    "brands_list= ['Alpha Wolf',\n",
    " 'Arctic Wolf',\n",
    " 'Aurora',\n",
    " 'Berkshire',\n",
    " 'Berkshire XL',\n",
    " 'Berkshire XLT',\n",
    " 'Cardinal Limited',\n",
    " 'Cardinal Luxury',\n",
    " 'Cedar Creek',\n",
    " 'Cedar Creek Champagne Edition',\n",
    " 'Cedar Creek Cottage',\n",
    " 'Cedar Creek Hathaway Edition',\n",
    " 'Cedar Creek Silverback Edition',\n",
    " 'Cherokee',\n",
    " 'Cherokee Destination',\n",
    " 'Cruise Lite',\n",
    " 'Evo',\n",
    " 'Flagstaff Classic',\n",
    " 'Flagstaff E-Pro',\n",
    " 'Flagstaff Hard Side Pop-Up Campers',\n",
    " 'Flagstaff Micro Lite',\n",
    " 'Flagstaff Shamrock',\n",
    " 'Flagstaff Sports Enthusiast Package',\n",
    " 'Flagstaff Super Lite',\n",
    " 'Flagstaff Tent',\n",
    " 'Forester Classic',\n",
    " 'Forester LE',\n",
    " 'Forester MBS',\n",
    " 'Forester TS',\n",
    " 'FR3',\n",
    " 'Georgetown 3 Series GT3',\n",
    " 'Georgetown 5 Series GT5',\n",
    " 'Georgetown 7 Series GT7',\n",
    " 'Grand Surveyor',\n",
    " 'Grey Wolf',\n",
    " 'Grey Wolf Fish House',\n",
    " 'Hemisphere',\n",
    " 'Hemisphere Elite',\n",
    " 'Hemisphere Hyper-Lyte',\n",
    " 'Heritage Glen',\n",
    " 'Heritage Glen Elite',\n",
    " 'Heritage Glen Hyper-Lyte',\n",
    " 'Ibex',\n",
    " 'Impression',\n",
    " 'Independence Trail',\n",
    " 'No Boundaries',\n",
    " 'Ozark',\n",
    " 'r-pod',\n",
    " 'RIVERSTONE',\n",
    " 'Riverstone Reserve Series',\n",
    " 'Rockwood Extreme Sports Package',\n",
    " 'Rockwood Geo Pro',\n",
    " 'Rockwood Hard Side Pop-Up Campers',\n",
    " 'Rockwood Mini Lite',\n",
    " 'Rockwood Roo',\n",
    " 'Rockwood Signature',\n",
    " 'Rockwood Tent',\n",
    " 'Rockwood Ultra Lite',\n",
    " 'Sabre',\n",
    " 'Salem',\n",
    " 'Salem FSX',\n",
    " 'Salem FSX Northwest',\n",
    " 'Salem Villa',\n",
    " 'Sandpiper',\n",
    " 'Sandpiper C-Class',\n",
    " 'Sandpiper Destination',\n",
    " 'Sandstorm',\n",
    " 'Shockwave',\n",
    " 'Sierra',\n",
    " 'Sierra C-Class',\n",
    " 'Sierra Destination',\n",
    " 'Solera',\n",
    " 'Sonoma',\n",
    " 'Stealth',\n",
    " 'Sunseeker Classic',\n",
    " 'Sunseeker LE',\n",
    " 'Sunseeker MBS',\n",
    " 'Sunseeker TS',\n",
    " 'Surveyor Legend',\n",
    " 'Vengeance Rogue',\n",
    " 'Vengeance Rogue Armored',\n",
    " 'Vibe',\n",
    " 'Vibe West',\n",
    " 'Wildcat Fifth Wheels',\n",
    " 'Wildcat Travel Trailers',\n",
    " 'Wildwood',\n",
    " 'Wildwood FSX',\n",
    " 'Wildwood FSX Northwest',\n",
    " 'Wildwood Lodge',\n",
    " 'Wolf Pack',\n",
    " 'Wolf Pack Gold Series',\n",
    " 'Wolf Pup',\n",
    " 'Work and Play',\n",
    " 'X-Lite',\n",
    " 'XLR Boost',\n",
    " 'XLR Hyperlite',\n",
    " 'XLR Nitro']"
   ]
  },
  {
   "cell_type": "code",
   "execution_count": 119,
   "metadata": {},
   "outputs": [],
   "source": [
    "delay=1"
   ]
  },
  {
   "cell_type": "code",
   "execution_count": 120,
   "metadata": {},
   "outputs": [
    {
     "data": {
      "text/plain": [
       "1949"
      ]
     },
     "execution_count": 120,
     "metadata": {},
     "output_type": "execute_result"
    }
   ],
   "source": [
    "len(zip_code_list)"
   ]
  },
  {
   "cell_type": "code",
   "execution_count": 121,
   "metadata": {},
   "outputs": [
    {
     "data": {
      "text/plain": [
       "97"
      ]
     },
     "execution_count": 121,
     "metadata": {},
     "output_type": "execute_result"
    }
   ],
   "source": [
    "len(brands_list)"
   ]
  },
  {
   "cell_type": "code",
   "execution_count": 122,
   "metadata": {},
   "outputs": [
    {
     "data": {
      "text/plain": [
       "1200"
      ]
     },
     "execution_count": 122,
     "metadata": {},
     "output_type": "execute_result"
    }
   ],
   "source": [
    "len(proxies)"
   ]
  },
  {
   "cell_type": "code",
   "execution_count": 123,
   "metadata": {},
   "outputs": [],
   "source": [
    "count=0"
   ]
  },
  {
   "cell_type": "code",
   "execution_count": 124,
   "metadata": {},
   "outputs": [],
   "source": [
    "proxies_start=0"
   ]
  },
  {
   "cell_type": "code",
   "execution_count": 125,
   "metadata": {},
   "outputs": [],
   "source": [
    "zip_codes_done=10"
   ]
  },
  {
   "cell_type": "code",
   "execution_count": 126,
   "metadata": {},
   "outputs": [],
   "source": [
    "brands_done=0"
   ]
  },
  {
   "cell_type": "code",
   "execution_count": 127,
   "metadata": {},
   "outputs": [],
   "source": [
    "def isCaptcha():\n",
    "    googleClass = driver.find_elements_by_class_name(\"g-recaptcha\")\n",
    "    return (len(googleClass)>0)"
   ]
  },
  {
   "cell_type": "code",
   "execution_count": 128,
   "metadata": {},
   "outputs": [],
   "source": [
    "def saveData(data):\n",
    "    with open('data_trial.txt', 'a') as file:\n",
    "        #writer = csv.writer(file, delimiter = \"|\")\n",
    "        #writer.writerow(data)\n",
    "        file.write(data)"
   ]
  },
  {
   "cell_type": "code",
   "execution_count": 129,
   "metadata": {},
   "outputs": [],
   "source": [
    "def getData(zip_start=0, brands_start=0, count=0):\n",
    "    count=0\n",
    "    for i in range(zip_start, len(zip_code_list)):\n",
    "        \n",
    "        for j in range(brands_start, len(brands_list)):\n",
    "            \n",
    "            # Going to the web page\n",
    "            driver.get(\"https://forestriverinc.com/rvs/dealer-locator\")\n",
    "            time.sleep(10)\n",
    "            # timeout=30\n",
    "            # for t in range(10):\n",
    "        \n",
    "                \n",
    "                \n",
    "\n",
    "            if (isCaptcha()):\n",
    "                print(\"reCAPTCHA occurs\")\n",
    "                driver.quit()\n",
    "                return i,  j,  count,  False\n",
    "            print(\"No  captcha\")\n",
    "            postal_code = driver.find_element_by_id(\"ContentPlaceHolder1_tbZipCode\")\n",
    "            print(postal_code)\n",
    "            postal_code.send_keys(zip_code_list[i])\n",
    "            time.sleep(delay)\n",
    "\n",
    "            search_button = driver.find_element_by_id(\"ContentPlaceHolder1_btnSearch\")\n",
    "            brand_product = Select(driver.find_element_by_id(\"ContentPlaceHolder1_ddlProducts\"))\n",
    "            # print(o.text)\n",
    "            brand_product.select_by_visible_text(brands_list[j])\n",
    "            #time.sleep(delay)\n",
    "            \n",
    "            #time.sleep(60)\n",
    "            \n",
    "            search_button.click()\n",
    "            print(\"Search Clicked\")\n",
    "            # time.sleep(10)\n",
    "            \n",
    "            \n",
    "            errors = driver.find_elements_by_id(\"ContentPlaceHolder1_lblError\")\n",
    "            if (len(errors)>0):\n",
    "                brands_done=j\n",
    "                count+=1\n",
    "                data=\"\"\n",
    "                data += zip_code_list[i]+\" | \"\n",
    "                data += brands_list[j]+\" | \"\n",
    "                data+=\"\\n\"\n",
    "                print(data)\n",
    "\n",
    "                saveData(data)\n",
    "                continue\n",
    "            \n",
    "            page = driver.find_element_by_id(\"map\");\n",
    "            all_dealers = page.find_elements(By.XPATH, '//*[@id=\"map\"]/div[1]')[0].find_elements(By.XPATH, \"./child::*\")\n",
    "            all_dealers = page.find_elements_by_css_selector(\"div.text-left\")\n",
    "            # print(\"count of dealers\", len(all_dealers))\n",
    "            \n",
    "            data=\"\"\n",
    "            data += zip_code_list[i]+\" | \"\n",
    "            data += brands_list[j]+\" | \"\n",
    "            for k in  range(len(all_dealers)):\n",
    "                # print(all_dealers[i].find_element_by_tag_name('h3').text)\n",
    "                data+=all_dealers[k].find_element_by_tag_name('h3').text+\" | \"\n",
    "                x = all_dealers[k].find_elements_by_tag_name('div')\n",
    "                for k in range(len(x)-2):\n",
    "                    # print(x[i].text)\n",
    "                    data += x[k].text +\" | \"\n",
    "                q = x[len(x)-2]\n",
    "                # //*[@id=\"hlWebsite1\"]\n",
    "                q = q.find_element_by_tag_name('a')\n",
    "                # print(q.get_attribute(\"href\"))\n",
    "                data += q.get_attribute(\"href\")+\" | \"\n",
    "            data+=\"\\n\"\n",
    "            print(data)\n",
    "            \n",
    "            saveData(data)\n",
    "            \n",
    "            time.sleep(delay)\n",
    "            count=count+1\n",
    "            print(count)\n",
    "            brands_done=j+1\n",
    "            print(\"brands done : \", brands_done)\n",
    "            # print(zip_codes_done, brands_codes_done)\n",
    "            \n",
    "        zip_codes_done=i+1\n",
    "        brands_start=0\n",
    "        print(\"zip_codes_done : \", zip_codes_done)"
   ]
  },
  {
   "cell_type": "code",
   "execution_count": 130,
   "metadata": {},
   "outputs": [
    {
     "name": "stdout",
     "output_type": "stream",
     "text": [
      "500 41.234.66.33:3128\n",
      "Mozilla/5.0 (Windows NT 5.1) AppleWebKit/537.36 (KHTML, like Gecko) Chrome/36.0.1985.67 Safari/537.36\n"
     ]
    },
    {
     "name": "stderr",
     "output_type": "stream",
     "text": [
      "2021-07-12 02:16:15,038 selenium.webdriver.remote.remote_connection DEBUG    POST http://127.0.0.1:54259/session {\"capabilities\": {\"firstMatch\": [{}], \"alwaysMatch\": {\"browserName\": \"chrome\", \"platformName\": \"any\", \"proxy\": {\"httpProxy\": \"41.234.66.33:3128\", \"ftpProxy\": \"41.234.66.33:3128\", \"sslProxy\": \"41.234.66.33:3128\", \"proxyType\": \"manual\"}, \"pageLoadStrategy\": \"none\", \"goog:chromeOptions\": {\"excludeSwitches\": [\"enable-automation\"], \"useAutomationExtension\": false, \"extensions\": [], \"args\": [\"--disable-notifications\", \"--mute-audio\", \"start-maximized\", \"window-size=800,600\", \"user-agent=Mozilla/5.0 (Windows NT 5.1) AppleWebKit/537.36 (KHTML, like Gecko) Chrome/36.0.1985.67 Safari/537.36\"]}}}, \"desiredCapabilities\": {\"browserName\": \"chrome\", \"version\": \"\", \"platform\": \"ANY\", \"proxy\": {\"httpProxy\": \"41.234.66.33:3128\", \"ftpProxy\": \"41.234.66.33:3128\", \"sslProxy\": \"41.234.66.33:3128\", \"proxyType\": \"MANUAL\"}, \"pageLoadStrategy\": \"none\", \"goog:chromeOptions\": {\"excludeSwitches\": [\"enable-automation\"], \"useAutomationExtension\": false, \"extensions\": [], \"args\": [\"--disable-notifications\", \"--mute-audio\", \"start-maximized\", \"window-size=800,600\", \"user-agent=Mozilla/5.0 (Windows NT 5.1) AppleWebKit/537.36 (KHTML, like Gecko) Chrome/36.0.1985.67 Safari/537.36\"]}}}\n",
      "2021-07-12 02:16:15,803 selenium.webdriver.remote.remote_connection DEBUG    Finished Request\n",
      "2021-07-12 02:16:15,804 selenium.webdriver.remote.remote_connection DEBUG    POST http://127.0.0.1:54259/session/5351891a518b8aee5101ea6aca397f56/execute/sync {\"script\": \"Object.defineProperty(navigator, 'webdriver', {get: () => undefined})\", \"args\": []}\n",
      "2021-07-12 02:16:15,845 selenium.webdriver.remote.remote_connection DEBUG    Finished Request\n",
      "2021-07-12 02:16:15,847 selenium.webdriver.remote.remote_connection DEBUG    POST http://127.0.0.1:54259/session/5351891a518b8aee5101ea6aca397f56/url {\"url\": \"https://forestriverinc.com/rvs/dealer-locator\"}\n",
      "2021-07-12 02:16:15,877 selenium.webdriver.remote.remote_connection DEBUG    Finished Request\n",
      "2021-07-12 02:16:25,886 selenium.webdriver.remote.remote_connection DEBUG    POST http://127.0.0.1:54259/session/5351891a518b8aee5101ea6aca397f56/elements {\"using\": \"css selector\", \"value\": \".g-recaptcha\"}\n",
      "2021-07-12 02:16:46,195 selenium.webdriver.remote.remote_connection DEBUG    Finished Request\n",
      "2021-07-12 02:16:46,197 selenium.webdriver.remote.remote_connection DEBUG    POST http://127.0.0.1:54259/session/5351891a518b8aee5101ea6aca397f56/element {\"using\": \"css selector\", \"value\": \"[id=\\\"ContentPlaceHolder1_tbZipCode\\\"]\"}\n",
      "2021-07-12 02:16:46,295 selenium.webdriver.remote.remote_connection DEBUG    Finished Request\n"
     ]
    },
    {
     "name": "stdout",
     "output_type": "stream",
     "text": [
      "No  captcha\n"
     ]
    },
    {
     "ename": "NoSuchElementException",
     "evalue": "Message: no such element: Unable to locate element: {\"method\":\"css selector\",\"selector\":\"[id=\"ContentPlaceHolder1_tbZipCode\"]\"}\n  (Session info: chrome=91.0.4472.124)\n",
     "output_type": "error",
     "traceback": [
      "\u001b[1;31m---------------------------------------------------------------------------\u001b[0m",
      "\u001b[1;31mNoSuchElementException\u001b[0m                    Traceback (most recent call last)",
      "\u001b[1;32m<ipython-input-130-c3bb597757e2>\u001b[0m in \u001b[0;36m<module>\u001b[1;34m\u001b[0m\n\u001b[0;32m     37\u001b[0m         \u001b[0mdriver\u001b[0m\u001b[1;33m.\u001b[0m\u001b[0mexecute_script\u001b[0m\u001b[1;33m(\u001b[0m\u001b[1;34m\"Object.defineProperty(navigator, 'webdriver', {get: () => undefined})\"\u001b[0m\u001b[1;33m)\u001b[0m\u001b[1;33m\u001b[0m\u001b[1;33m\u001b[0m\u001b[0m\n\u001b[0;32m     38\u001b[0m \u001b[1;33m\u001b[0m\u001b[0m\n\u001b[1;32m---> 39\u001b[1;33m         \u001b[0mzip_codes_done\u001b[0m\u001b[1;33m,\u001b[0m  \u001b[0mbrands_done\u001b[0m\u001b[1;33m,\u001b[0m \u001b[0mcount\u001b[0m\u001b[1;33m,\u001b[0m \u001b[0mstatus\u001b[0m \u001b[1;33m=\u001b[0m \u001b[0mgetData\u001b[0m\u001b[1;33m(\u001b[0m\u001b[0mzip_codes_done\u001b[0m\u001b[1;33m,\u001b[0m \u001b[0mbrands_done\u001b[0m\u001b[1;33m,\u001b[0m \u001b[0mcount\u001b[0m\u001b[1;33m)\u001b[0m\u001b[1;33m\u001b[0m\u001b[1;33m\u001b[0m\u001b[0m\n\u001b[0m\u001b[0;32m     40\u001b[0m         \u001b[1;31m# print(count)\u001b[0m\u001b[1;33m\u001b[0m\u001b[1;33m\u001b[0m\u001b[1;33m\u001b[0m\u001b[0m\n\u001b[0;32m     41\u001b[0m         \u001b[1;32mif\u001b[0m \u001b[1;33m(\u001b[0m\u001b[0mstatus\u001b[0m \u001b[1;33m==\u001b[0m \u001b[1;32mFalse\u001b[0m\u001b[1;33m)\u001b[0m\u001b[1;33m:\u001b[0m\u001b[1;33m\u001b[0m\u001b[1;33m\u001b[0m\u001b[0m\n",
      "\u001b[1;32m<ipython-input-129-45ed2b05b210>\u001b[0m in \u001b[0;36mgetData\u001b[1;34m(zip_start, brands_start, count)\u001b[0m\n\u001b[0;32m     19\u001b[0m                 \u001b[1;32mreturn\u001b[0m \u001b[0mi\u001b[0m\u001b[1;33m,\u001b[0m  \u001b[0mj\u001b[0m\u001b[1;33m,\u001b[0m  \u001b[0mcount\u001b[0m\u001b[1;33m,\u001b[0m  \u001b[1;32mFalse\u001b[0m\u001b[1;33m\u001b[0m\u001b[1;33m\u001b[0m\u001b[0m\n\u001b[0;32m     20\u001b[0m             \u001b[0mprint\u001b[0m\u001b[1;33m(\u001b[0m\u001b[1;34m\"No  captcha\"\u001b[0m\u001b[1;33m)\u001b[0m\u001b[1;33m\u001b[0m\u001b[1;33m\u001b[0m\u001b[0m\n\u001b[1;32m---> 21\u001b[1;33m             \u001b[0mpostal_code\u001b[0m \u001b[1;33m=\u001b[0m \u001b[0mdriver\u001b[0m\u001b[1;33m.\u001b[0m\u001b[0mfind_element_by_id\u001b[0m\u001b[1;33m(\u001b[0m\u001b[1;34m\"ContentPlaceHolder1_tbZipCode\"\u001b[0m\u001b[1;33m)\u001b[0m\u001b[1;33m\u001b[0m\u001b[1;33m\u001b[0m\u001b[0m\n\u001b[0m\u001b[0;32m     22\u001b[0m             \u001b[0mprint\u001b[0m\u001b[1;33m(\u001b[0m\u001b[0mpostal_code\u001b[0m\u001b[1;33m)\u001b[0m\u001b[1;33m\u001b[0m\u001b[1;33m\u001b[0m\u001b[0m\n\u001b[0;32m     23\u001b[0m             \u001b[0mpostal_code\u001b[0m\u001b[1;33m.\u001b[0m\u001b[0msend_keys\u001b[0m\u001b[1;33m(\u001b[0m\u001b[0mzip_code_list\u001b[0m\u001b[1;33m[\u001b[0m\u001b[0mi\u001b[0m\u001b[1;33m]\u001b[0m\u001b[1;33m)\u001b[0m\u001b[1;33m\u001b[0m\u001b[1;33m\u001b[0m\u001b[0m\n",
      "\u001b[1;32mD:\\users\\SUSHIL\\sushil\\anaconda\\installed\\lib\\site-packages\\selenium\\webdriver\\remote\\webdriver.py\u001b[0m in \u001b[0;36mfind_element_by_id\u001b[1;34m(self, id_)\u001b[0m\n\u001b[0;32m    358\u001b[0m             \u001b[0melement\u001b[0m \u001b[1;33m=\u001b[0m \u001b[0mdriver\u001b[0m\u001b[1;33m.\u001b[0m\u001b[0mfind_element_by_id\u001b[0m\u001b[1;33m(\u001b[0m\u001b[1;34m'foo'\u001b[0m\u001b[1;33m)\u001b[0m\u001b[1;33m\u001b[0m\u001b[1;33m\u001b[0m\u001b[0m\n\u001b[0;32m    359\u001b[0m         \"\"\"\n\u001b[1;32m--> 360\u001b[1;33m         \u001b[1;32mreturn\u001b[0m \u001b[0mself\u001b[0m\u001b[1;33m.\u001b[0m\u001b[0mfind_element\u001b[0m\u001b[1;33m(\u001b[0m\u001b[0mby\u001b[0m\u001b[1;33m=\u001b[0m\u001b[0mBy\u001b[0m\u001b[1;33m.\u001b[0m\u001b[0mID\u001b[0m\u001b[1;33m,\u001b[0m \u001b[0mvalue\u001b[0m\u001b[1;33m=\u001b[0m\u001b[0mid_\u001b[0m\u001b[1;33m)\u001b[0m\u001b[1;33m\u001b[0m\u001b[1;33m\u001b[0m\u001b[0m\n\u001b[0m\u001b[0;32m    361\u001b[0m \u001b[1;33m\u001b[0m\u001b[0m\n\u001b[0;32m    362\u001b[0m     \u001b[1;32mdef\u001b[0m \u001b[0mfind_elements_by_id\u001b[0m\u001b[1;33m(\u001b[0m\u001b[0mself\u001b[0m\u001b[1;33m,\u001b[0m \u001b[0mid_\u001b[0m\u001b[1;33m)\u001b[0m\u001b[1;33m:\u001b[0m\u001b[1;33m\u001b[0m\u001b[1;33m\u001b[0m\u001b[0m\n",
      "\u001b[1;32mD:\\users\\SUSHIL\\sushil\\anaconda\\installed\\lib\\site-packages\\selenium\\webdriver\\remote\\webdriver.py\u001b[0m in \u001b[0;36mfind_element\u001b[1;34m(self, by, value)\u001b[0m\n\u001b[0;32m    974\u001b[0m                 \u001b[0mby\u001b[0m \u001b[1;33m=\u001b[0m \u001b[0mBy\u001b[0m\u001b[1;33m.\u001b[0m\u001b[0mCSS_SELECTOR\u001b[0m\u001b[1;33m\u001b[0m\u001b[1;33m\u001b[0m\u001b[0m\n\u001b[0;32m    975\u001b[0m                 \u001b[0mvalue\u001b[0m \u001b[1;33m=\u001b[0m \u001b[1;34m'[name=\"%s\"]'\u001b[0m \u001b[1;33m%\u001b[0m \u001b[0mvalue\u001b[0m\u001b[1;33m\u001b[0m\u001b[1;33m\u001b[0m\u001b[0m\n\u001b[1;32m--> 976\u001b[1;33m         return self.execute(Command.FIND_ELEMENT, {\n\u001b[0m\u001b[0;32m    977\u001b[0m             \u001b[1;34m'using'\u001b[0m\u001b[1;33m:\u001b[0m \u001b[0mby\u001b[0m\u001b[1;33m,\u001b[0m\u001b[1;33m\u001b[0m\u001b[1;33m\u001b[0m\u001b[0m\n\u001b[0;32m    978\u001b[0m             'value': value})['value']\n",
      "\u001b[1;32mD:\\users\\SUSHIL\\sushil\\anaconda\\installed\\lib\\site-packages\\selenium\\webdriver\\remote\\webdriver.py\u001b[0m in \u001b[0;36mexecute\u001b[1;34m(self, driver_command, params)\u001b[0m\n\u001b[0;32m    319\u001b[0m         \u001b[0mresponse\u001b[0m \u001b[1;33m=\u001b[0m \u001b[0mself\u001b[0m\u001b[1;33m.\u001b[0m\u001b[0mcommand_executor\u001b[0m\u001b[1;33m.\u001b[0m\u001b[0mexecute\u001b[0m\u001b[1;33m(\u001b[0m\u001b[0mdriver_command\u001b[0m\u001b[1;33m,\u001b[0m \u001b[0mparams\u001b[0m\u001b[1;33m)\u001b[0m\u001b[1;33m\u001b[0m\u001b[1;33m\u001b[0m\u001b[0m\n\u001b[0;32m    320\u001b[0m         \u001b[1;32mif\u001b[0m \u001b[0mresponse\u001b[0m\u001b[1;33m:\u001b[0m\u001b[1;33m\u001b[0m\u001b[1;33m\u001b[0m\u001b[0m\n\u001b[1;32m--> 321\u001b[1;33m             \u001b[0mself\u001b[0m\u001b[1;33m.\u001b[0m\u001b[0merror_handler\u001b[0m\u001b[1;33m.\u001b[0m\u001b[0mcheck_response\u001b[0m\u001b[1;33m(\u001b[0m\u001b[0mresponse\u001b[0m\u001b[1;33m)\u001b[0m\u001b[1;33m\u001b[0m\u001b[1;33m\u001b[0m\u001b[0m\n\u001b[0m\u001b[0;32m    322\u001b[0m             response['value'] = self._unwrap_value(\n\u001b[0;32m    323\u001b[0m                 response.get('value', None))\n",
      "\u001b[1;32mD:\\users\\SUSHIL\\sushil\\anaconda\\installed\\lib\\site-packages\\selenium\\webdriver\\remote\\errorhandler.py\u001b[0m in \u001b[0;36mcheck_response\u001b[1;34m(self, response)\u001b[0m\n\u001b[0;32m    240\u001b[0m                 \u001b[0malert_text\u001b[0m \u001b[1;33m=\u001b[0m \u001b[0mvalue\u001b[0m\u001b[1;33m[\u001b[0m\u001b[1;34m'alert'\u001b[0m\u001b[1;33m]\u001b[0m\u001b[1;33m.\u001b[0m\u001b[0mget\u001b[0m\u001b[1;33m(\u001b[0m\u001b[1;34m'text'\u001b[0m\u001b[1;33m)\u001b[0m\u001b[1;33m\u001b[0m\u001b[1;33m\u001b[0m\u001b[0m\n\u001b[0;32m    241\u001b[0m             \u001b[1;32mraise\u001b[0m \u001b[0mexception_class\u001b[0m\u001b[1;33m(\u001b[0m\u001b[0mmessage\u001b[0m\u001b[1;33m,\u001b[0m \u001b[0mscreen\u001b[0m\u001b[1;33m,\u001b[0m \u001b[0mstacktrace\u001b[0m\u001b[1;33m,\u001b[0m \u001b[0malert_text\u001b[0m\u001b[1;33m)\u001b[0m\u001b[1;33m\u001b[0m\u001b[1;33m\u001b[0m\u001b[0m\n\u001b[1;32m--> 242\u001b[1;33m         \u001b[1;32mraise\u001b[0m \u001b[0mexception_class\u001b[0m\u001b[1;33m(\u001b[0m\u001b[0mmessage\u001b[0m\u001b[1;33m,\u001b[0m \u001b[0mscreen\u001b[0m\u001b[1;33m,\u001b[0m \u001b[0mstacktrace\u001b[0m\u001b[1;33m)\u001b[0m\u001b[1;33m\u001b[0m\u001b[1;33m\u001b[0m\u001b[0m\n\u001b[0m\u001b[0;32m    243\u001b[0m \u001b[1;33m\u001b[0m\u001b[0m\n\u001b[0;32m    244\u001b[0m     \u001b[1;32mdef\u001b[0m \u001b[0m_value_or_default\u001b[0m\u001b[1;33m(\u001b[0m\u001b[0mself\u001b[0m\u001b[1;33m,\u001b[0m \u001b[0mobj\u001b[0m\u001b[1;33m,\u001b[0m \u001b[0mkey\u001b[0m\u001b[1;33m,\u001b[0m \u001b[0mdefault\u001b[0m\u001b[1;33m)\u001b[0m\u001b[1;33m:\u001b[0m\u001b[1;33m\u001b[0m\u001b[1;33m\u001b[0m\u001b[0m\n",
      "\u001b[1;31mNoSuchElementException\u001b[0m: Message: no such element: Unable to locate element: {\"method\":\"css selector\",\"selector\":\"[id=\"ContentPlaceHolder1_tbZipCode\"]\"}\n  (Session info: chrome=91.0.4472.124)\n"
     ]
    }
   ],
   "source": [
    "zip_codes_done = 10\n",
    "brands_done = 14\n",
    "count = 0\n",
    "proxies_start=500\n",
    "for i in  range(proxies_start, len(proxies)):\n",
    "    PROXY = proxies[i].get_address()\n",
    "    webdriver.DesiredCapabilities.CHROME['proxy'] = {\n",
    "        \"httpProxy\":PROXY,\n",
    "        \"ftpProxy\":PROXY,\n",
    "        \"sslProxy\":PROXY,\n",
    "\n",
    "        \"proxyType\":\"MANUAL\",\n",
    "    }\n",
    "    \n",
    "    print(i,  proxies[i].get_address())\n",
    "    proxies_start=i+1\n",
    "    running = True;\n",
    "    while(running):\n",
    "        options = webdriver.ChromeOptions()\n",
    "        # options.add_argument('--blink-settings=imagesEnabled=false')\n",
    "        options.add_argument('--disable-notifications')\n",
    "        options.add_argument('--mute-audio')\n",
    "        options.add_argument(\"start-maximized\")\n",
    "        options.add_experimental_option(\"excludeSwitches\", [\"enable-automation\"])\n",
    "        options.add_experimental_option('useAutomationExtension', False)\n",
    "        options.add_argument(\"window-size=800,600\")\n",
    "        \n",
    "\n",
    "        # a = ua.random\n",
    "        user_agent = ua.random\n",
    "        print(user_agent)\n",
    "        options.add_argument(f'user-agent={user_agent}')\n",
    "        count = 0;\n",
    "        driver = webdriver.Chrome(\"D:\\Chromedriver\\chromedriver.exe\", chrome_options=options) # , desired_capabilities=c\n",
    "        # driver.set_page_load_timeout()\n",
    "        \n",
    "        driver.execute_script(\"Object.defineProperty(navigator, 'webdriver', {get: () => undefined})\")\n",
    "        \n",
    "        zip_codes_done,  brands_done, count, status = getData(zip_codes_done, brands_done, count)\n",
    "        # print(count)\n",
    "        if (status == False):\n",
    "            running = False\n",
    "        \n",
    "        \"\"\"try:\n",
    "            zip_codes_done,  brands_done, count, status = getData(zip_codes_done, brands_done, count)\n",
    "            # print(count)\n",
    "            if (status == False):\n",
    "                running = False\n",
    "        except Exception as e:\n",
    "            driver.quit()\n",
    "            proxies_start=i+1\n",
    "            break;\"\"\"\n",
    "            \n",
    "                \n",
    "        "
   ]
  },
  {
   "cell_type": "code",
   "execution_count": null,
   "metadata": {},
   "outputs": [],
   "source": [
    "\"\"\"count = 0;\n",
    "driver = webdriver.Chrome(\"D:\\Chromedriver\\chromedriver.exe\", chrome_options=options)\n",
    "#driver.get('https://www.expressvpn.com/what-is-my-ip')\n",
    "#driver = webdriver.Chrome(chrome_options=options, executable_path=r'D:\\Chromedriver\\chromedriver.exe')\n",
    "driver.execute_script(\"Object.defineProperty(navigator, 'webdriver', {get: () => undefined})\")\n",
    "driver.execute_cdp_cmd('Network.setUserAgentOverride', {\"userAgent\": 'Mozilla/5.0 (Windows NT 10.0; Win64; x64) AppleWebKit/537.36 (KHTML, like Gecko) Chrome/83.0.4103.53 Safari/537.36'})\n",
    "#print(driver.execute_script(\"return navigator.userAgent;\"))\n",
    "\n",
    "driver.get(\"https://forestriverinc.com/rvs/dealer-locator\")\n",
    "time.sleep(delayTime)\n",
    "# driver.get(\"https://www.google.com/recaptcha/api2/demo\")\"\"\""
   ]
  },
  {
   "cell_type": "code",
   "execution_count": null,
   "metadata": {},
   "outputs": [],
   "source": [
    "\n",
    "        \"\"\"chrome_prefs = {}\n",
    "        options.experimental_options[\"prefs\"] = chrome_prefs\n",
    "        chrome_prefs[\"profile.default_content_settings\"] = {\"images\": 2}\n",
    "        chrome_prefs[\"profile.managed_default_content_settings\"] = {\"images\": 2}\n",
    "        \n",
    "        c = DesiredCapabilities.CHROME\n",
    "        c[\"pageLoadStrategy\"] = \"none\"\n",
    "        \"\"\"\n",
    "    \n",
    "    \n",
    "    \n",
    "            \"\"\"try:\n",
    "                WebDriverWait(driver, timeout).until(EC.presence_of_element_located((By.ID, \"h2Dealers\")))\n",
    "                # input()\n",
    "                # driver.execute_script(\"window.stop();\")\n",
    "                # break;\n",
    "            except Exception as te:\n",
    "                print(\"timeout occurs\")\n",
    "                driver.quit()\n",
    "                return  i,  j, count, False\"\"\"\n",
    "        \n",
    "            \"\"\"try:\n",
    "                WebDriverWait(driver, timeout).until(EC.element_to_be_clickable((By.ID, \"ContentPlaceHolder1_btnSearch\")))\n",
    "                # input()\n",
    "                # driver.execute_script(\"window.stop();\")\n",
    "                # break;\n",
    "            except Exception as te:\n",
    "                print(\"timeout occurs\")\n",
    "                # pass\n",
    "                driver.quit()\n",
    "                return  i,  j, count, False\"\"\""
   ]
  },
  {
   "cell_type": "markdown",
   "metadata": {},
   "source": [
    "23 45.237.128.235:8090 <br>\n",
    "zip  codes 6 : 35020<br>\n",
    "Brand 0 Rockwood Geo Peo<br>\n",
    "120 6 19<br>"
   ]
  },
  {
   "cell_type": "code",
   "execution_count": 574,
   "metadata": {},
   "outputs": [
    {
     "name": "stdout",
     "output_type": "stream",
     "text": [
      "zip_codes_done :  0\n"
     ]
    }
   ],
   "source": [
    "print(\"zip_codes_done : \", zip_codes_done)"
   ]
  },
  {
   "cell_type": "code",
   "execution_count": 575,
   "metadata": {},
   "outputs": [
    {
     "name": "stdout",
     "output_type": "stream",
     "text": [
      "0 96\n",
      "24\n"
     ]
    }
   ],
   "source": [
    "print(zip_codes_done, brands_done)\n",
    "print(proxies_start)"
   ]
  },
  {
   "cell_type": "code",
   "execution_count": 406,
   "metadata": {},
   "outputs": [],
   "source": [
    "# saveData(data)"
   ]
  },
  {
   "cell_type": "code",
   "execution_count": 379,
   "metadata": {},
   "outputs": [
    {
     "name": "stderr",
     "output_type": "stream",
     "text": [
      "2021-07-11 12:27:39,915 selenium.webdriver.remote.remote_connection DEBUG    POST http://127.0.0.1:65229/session {\"capabilities\": {\"firstMatch\": [{}], \"alwaysMatch\": {\"browserName\": \"chrome\", \"platformName\": \"any\", \"proxy\": {\"httpProxy\": \"124.41.213.201:39272\", \"ftpProxy\": \"124.41.213.201:39272\", \"sslProxy\": \"124.41.213.201:39272\", \"proxyType\": \"manual\"}, \"goog:chromeOptions\": {\"extensions\": [], \"args\": []}}}, \"desiredCapabilities\": {\"browserName\": \"chrome\", \"version\": \"\", \"platform\": \"ANY\", \"proxy\": {\"httpProxy\": \"124.41.213.201:39272\", \"ftpProxy\": \"124.41.213.201:39272\", \"sslProxy\": \"124.41.213.201:39272\", \"proxyType\": \"MANUAL\"}, \"goog:chromeOptions\": {\"extensions\": [], \"args\": []}}}\n",
      "2021-07-11 12:27:40,726 selenium.webdriver.remote.remote_connection DEBUG    Finished Request\n",
      "2021-07-11 12:27:40,727 selenium.webdriver.remote.remote_connection DEBUG    POST http://127.0.0.1:65229/session/317acd8cb3050afc69c0aca8e80da469/url {\"url\": \"https://forestriverinc.com/rvs/dealer-locator\"}\n",
      "2021-07-11 12:28:28,674 selenium.webdriver.remote.remote_connection DEBUG    Finished Request\n"
     ]
    }
   ],
   "source": [
    "\"\"\"# https://forestriverinc.com/rvs/dealer-locator\n",
    "driver = webdriver.Chrome(\"D:\\Chromedriver\\chromedriver.exe\")\n",
    "url = \"https://forestriverinc.com/rvs/dealer-locator\"\n",
    "driver.get(url)\"\"\""
   ]
  },
  {
   "cell_type": "code",
   "execution_count": 232,
   "metadata": {},
   "outputs": [
    {
     "name": "stderr",
     "output_type": "stream",
     "text": [
      "2021-07-11 10:25:20,313 selenium.webdriver.remote.remote_connection DEBUG    POST http://127.0.0.1:54818/session/0c2e10f0ca4f593604df729aeb2cebf8/element {\"using\": \"css selector\", \"value\": \"[id=\\\"ContentPlaceHolder1_tbZipCode\\\"]\"}\n",
      "2021-07-11 10:25:20,336 selenium.webdriver.remote.remote_connection DEBUG    Finished Request\n",
      "2021-07-11 10:25:20,337 selenium.webdriver.remote.remote_connection DEBUG    POST http://127.0.0.1:54818/session/0c2e10f0ca4f593604df729aeb2cebf8/element/31cb29ca-b193-43b4-a8dc-76f28e88437a/value {\"text\": \"10010\", \"value\": [\"1\", \"0\", \"0\", \"1\", \"0\"], \"id\": \"31cb29ca-b193-43b4-a8dc-76f28e88437a\"}\n",
      "2021-07-11 10:25:20,412 selenium.webdriver.remote.remote_connection DEBUG    Finished Request\n"
     ]
    }
   ],
   "source": [
    "\"\"\"postal_code = driver.find_element_by_id(\"ContentPlaceHolder1_tbZipCode\")\n",
    "postal_code.send_keys(\"10010\")\n",
    "time.sleep(2)\n",
    "# postal_code.submit()\"\"\""
   ]
  },
  {
   "cell_type": "code",
   "execution_count": 384,
   "metadata": {},
   "outputs": [
    {
     "name": "stderr",
     "output_type": "stream",
     "text": [
      "2021-07-11 12:30:46,992 selenium.webdriver.remote.remote_connection DEBUG    POST http://127.0.0.1:65229/session/317acd8cb3050afc69c0aca8e80da469/element {\"using\": \"css selector\", \"value\": \"[id=\\\"ContentPlaceHolder1_ddlProducts\\\"]\"}\n",
      "2021-07-11 12:30:47,001 selenium.webdriver.remote.remote_connection DEBUG    Finished Request\n",
      "2021-07-11 12:30:47,002 selenium.webdriver.remote.remote_connection DEBUG    GET http://127.0.0.1:65229/session/317acd8cb3050afc69c0aca8e80da469/element/aeb6ac0a-4677-4abf-ae55-8a74bd4f843a/name {\"id\": \"aeb6ac0a-4677-4abf-ae55-8a74bd4f843a\"}\n",
      "2021-07-11 12:30:47,008 selenium.webdriver.remote.remote_connection DEBUG    Finished Request\n",
      "2021-07-11 12:30:47,010 selenium.webdriver.remote.remote_connection DEBUG    POST http://127.0.0.1:65229/session/317acd8cb3050afc69c0aca8e80da469/execute/sync {\"script\": \"return (function(){return function(){var d=this;function f(a){return\\\"string\\\"==typeof a};function h(a,b){this.code=a;this.a=l[a]||m;this.message=b||\\\"\\\";a=this.a.replace(/((?:^|\\\\s+)[a-z])/g,function(a){return a.toUpperCase().replace(/^[\\\\s\\\\xa0]+/g,\\\"\\\")});b=a.length-5;if(0>b||a.indexOf(\\\"Error\\\",b)!=b)a+=\\\"Error\\\";this.name=a;a=Error(this.message);a.name=this.name;this.stack=a.stack||\\\"\\\"}\\n(function(){var a=Error;function b(){}b.prototype=a.prototype;h.b=a.prototype;h.prototype=new b;h.prototype.constructor=h;h.a=function(b,c,g){for(var e=Array(arguments.length-2),k=2;k<arguments.length;k++)e[k-2]=arguments[k];return a.prototype[c].apply(b,e)}})();var m=\\\"unknown error\\\",l={15:\\\"element not selectable\\\",11:\\\"element not visible\\\"};l[31]=m;l[30]=m;l[24]=\\\"invalid cookie domain\\\";l[29]=\\\"invalid element coordinates\\\";l[12]=\\\"invalid element state\\\";l[32]=\\\"invalid selector\\\";l[51]=\\\"invalid selector\\\";\\nl[52]=\\\"invalid selector\\\";l[17]=\\\"javascript error\\\";l[405]=\\\"unsupported operation\\\";l[34]=\\\"move target out of bounds\\\";l[27]=\\\"no such alert\\\";l[7]=\\\"no such element\\\";l[8]=\\\"no such frame\\\";l[23]=\\\"no such window\\\";l[28]=\\\"script timeout\\\";l[33]=\\\"session not created\\\";l[10]=\\\"stale element reference\\\";l[21]=\\\"timeout\\\";l[25]=\\\"unable to set cookie\\\";l[26]=\\\"unexpected alert open\\\";l[13]=m;l[9]=\\\"unknown command\\\";h.prototype.toString=function(){return this.name+\\\": \\\"+this.message};var n;a:{var p=d.navigator;if(p){var q=p.userAgent;if(q){n=q;break a}}n=\\\"\\\"}function r(a){return-1!=n.indexOf(a)};function t(a,b){for(var e=a.length,c=f(a)?a.split(\\\"\\\"):a,g=0;g<e;g++)g in c&&b.call(void 0,c[g],g,a)};function v(){return r(\\\"iPhone\\\")&&!r(\\\"iPod\\\")&&!r(\\\"iPad\\\")};function w(){return(r(\\\"Chrome\\\")||r(\\\"CriOS\\\"))&&!r(\\\"Edge\\\")};var x=r(\\\"Opera\\\"),y=r(\\\"Trident\\\")||r(\\\"MSIE\\\"),z=r(\\\"Edge\\\"),A=r(\\\"Gecko\\\")&&!(-1!=n.toLowerCase().indexOf(\\\"webkit\\\")&&!r(\\\"Edge\\\"))&&!(r(\\\"Trident\\\")||r(\\\"MSIE\\\"))&&!r(\\\"Edge\\\"),aa=-1!=n.toLowerCase().indexOf(\\\"webkit\\\")&&!r(\\\"Edge\\\");function B(){var a=d.document;return a?a.documentMode:void 0}var C;\\na:{var D=\\\"\\\",E=function(){var a=n;if(A)return/rv\\\\:([^\\\\);]+)(\\\\)|;)/.exec(a);if(z)return/Edge\\\\/([\\\\d\\\\.]+)/.exec(a);if(y)return/\\\\b(?:MSIE|rv)[: ]([^\\\\);]+)(\\\\)|;)/.exec(a);if(aa)return/WebKit\\\\/(\\\\S+)/.exec(a);if(x)return/(?:Version)[ \\\\/]?(\\\\S+)/.exec(a)}();E&&(D=E?E[1]:\\\"\\\");if(y){var F=B();if(null!=F&&F>parseFloat(D)){C=String(F);break a}}C=D}var G;var H=d.document;G=H&&y?B()||(\\\"CSS1Compat\\\"==H.compatMode?parseInt(C,10):5):void 0;var ba=r(\\\"Firefox\\\"),ca=v()||r(\\\"iPod\\\"),da=r(\\\"iPad\\\"),I=r(\\\"Android\\\")&&!(w()||r(\\\"Firefox\\\")||r(\\\"Opera\\\")||r(\\\"Silk\\\")),ea=w(),J=r(\\\"Safari\\\")&&!(w()||r(\\\"Coast\\\")||r(\\\"Opera\\\")||r(\\\"Edge\\\")||r(\\\"Silk\\\")||r(\\\"Android\\\"))&&!(v()||r(\\\"iPad\\\")||r(\\\"iPod\\\"));function K(a){return(a=a.exec(n))?a[1]:\\\"\\\"}(function(){if(ba)return K(/Firefox\\\\/([0-9.]+)/);if(y||z||x)return C;if(ea)return v()||r(\\\"iPad\\\")||r(\\\"iPod\\\")?K(/CriOS\\\\/([0-9.]+)/):K(/Chrome\\\\/([0-9.]+)/);if(J&&!(v()||r(\\\"iPad\\\")||r(\\\"iPod\\\")))return K(/Version\\\\/([0-9.]+)/);if(ca||da){var a=/Version\\\\/(\\\\S+).*Mobile\\\\/(\\\\S+)/.exec(n);if(a)return a[1]+\\\".\\\"+a[2]}else if(I)return(a=K(/Android\\\\s+([0-9.]+)/))?a:K(/Version\\\\/([0-9.]+)/);return\\\"\\\"})();var L,M=function(){if(!A)return!1;var a=d.Components;if(!a)return!1;try{if(!a.classes)return!1}catch(g){return!1}var b=a.classes,a=a.interfaces,e=b[\\\"@mozilla.org/xpcom/version-comparator;1\\\"].getService(a.nsIVersionComparator),c=b[\\\"@mozilla.org/xre/app-info;1\\\"].getService(a.nsIXULAppInfo).version;L=function(a){e.compare(c,\\\"\\\"+a)};return!0}(),N=y&&!(8<=Number(G)),fa=y&&!(9<=Number(G));I&&M&&L(2.3);I&&M&&L(4);J&&M&&L(6);var ga={SCRIPT:1,STYLE:1,HEAD:1,IFRAME:1,OBJECT:1},O={IMG:\\\" \\\",BR:\\\"\\\\n\\\"};function P(a,b,e){if(!(a.nodeName in ga))if(3==a.nodeType)e?b.push(String(a.nodeValue).replace(/(\\\\r\\\\n|\\\\r|\\\\n)/g,\\\"\\\")):b.push(a.nodeValue);else if(a.nodeName in O)b.push(O[a.nodeName]);else for(a=a.firstChild;a;)P(a,b,e),a=a.nextSibling};function Q(a,b){b=b.toLowerCase();return\\\"style\\\"==b?ha(a.style.cssText):N&&\\\"value\\\"==b&&R(a,\\\"INPUT\\\")?a.value:fa&&!0===a[b]?String(a.getAttribute(b)):(a=a.getAttributeNode(b))&&a.specified?a.value:null}var ia=/[;]+(?=(?:(?:[^\\\"]*\\\"){2})*[^\\\"]*$)(?=(?:(?:[^']*'){2})*[^']*$)(?=(?:[^()]*\\\\([^()]*\\\\))*[^()]*$)/;\\nfunction ha(a){var b=[];t(a.split(ia),function(a){var c=a.indexOf(\\\":\\\");0<c&&(a=[a.slice(0,c),a.slice(c+1)],2==a.length&&b.push(a[0].toLowerCase(),\\\":\\\",a[1],\\\";\\\"))});b=b.join(\\\"\\\");return b=\\\";\\\"==b.charAt(b.length-1)?b:b+\\\";\\\"}function S(a,b){N&&\\\"value\\\"==b&&R(a,\\\"OPTION\\\")&&null===Q(a,\\\"value\\\")?(b=[],P(a,b,!1),a=b.join(\\\"\\\")):a=a[b];return a}function R(a,b){b&&\\\"string\\\"!==typeof b&&(b=b.toString());return!!a&&1==a.nodeType&&(!b||a.tagName.toUpperCase()==b)}\\nfunction T(a){return R(a,\\\"OPTION\\\")?!0:R(a,\\\"INPUT\\\")?(a=a.type.toLowerCase(),\\\"checkbox\\\"==a||\\\"radio\\\"==a):!1};var ja={\\\"class\\\":\\\"className\\\",readonly:\\\"readOnly\\\"},U=\\\"allowfullscreen allowpaymentrequest allowusermedia async autofocus autoplay checked compact complete controls declare default defaultchecked defaultselected defer disabled ended formnovalidate hidden indeterminate iscontenteditable ismap itemscope loop multiple muted nohref nomodule noresize noshade novalidate nowrap open paused playsinline pubdate readonly required reversed scoped seamless seeking selected truespeed typemustmatch willvalidate\\\".split(\\\" \\\");function V(a,b){var e=null,c=b.toLowerCase();if(\\\"style\\\"==c)return(e=a.style)&&!f(e)&&(e=e.cssText),e;if((\\\"selected\\\"==c||\\\"checked\\\"==c)&&T(a)){if(!T(a))throw new h(15,\\\"Element is not selectable\\\");b=\\\"selected\\\";e=a.type&&a.type.toLowerCase();if(\\\"checkbox\\\"==e||\\\"radio\\\"==e)b=\\\"checked\\\";return S(a,b)?\\\"true\\\":null}var g=R(a,\\\"A\\\");if(R(a,\\\"IMG\\\")&&\\\"src\\\"==c||g&&\\\"href\\\"==c)return(e=Q(a,c))&&(e=S(a,c)),e;if(\\\"spellcheck\\\"==c){e=Q(a,c);if(null!==e){if(\\\"false\\\"==e.toLowerCase())return\\\"false\\\";if(\\\"true\\\"==e.toLowerCase())return\\\"true\\\"}return S(a,\\nc)+\\\"\\\"}g=ja[b]||b;a:if(f(U))c=f(c)&&1==c.length?U.indexOf(c,0):-1;else{for(var u=0;u<U.length;u++)if(u in U&&U[u]===c){c=u;break a}c=-1}if(0<=c)return(e=null!==Q(a,b)||S(a,g))?\\\"true\\\":null;try{var k=S(a,g)}catch(ka){}(c=null==k)||(c=typeof k,c=\\\"object\\\"==c&&null!=k||\\\"function\\\"==c);c?e=Q(a,b):e=k;return null!=e?e.toString():null}var W=[\\\"_\\\"],X=d;W[0]in X||!X.execScript||X.execScript(\\\"var \\\"+W[0]);\\nfor(var Y;W.length&&(Y=W.shift());){var Z;if(Z=!W.length)Z=void 0!==V;Z?X[Y]=V:X[Y]&&X[Y]!==Object.prototype[Y]?X=X[Y]:X=X[Y]={}};; return this._.apply(null,arguments);}.apply({navigator:typeof window!='undefined'?window.navigator:null,document:typeof window!='undefined'?window.document:null}, arguments);}\\n).apply(null, arguments);\", \"args\": [{\"ELEMENT\": \"aeb6ac0a-4677-4abf-ae55-8a74bd4f843a\", \"element-6066-11e4-a52e-4f735466cecf\": \"aeb6ac0a-4677-4abf-ae55-8a74bd4f843a\"}, \"multiple\"]}\n",
      "2021-07-11 12:30:47,018 selenium.webdriver.remote.remote_connection DEBUG    Finished Request\n",
      "2021-07-11 12:30:47,019 selenium.webdriver.remote.remote_connection DEBUG    POST http://127.0.0.1:65229/session/317acd8cb3050afc69c0aca8e80da469/element/aeb6ac0a-4677-4abf-ae55-8a74bd4f843a/elements {\"using\": \"css selector\", \"value\": \"option\", \"id\": \"aeb6ac0a-4677-4abf-ae55-8a74bd4f843a\"}\n",
      "2021-07-11 12:30:47,034 selenium.webdriver.remote.remote_connection DEBUG    Finished Request\n",
      "2021-07-11 12:30:47,035 selenium.webdriver.remote.remote_connection DEBUG    GET http://127.0.0.1:65229/session/317acd8cb3050afc69c0aca8e80da469/element/521f86f5-f199-4f95-ae8b-f7ecd5fbb301/text {\"id\": \"521f86f5-f199-4f95-ae8b-f7ecd5fbb301\"}\n"
     ]
    },
    {
     "name": "stderr",
     "output_type": "stream",
     "text": [
      "2021-07-11 12:30:47,045 selenium.webdriver.remote.remote_connection DEBUG    Finished Request\n",
      "2021-07-11 12:30:47,046 selenium.webdriver.remote.remote_connection DEBUG    GET http://127.0.0.1:65229/session/317acd8cb3050afc69c0aca8e80da469/element/521f86f5-f199-4f95-ae8b-f7ecd5fbb301/text {\"id\": \"521f86f5-f199-4f95-ae8b-f7ecd5fbb301\"}\n",
      "2021-07-11 12:30:47,058 selenium.webdriver.remote.remote_connection DEBUG    Finished Request\n",
      "2021-07-11 12:30:47,060 selenium.webdriver.remote.remote_connection DEBUG    GET http://127.0.0.1:65229/session/317acd8cb3050afc69c0aca8e80da469/element/521f86f5-f199-4f95-ae8b-f7ecd5fbb301/text {\"id\": \"521f86f5-f199-4f95-ae8b-f7ecd5fbb301\"}\n",
      "2021-07-11 12:30:47,072 selenium.webdriver.remote.remote_connection DEBUG    Finished Request\n",
      "2021-07-11 12:30:47,073 selenium.webdriver.remote.remote_connection DEBUG    POST http://127.0.0.1:65229/session/317acd8cb3050afc69c0aca8e80da469/element/aeb6ac0a-4677-4abf-ae55-8a74bd4f843a/elements {\"using\": \"xpath\", \"value\": \".//option[normalize-space(.) = \\\"--Select A Brand--\\\"]\", \"id\": \"aeb6ac0a-4677-4abf-ae55-8a74bd4f843a\"}\n",
      "2021-07-11 12:30:47,082 selenium.webdriver.remote.remote_connection DEBUG    Finished Request\n",
      "2021-07-11 12:30:47,086 selenium.webdriver.remote.remote_connection DEBUG    GET http://127.0.0.1:65229/session/317acd8cb3050afc69c0aca8e80da469/element/521f86f5-f199-4f95-ae8b-f7ecd5fbb301/selected {\"id\": \"521f86f5-f199-4f95-ae8b-f7ecd5fbb301\"}\n",
      "2021-07-11 12:30:47,095 selenium.webdriver.remote.remote_connection DEBUG    Finished Request\n",
      "2021-07-11 12:30:47,096 selenium.webdriver.remote.remote_connection DEBUG    GET http://127.0.0.1:65229/session/317acd8cb3050afc69c0aca8e80da469/element/0682d1cf-ba1c-4418-ab2e-e07ba654edec/text {\"id\": \"0682d1cf-ba1c-4418-ab2e-e07ba654edec\"}\n",
      "2021-07-11 12:30:47,113 selenium.webdriver.remote.remote_connection DEBUG    Finished Request\n",
      "2021-07-11 12:30:47,114 selenium.webdriver.remote.remote_connection DEBUG    GET http://127.0.0.1:65229/session/317acd8cb3050afc69c0aca8e80da469/element/0682d1cf-ba1c-4418-ab2e-e07ba654edec/text {\"id\": \"0682d1cf-ba1c-4418-ab2e-e07ba654edec\"}\n",
      "2021-07-11 12:30:47,128 selenium.webdriver.remote.remote_connection DEBUG    Finished Request\n",
      "2021-07-11 12:30:47,129 selenium.webdriver.remote.remote_connection DEBUG    GET http://127.0.0.1:65229/session/317acd8cb3050afc69c0aca8e80da469/element/0682d1cf-ba1c-4418-ab2e-e07ba654edec/text {\"id\": \"0682d1cf-ba1c-4418-ab2e-e07ba654edec\"}\n",
      "2021-07-11 12:30:47,148 selenium.webdriver.remote.remote_connection DEBUG    Finished Request\n",
      "2021-07-11 12:30:47,151 selenium.webdriver.remote.remote_connection DEBUG    POST http://127.0.0.1:65229/session/317acd8cb3050afc69c0aca8e80da469/element/aeb6ac0a-4677-4abf-ae55-8a74bd4f843a/elements {\"using\": \"xpath\", \"value\": \".//option[normalize-space(.) = \\\"Alpha Wolf\\\"]\", \"id\": \"aeb6ac0a-4677-4abf-ae55-8a74bd4f843a\"}\n",
      "2021-07-11 12:30:47,172 selenium.webdriver.remote.remote_connection DEBUG    Finished Request\n",
      "2021-07-11 12:30:47,173 selenium.webdriver.remote.remote_connection DEBUG    GET http://127.0.0.1:65229/session/317acd8cb3050afc69c0aca8e80da469/element/0682d1cf-ba1c-4418-ab2e-e07ba654edec/selected {\"id\": \"0682d1cf-ba1c-4418-ab2e-e07ba654edec\"}\n",
      "2021-07-11 12:30:47,183 selenium.webdriver.remote.remote_connection DEBUG    Finished Request\n",
      "2021-07-11 12:30:47,185 selenium.webdriver.remote.remote_connection DEBUG    POST http://127.0.0.1:65229/session/317acd8cb3050afc69c0aca8e80da469/element/0682d1cf-ba1c-4418-ab2e-e07ba654edec/click {\"id\": \"0682d1cf-ba1c-4418-ab2e-e07ba654edec\"}\n",
      "2021-07-11 12:30:47,215 selenium.webdriver.remote.remote_connection DEBUG    Finished Request\n",
      "2021-07-11 12:30:47,216 selenium.webdriver.remote.remote_connection DEBUG    GET http://127.0.0.1:65229/session/317acd8cb3050afc69c0aca8e80da469/element/698deb4c-c6ef-45d3-ab06-39c1ff7d7643/text {\"id\": \"698deb4c-c6ef-45d3-ab06-39c1ff7d7643\"}\n",
      "2021-07-11 12:30:47,239 selenium.webdriver.remote.remote_connection DEBUG    Finished Request\n",
      "2021-07-11 12:30:47,241 selenium.webdriver.remote.remote_connection DEBUG    GET http://127.0.0.1:65229/session/317acd8cb3050afc69c0aca8e80da469/element/698deb4c-c6ef-45d3-ab06-39c1ff7d7643/text {\"id\": \"698deb4c-c6ef-45d3-ab06-39c1ff7d7643\"}\n",
      "2021-07-11 12:30:47,252 selenium.webdriver.remote.remote_connection DEBUG    Finished Request\n"
     ]
    },
    {
     "name": "stdout",
     "output_type": "stream",
     "text": [
      "--Select A Brand--\n",
      "Alpha Wolf\n"
     ]
    },
    {
     "name": "stderr",
     "output_type": "stream",
     "text": [
      "2021-07-11 12:30:47,256 selenium.webdriver.remote.remote_connection DEBUG    GET http://127.0.0.1:65229/session/317acd8cb3050afc69c0aca8e80da469/element/698deb4c-c6ef-45d3-ab06-39c1ff7d7643/text {\"id\": \"698deb4c-c6ef-45d3-ab06-39c1ff7d7643\"}\n",
      "2021-07-11 12:30:47,263 selenium.webdriver.remote.remote_connection DEBUG    Finished Request\n",
      "2021-07-11 12:30:47,264 selenium.webdriver.remote.remote_connection DEBUG    POST http://127.0.0.1:65229/session/317acd8cb3050afc69c0aca8e80da469/element/aeb6ac0a-4677-4abf-ae55-8a74bd4f843a/elements {\"using\": \"xpath\", \"value\": \".//option[normalize-space(.) = \\\"Arctic Wolf\\\"]\", \"id\": \"aeb6ac0a-4677-4abf-ae55-8a74bd4f843a\"}\n",
      "2021-07-11 12:30:47,278 selenium.webdriver.remote.remote_connection DEBUG    Finished Request\n",
      "2021-07-11 12:30:47,280 selenium.webdriver.remote.remote_connection DEBUG    GET http://127.0.0.1:65229/session/317acd8cb3050afc69c0aca8e80da469/element/698deb4c-c6ef-45d3-ab06-39c1ff7d7643/selected {\"id\": \"698deb4c-c6ef-45d3-ab06-39c1ff7d7643\"}\n",
      "2021-07-11 12:30:47,293 selenium.webdriver.remote.remote_connection DEBUG    Finished Request\n",
      "2021-07-11 12:30:47,294 selenium.webdriver.remote.remote_connection DEBUG    POST http://127.0.0.1:65229/session/317acd8cb3050afc69c0aca8e80da469/element/698deb4c-c6ef-45d3-ab06-39c1ff7d7643/click {\"id\": \"698deb4c-c6ef-45d3-ab06-39c1ff7d7643\"}\n",
      "2021-07-11 12:30:47,325 selenium.webdriver.remote.remote_connection DEBUG    Finished Request\n",
      "2021-07-11 12:30:47,326 selenium.webdriver.remote.remote_connection DEBUG    GET http://127.0.0.1:65229/session/317acd8cb3050afc69c0aca8e80da469/element/90d648f3-3543-494c-a9c9-d7c8b936d4dd/text {\"id\": \"90d648f3-3543-494c-a9c9-d7c8b936d4dd\"}\n",
      "2021-07-11 12:30:47,339 selenium.webdriver.remote.remote_connection DEBUG    Finished Request\n",
      "2021-07-11 12:30:47,341 selenium.webdriver.remote.remote_connection DEBUG    GET http://127.0.0.1:65229/session/317acd8cb3050afc69c0aca8e80da469/element/90d648f3-3543-494c-a9c9-d7c8b936d4dd/text {\"id\": \"90d648f3-3543-494c-a9c9-d7c8b936d4dd\"}\n",
      "2021-07-11 12:30:47,351 selenium.webdriver.remote.remote_connection DEBUG    Finished Request\n",
      "2021-07-11 12:30:47,353 selenium.webdriver.remote.remote_connection DEBUG    GET http://127.0.0.1:65229/session/317acd8cb3050afc69c0aca8e80da469/element/90d648f3-3543-494c-a9c9-d7c8b936d4dd/text {\"id\": \"90d648f3-3543-494c-a9c9-d7c8b936d4dd\"}\n",
      "2021-07-11 12:30:47,361 selenium.webdriver.remote.remote_connection DEBUG    Finished Request\n",
      "2021-07-11 12:30:47,362 selenium.webdriver.remote.remote_connection DEBUG    POST http://127.0.0.1:65229/session/317acd8cb3050afc69c0aca8e80da469/element/aeb6ac0a-4677-4abf-ae55-8a74bd4f843a/elements {\"using\": \"xpath\", \"value\": \".//option[normalize-space(.) = \\\"Aurora\\\"]\", \"id\": \"aeb6ac0a-4677-4abf-ae55-8a74bd4f843a\"}\n",
      "2021-07-11 12:30:47,374 selenium.webdriver.remote.remote_connection DEBUG    Finished Request\n",
      "2021-07-11 12:30:47,375 selenium.webdriver.remote.remote_connection DEBUG    GET http://127.0.0.1:65229/session/317acd8cb3050afc69c0aca8e80da469/element/90d648f3-3543-494c-a9c9-d7c8b936d4dd/selected {\"id\": \"90d648f3-3543-494c-a9c9-d7c8b936d4dd\"}\n",
      "2021-07-11 12:30:47,385 selenium.webdriver.remote.remote_connection DEBUG    Finished Request\n",
      "2021-07-11 12:30:47,387 selenium.webdriver.remote.remote_connection DEBUG    POST http://127.0.0.1:65229/session/317acd8cb3050afc69c0aca8e80da469/element/90d648f3-3543-494c-a9c9-d7c8b936d4dd/click {\"id\": \"90d648f3-3543-494c-a9c9-d7c8b936d4dd\"}\n",
      "2021-07-11 12:30:47,412 selenium.webdriver.remote.remote_connection DEBUG    Finished Request\n",
      "2021-07-11 12:30:47,413 selenium.webdriver.remote.remote_connection DEBUG    GET http://127.0.0.1:65229/session/317acd8cb3050afc69c0aca8e80da469/element/f54046bc-61a2-4b2e-bc3f-0a45bf8f45f5/text {\"id\": \"f54046bc-61a2-4b2e-bc3f-0a45bf8f45f5\"}\n",
      "2021-07-11 12:30:47,427 selenium.webdriver.remote.remote_connection DEBUG    Finished Request\n",
      "2021-07-11 12:30:47,428 selenium.webdriver.remote.remote_connection DEBUG    GET http://127.0.0.1:65229/session/317acd8cb3050afc69c0aca8e80da469/element/f54046bc-61a2-4b2e-bc3f-0a45bf8f45f5/text {\"id\": \"f54046bc-61a2-4b2e-bc3f-0a45bf8f45f5\"}\n",
      "2021-07-11 12:30:47,438 selenium.webdriver.remote.remote_connection DEBUG    Finished Request\n"
     ]
    },
    {
     "name": "stdout",
     "output_type": "stream",
     "text": [
      "Arctic Wolf\n",
      "Aurora\n"
     ]
    },
    {
     "name": "stderr",
     "output_type": "stream",
     "text": [
      "2021-07-11 12:30:47,439 selenium.webdriver.remote.remote_connection DEBUG    GET http://127.0.0.1:65229/session/317acd8cb3050afc69c0aca8e80da469/element/f54046bc-61a2-4b2e-bc3f-0a45bf8f45f5/text {\"id\": \"f54046bc-61a2-4b2e-bc3f-0a45bf8f45f5\"}\n",
      "2021-07-11 12:30:47,448 selenium.webdriver.remote.remote_connection DEBUG    Finished Request\n",
      "2021-07-11 12:30:47,449 selenium.webdriver.remote.remote_connection DEBUG    POST http://127.0.0.1:65229/session/317acd8cb3050afc69c0aca8e80da469/element/aeb6ac0a-4677-4abf-ae55-8a74bd4f843a/elements {\"using\": \"xpath\", \"value\": \".//option[normalize-space(.) = \\\"Berkshire\\\"]\", \"id\": \"aeb6ac0a-4677-4abf-ae55-8a74bd4f843a\"}\n",
      "2021-07-11 12:30:47,462 selenium.webdriver.remote.remote_connection DEBUG    Finished Request\n",
      "2021-07-11 12:30:47,463 selenium.webdriver.remote.remote_connection DEBUG    GET http://127.0.0.1:65229/session/317acd8cb3050afc69c0aca8e80da469/element/f54046bc-61a2-4b2e-bc3f-0a45bf8f45f5/selected {\"id\": \"f54046bc-61a2-4b2e-bc3f-0a45bf8f45f5\"}\n",
      "2021-07-11 12:30:47,473 selenium.webdriver.remote.remote_connection DEBUG    Finished Request\n",
      "2021-07-11 12:30:47,475 selenium.webdriver.remote.remote_connection DEBUG    POST http://127.0.0.1:65229/session/317acd8cb3050afc69c0aca8e80da469/element/f54046bc-61a2-4b2e-bc3f-0a45bf8f45f5/click {\"id\": \"f54046bc-61a2-4b2e-bc3f-0a45bf8f45f5\"}\n",
      "2021-07-11 12:30:47,497 selenium.webdriver.remote.remote_connection DEBUG    Finished Request\n",
      "2021-07-11 12:30:47,498 selenium.webdriver.remote.remote_connection DEBUG    GET http://127.0.0.1:65229/session/317acd8cb3050afc69c0aca8e80da469/element/714d5501-da2d-4c67-af5d-1590ecae5d97/text {\"id\": \"714d5501-da2d-4c67-af5d-1590ecae5d97\"}\n",
      "2021-07-11 12:30:47,513 selenium.webdriver.remote.remote_connection DEBUG    Finished Request\n",
      "2021-07-11 12:30:47,513 selenium.webdriver.remote.remote_connection DEBUG    GET http://127.0.0.1:65229/session/317acd8cb3050afc69c0aca8e80da469/element/714d5501-da2d-4c67-af5d-1590ecae5d97/text {\"id\": \"714d5501-da2d-4c67-af5d-1590ecae5d97\"}\n",
      "2021-07-11 12:30:47,522 selenium.webdriver.remote.remote_connection DEBUG    Finished Request\n",
      "2021-07-11 12:30:47,523 selenium.webdriver.remote.remote_connection DEBUG    GET http://127.0.0.1:65229/session/317acd8cb3050afc69c0aca8e80da469/element/714d5501-da2d-4c67-af5d-1590ecae5d97/text {\"id\": \"714d5501-da2d-4c67-af5d-1590ecae5d97\"}\n",
      "2021-07-11 12:30:47,531 selenium.webdriver.remote.remote_connection DEBUG    Finished Request\n",
      "2021-07-11 12:30:47,531 selenium.webdriver.remote.remote_connection DEBUG    POST http://127.0.0.1:65229/session/317acd8cb3050afc69c0aca8e80da469/element/aeb6ac0a-4677-4abf-ae55-8a74bd4f843a/elements {\"using\": \"xpath\", \"value\": \".//option[normalize-space(.) = \\\"Berkshire XL\\\"]\", \"id\": \"aeb6ac0a-4677-4abf-ae55-8a74bd4f843a\"}\n",
      "2021-07-11 12:30:47,545 selenium.webdriver.remote.remote_connection DEBUG    Finished Request\n",
      "2021-07-11 12:30:47,546 selenium.webdriver.remote.remote_connection DEBUG    GET http://127.0.0.1:65229/session/317acd8cb3050afc69c0aca8e80da469/element/714d5501-da2d-4c67-af5d-1590ecae5d97/selected {\"id\": \"714d5501-da2d-4c67-af5d-1590ecae5d97\"}\n",
      "2021-07-11 12:30:47,556 selenium.webdriver.remote.remote_connection DEBUG    Finished Request\n",
      "2021-07-11 12:30:47,559 selenium.webdriver.remote.remote_connection DEBUG    POST http://127.0.0.1:65229/session/317acd8cb3050afc69c0aca8e80da469/element/714d5501-da2d-4c67-af5d-1590ecae5d97/click {\"id\": \"714d5501-da2d-4c67-af5d-1590ecae5d97\"}\n",
      "2021-07-11 12:30:47,580 selenium.webdriver.remote.remote_connection DEBUG    Finished Request\n",
      "2021-07-11 12:30:47,581 selenium.webdriver.remote.remote_connection DEBUG    GET http://127.0.0.1:65229/session/317acd8cb3050afc69c0aca8e80da469/element/a9b617fe-95e5-4f5b-901e-67a5927242ac/text {\"id\": \"a9b617fe-95e5-4f5b-901e-67a5927242ac\"}\n",
      "2021-07-11 12:30:47,596 selenium.webdriver.remote.remote_connection DEBUG    Finished Request\n",
      "2021-07-11 12:30:47,597 selenium.webdriver.remote.remote_connection DEBUG    GET http://127.0.0.1:65229/session/317acd8cb3050afc69c0aca8e80da469/element/a9b617fe-95e5-4f5b-901e-67a5927242ac/text {\"id\": \"a9b617fe-95e5-4f5b-901e-67a5927242ac\"}\n",
      "2021-07-11 12:30:47,606 selenium.webdriver.remote.remote_connection DEBUG    Finished Request\n",
      "2021-07-11 12:30:47,608 selenium.webdriver.remote.remote_connection DEBUG    GET http://127.0.0.1:65229/session/317acd8cb3050afc69c0aca8e80da469/element/a9b617fe-95e5-4f5b-901e-67a5927242ac/text {\"id\": \"a9b617fe-95e5-4f5b-901e-67a5927242ac\"}\n",
      "2021-07-11 12:30:47,616 selenium.webdriver.remote.remote_connection DEBUG    Finished Request\n",
      "2021-07-11 12:30:47,619 selenium.webdriver.remote.remote_connection DEBUG    POST http://127.0.0.1:65229/session/317acd8cb3050afc69c0aca8e80da469/element/aeb6ac0a-4677-4abf-ae55-8a74bd4f843a/elements {\"using\": \"xpath\", \"value\": \".//option[normalize-space(.) = \\\"Berkshire XLT\\\"]\", \"id\": \"aeb6ac0a-4677-4abf-ae55-8a74bd4f843a\"}\n",
      "2021-07-11 12:30:47,631 selenium.webdriver.remote.remote_connection DEBUG    Finished Request\n"
     ]
    },
    {
     "name": "stdout",
     "output_type": "stream",
     "text": [
      "Berkshire\n",
      "Berkshire XL\n",
      "Berkshire XLT\n"
     ]
    },
    {
     "name": "stderr",
     "output_type": "stream",
     "text": [
      "2021-07-11 12:30:47,632 selenium.webdriver.remote.remote_connection DEBUG    GET http://127.0.0.1:65229/session/317acd8cb3050afc69c0aca8e80da469/element/a9b617fe-95e5-4f5b-901e-67a5927242ac/selected {\"id\": \"a9b617fe-95e5-4f5b-901e-67a5927242ac\"}\n",
      "2021-07-11 12:30:47,645 selenium.webdriver.remote.remote_connection DEBUG    Finished Request\n",
      "2021-07-11 12:30:47,647 selenium.webdriver.remote.remote_connection DEBUG    POST http://127.0.0.1:65229/session/317acd8cb3050afc69c0aca8e80da469/element/a9b617fe-95e5-4f5b-901e-67a5927242ac/click {\"id\": \"a9b617fe-95e5-4f5b-901e-67a5927242ac\"}\n",
      "2021-07-11 12:30:47,672 selenium.webdriver.remote.remote_connection DEBUG    Finished Request\n",
      "2021-07-11 12:30:47,673 selenium.webdriver.remote.remote_connection DEBUG    GET http://127.0.0.1:65229/session/317acd8cb3050afc69c0aca8e80da469/element/d9c81a96-20cd-4215-aeab-8ad5db775ca6/text {\"id\": \"d9c81a96-20cd-4215-aeab-8ad5db775ca6\"}\n",
      "2021-07-11 12:30:47,690 selenium.webdriver.remote.remote_connection DEBUG    Finished Request\n",
      "2021-07-11 12:30:47,691 selenium.webdriver.remote.remote_connection DEBUG    GET http://127.0.0.1:65229/session/317acd8cb3050afc69c0aca8e80da469/element/d9c81a96-20cd-4215-aeab-8ad5db775ca6/text {\"id\": \"d9c81a96-20cd-4215-aeab-8ad5db775ca6\"}\n",
      "2021-07-11 12:30:47,699 selenium.webdriver.remote.remote_connection DEBUG    Finished Request\n",
      "2021-07-11 12:30:47,703 selenium.webdriver.remote.remote_connection DEBUG    GET http://127.0.0.1:65229/session/317acd8cb3050afc69c0aca8e80da469/element/d9c81a96-20cd-4215-aeab-8ad5db775ca6/text {\"id\": \"d9c81a96-20cd-4215-aeab-8ad5db775ca6\"}\n",
      "2021-07-11 12:30:47,711 selenium.webdriver.remote.remote_connection DEBUG    Finished Request\n",
      "2021-07-11 12:30:47,712 selenium.webdriver.remote.remote_connection DEBUG    POST http://127.0.0.1:65229/session/317acd8cb3050afc69c0aca8e80da469/element/aeb6ac0a-4677-4abf-ae55-8a74bd4f843a/elements {\"using\": \"xpath\", \"value\": \".//option[normalize-space(.) = \\\"Cardinal Limited\\\"]\", \"id\": \"aeb6ac0a-4677-4abf-ae55-8a74bd4f843a\"}\n",
      "2021-07-11 12:30:47,725 selenium.webdriver.remote.remote_connection DEBUG    Finished Request\n",
      "2021-07-11 12:30:47,726 selenium.webdriver.remote.remote_connection DEBUG    GET http://127.0.0.1:65229/session/317acd8cb3050afc69c0aca8e80da469/element/d9c81a96-20cd-4215-aeab-8ad5db775ca6/selected {\"id\": \"d9c81a96-20cd-4215-aeab-8ad5db775ca6\"}\n",
      "2021-07-11 12:30:47,738 selenium.webdriver.remote.remote_connection DEBUG    Finished Request\n",
      "2021-07-11 12:30:47,738 selenium.webdriver.remote.remote_connection DEBUG    POST http://127.0.0.1:65229/session/317acd8cb3050afc69c0aca8e80da469/element/d9c81a96-20cd-4215-aeab-8ad5db775ca6/click {\"id\": \"d9c81a96-20cd-4215-aeab-8ad5db775ca6\"}\n",
      "2021-07-11 12:30:47,763 selenium.webdriver.remote.remote_connection DEBUG    Finished Request\n",
      "2021-07-11 12:30:47,764 selenium.webdriver.remote.remote_connection DEBUG    GET http://127.0.0.1:65229/session/317acd8cb3050afc69c0aca8e80da469/element/96521479-46e8-4b3a-96f3-fa3699bc2c49/text {\"id\": \"96521479-46e8-4b3a-96f3-fa3699bc2c49\"}\n",
      "2021-07-11 12:30:47,779 selenium.webdriver.remote.remote_connection DEBUG    Finished Request\n",
      "2021-07-11 12:30:47,780 selenium.webdriver.remote.remote_connection DEBUG    GET http://127.0.0.1:65229/session/317acd8cb3050afc69c0aca8e80da469/element/96521479-46e8-4b3a-96f3-fa3699bc2c49/text {\"id\": \"96521479-46e8-4b3a-96f3-fa3699bc2c49\"}\n",
      "2021-07-11 12:30:47,789 selenium.webdriver.remote.remote_connection DEBUG    Finished Request\n",
      "2021-07-11 12:30:47,790 selenium.webdriver.remote.remote_connection DEBUG    GET http://127.0.0.1:65229/session/317acd8cb3050afc69c0aca8e80da469/element/96521479-46e8-4b3a-96f3-fa3699bc2c49/text {\"id\": \"96521479-46e8-4b3a-96f3-fa3699bc2c49\"}\n",
      "2021-07-11 12:30:47,797 selenium.webdriver.remote.remote_connection DEBUG    Finished Request\n",
      "2021-07-11 12:30:47,798 selenium.webdriver.remote.remote_connection DEBUG    POST http://127.0.0.1:65229/session/317acd8cb3050afc69c0aca8e80da469/element/aeb6ac0a-4677-4abf-ae55-8a74bd4f843a/elements {\"using\": \"xpath\", \"value\": \".//option[normalize-space(.) = \\\"Cardinal Luxury\\\"]\", \"id\": \"aeb6ac0a-4677-4abf-ae55-8a74bd4f843a\"}\n",
      "2021-07-11 12:30:47,813 selenium.webdriver.remote.remote_connection DEBUG    Finished Request\n",
      "2021-07-11 12:30:47,814 selenium.webdriver.remote.remote_connection DEBUG    GET http://127.0.0.1:65229/session/317acd8cb3050afc69c0aca8e80da469/element/96521479-46e8-4b3a-96f3-fa3699bc2c49/selected {\"id\": \"96521479-46e8-4b3a-96f3-fa3699bc2c49\"}\n",
      "2021-07-11 12:30:47,827 selenium.webdriver.remote.remote_connection DEBUG    Finished Request\n",
      "2021-07-11 12:30:47,827 selenium.webdriver.remote.remote_connection DEBUG    POST http://127.0.0.1:65229/session/317acd8cb3050afc69c0aca8e80da469/element/96521479-46e8-4b3a-96f3-fa3699bc2c49/click {\"id\": \"96521479-46e8-4b3a-96f3-fa3699bc2c49\"}\n",
      "2021-07-11 12:30:47,853 selenium.webdriver.remote.remote_connection DEBUG    Finished Request\n",
      "2021-07-11 12:30:47,854 selenium.webdriver.remote.remote_connection DEBUG    GET http://127.0.0.1:65229/session/317acd8cb3050afc69c0aca8e80da469/element/33f0de24-7570-4d41-883e-fc4701ae09e8/text {\"id\": \"33f0de24-7570-4d41-883e-fc4701ae09e8\"}\n",
      "2021-07-11 12:30:47,868 selenium.webdriver.remote.remote_connection DEBUG    Finished Request\n",
      "2021-07-11 12:30:47,870 selenium.webdriver.remote.remote_connection DEBUG    GET http://127.0.0.1:65229/session/317acd8cb3050afc69c0aca8e80da469/element/33f0de24-7570-4d41-883e-fc4701ae09e8/text {\"id\": \"33f0de24-7570-4d41-883e-fc4701ae09e8\"}\n"
     ]
    },
    {
     "name": "stdout",
     "output_type": "stream",
     "text": [
      "Cardinal Limited\n",
      "Cardinal Luxury\n"
     ]
    },
    {
     "name": "stderr",
     "output_type": "stream",
     "text": [
      "2021-07-11 12:30:47,886 selenium.webdriver.remote.remote_connection DEBUG    Finished Request\n",
      "2021-07-11 12:30:47,888 selenium.webdriver.remote.remote_connection DEBUG    GET http://127.0.0.1:65229/session/317acd8cb3050afc69c0aca8e80da469/element/33f0de24-7570-4d41-883e-fc4701ae09e8/text {\"id\": \"33f0de24-7570-4d41-883e-fc4701ae09e8\"}\n",
      "2021-07-11 12:30:47,906 selenium.webdriver.remote.remote_connection DEBUG    Finished Request\n",
      "2021-07-11 12:30:47,907 selenium.webdriver.remote.remote_connection DEBUG    POST http://127.0.0.1:65229/session/317acd8cb3050afc69c0aca8e80da469/element/aeb6ac0a-4677-4abf-ae55-8a74bd4f843a/elements {\"using\": \"xpath\", \"value\": \".//option[normalize-space(.) = \\\"Cedar Creek\\\"]\", \"id\": \"aeb6ac0a-4677-4abf-ae55-8a74bd4f843a\"}\n",
      "2021-07-11 12:30:47,921 selenium.webdriver.remote.remote_connection DEBUG    Finished Request\n",
      "2021-07-11 12:30:47,922 selenium.webdriver.remote.remote_connection DEBUG    GET http://127.0.0.1:65229/session/317acd8cb3050afc69c0aca8e80da469/element/33f0de24-7570-4d41-883e-fc4701ae09e8/selected {\"id\": \"33f0de24-7570-4d41-883e-fc4701ae09e8\"}\n",
      "2021-07-11 12:30:47,931 selenium.webdriver.remote.remote_connection DEBUG    Finished Request\n",
      "2021-07-11 12:30:47,934 selenium.webdriver.remote.remote_connection DEBUG    POST http://127.0.0.1:65229/session/317acd8cb3050afc69c0aca8e80da469/element/33f0de24-7570-4d41-883e-fc4701ae09e8/click {\"id\": \"33f0de24-7570-4d41-883e-fc4701ae09e8\"}\n",
      "2021-07-11 12:30:47,960 selenium.webdriver.remote.remote_connection DEBUG    Finished Request\n",
      "2021-07-11 12:30:47,961 selenium.webdriver.remote.remote_connection DEBUG    GET http://127.0.0.1:65229/session/317acd8cb3050afc69c0aca8e80da469/element/853b293f-55f7-4992-a217-7bc2c01101a0/text {\"id\": \"853b293f-55f7-4992-a217-7bc2c01101a0\"}\n",
      "2021-07-11 12:30:47,976 selenium.webdriver.remote.remote_connection DEBUG    Finished Request\n",
      "2021-07-11 12:30:47,976 selenium.webdriver.remote.remote_connection DEBUG    GET http://127.0.0.1:65229/session/317acd8cb3050afc69c0aca8e80da469/element/853b293f-55f7-4992-a217-7bc2c01101a0/text {\"id\": \"853b293f-55f7-4992-a217-7bc2c01101a0\"}\n",
      "2021-07-11 12:30:47,987 selenium.webdriver.remote.remote_connection DEBUG    Finished Request\n",
      "2021-07-11 12:30:47,988 selenium.webdriver.remote.remote_connection DEBUG    GET http://127.0.0.1:65229/session/317acd8cb3050afc69c0aca8e80da469/element/853b293f-55f7-4992-a217-7bc2c01101a0/text {\"id\": \"853b293f-55f7-4992-a217-7bc2c01101a0\"}\n",
      "2021-07-11 12:30:47,995 selenium.webdriver.remote.remote_connection DEBUG    Finished Request\n",
      "2021-07-11 12:30:47,996 selenium.webdriver.remote.remote_connection DEBUG    POST http://127.0.0.1:65229/session/317acd8cb3050afc69c0aca8e80da469/element/aeb6ac0a-4677-4abf-ae55-8a74bd4f843a/elements {\"using\": \"xpath\", \"value\": \".//option[normalize-space(.) = \\\"Cedar Creek Champagne Edition\\\"]\", \"id\": \"aeb6ac0a-4677-4abf-ae55-8a74bd4f843a\"}\n",
      "2021-07-11 12:30:48,009 selenium.webdriver.remote.remote_connection DEBUG    Finished Request\n",
      "2021-07-11 12:30:48,010 selenium.webdriver.remote.remote_connection DEBUG    GET http://127.0.0.1:65229/session/317acd8cb3050afc69c0aca8e80da469/element/853b293f-55f7-4992-a217-7bc2c01101a0/selected {\"id\": \"853b293f-55f7-4992-a217-7bc2c01101a0\"}\n",
      "2021-07-11 12:30:48,021 selenium.webdriver.remote.remote_connection DEBUG    Finished Request\n",
      "2021-07-11 12:30:48,022 selenium.webdriver.remote.remote_connection DEBUG    POST http://127.0.0.1:65229/session/317acd8cb3050afc69c0aca8e80da469/element/853b293f-55f7-4992-a217-7bc2c01101a0/click {\"id\": \"853b293f-55f7-4992-a217-7bc2c01101a0\"}\n",
      "2021-07-11 12:30:48,047 selenium.webdriver.remote.remote_connection DEBUG    Finished Request\n",
      "2021-07-11 12:30:48,048 selenium.webdriver.remote.remote_connection DEBUG    GET http://127.0.0.1:65229/session/317acd8cb3050afc69c0aca8e80da469/element/ce2c5c07-d02a-452c-874f-def086d3d631/text {\"id\": \"ce2c5c07-d02a-452c-874f-def086d3d631\"}\n",
      "2021-07-11 12:30:48,064 selenium.webdriver.remote.remote_connection DEBUG    Finished Request\n",
      "2021-07-11 12:30:48,065 selenium.webdriver.remote.remote_connection DEBUG    GET http://127.0.0.1:65229/session/317acd8cb3050afc69c0aca8e80da469/element/ce2c5c07-d02a-452c-874f-def086d3d631/text {\"id\": \"ce2c5c07-d02a-452c-874f-def086d3d631\"}\n"
     ]
    },
    {
     "name": "stdout",
     "output_type": "stream",
     "text": [
      "Cedar Creek\n",
      "Cedar Creek Champagne Edition\n"
     ]
    },
    {
     "name": "stderr",
     "output_type": "stream",
     "text": [
      "2021-07-11 12:30:48,076 selenium.webdriver.remote.remote_connection DEBUG    Finished Request\n",
      "2021-07-11 12:30:48,077 selenium.webdriver.remote.remote_connection DEBUG    GET http://127.0.0.1:65229/session/317acd8cb3050afc69c0aca8e80da469/element/ce2c5c07-d02a-452c-874f-def086d3d631/text {\"id\": \"ce2c5c07-d02a-452c-874f-def086d3d631\"}\n",
      "2021-07-11 12:30:48,086 selenium.webdriver.remote.remote_connection DEBUG    Finished Request\n",
      "2021-07-11 12:30:48,088 selenium.webdriver.remote.remote_connection DEBUG    POST http://127.0.0.1:65229/session/317acd8cb3050afc69c0aca8e80da469/element/aeb6ac0a-4677-4abf-ae55-8a74bd4f843a/elements {\"using\": \"xpath\", \"value\": \".//option[normalize-space(.) = \\\"Cedar Creek Cottage\\\"]\", \"id\": \"aeb6ac0a-4677-4abf-ae55-8a74bd4f843a\"}\n",
      "2021-07-11 12:30:48,098 selenium.webdriver.remote.remote_connection DEBUG    Finished Request\n",
      "2021-07-11 12:30:48,099 selenium.webdriver.remote.remote_connection DEBUG    GET http://127.0.0.1:65229/session/317acd8cb3050afc69c0aca8e80da469/element/ce2c5c07-d02a-452c-874f-def086d3d631/selected {\"id\": \"ce2c5c07-d02a-452c-874f-def086d3d631\"}\n",
      "2021-07-11 12:30:48,113 selenium.webdriver.remote.remote_connection DEBUG    Finished Request\n",
      "2021-07-11 12:30:48,114 selenium.webdriver.remote.remote_connection DEBUG    POST http://127.0.0.1:65229/session/317acd8cb3050afc69c0aca8e80da469/element/ce2c5c07-d02a-452c-874f-def086d3d631/click {\"id\": \"ce2c5c07-d02a-452c-874f-def086d3d631\"}\n",
      "2021-07-11 12:30:48,144 selenium.webdriver.remote.remote_connection DEBUG    Finished Request\n",
      "2021-07-11 12:30:48,145 selenium.webdriver.remote.remote_connection DEBUG    GET http://127.0.0.1:65229/session/317acd8cb3050afc69c0aca8e80da469/element/1d8e0407-e977-4754-82ab-127671d4c4b2/text {\"id\": \"1d8e0407-e977-4754-82ab-127671d4c4b2\"}\n",
      "2021-07-11 12:30:48,166 selenium.webdriver.remote.remote_connection DEBUG    Finished Request\n",
      "2021-07-11 12:30:48,169 selenium.webdriver.remote.remote_connection DEBUG    GET http://127.0.0.1:65229/session/317acd8cb3050afc69c0aca8e80da469/element/1d8e0407-e977-4754-82ab-127671d4c4b2/text {\"id\": \"1d8e0407-e977-4754-82ab-127671d4c4b2\"}\n",
      "2021-07-11 12:30:48,189 selenium.webdriver.remote.remote_connection DEBUG    Finished Request\n",
      "2021-07-11 12:30:48,191 selenium.webdriver.remote.remote_connection DEBUG    GET http://127.0.0.1:65229/session/317acd8cb3050afc69c0aca8e80da469/element/1d8e0407-e977-4754-82ab-127671d4c4b2/text {\"id\": \"1d8e0407-e977-4754-82ab-127671d4c4b2\"}\n",
      "2021-07-11 12:30:48,206 selenium.webdriver.remote.remote_connection DEBUG    Finished Request\n",
      "2021-07-11 12:30:48,207 selenium.webdriver.remote.remote_connection DEBUG    POST http://127.0.0.1:65229/session/317acd8cb3050afc69c0aca8e80da469/element/aeb6ac0a-4677-4abf-ae55-8a74bd4f843a/elements {\"using\": \"xpath\", \"value\": \".//option[normalize-space(.) = \\\"Cedar Creek Hathaway Edition\\\"]\", \"id\": \"aeb6ac0a-4677-4abf-ae55-8a74bd4f843a\"}\n",
      "2021-07-11 12:30:48,222 selenium.webdriver.remote.remote_connection DEBUG    Finished Request\n",
      "2021-07-11 12:30:48,224 selenium.webdriver.remote.remote_connection DEBUG    GET http://127.0.0.1:65229/session/317acd8cb3050afc69c0aca8e80da469/element/1d8e0407-e977-4754-82ab-127671d4c4b2/selected {\"id\": \"1d8e0407-e977-4754-82ab-127671d4c4b2\"}\n",
      "2021-07-11 12:30:48,237 selenium.webdriver.remote.remote_connection DEBUG    Finished Request\n",
      "2021-07-11 12:30:48,238 selenium.webdriver.remote.remote_connection DEBUG    POST http://127.0.0.1:65229/session/317acd8cb3050afc69c0aca8e80da469/element/1d8e0407-e977-4754-82ab-127671d4c4b2/click {\"id\": \"1d8e0407-e977-4754-82ab-127671d4c4b2\"}\n",
      "2021-07-11 12:30:48,272 selenium.webdriver.remote.remote_connection DEBUG    Finished Request\n"
     ]
    },
    {
     "name": "stdout",
     "output_type": "stream",
     "text": [
      "Cedar Creek Cottage\n",
      "Cedar Creek Hathaway Edition\n"
     ]
    },
    {
     "name": "stderr",
     "output_type": "stream",
     "text": [
      "2021-07-11 12:30:48,273 selenium.webdriver.remote.remote_connection DEBUG    GET http://127.0.0.1:65229/session/317acd8cb3050afc69c0aca8e80da469/element/5f90c032-56cd-4a4f-9ba3-9172b1e71103/text {\"id\": \"5f90c032-56cd-4a4f-9ba3-9172b1e71103\"}\n",
      "2021-07-11 12:30:48,289 selenium.webdriver.remote.remote_connection DEBUG    Finished Request\n",
      "2021-07-11 12:30:48,290 selenium.webdriver.remote.remote_connection DEBUG    GET http://127.0.0.1:65229/session/317acd8cb3050afc69c0aca8e80da469/element/5f90c032-56cd-4a4f-9ba3-9172b1e71103/text {\"id\": \"5f90c032-56cd-4a4f-9ba3-9172b1e71103\"}\n",
      "2021-07-11 12:30:48,304 selenium.webdriver.remote.remote_connection DEBUG    Finished Request\n",
      "2021-07-11 12:30:48,305 selenium.webdriver.remote.remote_connection DEBUG    GET http://127.0.0.1:65229/session/317acd8cb3050afc69c0aca8e80da469/element/5f90c032-56cd-4a4f-9ba3-9172b1e71103/text {\"id\": \"5f90c032-56cd-4a4f-9ba3-9172b1e71103\"}\n",
      "2021-07-11 12:30:48,313 selenium.webdriver.remote.remote_connection DEBUG    Finished Request\n",
      "2021-07-11 12:30:48,314 selenium.webdriver.remote.remote_connection DEBUG    POST http://127.0.0.1:65229/session/317acd8cb3050afc69c0aca8e80da469/element/aeb6ac0a-4677-4abf-ae55-8a74bd4f843a/elements {\"using\": \"xpath\", \"value\": \".//option[normalize-space(.) = \\\"Cedar Creek Silverback Edition\\\"]\", \"id\": \"aeb6ac0a-4677-4abf-ae55-8a74bd4f843a\"}\n",
      "2021-07-11 12:30:48,330 selenium.webdriver.remote.remote_connection DEBUG    Finished Request\n",
      "2021-07-11 12:30:48,331 selenium.webdriver.remote.remote_connection DEBUG    GET http://127.0.0.1:65229/session/317acd8cb3050afc69c0aca8e80da469/element/5f90c032-56cd-4a4f-9ba3-9172b1e71103/selected {\"id\": \"5f90c032-56cd-4a4f-9ba3-9172b1e71103\"}\n",
      "2021-07-11 12:30:48,345 selenium.webdriver.remote.remote_connection DEBUG    Finished Request\n",
      "2021-07-11 12:30:48,346 selenium.webdriver.remote.remote_connection DEBUG    POST http://127.0.0.1:65229/session/317acd8cb3050afc69c0aca8e80da469/element/5f90c032-56cd-4a4f-9ba3-9172b1e71103/click {\"id\": \"5f90c032-56cd-4a4f-9ba3-9172b1e71103\"}\n",
      "2021-07-11 12:30:48,374 selenium.webdriver.remote.remote_connection DEBUG    Finished Request\n",
      "2021-07-11 12:30:48,375 selenium.webdriver.remote.remote_connection DEBUG    GET http://127.0.0.1:65229/session/317acd8cb3050afc69c0aca8e80da469/element/7ddfccf3-3627-46a0-a03b-288b193a10df/text {\"id\": \"7ddfccf3-3627-46a0-a03b-288b193a10df\"}\n",
      "2021-07-11 12:30:48,389 selenium.webdriver.remote.remote_connection DEBUG    Finished Request\n",
      "2021-07-11 12:30:48,391 selenium.webdriver.remote.remote_connection DEBUG    GET http://127.0.0.1:65229/session/317acd8cb3050afc69c0aca8e80da469/element/7ddfccf3-3627-46a0-a03b-288b193a10df/text {\"id\": \"7ddfccf3-3627-46a0-a03b-288b193a10df\"}\n",
      "2021-07-11 12:30:48,405 selenium.webdriver.remote.remote_connection DEBUG    Finished Request\n",
      "2021-07-11 12:30:48,406 selenium.webdriver.remote.remote_connection DEBUG    GET http://127.0.0.1:65229/session/317acd8cb3050afc69c0aca8e80da469/element/7ddfccf3-3627-46a0-a03b-288b193a10df/text {\"id\": \"7ddfccf3-3627-46a0-a03b-288b193a10df\"}\n",
      "2021-07-11 12:30:48,419 selenium.webdriver.remote.remote_connection DEBUG    Finished Request\n",
      "2021-07-11 12:30:48,421 selenium.webdriver.remote.remote_connection DEBUG    POST http://127.0.0.1:65229/session/317acd8cb3050afc69c0aca8e80da469/element/aeb6ac0a-4677-4abf-ae55-8a74bd4f843a/elements {\"using\": \"xpath\", \"value\": \".//option[normalize-space(.) = \\\"Cherokee\\\"]\", \"id\": \"aeb6ac0a-4677-4abf-ae55-8a74bd4f843a\"}\n",
      "2021-07-11 12:30:48,433 selenium.webdriver.remote.remote_connection DEBUG    Finished Request\n",
      "2021-07-11 12:30:48,436 selenium.webdriver.remote.remote_connection DEBUG    GET http://127.0.0.1:65229/session/317acd8cb3050afc69c0aca8e80da469/element/7ddfccf3-3627-46a0-a03b-288b193a10df/selected {\"id\": \"7ddfccf3-3627-46a0-a03b-288b193a10df\"}\n",
      "2021-07-11 12:30:48,445 selenium.webdriver.remote.remote_connection DEBUG    Finished Request\n",
      "2021-07-11 12:30:48,446 selenium.webdriver.remote.remote_connection DEBUG    POST http://127.0.0.1:65229/session/317acd8cb3050afc69c0aca8e80da469/element/7ddfccf3-3627-46a0-a03b-288b193a10df/click {\"id\": \"7ddfccf3-3627-46a0-a03b-288b193a10df\"}\n",
      "2021-07-11 12:30:48,474 selenium.webdriver.remote.remote_connection DEBUG    Finished Request\n",
      "2021-07-11 12:30:48,475 selenium.webdriver.remote.remote_connection DEBUG    GET http://127.0.0.1:65229/session/317acd8cb3050afc69c0aca8e80da469/element/f3bd01f8-079f-4273-887b-fa7d6465ee06/text {\"id\": \"f3bd01f8-079f-4273-887b-fa7d6465ee06\"}\n",
      "2021-07-11 12:30:48,492 selenium.webdriver.remote.remote_connection DEBUG    Finished Request\n"
     ]
    },
    {
     "name": "stdout",
     "output_type": "stream",
     "text": [
      "Cedar Creek Silverback Edition\n",
      "Cherokee\n"
     ]
    },
    {
     "name": "stderr",
     "output_type": "stream",
     "text": [
      "2021-07-11 12:30:48,493 selenium.webdriver.remote.remote_connection DEBUG    GET http://127.0.0.1:65229/session/317acd8cb3050afc69c0aca8e80da469/element/f3bd01f8-079f-4273-887b-fa7d6465ee06/text {\"id\": \"f3bd01f8-079f-4273-887b-fa7d6465ee06\"}\n",
      "2021-07-11 12:30:48,502 selenium.webdriver.remote.remote_connection DEBUG    Finished Request\n",
      "2021-07-11 12:30:48,504 selenium.webdriver.remote.remote_connection DEBUG    GET http://127.0.0.1:65229/session/317acd8cb3050afc69c0aca8e80da469/element/f3bd01f8-079f-4273-887b-fa7d6465ee06/text {\"id\": \"f3bd01f8-079f-4273-887b-fa7d6465ee06\"}\n",
      "2021-07-11 12:30:48,511 selenium.webdriver.remote.remote_connection DEBUG    Finished Request\n",
      "2021-07-11 12:30:48,512 selenium.webdriver.remote.remote_connection DEBUG    POST http://127.0.0.1:65229/session/317acd8cb3050afc69c0aca8e80da469/element/aeb6ac0a-4677-4abf-ae55-8a74bd4f843a/elements {\"using\": \"xpath\", \"value\": \".//option[normalize-space(.) = \\\"Cherokee Destination\\\"]\", \"id\": \"aeb6ac0a-4677-4abf-ae55-8a74bd4f843a\"}\n",
      "2021-07-11 12:30:48,527 selenium.webdriver.remote.remote_connection DEBUG    Finished Request\n",
      "2021-07-11 12:30:48,528 selenium.webdriver.remote.remote_connection DEBUG    GET http://127.0.0.1:65229/session/317acd8cb3050afc69c0aca8e80da469/element/f3bd01f8-079f-4273-887b-fa7d6465ee06/selected {\"id\": \"f3bd01f8-079f-4273-887b-fa7d6465ee06\"}\n",
      "2021-07-11 12:30:48,540 selenium.webdriver.remote.remote_connection DEBUG    Finished Request\n",
      "2021-07-11 12:30:48,542 selenium.webdriver.remote.remote_connection DEBUG    POST http://127.0.0.1:65229/session/317acd8cb3050afc69c0aca8e80da469/element/f3bd01f8-079f-4273-887b-fa7d6465ee06/click {\"id\": \"f3bd01f8-079f-4273-887b-fa7d6465ee06\"}\n",
      "2021-07-11 12:30:48,571 selenium.webdriver.remote.remote_connection DEBUG    Finished Request\n",
      "2021-07-11 12:30:48,572 selenium.webdriver.remote.remote_connection DEBUG    GET http://127.0.0.1:65229/session/317acd8cb3050afc69c0aca8e80da469/element/dd1c5baa-2d64-4213-907b-ca5ff628880c/text {\"id\": \"dd1c5baa-2d64-4213-907b-ca5ff628880c\"}\n",
      "2021-07-11 12:30:48,594 selenium.webdriver.remote.remote_connection DEBUG    Finished Request\n",
      "2021-07-11 12:30:48,595 selenium.webdriver.remote.remote_connection DEBUG    GET http://127.0.0.1:65229/session/317acd8cb3050afc69c0aca8e80da469/element/dd1c5baa-2d64-4213-907b-ca5ff628880c/text {\"id\": \"dd1c5baa-2d64-4213-907b-ca5ff628880c\"}\n",
      "2021-07-11 12:30:48,607 selenium.webdriver.remote.remote_connection DEBUG    Finished Request\n",
      "2021-07-11 12:30:48,608 selenium.webdriver.remote.remote_connection DEBUG    GET http://127.0.0.1:65229/session/317acd8cb3050afc69c0aca8e80da469/element/dd1c5baa-2d64-4213-907b-ca5ff628880c/text {\"id\": \"dd1c5baa-2d64-4213-907b-ca5ff628880c\"}\n",
      "2021-07-11 12:30:48,624 selenium.webdriver.remote.remote_connection DEBUG    Finished Request\n",
      "2021-07-11 12:30:48,625 selenium.webdriver.remote.remote_connection DEBUG    POST http://127.0.0.1:65229/session/317acd8cb3050afc69c0aca8e80da469/element/aeb6ac0a-4677-4abf-ae55-8a74bd4f843a/elements {\"using\": \"xpath\", \"value\": \".//option[normalize-space(.) = \\\"Cruise Lite\\\"]\", \"id\": \"aeb6ac0a-4677-4abf-ae55-8a74bd4f843a\"}\n",
      "2021-07-11 12:30:48,645 selenium.webdriver.remote.remote_connection DEBUG    Finished Request\n",
      "2021-07-11 12:30:48,646 selenium.webdriver.remote.remote_connection DEBUG    GET http://127.0.0.1:65229/session/317acd8cb3050afc69c0aca8e80da469/element/dd1c5baa-2d64-4213-907b-ca5ff628880c/selected {\"id\": \"dd1c5baa-2d64-4213-907b-ca5ff628880c\"}\n",
      "2021-07-11 12:30:48,663 selenium.webdriver.remote.remote_connection DEBUG    Finished Request\n",
      "2021-07-11 12:30:48,663 selenium.webdriver.remote.remote_connection DEBUG    POST http://127.0.0.1:65229/session/317acd8cb3050afc69c0aca8e80da469/element/dd1c5baa-2d64-4213-907b-ca5ff628880c/click {\"id\": \"dd1c5baa-2d64-4213-907b-ca5ff628880c\"}\n",
      "2021-07-11 12:30:48,693 selenium.webdriver.remote.remote_connection DEBUG    Finished Request\n"
     ]
    },
    {
     "name": "stdout",
     "output_type": "stream",
     "text": [
      "Cherokee Destination\n",
      "Cruise Lite\n"
     ]
    },
    {
     "name": "stderr",
     "output_type": "stream",
     "text": [
      "2021-07-11 12:30:48,694 selenium.webdriver.remote.remote_connection DEBUG    GET http://127.0.0.1:65229/session/317acd8cb3050afc69c0aca8e80da469/element/cc83b433-fce3-44fa-9520-f7d586f9b2c8/text {\"id\": \"cc83b433-fce3-44fa-9520-f7d586f9b2c8\"}\n",
      "2021-07-11 12:30:48,710 selenium.webdriver.remote.remote_connection DEBUG    Finished Request\n",
      "2021-07-11 12:30:48,711 selenium.webdriver.remote.remote_connection DEBUG    GET http://127.0.0.1:65229/session/317acd8cb3050afc69c0aca8e80da469/element/cc83b433-fce3-44fa-9520-f7d586f9b2c8/text {\"id\": \"cc83b433-fce3-44fa-9520-f7d586f9b2c8\"}\n",
      "2021-07-11 12:30:48,721 selenium.webdriver.remote.remote_connection DEBUG    Finished Request\n",
      "2021-07-11 12:30:48,722 selenium.webdriver.remote.remote_connection DEBUG    GET http://127.0.0.1:65229/session/317acd8cb3050afc69c0aca8e80da469/element/cc83b433-fce3-44fa-9520-f7d586f9b2c8/text {\"id\": \"cc83b433-fce3-44fa-9520-f7d586f9b2c8\"}\n",
      "2021-07-11 12:30:48,730 selenium.webdriver.remote.remote_connection DEBUG    Finished Request\n",
      "2021-07-11 12:30:48,732 selenium.webdriver.remote.remote_connection DEBUG    POST http://127.0.0.1:65229/session/317acd8cb3050afc69c0aca8e80da469/element/aeb6ac0a-4677-4abf-ae55-8a74bd4f843a/elements {\"using\": \"xpath\", \"value\": \".//option[normalize-space(.) = \\\"Evo\\\"]\", \"id\": \"aeb6ac0a-4677-4abf-ae55-8a74bd4f843a\"}\n",
      "2021-07-11 12:30:48,746 selenium.webdriver.remote.remote_connection DEBUG    Finished Request\n",
      "2021-07-11 12:30:48,747 selenium.webdriver.remote.remote_connection DEBUG    GET http://127.0.0.1:65229/session/317acd8cb3050afc69c0aca8e80da469/element/cc83b433-fce3-44fa-9520-f7d586f9b2c8/selected {\"id\": \"cc83b433-fce3-44fa-9520-f7d586f9b2c8\"}\n",
      "2021-07-11 12:30:48,761 selenium.webdriver.remote.remote_connection DEBUG    Finished Request\n",
      "2021-07-11 12:30:48,763 selenium.webdriver.remote.remote_connection DEBUG    POST http://127.0.0.1:65229/session/317acd8cb3050afc69c0aca8e80da469/element/cc83b433-fce3-44fa-9520-f7d586f9b2c8/click {\"id\": \"cc83b433-fce3-44fa-9520-f7d586f9b2c8\"}\n",
      "2021-07-11 12:30:48,797 selenium.webdriver.remote.remote_connection DEBUG    Finished Request\n",
      "2021-07-11 12:30:48,801 selenium.webdriver.remote.remote_connection DEBUG    GET http://127.0.0.1:65229/session/317acd8cb3050afc69c0aca8e80da469/element/e1729dbc-7577-48ff-9e31-add77fd3d111/text {\"id\": \"e1729dbc-7577-48ff-9e31-add77fd3d111\"}\n",
      "2021-07-11 12:30:48,824 selenium.webdriver.remote.remote_connection DEBUG    Finished Request\n",
      "2021-07-11 12:30:48,826 selenium.webdriver.remote.remote_connection DEBUG    GET http://127.0.0.1:65229/session/317acd8cb3050afc69c0aca8e80da469/element/e1729dbc-7577-48ff-9e31-add77fd3d111/text {\"id\": \"e1729dbc-7577-48ff-9e31-add77fd3d111\"}\n",
      "2021-07-11 12:30:48,837 selenium.webdriver.remote.remote_connection DEBUG    Finished Request\n",
      "2021-07-11 12:30:48,838 selenium.webdriver.remote.remote_connection DEBUG    GET http://127.0.0.1:65229/session/317acd8cb3050afc69c0aca8e80da469/element/e1729dbc-7577-48ff-9e31-add77fd3d111/text {\"id\": \"e1729dbc-7577-48ff-9e31-add77fd3d111\"}\n",
      "2021-07-11 12:30:48,856 selenium.webdriver.remote.remote_connection DEBUG    Finished Request\n",
      "2021-07-11 12:30:48,857 selenium.webdriver.remote.remote_connection DEBUG    POST http://127.0.0.1:65229/session/317acd8cb3050afc69c0aca8e80da469/element/aeb6ac0a-4677-4abf-ae55-8a74bd4f843a/elements {\"using\": \"xpath\", \"value\": \".//option[normalize-space(.) = \\\"Flagstaff Classic\\\"]\", \"id\": \"aeb6ac0a-4677-4abf-ae55-8a74bd4f843a\"}\n",
      "2021-07-11 12:30:48,880 selenium.webdriver.remote.remote_connection DEBUG    Finished Request\n",
      "2021-07-11 12:30:48,882 selenium.webdriver.remote.remote_connection DEBUG    GET http://127.0.0.1:65229/session/317acd8cb3050afc69c0aca8e80da469/element/e1729dbc-7577-48ff-9e31-add77fd3d111/selected {\"id\": \"e1729dbc-7577-48ff-9e31-add77fd3d111\"}\n",
      "2021-07-11 12:30:48,898 selenium.webdriver.remote.remote_connection DEBUG    Finished Request\n",
      "2021-07-11 12:30:48,902 selenium.webdriver.remote.remote_connection DEBUG    POST http://127.0.0.1:65229/session/317acd8cb3050afc69c0aca8e80da469/element/e1729dbc-7577-48ff-9e31-add77fd3d111/click {\"id\": \"e1729dbc-7577-48ff-9e31-add77fd3d111\"}\n"
     ]
    },
    {
     "name": "stdout",
     "output_type": "stream",
     "text": [
      "Evo\n",
      "Flagstaff Classic\n"
     ]
    },
    {
     "name": "stderr",
     "output_type": "stream",
     "text": [
      "2021-07-11 12:30:48,926 selenium.webdriver.remote.remote_connection DEBUG    Finished Request\n",
      "2021-07-11 12:30:48,927 selenium.webdriver.remote.remote_connection DEBUG    GET http://127.0.0.1:65229/session/317acd8cb3050afc69c0aca8e80da469/element/8165961d-5a28-4b91-b693-9243dfb4f313/text {\"id\": \"8165961d-5a28-4b91-b693-9243dfb4f313\"}\n",
      "2021-07-11 12:30:48,942 selenium.webdriver.remote.remote_connection DEBUG    Finished Request\n",
      "2021-07-11 12:30:48,943 selenium.webdriver.remote.remote_connection DEBUG    GET http://127.0.0.1:65229/session/317acd8cb3050afc69c0aca8e80da469/element/8165961d-5a28-4b91-b693-9243dfb4f313/text {\"id\": \"8165961d-5a28-4b91-b693-9243dfb4f313\"}\n",
      "2021-07-11 12:30:48,954 selenium.webdriver.remote.remote_connection DEBUG    Finished Request\n",
      "2021-07-11 12:30:48,955 selenium.webdriver.remote.remote_connection DEBUG    GET http://127.0.0.1:65229/session/317acd8cb3050afc69c0aca8e80da469/element/8165961d-5a28-4b91-b693-9243dfb4f313/text {\"id\": \"8165961d-5a28-4b91-b693-9243dfb4f313\"}\n",
      "2021-07-11 12:30:48,963 selenium.webdriver.remote.remote_connection DEBUG    Finished Request\n",
      "2021-07-11 12:30:48,964 selenium.webdriver.remote.remote_connection DEBUG    POST http://127.0.0.1:65229/session/317acd8cb3050afc69c0aca8e80da469/element/aeb6ac0a-4677-4abf-ae55-8a74bd4f843a/elements {\"using\": \"xpath\", \"value\": \".//option[normalize-space(.) = \\\"Flagstaff E-Pro\\\"]\", \"id\": \"aeb6ac0a-4677-4abf-ae55-8a74bd4f843a\"}\n",
      "2021-07-11 12:30:48,978 selenium.webdriver.remote.remote_connection DEBUG    Finished Request\n",
      "2021-07-11 12:30:48,980 selenium.webdriver.remote.remote_connection DEBUG    GET http://127.0.0.1:65229/session/317acd8cb3050afc69c0aca8e80da469/element/8165961d-5a28-4b91-b693-9243dfb4f313/selected {\"id\": \"8165961d-5a28-4b91-b693-9243dfb4f313\"}\n",
      "2021-07-11 12:30:48,992 selenium.webdriver.remote.remote_connection DEBUG    Finished Request\n",
      "2021-07-11 12:30:48,993 selenium.webdriver.remote.remote_connection DEBUG    POST http://127.0.0.1:65229/session/317acd8cb3050afc69c0aca8e80da469/element/8165961d-5a28-4b91-b693-9243dfb4f313/click {\"id\": \"8165961d-5a28-4b91-b693-9243dfb4f313\"}\n",
      "2021-07-11 12:30:49,019 selenium.webdriver.remote.remote_connection DEBUG    Finished Request\n",
      "2021-07-11 12:30:49,020 selenium.webdriver.remote.remote_connection DEBUG    GET http://127.0.0.1:65229/session/317acd8cb3050afc69c0aca8e80da469/element/d4a7bbe4-0682-4594-9d4c-42e093699dde/text {\"id\": \"d4a7bbe4-0682-4594-9d4c-42e093699dde\"}\n",
      "2021-07-11 12:30:49,031 selenium.webdriver.remote.remote_connection DEBUG    Finished Request\n",
      "2021-07-11 12:30:49,034 selenium.webdriver.remote.remote_connection DEBUG    GET http://127.0.0.1:65229/session/317acd8cb3050afc69c0aca8e80da469/element/d4a7bbe4-0682-4594-9d4c-42e093699dde/text {\"id\": \"d4a7bbe4-0682-4594-9d4c-42e093699dde\"}\n",
      "2021-07-11 12:30:49,044 selenium.webdriver.remote.remote_connection DEBUG    Finished Request\n",
      "2021-07-11 12:30:49,044 selenium.webdriver.remote.remote_connection DEBUG    GET http://127.0.0.1:65229/session/317acd8cb3050afc69c0aca8e80da469/element/d4a7bbe4-0682-4594-9d4c-42e093699dde/text {\"id\": \"d4a7bbe4-0682-4594-9d4c-42e093699dde\"}\n",
      "2021-07-11 12:30:49,054 selenium.webdriver.remote.remote_connection DEBUG    Finished Request\n",
      "2021-07-11 12:30:49,055 selenium.webdriver.remote.remote_connection DEBUG    POST http://127.0.0.1:65229/session/317acd8cb3050afc69c0aca8e80da469/element/aeb6ac0a-4677-4abf-ae55-8a74bd4f843a/elements {\"using\": \"xpath\", \"value\": \".//option[normalize-space(.) = \\\"Flagstaff Hard Side Pop-Up Campers\\\"]\", \"id\": \"aeb6ac0a-4677-4abf-ae55-8a74bd4f843a\"}\n",
      "2021-07-11 12:30:49,075 selenium.webdriver.remote.remote_connection DEBUG    Finished Request\n",
      "2021-07-11 12:30:49,076 selenium.webdriver.remote.remote_connection DEBUG    GET http://127.0.0.1:65229/session/317acd8cb3050afc69c0aca8e80da469/element/d4a7bbe4-0682-4594-9d4c-42e093699dde/selected {\"id\": \"d4a7bbe4-0682-4594-9d4c-42e093699dde\"}\n",
      "2021-07-11 12:30:49,089 selenium.webdriver.remote.remote_connection DEBUG    Finished Request\n",
      "2021-07-11 12:30:49,090 selenium.webdriver.remote.remote_connection DEBUG    POST http://127.0.0.1:65229/session/317acd8cb3050afc69c0aca8e80da469/element/d4a7bbe4-0682-4594-9d4c-42e093699dde/click {\"id\": \"d4a7bbe4-0682-4594-9d4c-42e093699dde\"}\n",
      "2021-07-11 12:30:49,121 selenium.webdriver.remote.remote_connection DEBUG    Finished Request\n",
      "2021-07-11 12:30:49,122 selenium.webdriver.remote.remote_connection DEBUG    GET http://127.0.0.1:65229/session/317acd8cb3050afc69c0aca8e80da469/element/54c7a2df-e079-453c-9d14-f1ce18c08f8e/text {\"id\": \"54c7a2df-e079-453c-9d14-f1ce18c08f8e\"}\n",
      "2021-07-11 12:30:49,138 selenium.webdriver.remote.remote_connection DEBUG    Finished Request\n"
     ]
    },
    {
     "name": "stdout",
     "output_type": "stream",
     "text": [
      "Flagstaff E-Pro\n",
      "Flagstaff Hard Side Pop-Up Campers\n"
     ]
    },
    {
     "name": "stderr",
     "output_type": "stream",
     "text": [
      "2021-07-11 12:30:49,139 selenium.webdriver.remote.remote_connection DEBUG    GET http://127.0.0.1:65229/session/317acd8cb3050afc69c0aca8e80da469/element/54c7a2df-e079-453c-9d14-f1ce18c08f8e/text {\"id\": \"54c7a2df-e079-453c-9d14-f1ce18c08f8e\"}\n",
      "2021-07-11 12:30:49,148 selenium.webdriver.remote.remote_connection DEBUG    Finished Request\n",
      "2021-07-11 12:30:49,151 selenium.webdriver.remote.remote_connection DEBUG    GET http://127.0.0.1:65229/session/317acd8cb3050afc69c0aca8e80da469/element/54c7a2df-e079-453c-9d14-f1ce18c08f8e/text {\"id\": \"54c7a2df-e079-453c-9d14-f1ce18c08f8e\"}\n",
      "2021-07-11 12:30:49,159 selenium.webdriver.remote.remote_connection DEBUG    Finished Request\n",
      "2021-07-11 12:30:49,160 selenium.webdriver.remote.remote_connection DEBUG    POST http://127.0.0.1:65229/session/317acd8cb3050afc69c0aca8e80da469/element/aeb6ac0a-4677-4abf-ae55-8a74bd4f843a/elements {\"using\": \"xpath\", \"value\": \".//option[normalize-space(.) = \\\"Flagstaff Micro Lite\\\"]\", \"id\": \"aeb6ac0a-4677-4abf-ae55-8a74bd4f843a\"}\n",
      "2021-07-11 12:30:49,174 selenium.webdriver.remote.remote_connection DEBUG    Finished Request\n",
      "2021-07-11 12:30:49,176 selenium.webdriver.remote.remote_connection DEBUG    GET http://127.0.0.1:65229/session/317acd8cb3050afc69c0aca8e80da469/element/54c7a2df-e079-453c-9d14-f1ce18c08f8e/selected {\"id\": \"54c7a2df-e079-453c-9d14-f1ce18c08f8e\"}\n",
      "2021-07-11 12:30:49,187 selenium.webdriver.remote.remote_connection DEBUG    Finished Request\n",
      "2021-07-11 12:30:49,188 selenium.webdriver.remote.remote_connection DEBUG    POST http://127.0.0.1:65229/session/317acd8cb3050afc69c0aca8e80da469/element/54c7a2df-e079-453c-9d14-f1ce18c08f8e/click {\"id\": \"54c7a2df-e079-453c-9d14-f1ce18c08f8e\"}\n",
      "2021-07-11 12:30:49,212 selenium.webdriver.remote.remote_connection DEBUG    Finished Request\n",
      "2021-07-11 12:30:49,213 selenium.webdriver.remote.remote_connection DEBUG    GET http://127.0.0.1:65229/session/317acd8cb3050afc69c0aca8e80da469/element/0cc72c73-c94b-4bfb-a912-7e0773a43c8e/text {\"id\": \"0cc72c73-c94b-4bfb-a912-7e0773a43c8e\"}\n",
      "2021-07-11 12:30:49,227 selenium.webdriver.remote.remote_connection DEBUG    Finished Request\n",
      "2021-07-11 12:30:49,228 selenium.webdriver.remote.remote_connection DEBUG    GET http://127.0.0.1:65229/session/317acd8cb3050afc69c0aca8e80da469/element/0cc72c73-c94b-4bfb-a912-7e0773a43c8e/text {\"id\": \"0cc72c73-c94b-4bfb-a912-7e0773a43c8e\"}\n",
      "2021-07-11 12:30:49,236 selenium.webdriver.remote.remote_connection DEBUG    Finished Request\n",
      "2021-07-11 12:30:49,238 selenium.webdriver.remote.remote_connection DEBUG    GET http://127.0.0.1:65229/session/317acd8cb3050afc69c0aca8e80da469/element/0cc72c73-c94b-4bfb-a912-7e0773a43c8e/text {\"id\": \"0cc72c73-c94b-4bfb-a912-7e0773a43c8e\"}\n",
      "2021-07-11 12:30:49,246 selenium.webdriver.remote.remote_connection DEBUG    Finished Request\n",
      "2021-07-11 12:30:49,247 selenium.webdriver.remote.remote_connection DEBUG    POST http://127.0.0.1:65229/session/317acd8cb3050afc69c0aca8e80da469/element/aeb6ac0a-4677-4abf-ae55-8a74bd4f843a/elements {\"using\": \"xpath\", \"value\": \".//option[normalize-space(.) = \\\"Flagstaff Shamrock\\\"]\", \"id\": \"aeb6ac0a-4677-4abf-ae55-8a74bd4f843a\"}\n",
      "2021-07-11 12:30:49,260 selenium.webdriver.remote.remote_connection DEBUG    Finished Request\n",
      "2021-07-11 12:30:49,261 selenium.webdriver.remote.remote_connection DEBUG    GET http://127.0.0.1:65229/session/317acd8cb3050afc69c0aca8e80da469/element/0cc72c73-c94b-4bfb-a912-7e0773a43c8e/selected {\"id\": \"0cc72c73-c94b-4bfb-a912-7e0773a43c8e\"}\n",
      "2021-07-11 12:30:49,272 selenium.webdriver.remote.remote_connection DEBUG    Finished Request\n",
      "2021-07-11 12:30:49,273 selenium.webdriver.remote.remote_connection DEBUG    POST http://127.0.0.1:65229/session/317acd8cb3050afc69c0aca8e80da469/element/0cc72c73-c94b-4bfb-a912-7e0773a43c8e/click {\"id\": \"0cc72c73-c94b-4bfb-a912-7e0773a43c8e\"}\n",
      "2021-07-11 12:30:49,296 selenium.webdriver.remote.remote_connection DEBUG    Finished Request\n",
      "2021-07-11 12:30:49,298 selenium.webdriver.remote.remote_connection DEBUG    GET http://127.0.0.1:65229/session/317acd8cb3050afc69c0aca8e80da469/element/7d85b9fa-de6a-4dfb-b0e2-2f8be9ddc37a/text {\"id\": \"7d85b9fa-de6a-4dfb-b0e2-2f8be9ddc37a\"}\n",
      "2021-07-11 12:30:49,314 selenium.webdriver.remote.remote_connection DEBUG    Finished Request\n",
      "2021-07-11 12:30:49,315 selenium.webdriver.remote.remote_connection DEBUG    GET http://127.0.0.1:65229/session/317acd8cb3050afc69c0aca8e80da469/element/7d85b9fa-de6a-4dfb-b0e2-2f8be9ddc37a/text {\"id\": \"7d85b9fa-de6a-4dfb-b0e2-2f8be9ddc37a\"}\n",
      "2021-07-11 12:30:49,324 selenium.webdriver.remote.remote_connection DEBUG    Finished Request\n"
     ]
    },
    {
     "name": "stdout",
     "output_type": "stream",
     "text": [
      "Flagstaff Micro Lite\n",
      "Flagstaff Shamrock\n"
     ]
    },
    {
     "name": "stderr",
     "output_type": "stream",
     "text": [
      "2021-07-11 12:30:49,327 selenium.webdriver.remote.remote_connection DEBUG    GET http://127.0.0.1:65229/session/317acd8cb3050afc69c0aca8e80da469/element/7d85b9fa-de6a-4dfb-b0e2-2f8be9ddc37a/text {\"id\": \"7d85b9fa-de6a-4dfb-b0e2-2f8be9ddc37a\"}\n",
      "2021-07-11 12:30:49,335 selenium.webdriver.remote.remote_connection DEBUG    Finished Request\n",
      "2021-07-11 12:30:49,336 selenium.webdriver.remote.remote_connection DEBUG    POST http://127.0.0.1:65229/session/317acd8cb3050afc69c0aca8e80da469/element/aeb6ac0a-4677-4abf-ae55-8a74bd4f843a/elements {\"using\": \"xpath\", \"value\": \".//option[normalize-space(.) = \\\"Flagstaff Sports Enthusiast Package\\\"]\", \"id\": \"aeb6ac0a-4677-4abf-ae55-8a74bd4f843a\"}\n",
      "2021-07-11 12:30:49,351 selenium.webdriver.remote.remote_connection DEBUG    Finished Request\n",
      "2021-07-11 12:30:49,352 selenium.webdriver.remote.remote_connection DEBUG    GET http://127.0.0.1:65229/session/317acd8cb3050afc69c0aca8e80da469/element/7d85b9fa-de6a-4dfb-b0e2-2f8be9ddc37a/selected {\"id\": \"7d85b9fa-de6a-4dfb-b0e2-2f8be9ddc37a\"}\n",
      "2021-07-11 12:30:49,363 selenium.webdriver.remote.remote_connection DEBUG    Finished Request\n",
      "2021-07-11 12:30:49,365 selenium.webdriver.remote.remote_connection DEBUG    POST http://127.0.0.1:65229/session/317acd8cb3050afc69c0aca8e80da469/element/7d85b9fa-de6a-4dfb-b0e2-2f8be9ddc37a/click {\"id\": \"7d85b9fa-de6a-4dfb-b0e2-2f8be9ddc37a\"}\n",
      "2021-07-11 12:30:49,393 selenium.webdriver.remote.remote_connection DEBUG    Finished Request\n",
      "2021-07-11 12:30:49,394 selenium.webdriver.remote.remote_connection DEBUG    GET http://127.0.0.1:65229/session/317acd8cb3050afc69c0aca8e80da469/element/7713647c-bf23-43be-be56-ed2d3ca8c7cd/text {\"id\": \"7713647c-bf23-43be-be56-ed2d3ca8c7cd\"}\n",
      "2021-07-11 12:30:49,409 selenium.webdriver.remote.remote_connection DEBUG    Finished Request\n",
      "2021-07-11 12:30:49,410 selenium.webdriver.remote.remote_connection DEBUG    GET http://127.0.0.1:65229/session/317acd8cb3050afc69c0aca8e80da469/element/7713647c-bf23-43be-be56-ed2d3ca8c7cd/text {\"id\": \"7713647c-bf23-43be-be56-ed2d3ca8c7cd\"}\n",
      "2021-07-11 12:30:49,418 selenium.webdriver.remote.remote_connection DEBUG    Finished Request\n",
      "2021-07-11 12:30:49,419 selenium.webdriver.remote.remote_connection DEBUG    GET http://127.0.0.1:65229/session/317acd8cb3050afc69c0aca8e80da469/element/7713647c-bf23-43be-be56-ed2d3ca8c7cd/text {\"id\": \"7713647c-bf23-43be-be56-ed2d3ca8c7cd\"}\n",
      "2021-07-11 12:30:49,429 selenium.webdriver.remote.remote_connection DEBUG    Finished Request\n",
      "2021-07-11 12:30:49,430 selenium.webdriver.remote.remote_connection DEBUG    POST http://127.0.0.1:65229/session/317acd8cb3050afc69c0aca8e80da469/element/aeb6ac0a-4677-4abf-ae55-8a74bd4f843a/elements {\"using\": \"xpath\", \"value\": \".//option[normalize-space(.) = \\\"Flagstaff Super Lite\\\"]\", \"id\": \"aeb6ac0a-4677-4abf-ae55-8a74bd4f843a\"}\n",
      "2021-07-11 12:30:49,447 selenium.webdriver.remote.remote_connection DEBUG    Finished Request\n",
      "2021-07-11 12:30:49,450 selenium.webdriver.remote.remote_connection DEBUG    GET http://127.0.0.1:65229/session/317acd8cb3050afc69c0aca8e80da469/element/7713647c-bf23-43be-be56-ed2d3ca8c7cd/selected {\"id\": \"7713647c-bf23-43be-be56-ed2d3ca8c7cd\"}\n",
      "2021-07-11 12:30:49,468 selenium.webdriver.remote.remote_connection DEBUG    Finished Request\n",
      "2021-07-11 12:30:49,470 selenium.webdriver.remote.remote_connection DEBUG    POST http://127.0.0.1:65229/session/317acd8cb3050afc69c0aca8e80da469/element/7713647c-bf23-43be-be56-ed2d3ca8c7cd/click {\"id\": \"7713647c-bf23-43be-be56-ed2d3ca8c7cd\"}\n",
      "2021-07-11 12:30:49,499 selenium.webdriver.remote.remote_connection DEBUG    Finished Request\n",
      "2021-07-11 12:30:49,502 selenium.webdriver.remote.remote_connection DEBUG    GET http://127.0.0.1:65229/session/317acd8cb3050afc69c0aca8e80da469/element/f733f6c8-bddf-4361-91b2-509bcf14ce88/text {\"id\": \"f733f6c8-bddf-4361-91b2-509bcf14ce88\"}\n",
      "2021-07-11 12:30:49,530 selenium.webdriver.remote.remote_connection DEBUG    Finished Request\n"
     ]
    },
    {
     "name": "stdout",
     "output_type": "stream",
     "text": [
      "Flagstaff Sports Enthusiast Package\n",
      "Flagstaff Super Lite\n"
     ]
    },
    {
     "name": "stderr",
     "output_type": "stream",
     "text": [
      "2021-07-11 12:30:49,532 selenium.webdriver.remote.remote_connection DEBUG    GET http://127.0.0.1:65229/session/317acd8cb3050afc69c0aca8e80da469/element/f733f6c8-bddf-4361-91b2-509bcf14ce88/text {\"id\": \"f733f6c8-bddf-4361-91b2-509bcf14ce88\"}\n",
      "2021-07-11 12:30:49,543 selenium.webdriver.remote.remote_connection DEBUG    Finished Request\n",
      "2021-07-11 12:30:49,544 selenium.webdriver.remote.remote_connection DEBUG    GET http://127.0.0.1:65229/session/317acd8cb3050afc69c0aca8e80da469/element/f733f6c8-bddf-4361-91b2-509bcf14ce88/text {\"id\": \"f733f6c8-bddf-4361-91b2-509bcf14ce88\"}\n",
      "2021-07-11 12:30:49,554 selenium.webdriver.remote.remote_connection DEBUG    Finished Request\n",
      "2021-07-11 12:30:49,555 selenium.webdriver.remote.remote_connection DEBUG    POST http://127.0.0.1:65229/session/317acd8cb3050afc69c0aca8e80da469/element/aeb6ac0a-4677-4abf-ae55-8a74bd4f843a/elements {\"using\": \"xpath\", \"value\": \".//option[normalize-space(.) = \\\"Flagstaff Tent\\\"]\", \"id\": \"aeb6ac0a-4677-4abf-ae55-8a74bd4f843a\"}\n",
      "2021-07-11 12:30:49,570 selenium.webdriver.remote.remote_connection DEBUG    Finished Request\n",
      "2021-07-11 12:30:49,571 selenium.webdriver.remote.remote_connection DEBUG    GET http://127.0.0.1:65229/session/317acd8cb3050afc69c0aca8e80da469/element/f733f6c8-bddf-4361-91b2-509bcf14ce88/selected {\"id\": \"f733f6c8-bddf-4361-91b2-509bcf14ce88\"}\n",
      "2021-07-11 12:30:49,580 selenium.webdriver.remote.remote_connection DEBUG    Finished Request\n",
      "2021-07-11 12:30:49,583 selenium.webdriver.remote.remote_connection DEBUG    POST http://127.0.0.1:65229/session/317acd8cb3050afc69c0aca8e80da469/element/f733f6c8-bddf-4361-91b2-509bcf14ce88/click {\"id\": \"f733f6c8-bddf-4361-91b2-509bcf14ce88\"}\n",
      "2021-07-11 12:30:49,613 selenium.webdriver.remote.remote_connection DEBUG    Finished Request\n",
      "2021-07-11 12:30:49,616 selenium.webdriver.remote.remote_connection DEBUG    GET http://127.0.0.1:65229/session/317acd8cb3050afc69c0aca8e80da469/element/1a3cd589-5878-4ffc-b85d-84389f660360/text {\"id\": \"1a3cd589-5878-4ffc-b85d-84389f660360\"}\n",
      "2021-07-11 12:30:49,636 selenium.webdriver.remote.remote_connection DEBUG    Finished Request\n",
      "2021-07-11 12:30:49,637 selenium.webdriver.remote.remote_connection DEBUG    GET http://127.0.0.1:65229/session/317acd8cb3050afc69c0aca8e80da469/element/1a3cd589-5878-4ffc-b85d-84389f660360/text {\"id\": \"1a3cd589-5878-4ffc-b85d-84389f660360\"}\n",
      "2021-07-11 12:30:49,650 selenium.webdriver.remote.remote_connection DEBUG    Finished Request\n",
      "2021-07-11 12:30:49,652 selenium.webdriver.remote.remote_connection DEBUG    GET http://127.0.0.1:65229/session/317acd8cb3050afc69c0aca8e80da469/element/1a3cd589-5878-4ffc-b85d-84389f660360/text {\"id\": \"1a3cd589-5878-4ffc-b85d-84389f660360\"}\n",
      "2021-07-11 12:30:49,663 selenium.webdriver.remote.remote_connection DEBUG    Finished Request\n",
      "2021-07-11 12:30:49,664 selenium.webdriver.remote.remote_connection DEBUG    POST http://127.0.0.1:65229/session/317acd8cb3050afc69c0aca8e80da469/element/aeb6ac0a-4677-4abf-ae55-8a74bd4f843a/elements {\"using\": \"xpath\", \"value\": \".//option[normalize-space(.) = \\\"Forester Classic\\\"]\", \"id\": \"aeb6ac0a-4677-4abf-ae55-8a74bd4f843a\"}\n",
      "2021-07-11 12:30:49,679 selenium.webdriver.remote.remote_connection DEBUG    Finished Request\n",
      "2021-07-11 12:30:49,683 selenium.webdriver.remote.remote_connection DEBUG    GET http://127.0.0.1:65229/session/317acd8cb3050afc69c0aca8e80da469/element/1a3cd589-5878-4ffc-b85d-84389f660360/selected {\"id\": \"1a3cd589-5878-4ffc-b85d-84389f660360\"}\n",
      "2021-07-11 12:30:49,694 selenium.webdriver.remote.remote_connection DEBUG    Finished Request\n",
      "2021-07-11 12:30:49,695 selenium.webdriver.remote.remote_connection DEBUG    POST http://127.0.0.1:65229/session/317acd8cb3050afc69c0aca8e80da469/element/1a3cd589-5878-4ffc-b85d-84389f660360/click {\"id\": \"1a3cd589-5878-4ffc-b85d-84389f660360\"}\n",
      "2021-07-11 12:30:49,727 selenium.webdriver.remote.remote_connection DEBUG    Finished Request\n",
      "2021-07-11 12:30:49,728 selenium.webdriver.remote.remote_connection DEBUG    GET http://127.0.0.1:65229/session/317acd8cb3050afc69c0aca8e80da469/element/d979f811-de84-4af3-ba54-c237bc6a122d/text {\"id\": \"d979f811-de84-4af3-ba54-c237bc6a122d\"}\n"
     ]
    },
    {
     "name": "stdout",
     "output_type": "stream",
     "text": [
      "Flagstaff Tent\n",
      "Forester Classic\n"
     ]
    },
    {
     "name": "stderr",
     "output_type": "stream",
     "text": [
      "2021-07-11 12:30:49,744 selenium.webdriver.remote.remote_connection DEBUG    Finished Request\n",
      "2021-07-11 12:30:49,745 selenium.webdriver.remote.remote_connection DEBUG    GET http://127.0.0.1:65229/session/317acd8cb3050afc69c0aca8e80da469/element/d979f811-de84-4af3-ba54-c237bc6a122d/text {\"id\": \"d979f811-de84-4af3-ba54-c237bc6a122d\"}\n",
      "2021-07-11 12:30:49,755 selenium.webdriver.remote.remote_connection DEBUG    Finished Request\n",
      "2021-07-11 12:30:49,756 selenium.webdriver.remote.remote_connection DEBUG    GET http://127.0.0.1:65229/session/317acd8cb3050afc69c0aca8e80da469/element/d979f811-de84-4af3-ba54-c237bc6a122d/text {\"id\": \"d979f811-de84-4af3-ba54-c237bc6a122d\"}\n",
      "2021-07-11 12:30:49,767 selenium.webdriver.remote.remote_connection DEBUG    Finished Request\n",
      "2021-07-11 12:30:49,769 selenium.webdriver.remote.remote_connection DEBUG    POST http://127.0.0.1:65229/session/317acd8cb3050afc69c0aca8e80da469/element/aeb6ac0a-4677-4abf-ae55-8a74bd4f843a/elements {\"using\": \"xpath\", \"value\": \".//option[normalize-space(.) = \\\"Forester LE\\\"]\", \"id\": \"aeb6ac0a-4677-4abf-ae55-8a74bd4f843a\"}\n",
      "2021-07-11 12:30:49,779 selenium.webdriver.remote.remote_connection DEBUG    Finished Request\n",
      "2021-07-11 12:30:49,780 selenium.webdriver.remote.remote_connection DEBUG    GET http://127.0.0.1:65229/session/317acd8cb3050afc69c0aca8e80da469/element/d979f811-de84-4af3-ba54-c237bc6a122d/selected {\"id\": \"d979f811-de84-4af3-ba54-c237bc6a122d\"}\n",
      "2021-07-11 12:30:49,793 selenium.webdriver.remote.remote_connection DEBUG    Finished Request\n",
      "2021-07-11 12:30:49,794 selenium.webdriver.remote.remote_connection DEBUG    POST http://127.0.0.1:65229/session/317acd8cb3050afc69c0aca8e80da469/element/d979f811-de84-4af3-ba54-c237bc6a122d/click {\"id\": \"d979f811-de84-4af3-ba54-c237bc6a122d\"}\n",
      "2021-07-11 12:30:49,828 selenium.webdriver.remote.remote_connection DEBUG    Finished Request\n",
      "2021-07-11 12:30:49,829 selenium.webdriver.remote.remote_connection DEBUG    GET http://127.0.0.1:65229/session/317acd8cb3050afc69c0aca8e80da469/element/59479240-8da4-4645-a16a-a36bfde18970/text {\"id\": \"59479240-8da4-4645-a16a-a36bfde18970\"}\n",
      "2021-07-11 12:30:49,844 selenium.webdriver.remote.remote_connection DEBUG    Finished Request\n",
      "2021-07-11 12:30:49,845 selenium.webdriver.remote.remote_connection DEBUG    GET http://127.0.0.1:65229/session/317acd8cb3050afc69c0aca8e80da469/element/59479240-8da4-4645-a16a-a36bfde18970/text {\"id\": \"59479240-8da4-4645-a16a-a36bfde18970\"}\n",
      "2021-07-11 12:30:49,853 selenium.webdriver.remote.remote_connection DEBUG    Finished Request\n",
      "2021-07-11 12:30:49,855 selenium.webdriver.remote.remote_connection DEBUG    GET http://127.0.0.1:65229/session/317acd8cb3050afc69c0aca8e80da469/element/59479240-8da4-4645-a16a-a36bfde18970/text {\"id\": \"59479240-8da4-4645-a16a-a36bfde18970\"}\n",
      "2021-07-11 12:30:49,863 selenium.webdriver.remote.remote_connection DEBUG    Finished Request\n",
      "2021-07-11 12:30:49,864 selenium.webdriver.remote.remote_connection DEBUG    POST http://127.0.0.1:65229/session/317acd8cb3050afc69c0aca8e80da469/element/aeb6ac0a-4677-4abf-ae55-8a74bd4f843a/elements {\"using\": \"xpath\", \"value\": \".//option[normalize-space(.) = \\\"Forester MBS\\\"]\", \"id\": \"aeb6ac0a-4677-4abf-ae55-8a74bd4f843a\"}\n",
      "2021-07-11 12:30:49,883 selenium.webdriver.remote.remote_connection DEBUG    Finished Request\n",
      "2021-07-11 12:30:49,884 selenium.webdriver.remote.remote_connection DEBUG    GET http://127.0.0.1:65229/session/317acd8cb3050afc69c0aca8e80da469/element/59479240-8da4-4645-a16a-a36bfde18970/selected {\"id\": \"59479240-8da4-4645-a16a-a36bfde18970\"}\n",
      "2021-07-11 12:30:49,896 selenium.webdriver.remote.remote_connection DEBUG    Finished Request\n",
      "2021-07-11 12:30:49,897 selenium.webdriver.remote.remote_connection DEBUG    POST http://127.0.0.1:65229/session/317acd8cb3050afc69c0aca8e80da469/element/59479240-8da4-4645-a16a-a36bfde18970/click {\"id\": \"59479240-8da4-4645-a16a-a36bfde18970\"}\n",
      "2021-07-11 12:30:49,926 selenium.webdriver.remote.remote_connection DEBUG    Finished Request\n",
      "2021-07-11 12:30:49,928 selenium.webdriver.remote.remote_connection DEBUG    GET http://127.0.0.1:65229/session/317acd8cb3050afc69c0aca8e80da469/element/2013c0f8-c4d0-44af-a7a1-8173a9b641f0/text {\"id\": \"2013c0f8-c4d0-44af-a7a1-8173a9b641f0\"}\n"
     ]
    },
    {
     "name": "stdout",
     "output_type": "stream",
     "text": [
      "Forester LE\n",
      "Forester MBS\n"
     ]
    },
    {
     "name": "stderr",
     "output_type": "stream",
     "text": [
      "2021-07-11 12:30:49,942 selenium.webdriver.remote.remote_connection DEBUG    Finished Request\n",
      "2021-07-11 12:30:49,943 selenium.webdriver.remote.remote_connection DEBUG    GET http://127.0.0.1:65229/session/317acd8cb3050afc69c0aca8e80da469/element/2013c0f8-c4d0-44af-a7a1-8173a9b641f0/text {\"id\": \"2013c0f8-c4d0-44af-a7a1-8173a9b641f0\"}\n",
      "2021-07-11 12:30:49,952 selenium.webdriver.remote.remote_connection DEBUG    Finished Request\n",
      "2021-07-11 12:30:49,953 selenium.webdriver.remote.remote_connection DEBUG    GET http://127.0.0.1:65229/session/317acd8cb3050afc69c0aca8e80da469/element/2013c0f8-c4d0-44af-a7a1-8173a9b641f0/text {\"id\": \"2013c0f8-c4d0-44af-a7a1-8173a9b641f0\"}\n",
      "2021-07-11 12:30:49,962 selenium.webdriver.remote.remote_connection DEBUG    Finished Request\n",
      "2021-07-11 12:30:49,964 selenium.webdriver.remote.remote_connection DEBUG    POST http://127.0.0.1:65229/session/317acd8cb3050afc69c0aca8e80da469/element/aeb6ac0a-4677-4abf-ae55-8a74bd4f843a/elements {\"using\": \"xpath\", \"value\": \".//option[normalize-space(.) = \\\"Forester TS\\\"]\", \"id\": \"aeb6ac0a-4677-4abf-ae55-8a74bd4f843a\"}\n",
      "2021-07-11 12:30:49,977 selenium.webdriver.remote.remote_connection DEBUG    Finished Request\n",
      "2021-07-11 12:30:49,979 selenium.webdriver.remote.remote_connection DEBUG    GET http://127.0.0.1:65229/session/317acd8cb3050afc69c0aca8e80da469/element/2013c0f8-c4d0-44af-a7a1-8173a9b641f0/selected {\"id\": \"2013c0f8-c4d0-44af-a7a1-8173a9b641f0\"}\n",
      "2021-07-11 12:30:49,990 selenium.webdriver.remote.remote_connection DEBUG    Finished Request\n",
      "2021-07-11 12:30:49,992 selenium.webdriver.remote.remote_connection DEBUG    POST http://127.0.0.1:65229/session/317acd8cb3050afc69c0aca8e80da469/element/2013c0f8-c4d0-44af-a7a1-8173a9b641f0/click {\"id\": \"2013c0f8-c4d0-44af-a7a1-8173a9b641f0\"}\n",
      "2021-07-11 12:30:50,014 selenium.webdriver.remote.remote_connection DEBUG    Finished Request\n",
      "2021-07-11 12:30:50,015 selenium.webdriver.remote.remote_connection DEBUG    GET http://127.0.0.1:65229/session/317acd8cb3050afc69c0aca8e80da469/element/313716b8-9d73-49cc-b26e-5dcb75cf8411/text {\"id\": \"313716b8-9d73-49cc-b26e-5dcb75cf8411\"}\n",
      "2021-07-11 12:30:50,028 selenium.webdriver.remote.remote_connection DEBUG    Finished Request\n",
      "2021-07-11 12:30:50,028 selenium.webdriver.remote.remote_connection DEBUG    GET http://127.0.0.1:65229/session/317acd8cb3050afc69c0aca8e80da469/element/313716b8-9d73-49cc-b26e-5dcb75cf8411/text {\"id\": \"313716b8-9d73-49cc-b26e-5dcb75cf8411\"}\n",
      "2021-07-11 12:30:50,037 selenium.webdriver.remote.remote_connection DEBUG    Finished Request\n",
      "2021-07-11 12:30:50,038 selenium.webdriver.remote.remote_connection DEBUG    GET http://127.0.0.1:65229/session/317acd8cb3050afc69c0aca8e80da469/element/313716b8-9d73-49cc-b26e-5dcb75cf8411/text {\"id\": \"313716b8-9d73-49cc-b26e-5dcb75cf8411\"}\n",
      "2021-07-11 12:30:50,045 selenium.webdriver.remote.remote_connection DEBUG    Finished Request\n",
      "2021-07-11 12:30:50,046 selenium.webdriver.remote.remote_connection DEBUG    POST http://127.0.0.1:65229/session/317acd8cb3050afc69c0aca8e80da469/element/aeb6ac0a-4677-4abf-ae55-8a74bd4f843a/elements {\"using\": \"xpath\", \"value\": \".//option[normalize-space(.) = \\\"FR3\\\"]\", \"id\": \"aeb6ac0a-4677-4abf-ae55-8a74bd4f843a\"}\n",
      "2021-07-11 12:30:50,060 selenium.webdriver.remote.remote_connection DEBUG    Finished Request\n",
      "2021-07-11 12:30:50,060 selenium.webdriver.remote.remote_connection DEBUG    GET http://127.0.0.1:65229/session/317acd8cb3050afc69c0aca8e80da469/element/313716b8-9d73-49cc-b26e-5dcb75cf8411/selected {\"id\": \"313716b8-9d73-49cc-b26e-5dcb75cf8411\"}\n",
      "2021-07-11 12:30:50,071 selenium.webdriver.remote.remote_connection DEBUG    Finished Request\n",
      "2021-07-11 12:30:50,072 selenium.webdriver.remote.remote_connection DEBUG    POST http://127.0.0.1:65229/session/317acd8cb3050afc69c0aca8e80da469/element/313716b8-9d73-49cc-b26e-5dcb75cf8411/click {\"id\": \"313716b8-9d73-49cc-b26e-5dcb75cf8411\"}\n",
      "2021-07-11 12:30:50,112 selenium.webdriver.remote.remote_connection DEBUG    Finished Request\n",
      "2021-07-11 12:30:50,113 selenium.webdriver.remote.remote_connection DEBUG    GET http://127.0.0.1:65229/session/317acd8cb3050afc69c0aca8e80da469/element/ca2b225f-5d17-4563-ad63-fc322bf4e899/text {\"id\": \"ca2b225f-5d17-4563-ad63-fc322bf4e899\"}\n",
      "2021-07-11 12:30:50,125 selenium.webdriver.remote.remote_connection DEBUG    Finished Request\n",
      "2021-07-11 12:30:50,126 selenium.webdriver.remote.remote_connection DEBUG    GET http://127.0.0.1:65229/session/317acd8cb3050afc69c0aca8e80da469/element/ca2b225f-5d17-4563-ad63-fc322bf4e899/text {\"id\": \"ca2b225f-5d17-4563-ad63-fc322bf4e899\"}\n",
      "2021-07-11 12:30:50,134 selenium.webdriver.remote.remote_connection DEBUG    Finished Request\n"
     ]
    },
    {
     "name": "stdout",
     "output_type": "stream",
     "text": [
      "Forester TS\n",
      "FR3\n"
     ]
    },
    {
     "name": "stderr",
     "output_type": "stream",
     "text": [
      "2021-07-11 12:30:50,137 selenium.webdriver.remote.remote_connection DEBUG    GET http://127.0.0.1:65229/session/317acd8cb3050afc69c0aca8e80da469/element/ca2b225f-5d17-4563-ad63-fc322bf4e899/text {\"id\": \"ca2b225f-5d17-4563-ad63-fc322bf4e899\"}\n",
      "2021-07-11 12:30:50,145 selenium.webdriver.remote.remote_connection DEBUG    Finished Request\n",
      "2021-07-11 12:30:50,147 selenium.webdriver.remote.remote_connection DEBUG    POST http://127.0.0.1:65229/session/317acd8cb3050afc69c0aca8e80da469/element/aeb6ac0a-4677-4abf-ae55-8a74bd4f843a/elements {\"using\": \"xpath\", \"value\": \".//option[normalize-space(.) = \\\"Georgetown 3 Series GT3\\\"]\", \"id\": \"aeb6ac0a-4677-4abf-ae55-8a74bd4f843a\"}\n",
      "2021-07-11 12:30:50,164 selenium.webdriver.remote.remote_connection DEBUG    Finished Request\n",
      "2021-07-11 12:30:50,165 selenium.webdriver.remote.remote_connection DEBUG    GET http://127.0.0.1:65229/session/317acd8cb3050afc69c0aca8e80da469/element/ca2b225f-5d17-4563-ad63-fc322bf4e899/selected {\"id\": \"ca2b225f-5d17-4563-ad63-fc322bf4e899\"}\n",
      "2021-07-11 12:30:50,180 selenium.webdriver.remote.remote_connection DEBUG    Finished Request\n",
      "2021-07-11 12:30:50,182 selenium.webdriver.remote.remote_connection DEBUG    POST http://127.0.0.1:65229/session/317acd8cb3050afc69c0aca8e80da469/element/ca2b225f-5d17-4563-ad63-fc322bf4e899/click {\"id\": \"ca2b225f-5d17-4563-ad63-fc322bf4e899\"}\n",
      "2021-07-11 12:30:50,208 selenium.webdriver.remote.remote_connection DEBUG    Finished Request\n",
      "2021-07-11 12:30:50,211 selenium.webdriver.remote.remote_connection DEBUG    GET http://127.0.0.1:65229/session/317acd8cb3050afc69c0aca8e80da469/element/2b566f7b-eb1a-4002-8b59-44fd5acc93cf/text {\"id\": \"2b566f7b-eb1a-4002-8b59-44fd5acc93cf\"}\n",
      "2021-07-11 12:30:50,227 selenium.webdriver.remote.remote_connection DEBUG    Finished Request\n",
      "2021-07-11 12:30:50,229 selenium.webdriver.remote.remote_connection DEBUG    GET http://127.0.0.1:65229/session/317acd8cb3050afc69c0aca8e80da469/element/2b566f7b-eb1a-4002-8b59-44fd5acc93cf/text {\"id\": \"2b566f7b-eb1a-4002-8b59-44fd5acc93cf\"}\n",
      "2021-07-11 12:30:50,245 selenium.webdriver.remote.remote_connection DEBUG    Finished Request\n",
      "2021-07-11 12:30:50,247 selenium.webdriver.remote.remote_connection DEBUG    GET http://127.0.0.1:65229/session/317acd8cb3050afc69c0aca8e80da469/element/2b566f7b-eb1a-4002-8b59-44fd5acc93cf/text {\"id\": \"2b566f7b-eb1a-4002-8b59-44fd5acc93cf\"}\n",
      "2021-07-11 12:30:50,263 selenium.webdriver.remote.remote_connection DEBUG    Finished Request\n",
      "2021-07-11 12:30:50,264 selenium.webdriver.remote.remote_connection DEBUG    POST http://127.0.0.1:65229/session/317acd8cb3050afc69c0aca8e80da469/element/aeb6ac0a-4677-4abf-ae55-8a74bd4f843a/elements {\"using\": \"xpath\", \"value\": \".//option[normalize-space(.) = \\\"Georgetown 5 Series GT5\\\"]\", \"id\": \"aeb6ac0a-4677-4abf-ae55-8a74bd4f843a\"}\n",
      "2021-07-11 12:30:50,292 selenium.webdriver.remote.remote_connection DEBUG    Finished Request\n",
      "2021-07-11 12:30:50,293 selenium.webdriver.remote.remote_connection DEBUG    GET http://127.0.0.1:65229/session/317acd8cb3050afc69c0aca8e80da469/element/2b566f7b-eb1a-4002-8b59-44fd5acc93cf/selected {\"id\": \"2b566f7b-eb1a-4002-8b59-44fd5acc93cf\"}\n",
      "2021-07-11 12:30:50,313 selenium.webdriver.remote.remote_connection DEBUG    Finished Request\n",
      "2021-07-11 12:30:50,315 selenium.webdriver.remote.remote_connection DEBUG    POST http://127.0.0.1:65229/session/317acd8cb3050afc69c0aca8e80da469/element/2b566f7b-eb1a-4002-8b59-44fd5acc93cf/click {\"id\": \"2b566f7b-eb1a-4002-8b59-44fd5acc93cf\"}\n",
      "2021-07-11 12:30:50,354 selenium.webdriver.remote.remote_connection DEBUG    Finished Request\n"
     ]
    },
    {
     "name": "stdout",
     "output_type": "stream",
     "text": [
      "Georgetown 3 Series GT3\n",
      "Georgetown 5 Series GT5\n"
     ]
    },
    {
     "name": "stderr",
     "output_type": "stream",
     "text": [
      "2021-07-11 12:30:50,355 selenium.webdriver.remote.remote_connection DEBUG    GET http://127.0.0.1:65229/session/317acd8cb3050afc69c0aca8e80da469/element/d4790823-2050-46bc-995e-708f0d144173/text {\"id\": \"d4790823-2050-46bc-995e-708f0d144173\"}\n",
      "2021-07-11 12:30:50,374 selenium.webdriver.remote.remote_connection DEBUG    Finished Request\n",
      "2021-07-11 12:30:50,375 selenium.webdriver.remote.remote_connection DEBUG    GET http://127.0.0.1:65229/session/317acd8cb3050afc69c0aca8e80da469/element/d4790823-2050-46bc-995e-708f0d144173/text {\"id\": \"d4790823-2050-46bc-995e-708f0d144173\"}\n",
      "2021-07-11 12:30:50,391 selenium.webdriver.remote.remote_connection DEBUG    Finished Request\n",
      "2021-07-11 12:30:50,393 selenium.webdriver.remote.remote_connection DEBUG    GET http://127.0.0.1:65229/session/317acd8cb3050afc69c0aca8e80da469/element/d4790823-2050-46bc-995e-708f0d144173/text {\"id\": \"d4790823-2050-46bc-995e-708f0d144173\"}\n",
      "2021-07-11 12:30:50,408 selenium.webdriver.remote.remote_connection DEBUG    Finished Request\n",
      "2021-07-11 12:30:50,410 selenium.webdriver.remote.remote_connection DEBUG    POST http://127.0.0.1:65229/session/317acd8cb3050afc69c0aca8e80da469/element/aeb6ac0a-4677-4abf-ae55-8a74bd4f843a/elements {\"using\": \"xpath\", \"value\": \".//option[normalize-space(.) = \\\"Georgetown 7 Series GT7\\\"]\", \"id\": \"aeb6ac0a-4677-4abf-ae55-8a74bd4f843a\"}\n",
      "2021-07-11 12:30:50,427 selenium.webdriver.remote.remote_connection DEBUG    Finished Request\n",
      "2021-07-11 12:30:50,428 selenium.webdriver.remote.remote_connection DEBUG    GET http://127.0.0.1:65229/session/317acd8cb3050afc69c0aca8e80da469/element/d4790823-2050-46bc-995e-708f0d144173/selected {\"id\": \"d4790823-2050-46bc-995e-708f0d144173\"}\n",
      "2021-07-11 12:30:50,455 selenium.webdriver.remote.remote_connection DEBUG    Finished Request\n",
      "2021-07-11 12:30:50,457 selenium.webdriver.remote.remote_connection DEBUG    POST http://127.0.0.1:65229/session/317acd8cb3050afc69c0aca8e80da469/element/d4790823-2050-46bc-995e-708f0d144173/click {\"id\": \"d4790823-2050-46bc-995e-708f0d144173\"}\n",
      "2021-07-11 12:30:50,493 selenium.webdriver.remote.remote_connection DEBUG    Finished Request\n",
      "2021-07-11 12:30:50,494 selenium.webdriver.remote.remote_connection DEBUG    GET http://127.0.0.1:65229/session/317acd8cb3050afc69c0aca8e80da469/element/bd1803f8-04a3-46e8-9c93-2a36851c19b0/text {\"id\": \"bd1803f8-04a3-46e8-9c93-2a36851c19b0\"}\n",
      "2021-07-11 12:30:50,510 selenium.webdriver.remote.remote_connection DEBUG    Finished Request\n",
      "2021-07-11 12:30:50,511 selenium.webdriver.remote.remote_connection DEBUG    GET http://127.0.0.1:65229/session/317acd8cb3050afc69c0aca8e80da469/element/bd1803f8-04a3-46e8-9c93-2a36851c19b0/text {\"id\": \"bd1803f8-04a3-46e8-9c93-2a36851c19b0\"}\n",
      "2021-07-11 12:30:50,524 selenium.webdriver.remote.remote_connection DEBUG    Finished Request\n",
      "2021-07-11 12:30:50,525 selenium.webdriver.remote.remote_connection DEBUG    GET http://127.0.0.1:65229/session/317acd8cb3050afc69c0aca8e80da469/element/bd1803f8-04a3-46e8-9c93-2a36851c19b0/text {\"id\": \"bd1803f8-04a3-46e8-9c93-2a36851c19b0\"}\n",
      "2021-07-11 12:30:50,536 selenium.webdriver.remote.remote_connection DEBUG    Finished Request\n",
      "2021-07-11 12:30:50,537 selenium.webdriver.remote.remote_connection DEBUG    POST http://127.0.0.1:65229/session/317acd8cb3050afc69c0aca8e80da469/element/aeb6ac0a-4677-4abf-ae55-8a74bd4f843a/elements {\"using\": \"xpath\", \"value\": \".//option[normalize-space(.) = \\\"Grand Surveyor\\\"]\", \"id\": \"aeb6ac0a-4677-4abf-ae55-8a74bd4f843a\"}\n",
      "2021-07-11 12:30:50,551 selenium.webdriver.remote.remote_connection DEBUG    Finished Request\n",
      "2021-07-11 12:30:50,552 selenium.webdriver.remote.remote_connection DEBUG    GET http://127.0.0.1:65229/session/317acd8cb3050afc69c0aca8e80da469/element/bd1803f8-04a3-46e8-9c93-2a36851c19b0/selected {\"id\": \"bd1803f8-04a3-46e8-9c93-2a36851c19b0\"}\n",
      "2021-07-11 12:30:50,564 selenium.webdriver.remote.remote_connection DEBUG    Finished Request\n",
      "2021-07-11 12:30:50,567 selenium.webdriver.remote.remote_connection DEBUG    POST http://127.0.0.1:65229/session/317acd8cb3050afc69c0aca8e80da469/element/bd1803f8-04a3-46e8-9c93-2a36851c19b0/click {\"id\": \"bd1803f8-04a3-46e8-9c93-2a36851c19b0\"}\n"
     ]
    },
    {
     "name": "stdout",
     "output_type": "stream",
     "text": [
      "Georgetown 7 Series GT7\n",
      "Grand Surveyor\n"
     ]
    },
    {
     "name": "stderr",
     "output_type": "stream",
     "text": [
      "2021-07-11 12:30:50,593 selenium.webdriver.remote.remote_connection DEBUG    Finished Request\n",
      "2021-07-11 12:30:50,594 selenium.webdriver.remote.remote_connection DEBUG    GET http://127.0.0.1:65229/session/317acd8cb3050afc69c0aca8e80da469/element/c12f9155-2247-44bc-b131-b4e718e4f35a/text {\"id\": \"c12f9155-2247-44bc-b131-b4e718e4f35a\"}\n",
      "2021-07-11 12:30:50,609 selenium.webdriver.remote.remote_connection DEBUG    Finished Request\n",
      "2021-07-11 12:30:50,610 selenium.webdriver.remote.remote_connection DEBUG    GET http://127.0.0.1:65229/session/317acd8cb3050afc69c0aca8e80da469/element/c12f9155-2247-44bc-b131-b4e718e4f35a/text {\"id\": \"c12f9155-2247-44bc-b131-b4e718e4f35a\"}\n",
      "2021-07-11 12:30:50,618 selenium.webdriver.remote.remote_connection DEBUG    Finished Request\n",
      "2021-07-11 12:30:50,620 selenium.webdriver.remote.remote_connection DEBUG    GET http://127.0.0.1:65229/session/317acd8cb3050afc69c0aca8e80da469/element/c12f9155-2247-44bc-b131-b4e718e4f35a/text {\"id\": \"c12f9155-2247-44bc-b131-b4e718e4f35a\"}\n",
      "2021-07-11 12:30:50,629 selenium.webdriver.remote.remote_connection DEBUG    Finished Request\n",
      "2021-07-11 12:30:50,630 selenium.webdriver.remote.remote_connection DEBUG    POST http://127.0.0.1:65229/session/317acd8cb3050afc69c0aca8e80da469/element/aeb6ac0a-4677-4abf-ae55-8a74bd4f843a/elements {\"using\": \"xpath\", \"value\": \".//option[normalize-space(.) = \\\"Grey Wolf\\\"]\", \"id\": \"aeb6ac0a-4677-4abf-ae55-8a74bd4f843a\"}\n",
      "2021-07-11 12:30:50,646 selenium.webdriver.remote.remote_connection DEBUG    Finished Request\n",
      "2021-07-11 12:30:50,648 selenium.webdriver.remote.remote_connection DEBUG    GET http://127.0.0.1:65229/session/317acd8cb3050afc69c0aca8e80da469/element/c12f9155-2247-44bc-b131-b4e718e4f35a/selected {\"id\": \"c12f9155-2247-44bc-b131-b4e718e4f35a\"}\n",
      "2021-07-11 12:30:50,662 selenium.webdriver.remote.remote_connection DEBUG    Finished Request\n",
      "2021-07-11 12:30:50,663 selenium.webdriver.remote.remote_connection DEBUG    POST http://127.0.0.1:65229/session/317acd8cb3050afc69c0aca8e80da469/element/c12f9155-2247-44bc-b131-b4e718e4f35a/click {\"id\": \"c12f9155-2247-44bc-b131-b4e718e4f35a\"}\n",
      "2021-07-11 12:30:50,692 selenium.webdriver.remote.remote_connection DEBUG    Finished Request\n",
      "2021-07-11 12:30:50,693 selenium.webdriver.remote.remote_connection DEBUG    GET http://127.0.0.1:65229/session/317acd8cb3050afc69c0aca8e80da469/element/4a5a3dcd-ad07-4445-9da3-fd113412e3ad/text {\"id\": \"4a5a3dcd-ad07-4445-9da3-fd113412e3ad\"}\n",
      "2021-07-11 12:30:50,708 selenium.webdriver.remote.remote_connection DEBUG    Finished Request\n",
      "2021-07-11 12:30:50,710 selenium.webdriver.remote.remote_connection DEBUG    GET http://127.0.0.1:65229/session/317acd8cb3050afc69c0aca8e80da469/element/4a5a3dcd-ad07-4445-9da3-fd113412e3ad/text {\"id\": \"4a5a3dcd-ad07-4445-9da3-fd113412e3ad\"}\n",
      "2021-07-11 12:30:50,719 selenium.webdriver.remote.remote_connection DEBUG    Finished Request\n",
      "2021-07-11 12:30:50,721 selenium.webdriver.remote.remote_connection DEBUG    GET http://127.0.0.1:65229/session/317acd8cb3050afc69c0aca8e80da469/element/4a5a3dcd-ad07-4445-9da3-fd113412e3ad/text {\"id\": \"4a5a3dcd-ad07-4445-9da3-fd113412e3ad\"}\n",
      "2021-07-11 12:30:50,730 selenium.webdriver.remote.remote_connection DEBUG    Finished Request\n",
      "2021-07-11 12:30:50,732 selenium.webdriver.remote.remote_connection DEBUG    POST http://127.0.0.1:65229/session/317acd8cb3050afc69c0aca8e80da469/element/aeb6ac0a-4677-4abf-ae55-8a74bd4f843a/elements {\"using\": \"xpath\", \"value\": \".//option[normalize-space(.) = \\\"Grey Wolf Fish House\\\"]\", \"id\": \"aeb6ac0a-4677-4abf-ae55-8a74bd4f843a\"}\n",
      "2021-07-11 12:30:50,750 selenium.webdriver.remote.remote_connection DEBUG    Finished Request\n",
      "2021-07-11 12:30:50,752 selenium.webdriver.remote.remote_connection DEBUG    GET http://127.0.0.1:65229/session/317acd8cb3050afc69c0aca8e80da469/element/4a5a3dcd-ad07-4445-9da3-fd113412e3ad/selected {\"id\": \"4a5a3dcd-ad07-4445-9da3-fd113412e3ad\"}\n",
      "2021-07-11 12:30:50,763 selenium.webdriver.remote.remote_connection DEBUG    Finished Request\n",
      "2021-07-11 12:30:50,764 selenium.webdriver.remote.remote_connection DEBUG    POST http://127.0.0.1:65229/session/317acd8cb3050afc69c0aca8e80da469/element/4a5a3dcd-ad07-4445-9da3-fd113412e3ad/click {\"id\": \"4a5a3dcd-ad07-4445-9da3-fd113412e3ad\"}\n",
      "2021-07-11 12:30:50,793 selenium.webdriver.remote.remote_connection DEBUG    Finished Request\n"
     ]
    },
    {
     "name": "stdout",
     "output_type": "stream",
     "text": [
      "Grey Wolf\n",
      "Grey Wolf Fish House\n"
     ]
    },
    {
     "name": "stderr",
     "output_type": "stream",
     "text": [
      "2021-07-11 12:30:50,794 selenium.webdriver.remote.remote_connection DEBUG    GET http://127.0.0.1:65229/session/317acd8cb3050afc69c0aca8e80da469/element/2bf15491-5618-4218-a3fc-febb856ca42a/text {\"id\": \"2bf15491-5618-4218-a3fc-febb856ca42a\"}\n",
      "2021-07-11 12:30:50,809 selenium.webdriver.remote.remote_connection DEBUG    Finished Request\n",
      "2021-07-11 12:30:50,810 selenium.webdriver.remote.remote_connection DEBUG    GET http://127.0.0.1:65229/session/317acd8cb3050afc69c0aca8e80da469/element/2bf15491-5618-4218-a3fc-febb856ca42a/text {\"id\": \"2bf15491-5618-4218-a3fc-febb856ca42a\"}\n",
      "2021-07-11 12:30:50,818 selenium.webdriver.remote.remote_connection DEBUG    Finished Request\n",
      "2021-07-11 12:30:50,820 selenium.webdriver.remote.remote_connection DEBUG    GET http://127.0.0.1:65229/session/317acd8cb3050afc69c0aca8e80da469/element/2bf15491-5618-4218-a3fc-febb856ca42a/text {\"id\": \"2bf15491-5618-4218-a3fc-febb856ca42a\"}\n",
      "2021-07-11 12:30:50,828 selenium.webdriver.remote.remote_connection DEBUG    Finished Request\n",
      "2021-07-11 12:30:50,830 selenium.webdriver.remote.remote_connection DEBUG    POST http://127.0.0.1:65229/session/317acd8cb3050afc69c0aca8e80da469/element/aeb6ac0a-4677-4abf-ae55-8a74bd4f843a/elements {\"using\": \"xpath\", \"value\": \".//option[normalize-space(.) = \\\"Hemisphere\\\"]\", \"id\": \"aeb6ac0a-4677-4abf-ae55-8a74bd4f843a\"}\n",
      "2021-07-11 12:30:50,843 selenium.webdriver.remote.remote_connection DEBUG    Finished Request\n",
      "2021-07-11 12:30:50,844 selenium.webdriver.remote.remote_connection DEBUG    GET http://127.0.0.1:65229/session/317acd8cb3050afc69c0aca8e80da469/element/2bf15491-5618-4218-a3fc-febb856ca42a/selected {\"id\": \"2bf15491-5618-4218-a3fc-febb856ca42a\"}\n",
      "2021-07-11 12:30:50,854 selenium.webdriver.remote.remote_connection DEBUG    Finished Request\n",
      "2021-07-11 12:30:50,856 selenium.webdriver.remote.remote_connection DEBUG    POST http://127.0.0.1:65229/session/317acd8cb3050afc69c0aca8e80da469/element/2bf15491-5618-4218-a3fc-febb856ca42a/click {\"id\": \"2bf15491-5618-4218-a3fc-febb856ca42a\"}\n",
      "2021-07-11 12:30:50,885 selenium.webdriver.remote.remote_connection DEBUG    Finished Request\n",
      "2021-07-11 12:30:50,886 selenium.webdriver.remote.remote_connection DEBUG    GET http://127.0.0.1:65229/session/317acd8cb3050afc69c0aca8e80da469/element/5d8230bc-a7c5-4fd4-9bfb-a1d7829975b2/text {\"id\": \"5d8230bc-a7c5-4fd4-9bfb-a1d7829975b2\"}\n",
      "2021-07-11 12:30:50,898 selenium.webdriver.remote.remote_connection DEBUG    Finished Request\n",
      "2021-07-11 12:30:50,900 selenium.webdriver.remote.remote_connection DEBUG    GET http://127.0.0.1:65229/session/317acd8cb3050afc69c0aca8e80da469/element/5d8230bc-a7c5-4fd4-9bfb-a1d7829975b2/text {\"id\": \"5d8230bc-a7c5-4fd4-9bfb-a1d7829975b2\"}\n",
      "2021-07-11 12:30:50,909 selenium.webdriver.remote.remote_connection DEBUG    Finished Request\n",
      "2021-07-11 12:30:50,909 selenium.webdriver.remote.remote_connection DEBUG    GET http://127.0.0.1:65229/session/317acd8cb3050afc69c0aca8e80da469/element/5d8230bc-a7c5-4fd4-9bfb-a1d7829975b2/text {\"id\": \"5d8230bc-a7c5-4fd4-9bfb-a1d7829975b2\"}\n",
      "2021-07-11 12:30:50,918 selenium.webdriver.remote.remote_connection DEBUG    Finished Request\n",
      "2021-07-11 12:30:50,920 selenium.webdriver.remote.remote_connection DEBUG    POST http://127.0.0.1:65229/session/317acd8cb3050afc69c0aca8e80da469/element/aeb6ac0a-4677-4abf-ae55-8a74bd4f843a/elements {\"using\": \"xpath\", \"value\": \".//option[normalize-space(.) = \\\"Hemisphere Elite\\\"]\", \"id\": \"aeb6ac0a-4677-4abf-ae55-8a74bd4f843a\"}\n",
      "2021-07-11 12:30:50,933 selenium.webdriver.remote.remote_connection DEBUG    Finished Request\n",
      "2021-07-11 12:30:50,934 selenium.webdriver.remote.remote_connection DEBUG    GET http://127.0.0.1:65229/session/317acd8cb3050afc69c0aca8e80da469/element/5d8230bc-a7c5-4fd4-9bfb-a1d7829975b2/selected {\"id\": \"5d8230bc-a7c5-4fd4-9bfb-a1d7829975b2\"}\n",
      "2021-07-11 12:30:50,945 selenium.webdriver.remote.remote_connection DEBUG    Finished Request\n",
      "2021-07-11 12:30:50,947 selenium.webdriver.remote.remote_connection DEBUG    POST http://127.0.0.1:65229/session/317acd8cb3050afc69c0aca8e80da469/element/5d8230bc-a7c5-4fd4-9bfb-a1d7829975b2/click {\"id\": \"5d8230bc-a7c5-4fd4-9bfb-a1d7829975b2\"}\n",
      "2021-07-11 12:30:50,973 selenium.webdriver.remote.remote_connection DEBUG    Finished Request\n",
      "2021-07-11 12:30:50,975 selenium.webdriver.remote.remote_connection DEBUG    GET http://127.0.0.1:65229/session/317acd8cb3050afc69c0aca8e80da469/element/48650fa4-7703-4eaa-be05-606c2458e5af/text {\"id\": \"48650fa4-7703-4eaa-be05-606c2458e5af\"}\n",
      "2021-07-11 12:30:50,989 selenium.webdriver.remote.remote_connection DEBUG    Finished Request\n",
      "2021-07-11 12:30:50,991 selenium.webdriver.remote.remote_connection DEBUG    GET http://127.0.0.1:65229/session/317acd8cb3050afc69c0aca8e80da469/element/48650fa4-7703-4eaa-be05-606c2458e5af/text {\"id\": \"48650fa4-7703-4eaa-be05-606c2458e5af\"}\n",
      "2021-07-11 12:30:51,000 selenium.webdriver.remote.remote_connection DEBUG    Finished Request\n"
     ]
    },
    {
     "name": "stdout",
     "output_type": "stream",
     "text": [
      "Hemisphere\n",
      "Hemisphere Elite\n"
     ]
    },
    {
     "name": "stderr",
     "output_type": "stream",
     "text": [
      "2021-07-11 12:30:51,001 selenium.webdriver.remote.remote_connection DEBUG    GET http://127.0.0.1:65229/session/317acd8cb3050afc69c0aca8e80da469/element/48650fa4-7703-4eaa-be05-606c2458e5af/text {\"id\": \"48650fa4-7703-4eaa-be05-606c2458e5af\"}\n",
      "2021-07-11 12:30:51,012 selenium.webdriver.remote.remote_connection DEBUG    Finished Request\n",
      "2021-07-11 12:30:51,013 selenium.webdriver.remote.remote_connection DEBUG    POST http://127.0.0.1:65229/session/317acd8cb3050afc69c0aca8e80da469/element/aeb6ac0a-4677-4abf-ae55-8a74bd4f843a/elements {\"using\": \"xpath\", \"value\": \".//option[normalize-space(.) = \\\"Hemisphere Hyper-Lyte\\\"]\", \"id\": \"aeb6ac0a-4677-4abf-ae55-8a74bd4f843a\"}\n",
      "2021-07-11 12:30:51,027 selenium.webdriver.remote.remote_connection DEBUG    Finished Request\n",
      "2021-07-11 12:30:51,028 selenium.webdriver.remote.remote_connection DEBUG    GET http://127.0.0.1:65229/session/317acd8cb3050afc69c0aca8e80da469/element/48650fa4-7703-4eaa-be05-606c2458e5af/selected {\"id\": \"48650fa4-7703-4eaa-be05-606c2458e5af\"}\n",
      "2021-07-11 12:30:51,039 selenium.webdriver.remote.remote_connection DEBUG    Finished Request\n",
      "2021-07-11 12:30:51,041 selenium.webdriver.remote.remote_connection DEBUG    POST http://127.0.0.1:65229/session/317acd8cb3050afc69c0aca8e80da469/element/48650fa4-7703-4eaa-be05-606c2458e5af/click {\"id\": \"48650fa4-7703-4eaa-be05-606c2458e5af\"}\n",
      "2021-07-11 12:30:51,074 selenium.webdriver.remote.remote_connection DEBUG    Finished Request\n",
      "2021-07-11 12:30:51,075 selenium.webdriver.remote.remote_connection DEBUG    GET http://127.0.0.1:65229/session/317acd8cb3050afc69c0aca8e80da469/element/4c4be68a-5eec-468f-b897-58d43a70c7ef/text {\"id\": \"4c4be68a-5eec-468f-b897-58d43a70c7ef\"}\n",
      "2021-07-11 12:30:51,092 selenium.webdriver.remote.remote_connection DEBUG    Finished Request\n",
      "2021-07-11 12:30:51,093 selenium.webdriver.remote.remote_connection DEBUG    GET http://127.0.0.1:65229/session/317acd8cb3050afc69c0aca8e80da469/element/4c4be68a-5eec-468f-b897-58d43a70c7ef/text {\"id\": \"4c4be68a-5eec-468f-b897-58d43a70c7ef\"}\n",
      "2021-07-11 12:30:51,103 selenium.webdriver.remote.remote_connection DEBUG    Finished Request\n",
      "2021-07-11 12:30:51,104 selenium.webdriver.remote.remote_connection DEBUG    GET http://127.0.0.1:65229/session/317acd8cb3050afc69c0aca8e80da469/element/4c4be68a-5eec-468f-b897-58d43a70c7ef/text {\"id\": \"4c4be68a-5eec-468f-b897-58d43a70c7ef\"}\n",
      "2021-07-11 12:30:51,112 selenium.webdriver.remote.remote_connection DEBUG    Finished Request\n",
      "2021-07-11 12:30:51,114 selenium.webdriver.remote.remote_connection DEBUG    POST http://127.0.0.1:65229/session/317acd8cb3050afc69c0aca8e80da469/element/aeb6ac0a-4677-4abf-ae55-8a74bd4f843a/elements {\"using\": \"xpath\", \"value\": \".//option[normalize-space(.) = \\\"Heritage Glen\\\"]\", \"id\": \"aeb6ac0a-4677-4abf-ae55-8a74bd4f843a\"}\n",
      "2021-07-11 12:30:51,131 selenium.webdriver.remote.remote_connection DEBUG    Finished Request\n",
      "2021-07-11 12:30:51,133 selenium.webdriver.remote.remote_connection DEBUG    GET http://127.0.0.1:65229/session/317acd8cb3050afc69c0aca8e80da469/element/4c4be68a-5eec-468f-b897-58d43a70c7ef/selected {\"id\": \"4c4be68a-5eec-468f-b897-58d43a70c7ef\"}\n",
      "2021-07-11 12:30:51,147 selenium.webdriver.remote.remote_connection DEBUG    Finished Request\n",
      "2021-07-11 12:30:51,150 selenium.webdriver.remote.remote_connection DEBUG    POST http://127.0.0.1:65229/session/317acd8cb3050afc69c0aca8e80da469/element/4c4be68a-5eec-468f-b897-58d43a70c7ef/click {\"id\": \"4c4be68a-5eec-468f-b897-58d43a70c7ef\"}\n",
      "2021-07-11 12:30:51,177 selenium.webdriver.remote.remote_connection DEBUG    Finished Request\n",
      "2021-07-11 12:30:51,178 selenium.webdriver.remote.remote_connection DEBUG    GET http://127.0.0.1:65229/session/317acd8cb3050afc69c0aca8e80da469/element/8ff1e1ea-c2e2-4903-96fe-73437d1c635d/text {\"id\": \"8ff1e1ea-c2e2-4903-96fe-73437d1c635d\"}\n"
     ]
    },
    {
     "name": "stdout",
     "output_type": "stream",
     "text": [
      "Hemisphere Hyper-Lyte\n",
      "Heritage Glen\n"
     ]
    },
    {
     "name": "stderr",
     "output_type": "stream",
     "text": [
      "2021-07-11 12:30:51,196 selenium.webdriver.remote.remote_connection DEBUG    Finished Request\n",
      "2021-07-11 12:30:51,199 selenium.webdriver.remote.remote_connection DEBUG    GET http://127.0.0.1:65229/session/317acd8cb3050afc69c0aca8e80da469/element/8ff1e1ea-c2e2-4903-96fe-73437d1c635d/text {\"id\": \"8ff1e1ea-c2e2-4903-96fe-73437d1c635d\"}\n",
      "2021-07-11 12:30:51,207 selenium.webdriver.remote.remote_connection DEBUG    Finished Request\n",
      "2021-07-11 12:30:51,209 selenium.webdriver.remote.remote_connection DEBUG    GET http://127.0.0.1:65229/session/317acd8cb3050afc69c0aca8e80da469/element/8ff1e1ea-c2e2-4903-96fe-73437d1c635d/text {\"id\": \"8ff1e1ea-c2e2-4903-96fe-73437d1c635d\"}\n",
      "2021-07-11 12:30:51,219 selenium.webdriver.remote.remote_connection DEBUG    Finished Request\n",
      "2021-07-11 12:30:51,220 selenium.webdriver.remote.remote_connection DEBUG    POST http://127.0.0.1:65229/session/317acd8cb3050afc69c0aca8e80da469/element/aeb6ac0a-4677-4abf-ae55-8a74bd4f843a/elements {\"using\": \"xpath\", \"value\": \".//option[normalize-space(.) = \\\"Heritage Glen Elite\\\"]\", \"id\": \"aeb6ac0a-4677-4abf-ae55-8a74bd4f843a\"}\n",
      "2021-07-11 12:30:51,237 selenium.webdriver.remote.remote_connection DEBUG    Finished Request\n",
      "2021-07-11 12:30:51,238 selenium.webdriver.remote.remote_connection DEBUG    GET http://127.0.0.1:65229/session/317acd8cb3050afc69c0aca8e80da469/element/8ff1e1ea-c2e2-4903-96fe-73437d1c635d/selected {\"id\": \"8ff1e1ea-c2e2-4903-96fe-73437d1c635d\"}\n",
      "2021-07-11 12:30:51,250 selenium.webdriver.remote.remote_connection DEBUG    Finished Request\n",
      "2021-07-11 12:30:51,251 selenium.webdriver.remote.remote_connection DEBUG    POST http://127.0.0.1:65229/session/317acd8cb3050afc69c0aca8e80da469/element/8ff1e1ea-c2e2-4903-96fe-73437d1c635d/click {\"id\": \"8ff1e1ea-c2e2-4903-96fe-73437d1c635d\"}\n",
      "2021-07-11 12:30:51,277 selenium.webdriver.remote.remote_connection DEBUG    Finished Request\n",
      "2021-07-11 12:30:51,278 selenium.webdriver.remote.remote_connection DEBUG    GET http://127.0.0.1:65229/session/317acd8cb3050afc69c0aca8e80da469/element/3a6516a7-b54b-4882-b934-a69d44f0c7e4/text {\"id\": \"3a6516a7-b54b-4882-b934-a69d44f0c7e4\"}\n",
      "2021-07-11 12:30:51,292 selenium.webdriver.remote.remote_connection DEBUG    Finished Request\n",
      "2021-07-11 12:30:51,293 selenium.webdriver.remote.remote_connection DEBUG    GET http://127.0.0.1:65229/session/317acd8cb3050afc69c0aca8e80da469/element/3a6516a7-b54b-4882-b934-a69d44f0c7e4/text {\"id\": \"3a6516a7-b54b-4882-b934-a69d44f0c7e4\"}\n",
      "2021-07-11 12:30:51,301 selenium.webdriver.remote.remote_connection DEBUG    Finished Request\n",
      "2021-07-11 12:30:51,302 selenium.webdriver.remote.remote_connection DEBUG    GET http://127.0.0.1:65229/session/317acd8cb3050afc69c0aca8e80da469/element/3a6516a7-b54b-4882-b934-a69d44f0c7e4/text {\"id\": \"3a6516a7-b54b-4882-b934-a69d44f0c7e4\"}\n",
      "2021-07-11 12:30:51,311 selenium.webdriver.remote.remote_connection DEBUG    Finished Request\n",
      "2021-07-11 12:30:51,312 selenium.webdriver.remote.remote_connection DEBUG    POST http://127.0.0.1:65229/session/317acd8cb3050afc69c0aca8e80da469/element/aeb6ac0a-4677-4abf-ae55-8a74bd4f843a/elements {\"using\": \"xpath\", \"value\": \".//option[normalize-space(.) = \\\"Heritage Glen Hyper-Lyte\\\"]\", \"id\": \"aeb6ac0a-4677-4abf-ae55-8a74bd4f843a\"}\n",
      "2021-07-11 12:30:51,325 selenium.webdriver.remote.remote_connection DEBUG    Finished Request\n",
      "2021-07-11 12:30:51,326 selenium.webdriver.remote.remote_connection DEBUG    GET http://127.0.0.1:65229/session/317acd8cb3050afc69c0aca8e80da469/element/3a6516a7-b54b-4882-b934-a69d44f0c7e4/selected {\"id\": \"3a6516a7-b54b-4882-b934-a69d44f0c7e4\"}\n",
      "2021-07-11 12:30:51,336 selenium.webdriver.remote.remote_connection DEBUG    Finished Request\n",
      "2021-07-11 12:30:51,337 selenium.webdriver.remote.remote_connection DEBUG    POST http://127.0.0.1:65229/session/317acd8cb3050afc69c0aca8e80da469/element/3a6516a7-b54b-4882-b934-a69d44f0c7e4/click {\"id\": \"3a6516a7-b54b-4882-b934-a69d44f0c7e4\"}\n",
      "2021-07-11 12:30:51,360 selenium.webdriver.remote.remote_connection DEBUG    Finished Request\n",
      "2021-07-11 12:30:51,361 selenium.webdriver.remote.remote_connection DEBUG    GET http://127.0.0.1:65229/session/317acd8cb3050afc69c0aca8e80da469/element/e04b90e2-6667-4da5-a39a-712e30c3c3aa/text {\"id\": \"e04b90e2-6667-4da5-a39a-712e30c3c3aa\"}\n",
      "2021-07-11 12:30:51,375 selenium.webdriver.remote.remote_connection DEBUG    Finished Request\n",
      "2021-07-11 12:30:51,376 selenium.webdriver.remote.remote_connection DEBUG    GET http://127.0.0.1:65229/session/317acd8cb3050afc69c0aca8e80da469/element/e04b90e2-6667-4da5-a39a-712e30c3c3aa/text {\"id\": \"e04b90e2-6667-4da5-a39a-712e30c3c3aa\"}\n",
      "2021-07-11 12:30:51,384 selenium.webdriver.remote.remote_connection DEBUG    Finished Request\n",
      "2021-07-11 12:30:51,385 selenium.webdriver.remote.remote_connection DEBUG    GET http://127.0.0.1:65229/session/317acd8cb3050afc69c0aca8e80da469/element/e04b90e2-6667-4da5-a39a-712e30c3c3aa/text {\"id\": \"e04b90e2-6667-4da5-a39a-712e30c3c3aa\"}\n",
      "2021-07-11 12:30:51,393 selenium.webdriver.remote.remote_connection DEBUG    Finished Request\n"
     ]
    },
    {
     "name": "stdout",
     "output_type": "stream",
     "text": [
      "Heritage Glen Elite\n",
      "Heritage Glen Hyper-Lyte\n",
      "Ibex\n"
     ]
    },
    {
     "name": "stderr",
     "output_type": "stream",
     "text": [
      "2021-07-11 12:30:51,394 selenium.webdriver.remote.remote_connection DEBUG    POST http://127.0.0.1:65229/session/317acd8cb3050afc69c0aca8e80da469/element/aeb6ac0a-4677-4abf-ae55-8a74bd4f843a/elements {\"using\": \"xpath\", \"value\": \".//option[normalize-space(.) = \\\"Ibex\\\"]\", \"id\": \"aeb6ac0a-4677-4abf-ae55-8a74bd4f843a\"}\n",
      "2021-07-11 12:30:51,408 selenium.webdriver.remote.remote_connection DEBUG    Finished Request\n",
      "2021-07-11 12:30:51,409 selenium.webdriver.remote.remote_connection DEBUG    GET http://127.0.0.1:65229/session/317acd8cb3050afc69c0aca8e80da469/element/e04b90e2-6667-4da5-a39a-712e30c3c3aa/selected {\"id\": \"e04b90e2-6667-4da5-a39a-712e30c3c3aa\"}\n",
      "2021-07-11 12:30:51,418 selenium.webdriver.remote.remote_connection DEBUG    Finished Request\n",
      "2021-07-11 12:30:51,419 selenium.webdriver.remote.remote_connection DEBUG    POST http://127.0.0.1:65229/session/317acd8cb3050afc69c0aca8e80da469/element/e04b90e2-6667-4da5-a39a-712e30c3c3aa/click {\"id\": \"e04b90e2-6667-4da5-a39a-712e30c3c3aa\"}\n",
      "2021-07-11 12:30:51,444 selenium.webdriver.remote.remote_connection DEBUG    Finished Request\n",
      "2021-07-11 12:30:51,445 selenium.webdriver.remote.remote_connection DEBUG    GET http://127.0.0.1:65229/session/317acd8cb3050afc69c0aca8e80da469/element/dbe18af1-3e93-407a-8b71-e135bfca7ba5/text {\"id\": \"dbe18af1-3e93-407a-8b71-e135bfca7ba5\"}\n",
      "2021-07-11 12:30:51,459 selenium.webdriver.remote.remote_connection DEBUG    Finished Request\n",
      "2021-07-11 12:30:51,460 selenium.webdriver.remote.remote_connection DEBUG    GET http://127.0.0.1:65229/session/317acd8cb3050afc69c0aca8e80da469/element/dbe18af1-3e93-407a-8b71-e135bfca7ba5/text {\"id\": \"dbe18af1-3e93-407a-8b71-e135bfca7ba5\"}\n",
      "2021-07-11 12:30:51,469 selenium.webdriver.remote.remote_connection DEBUG    Finished Request\n",
      "2021-07-11 12:30:51,470 selenium.webdriver.remote.remote_connection DEBUG    GET http://127.0.0.1:65229/session/317acd8cb3050afc69c0aca8e80da469/element/dbe18af1-3e93-407a-8b71-e135bfca7ba5/text {\"id\": \"dbe18af1-3e93-407a-8b71-e135bfca7ba5\"}\n",
      "2021-07-11 12:30:51,478 selenium.webdriver.remote.remote_connection DEBUG    Finished Request\n",
      "2021-07-11 12:30:51,479 selenium.webdriver.remote.remote_connection DEBUG    POST http://127.0.0.1:65229/session/317acd8cb3050afc69c0aca8e80da469/element/aeb6ac0a-4677-4abf-ae55-8a74bd4f843a/elements {\"using\": \"xpath\", \"value\": \".//option[normalize-space(.) = \\\"Impression\\\"]\", \"id\": \"aeb6ac0a-4677-4abf-ae55-8a74bd4f843a\"}\n",
      "2021-07-11 12:30:51,493 selenium.webdriver.remote.remote_connection DEBUG    Finished Request\n",
      "2021-07-11 12:30:51,494 selenium.webdriver.remote.remote_connection DEBUG    GET http://127.0.0.1:65229/session/317acd8cb3050afc69c0aca8e80da469/element/dbe18af1-3e93-407a-8b71-e135bfca7ba5/selected {\"id\": \"dbe18af1-3e93-407a-8b71-e135bfca7ba5\"}\n",
      "2021-07-11 12:30:51,504 selenium.webdriver.remote.remote_connection DEBUG    Finished Request\n",
      "2021-07-11 12:30:51,505 selenium.webdriver.remote.remote_connection DEBUG    POST http://127.0.0.1:65229/session/317acd8cb3050afc69c0aca8e80da469/element/dbe18af1-3e93-407a-8b71-e135bfca7ba5/click {\"id\": \"dbe18af1-3e93-407a-8b71-e135bfca7ba5\"}\n",
      "2021-07-11 12:30:51,528 selenium.webdriver.remote.remote_connection DEBUG    Finished Request\n",
      "2021-07-11 12:30:51,530 selenium.webdriver.remote.remote_connection DEBUG    GET http://127.0.0.1:65229/session/317acd8cb3050afc69c0aca8e80da469/element/1ed13e34-713b-4973-9d7e-98697d424a84/text {\"id\": \"1ed13e34-713b-4973-9d7e-98697d424a84\"}\n",
      "2021-07-11 12:30:51,544 selenium.webdriver.remote.remote_connection DEBUG    Finished Request\n",
      "2021-07-11 12:30:51,545 selenium.webdriver.remote.remote_connection DEBUG    GET http://127.0.0.1:65229/session/317acd8cb3050afc69c0aca8e80da469/element/1ed13e34-713b-4973-9d7e-98697d424a84/text {\"id\": \"1ed13e34-713b-4973-9d7e-98697d424a84\"}\n",
      "2021-07-11 12:30:51,555 selenium.webdriver.remote.remote_connection DEBUG    Finished Request\n",
      "2021-07-11 12:30:51,556 selenium.webdriver.remote.remote_connection DEBUG    GET http://127.0.0.1:65229/session/317acd8cb3050afc69c0aca8e80da469/element/1ed13e34-713b-4973-9d7e-98697d424a84/text {\"id\": \"1ed13e34-713b-4973-9d7e-98697d424a84\"}\n",
      "2021-07-11 12:30:51,566 selenium.webdriver.remote.remote_connection DEBUG    Finished Request\n",
      "2021-07-11 12:30:51,567 selenium.webdriver.remote.remote_connection DEBUG    POST http://127.0.0.1:65229/session/317acd8cb3050afc69c0aca8e80da469/element/aeb6ac0a-4677-4abf-ae55-8a74bd4f843a/elements {\"using\": \"xpath\", \"value\": \".//option[normalize-space(.) = \\\"Independence Trail\\\"]\", \"id\": \"aeb6ac0a-4677-4abf-ae55-8a74bd4f843a\"}\n",
      "2021-07-11 12:30:51,586 selenium.webdriver.remote.remote_connection DEBUG    Finished Request\n",
      "2021-07-11 12:30:51,587 selenium.webdriver.remote.remote_connection DEBUG    GET http://127.0.0.1:65229/session/317acd8cb3050afc69c0aca8e80da469/element/1ed13e34-713b-4973-9d7e-98697d424a84/selected {\"id\": \"1ed13e34-713b-4973-9d7e-98697d424a84\"}\n",
      "2021-07-11 12:30:51,601 selenium.webdriver.remote.remote_connection DEBUG    Finished Request\n",
      "2021-07-11 12:30:51,602 selenium.webdriver.remote.remote_connection DEBUG    POST http://127.0.0.1:65229/session/317acd8cb3050afc69c0aca8e80da469/element/1ed13e34-713b-4973-9d7e-98697d424a84/click {\"id\": \"1ed13e34-713b-4973-9d7e-98697d424a84\"}\n",
      "2021-07-11 12:30:51,633 selenium.webdriver.remote.remote_connection DEBUG    Finished Request\n",
      "2021-07-11 12:30:51,635 selenium.webdriver.remote.remote_connection DEBUG    GET http://127.0.0.1:65229/session/317acd8cb3050afc69c0aca8e80da469/element/ac9fb079-2021-43e4-a93e-e7c792154da3/text {\"id\": \"ac9fb079-2021-43e4-a93e-e7c792154da3\"}\n",
      "2021-07-11 12:30:51,651 selenium.webdriver.remote.remote_connection DEBUG    Finished Request\n"
     ]
    },
    {
     "name": "stdout",
     "output_type": "stream",
     "text": [
      "Impression\n",
      "Independence Trail\n"
     ]
    },
    {
     "name": "stderr",
     "output_type": "stream",
     "text": [
      "2021-07-11 12:30:51,653 selenium.webdriver.remote.remote_connection DEBUG    GET http://127.0.0.1:65229/session/317acd8cb3050afc69c0aca8e80da469/element/ac9fb079-2021-43e4-a93e-e7c792154da3/text {\"id\": \"ac9fb079-2021-43e4-a93e-e7c792154da3\"}\n",
      "2021-07-11 12:30:51,661 selenium.webdriver.remote.remote_connection DEBUG    Finished Request\n",
      "2021-07-11 12:30:51,662 selenium.webdriver.remote.remote_connection DEBUG    GET http://127.0.0.1:65229/session/317acd8cb3050afc69c0aca8e80da469/element/ac9fb079-2021-43e4-a93e-e7c792154da3/text {\"id\": \"ac9fb079-2021-43e4-a93e-e7c792154da3\"}\n",
      "2021-07-11 12:30:51,675 selenium.webdriver.remote.remote_connection DEBUG    Finished Request\n",
      "2021-07-11 12:30:51,676 selenium.webdriver.remote.remote_connection DEBUG    POST http://127.0.0.1:65229/session/317acd8cb3050afc69c0aca8e80da469/element/aeb6ac0a-4677-4abf-ae55-8a74bd4f843a/elements {\"using\": \"xpath\", \"value\": \".//option[normalize-space(.) = \\\"No Boundaries\\\"]\", \"id\": \"aeb6ac0a-4677-4abf-ae55-8a74bd4f843a\"}\n",
      "2021-07-11 12:30:51,689 selenium.webdriver.remote.remote_connection DEBUG    Finished Request\n",
      "2021-07-11 12:30:51,690 selenium.webdriver.remote.remote_connection DEBUG    GET http://127.0.0.1:65229/session/317acd8cb3050afc69c0aca8e80da469/element/ac9fb079-2021-43e4-a93e-e7c792154da3/selected {\"id\": \"ac9fb079-2021-43e4-a93e-e7c792154da3\"}\n",
      "2021-07-11 12:30:51,701 selenium.webdriver.remote.remote_connection DEBUG    Finished Request\n",
      "2021-07-11 12:30:51,702 selenium.webdriver.remote.remote_connection DEBUG    POST http://127.0.0.1:65229/session/317acd8cb3050afc69c0aca8e80da469/element/ac9fb079-2021-43e4-a93e-e7c792154da3/click {\"id\": \"ac9fb079-2021-43e4-a93e-e7c792154da3\"}\n",
      "2021-07-11 12:30:51,726 selenium.webdriver.remote.remote_connection DEBUG    Finished Request\n",
      "2021-07-11 12:30:51,727 selenium.webdriver.remote.remote_connection DEBUG    GET http://127.0.0.1:65229/session/317acd8cb3050afc69c0aca8e80da469/element/f9ffd9e0-d3f9-47d7-9cfb-5d34e52bfc7a/text {\"id\": \"f9ffd9e0-d3f9-47d7-9cfb-5d34e52bfc7a\"}\n",
      "2021-07-11 12:30:51,742 selenium.webdriver.remote.remote_connection DEBUG    Finished Request\n",
      "2021-07-11 12:30:51,743 selenium.webdriver.remote.remote_connection DEBUG    GET http://127.0.0.1:65229/session/317acd8cb3050afc69c0aca8e80da469/element/f9ffd9e0-d3f9-47d7-9cfb-5d34e52bfc7a/text {\"id\": \"f9ffd9e0-d3f9-47d7-9cfb-5d34e52bfc7a\"}\n",
      "2021-07-11 12:30:51,751 selenium.webdriver.remote.remote_connection DEBUG    Finished Request\n",
      "2021-07-11 12:30:51,753 selenium.webdriver.remote.remote_connection DEBUG    GET http://127.0.0.1:65229/session/317acd8cb3050afc69c0aca8e80da469/element/f9ffd9e0-d3f9-47d7-9cfb-5d34e52bfc7a/text {\"id\": \"f9ffd9e0-d3f9-47d7-9cfb-5d34e52bfc7a\"}\n",
      "2021-07-11 12:30:51,761 selenium.webdriver.remote.remote_connection DEBUG    Finished Request\n",
      "2021-07-11 12:30:51,762 selenium.webdriver.remote.remote_connection DEBUG    POST http://127.0.0.1:65229/session/317acd8cb3050afc69c0aca8e80da469/element/aeb6ac0a-4677-4abf-ae55-8a74bd4f843a/elements {\"using\": \"xpath\", \"value\": \".//option[normalize-space(.) = \\\"Ozark\\\"]\", \"id\": \"aeb6ac0a-4677-4abf-ae55-8a74bd4f843a\"}\n",
      "2021-07-11 12:30:51,775 selenium.webdriver.remote.remote_connection DEBUG    Finished Request\n",
      "2021-07-11 12:30:51,776 selenium.webdriver.remote.remote_connection DEBUG    GET http://127.0.0.1:65229/session/317acd8cb3050afc69c0aca8e80da469/element/f9ffd9e0-d3f9-47d7-9cfb-5d34e52bfc7a/selected {\"id\": \"f9ffd9e0-d3f9-47d7-9cfb-5d34e52bfc7a\"}\n",
      "2021-07-11 12:30:51,786 selenium.webdriver.remote.remote_connection DEBUG    Finished Request\n",
      "2021-07-11 12:30:51,788 selenium.webdriver.remote.remote_connection DEBUG    POST http://127.0.0.1:65229/session/317acd8cb3050afc69c0aca8e80da469/element/f9ffd9e0-d3f9-47d7-9cfb-5d34e52bfc7a/click {\"id\": \"f9ffd9e0-d3f9-47d7-9cfb-5d34e52bfc7a\"}\n",
      "2021-07-11 12:30:51,811 selenium.webdriver.remote.remote_connection DEBUG    Finished Request\n",
      "2021-07-11 12:30:51,811 selenium.webdriver.remote.remote_connection DEBUG    GET http://127.0.0.1:65229/session/317acd8cb3050afc69c0aca8e80da469/element/452a2be6-1570-4426-bc5b-eea1750c3753/text {\"id\": \"452a2be6-1570-4426-bc5b-eea1750c3753\"}\n",
      "2021-07-11 12:30:51,827 selenium.webdriver.remote.remote_connection DEBUG    Finished Request\n",
      "2021-07-11 12:30:51,828 selenium.webdriver.remote.remote_connection DEBUG    GET http://127.0.0.1:65229/session/317acd8cb3050afc69c0aca8e80da469/element/452a2be6-1570-4426-bc5b-eea1750c3753/text {\"id\": \"452a2be6-1570-4426-bc5b-eea1750c3753\"}\n",
      "2021-07-11 12:30:51,838 selenium.webdriver.remote.remote_connection DEBUG    Finished Request\n",
      "2021-07-11 12:30:51,839 selenium.webdriver.remote.remote_connection DEBUG    GET http://127.0.0.1:65229/session/317acd8cb3050afc69c0aca8e80da469/element/452a2be6-1570-4426-bc5b-eea1750c3753/text {\"id\": \"452a2be6-1570-4426-bc5b-eea1750c3753\"}\n"
     ]
    },
    {
     "name": "stdout",
     "output_type": "stream",
     "text": [
      "No Boundaries\n",
      "Ozark\n",
      "r-pod\n"
     ]
    },
    {
     "name": "stderr",
     "output_type": "stream",
     "text": [
      "2021-07-11 12:30:51,849 selenium.webdriver.remote.remote_connection DEBUG    Finished Request\n",
      "2021-07-11 12:30:51,850 selenium.webdriver.remote.remote_connection DEBUG    POST http://127.0.0.1:65229/session/317acd8cb3050afc69c0aca8e80da469/element/aeb6ac0a-4677-4abf-ae55-8a74bd4f843a/elements {\"using\": \"xpath\", \"value\": \".//option[normalize-space(.) = \\\"r-pod\\\"]\", \"id\": \"aeb6ac0a-4677-4abf-ae55-8a74bd4f843a\"}\n",
      "2021-07-11 12:30:51,861 selenium.webdriver.remote.remote_connection DEBUG    Finished Request\n",
      "2021-07-11 12:30:51,863 selenium.webdriver.remote.remote_connection DEBUG    GET http://127.0.0.1:65229/session/317acd8cb3050afc69c0aca8e80da469/element/452a2be6-1570-4426-bc5b-eea1750c3753/selected {\"id\": \"452a2be6-1570-4426-bc5b-eea1750c3753\"}\n",
      "2021-07-11 12:30:51,879 selenium.webdriver.remote.remote_connection DEBUG    Finished Request\n",
      "2021-07-11 12:30:51,881 selenium.webdriver.remote.remote_connection DEBUG    POST http://127.0.0.1:65229/session/317acd8cb3050afc69c0aca8e80da469/element/452a2be6-1570-4426-bc5b-eea1750c3753/click {\"id\": \"452a2be6-1570-4426-bc5b-eea1750c3753\"}\n",
      "2021-07-11 12:30:51,908 selenium.webdriver.remote.remote_connection DEBUG    Finished Request\n",
      "2021-07-11 12:30:51,909 selenium.webdriver.remote.remote_connection DEBUG    GET http://127.0.0.1:65229/session/317acd8cb3050afc69c0aca8e80da469/element/7c2d8fda-4b9a-4c22-a520-2f93bb8da53c/text {\"id\": \"7c2d8fda-4b9a-4c22-a520-2f93bb8da53c\"}\n",
      "2021-07-11 12:30:51,923 selenium.webdriver.remote.remote_connection DEBUG    Finished Request\n",
      "2021-07-11 12:30:51,924 selenium.webdriver.remote.remote_connection DEBUG    GET http://127.0.0.1:65229/session/317acd8cb3050afc69c0aca8e80da469/element/7c2d8fda-4b9a-4c22-a520-2f93bb8da53c/text {\"id\": \"7c2d8fda-4b9a-4c22-a520-2f93bb8da53c\"}\n",
      "2021-07-11 12:30:51,932 selenium.webdriver.remote.remote_connection DEBUG    Finished Request\n",
      "2021-07-11 12:30:51,934 selenium.webdriver.remote.remote_connection DEBUG    GET http://127.0.0.1:65229/session/317acd8cb3050afc69c0aca8e80da469/element/7c2d8fda-4b9a-4c22-a520-2f93bb8da53c/text {\"id\": \"7c2d8fda-4b9a-4c22-a520-2f93bb8da53c\"}\n",
      "2021-07-11 12:30:51,942 selenium.webdriver.remote.remote_connection DEBUG    Finished Request\n",
      "2021-07-11 12:30:51,943 selenium.webdriver.remote.remote_connection DEBUG    POST http://127.0.0.1:65229/session/317acd8cb3050afc69c0aca8e80da469/element/aeb6ac0a-4677-4abf-ae55-8a74bd4f843a/elements {\"using\": \"xpath\", \"value\": \".//option[normalize-space(.) = \\\"RIVERSTONE\\\"]\", \"id\": \"aeb6ac0a-4677-4abf-ae55-8a74bd4f843a\"}\n",
      "2021-07-11 12:30:51,957 selenium.webdriver.remote.remote_connection DEBUG    Finished Request\n",
      "2021-07-11 12:30:51,958 selenium.webdriver.remote.remote_connection DEBUG    GET http://127.0.0.1:65229/session/317acd8cb3050afc69c0aca8e80da469/element/7c2d8fda-4b9a-4c22-a520-2f93bb8da53c/selected {\"id\": \"7c2d8fda-4b9a-4c22-a520-2f93bb8da53c\"}\n",
      "2021-07-11 12:30:51,967 selenium.webdriver.remote.remote_connection DEBUG    Finished Request\n",
      "2021-07-11 12:30:51,968 selenium.webdriver.remote.remote_connection DEBUG    POST http://127.0.0.1:65229/session/317acd8cb3050afc69c0aca8e80da469/element/7c2d8fda-4b9a-4c22-a520-2f93bb8da53c/click {\"id\": \"7c2d8fda-4b9a-4c22-a520-2f93bb8da53c\"}\n",
      "2021-07-11 12:30:51,992 selenium.webdriver.remote.remote_connection DEBUG    Finished Request\n",
      "2021-07-11 12:30:51,993 selenium.webdriver.remote.remote_connection DEBUG    GET http://127.0.0.1:65229/session/317acd8cb3050afc69c0aca8e80da469/element/62362cfa-3251-49f0-b7d8-672c0ea9c237/text {\"id\": \"62362cfa-3251-49f0-b7d8-672c0ea9c237\"}\n",
      "2021-07-11 12:30:52,008 selenium.webdriver.remote.remote_connection DEBUG    Finished Request\n",
      "2021-07-11 12:30:52,009 selenium.webdriver.remote.remote_connection DEBUG    GET http://127.0.0.1:65229/session/317acd8cb3050afc69c0aca8e80da469/element/62362cfa-3251-49f0-b7d8-672c0ea9c237/text {\"id\": \"62362cfa-3251-49f0-b7d8-672c0ea9c237\"}\n",
      "2021-07-11 12:30:52,017 selenium.webdriver.remote.remote_connection DEBUG    Finished Request\n",
      "2021-07-11 12:30:52,018 selenium.webdriver.remote.remote_connection DEBUG    GET http://127.0.0.1:65229/session/317acd8cb3050afc69c0aca8e80da469/element/62362cfa-3251-49f0-b7d8-672c0ea9c237/text {\"id\": \"62362cfa-3251-49f0-b7d8-672c0ea9c237\"}\n",
      "2021-07-11 12:30:52,027 selenium.webdriver.remote.remote_connection DEBUG    Finished Request\n",
      "2021-07-11 12:30:52,028 selenium.webdriver.remote.remote_connection DEBUG    POST http://127.0.0.1:65229/session/317acd8cb3050afc69c0aca8e80da469/element/aeb6ac0a-4677-4abf-ae55-8a74bd4f843a/elements {\"using\": \"xpath\", \"value\": \".//option[normalize-space(.) = \\\"Riverstone Reserve Series\\\"]\", \"id\": \"aeb6ac0a-4677-4abf-ae55-8a74bd4f843a\"}\n",
      "2021-07-11 12:30:52,042 selenium.webdriver.remote.remote_connection DEBUG    Finished Request\n",
      "2021-07-11 12:30:52,043 selenium.webdriver.remote.remote_connection DEBUG    GET http://127.0.0.1:65229/session/317acd8cb3050afc69c0aca8e80da469/element/62362cfa-3251-49f0-b7d8-672c0ea9c237/selected {\"id\": \"62362cfa-3251-49f0-b7d8-672c0ea9c237\"}\n",
      "2021-07-11 12:30:52,054 selenium.webdriver.remote.remote_connection DEBUG    Finished Request\n",
      "2021-07-11 12:30:52,056 selenium.webdriver.remote.remote_connection DEBUG    POST http://127.0.0.1:65229/session/317acd8cb3050afc69c0aca8e80da469/element/62362cfa-3251-49f0-b7d8-672c0ea9c237/click {\"id\": \"62362cfa-3251-49f0-b7d8-672c0ea9c237\"}\n",
      "2021-07-11 12:30:52,080 selenium.webdriver.remote.remote_connection DEBUG    Finished Request\n",
      "2021-07-11 12:30:52,083 selenium.webdriver.remote.remote_connection DEBUG    GET http://127.0.0.1:65229/session/317acd8cb3050afc69c0aca8e80da469/element/d958fc90-04f7-4e93-b0e6-a0b534822c70/text {\"id\": \"d958fc90-04f7-4e93-b0e6-a0b534822c70\"}\n",
      "2021-07-11 12:30:52,098 selenium.webdriver.remote.remote_connection DEBUG    Finished Request\n",
      "2021-07-11 12:30:52,099 selenium.webdriver.remote.remote_connection DEBUG    GET http://127.0.0.1:65229/session/317acd8cb3050afc69c0aca8e80da469/element/d958fc90-04f7-4e93-b0e6-a0b534822c70/text {\"id\": \"d958fc90-04f7-4e93-b0e6-a0b534822c70\"}\n",
      "2021-07-11 12:30:52,109 selenium.webdriver.remote.remote_connection DEBUG    Finished Request\n",
      "2021-07-11 12:30:52,110 selenium.webdriver.remote.remote_connection DEBUG    GET http://127.0.0.1:65229/session/317acd8cb3050afc69c0aca8e80da469/element/d958fc90-04f7-4e93-b0e6-a0b534822c70/text {\"id\": \"d958fc90-04f7-4e93-b0e6-a0b534822c70\"}\n",
      "2021-07-11 12:30:52,118 selenium.webdriver.remote.remote_connection DEBUG    Finished Request\n",
      "2021-07-11 12:30:52,119 selenium.webdriver.remote.remote_connection DEBUG    POST http://127.0.0.1:65229/session/317acd8cb3050afc69c0aca8e80da469/element/aeb6ac0a-4677-4abf-ae55-8a74bd4f843a/elements {\"using\": \"xpath\", \"value\": \".//option[normalize-space(.) = \\\"Rockwood Extreme Sports Package\\\"]\", \"id\": \"aeb6ac0a-4677-4abf-ae55-8a74bd4f843a\"}\n"
     ]
    },
    {
     "name": "stdout",
     "output_type": "stream",
     "text": [
      "RIVERSTONE\n",
      "Riverstone Reserve Series\n",
      "Rockwood Extreme Sports Package\n"
     ]
    },
    {
     "name": "stderr",
     "output_type": "stream",
     "text": [
      "2021-07-11 12:30:52,138 selenium.webdriver.remote.remote_connection DEBUG    Finished Request\n",
      "2021-07-11 12:30:52,139 selenium.webdriver.remote.remote_connection DEBUG    GET http://127.0.0.1:65229/session/317acd8cb3050afc69c0aca8e80da469/element/d958fc90-04f7-4e93-b0e6-a0b534822c70/selected {\"id\": \"d958fc90-04f7-4e93-b0e6-a0b534822c70\"}\n",
      "2021-07-11 12:30:52,155 selenium.webdriver.remote.remote_connection DEBUG    Finished Request\n",
      "2021-07-11 12:30:52,157 selenium.webdriver.remote.remote_connection DEBUG    POST http://127.0.0.1:65229/session/317acd8cb3050afc69c0aca8e80da469/element/d958fc90-04f7-4e93-b0e6-a0b534822c70/click {\"id\": \"d958fc90-04f7-4e93-b0e6-a0b534822c70\"}\n",
      "2021-07-11 12:30:52,198 selenium.webdriver.remote.remote_connection DEBUG    Finished Request\n",
      "2021-07-11 12:30:52,202 selenium.webdriver.remote.remote_connection DEBUG    GET http://127.0.0.1:65229/session/317acd8cb3050afc69c0aca8e80da469/element/af6c804c-0d4a-4a8f-a23b-c5def9558c19/text {\"id\": \"af6c804c-0d4a-4a8f-a23b-c5def9558c19\"}\n",
      "2021-07-11 12:30:52,222 selenium.webdriver.remote.remote_connection DEBUG    Finished Request\n",
      "2021-07-11 12:30:52,223 selenium.webdriver.remote.remote_connection DEBUG    GET http://127.0.0.1:65229/session/317acd8cb3050afc69c0aca8e80da469/element/af6c804c-0d4a-4a8f-a23b-c5def9558c19/text {\"id\": \"af6c804c-0d4a-4a8f-a23b-c5def9558c19\"}\n",
      "2021-07-11 12:30:52,234 selenium.webdriver.remote.remote_connection DEBUG    Finished Request\n",
      "2021-07-11 12:30:52,236 selenium.webdriver.remote.remote_connection DEBUG    GET http://127.0.0.1:65229/session/317acd8cb3050afc69c0aca8e80da469/element/af6c804c-0d4a-4a8f-a23b-c5def9558c19/text {\"id\": \"af6c804c-0d4a-4a8f-a23b-c5def9558c19\"}\n",
      "2021-07-11 12:30:52,244 selenium.webdriver.remote.remote_connection DEBUG    Finished Request\n",
      "2021-07-11 12:30:52,245 selenium.webdriver.remote.remote_connection DEBUG    POST http://127.0.0.1:65229/session/317acd8cb3050afc69c0aca8e80da469/element/aeb6ac0a-4677-4abf-ae55-8a74bd4f843a/elements {\"using\": \"xpath\", \"value\": \".//option[normalize-space(.) = \\\"Rockwood Geo Pro\\\"]\", \"id\": \"aeb6ac0a-4677-4abf-ae55-8a74bd4f843a\"}\n",
      "2021-07-11 12:30:52,260 selenium.webdriver.remote.remote_connection DEBUG    Finished Request\n",
      "2021-07-11 12:30:52,261 selenium.webdriver.remote.remote_connection DEBUG    GET http://127.0.0.1:65229/session/317acd8cb3050afc69c0aca8e80da469/element/af6c804c-0d4a-4a8f-a23b-c5def9558c19/selected {\"id\": \"af6c804c-0d4a-4a8f-a23b-c5def9558c19\"}\n",
      "2021-07-11 12:30:52,275 selenium.webdriver.remote.remote_connection DEBUG    Finished Request\n",
      "2021-07-11 12:30:52,276 selenium.webdriver.remote.remote_connection DEBUG    POST http://127.0.0.1:65229/session/317acd8cb3050afc69c0aca8e80da469/element/af6c804c-0d4a-4a8f-a23b-c5def9558c19/click {\"id\": \"af6c804c-0d4a-4a8f-a23b-c5def9558c19\"}\n",
      "2021-07-11 12:30:52,302 selenium.webdriver.remote.remote_connection DEBUG    Finished Request\n",
      "2021-07-11 12:30:52,303 selenium.webdriver.remote.remote_connection DEBUG    GET http://127.0.0.1:65229/session/317acd8cb3050afc69c0aca8e80da469/element/846bc2e1-e9a6-4a9f-903e-2affa96d0845/text {\"id\": \"846bc2e1-e9a6-4a9f-903e-2affa96d0845\"}\n",
      "2021-07-11 12:30:52,316 selenium.webdriver.remote.remote_connection DEBUG    Finished Request\n",
      "2021-07-11 12:30:52,317 selenium.webdriver.remote.remote_connection DEBUG    GET http://127.0.0.1:65229/session/317acd8cb3050afc69c0aca8e80da469/element/846bc2e1-e9a6-4a9f-903e-2affa96d0845/text {\"id\": \"846bc2e1-e9a6-4a9f-903e-2affa96d0845\"}\n",
      "2021-07-11 12:30:52,326 selenium.webdriver.remote.remote_connection DEBUG    Finished Request\n",
      "2021-07-11 12:30:52,327 selenium.webdriver.remote.remote_connection DEBUG    GET http://127.0.0.1:65229/session/317acd8cb3050afc69c0aca8e80da469/element/846bc2e1-e9a6-4a9f-903e-2affa96d0845/text {\"id\": \"846bc2e1-e9a6-4a9f-903e-2affa96d0845\"}\n",
      "2021-07-11 12:30:52,337 selenium.webdriver.remote.remote_connection DEBUG    Finished Request\n",
      "2021-07-11 12:30:52,338 selenium.webdriver.remote.remote_connection DEBUG    POST http://127.0.0.1:65229/session/317acd8cb3050afc69c0aca8e80da469/element/aeb6ac0a-4677-4abf-ae55-8a74bd4f843a/elements {\"using\": \"xpath\", \"value\": \".//option[normalize-space(.) = \\\"Rockwood Hard Side Pop-Up Campers\\\"]\", \"id\": \"aeb6ac0a-4677-4abf-ae55-8a74bd4f843a\"}\n",
      "2021-07-11 12:30:52,351 selenium.webdriver.remote.remote_connection DEBUG    Finished Request\n",
      "2021-07-11 12:30:52,352 selenium.webdriver.remote.remote_connection DEBUG    GET http://127.0.0.1:65229/session/317acd8cb3050afc69c0aca8e80da469/element/846bc2e1-e9a6-4a9f-903e-2affa96d0845/selected {\"id\": \"846bc2e1-e9a6-4a9f-903e-2affa96d0845\"}\n",
      "2021-07-11 12:30:52,362 selenium.webdriver.remote.remote_connection DEBUG    Finished Request\n",
      "2021-07-11 12:30:52,364 selenium.webdriver.remote.remote_connection DEBUG    POST http://127.0.0.1:65229/session/317acd8cb3050afc69c0aca8e80da469/element/846bc2e1-e9a6-4a9f-903e-2affa96d0845/click {\"id\": \"846bc2e1-e9a6-4a9f-903e-2affa96d0845\"}\n",
      "2021-07-11 12:30:52,389 selenium.webdriver.remote.remote_connection DEBUG    Finished Request\n",
      "2021-07-11 12:30:52,390 selenium.webdriver.remote.remote_connection DEBUG    GET http://127.0.0.1:65229/session/317acd8cb3050afc69c0aca8e80da469/element/1312081c-87c0-4d7a-8a13-3966818f8117/text {\"id\": \"1312081c-87c0-4d7a-8a13-3966818f8117\"}\n",
      "2021-07-11 12:30:52,407 selenium.webdriver.remote.remote_connection DEBUG    Finished Request\n",
      "2021-07-11 12:30:52,408 selenium.webdriver.remote.remote_connection DEBUG    GET http://127.0.0.1:65229/session/317acd8cb3050afc69c0aca8e80da469/element/1312081c-87c0-4d7a-8a13-3966818f8117/text {\"id\": \"1312081c-87c0-4d7a-8a13-3966818f8117\"}\n",
      "2021-07-11 12:30:52,417 selenium.webdriver.remote.remote_connection DEBUG    Finished Request\n"
     ]
    },
    {
     "name": "stdout",
     "output_type": "stream",
     "text": [
      "Rockwood Geo Pro\n",
      "Rockwood Hard Side Pop-Up Campers\n"
     ]
    },
    {
     "name": "stderr",
     "output_type": "stream",
     "text": [
      "2021-07-11 12:30:52,419 selenium.webdriver.remote.remote_connection DEBUG    GET http://127.0.0.1:65229/session/317acd8cb3050afc69c0aca8e80da469/element/1312081c-87c0-4d7a-8a13-3966818f8117/text {\"id\": \"1312081c-87c0-4d7a-8a13-3966818f8117\"}\n",
      "2021-07-11 12:30:52,429 selenium.webdriver.remote.remote_connection DEBUG    Finished Request\n",
      "2021-07-11 12:30:52,432 selenium.webdriver.remote.remote_connection DEBUG    POST http://127.0.0.1:65229/session/317acd8cb3050afc69c0aca8e80da469/element/aeb6ac0a-4677-4abf-ae55-8a74bd4f843a/elements {\"using\": \"xpath\", \"value\": \".//option[normalize-space(.) = \\\"Rockwood Mini Lite\\\"]\", \"id\": \"aeb6ac0a-4677-4abf-ae55-8a74bd4f843a\"}\n",
      "2021-07-11 12:30:52,445 selenium.webdriver.remote.remote_connection DEBUG    Finished Request\n",
      "2021-07-11 12:30:52,447 selenium.webdriver.remote.remote_connection DEBUG    GET http://127.0.0.1:65229/session/317acd8cb3050afc69c0aca8e80da469/element/1312081c-87c0-4d7a-8a13-3966818f8117/selected {\"id\": \"1312081c-87c0-4d7a-8a13-3966818f8117\"}\n",
      "2021-07-11 12:30:52,458 selenium.webdriver.remote.remote_connection DEBUG    Finished Request\n",
      "2021-07-11 12:30:52,459 selenium.webdriver.remote.remote_connection DEBUG    POST http://127.0.0.1:65229/session/317acd8cb3050afc69c0aca8e80da469/element/1312081c-87c0-4d7a-8a13-3966818f8117/click {\"id\": \"1312081c-87c0-4d7a-8a13-3966818f8117\"}\n",
      "2021-07-11 12:30:52,484 selenium.webdriver.remote.remote_connection DEBUG    Finished Request\n",
      "2021-07-11 12:30:52,486 selenium.webdriver.remote.remote_connection DEBUG    GET http://127.0.0.1:65229/session/317acd8cb3050afc69c0aca8e80da469/element/a3ffddf6-55f5-4f81-ae7a-3bb9e79a6295/text {\"id\": \"a3ffddf6-55f5-4f81-ae7a-3bb9e79a6295\"}\n",
      "2021-07-11 12:30:52,502 selenium.webdriver.remote.remote_connection DEBUG    Finished Request\n",
      "2021-07-11 12:30:52,503 selenium.webdriver.remote.remote_connection DEBUG    GET http://127.0.0.1:65229/session/317acd8cb3050afc69c0aca8e80da469/element/a3ffddf6-55f5-4f81-ae7a-3bb9e79a6295/text {\"id\": \"a3ffddf6-55f5-4f81-ae7a-3bb9e79a6295\"}\n",
      "2021-07-11 12:30:52,522 selenium.webdriver.remote.remote_connection DEBUG    Finished Request\n",
      "2021-07-11 12:30:52,526 selenium.webdriver.remote.remote_connection DEBUG    GET http://127.0.0.1:65229/session/317acd8cb3050afc69c0aca8e80da469/element/a3ffddf6-55f5-4f81-ae7a-3bb9e79a6295/text {\"id\": \"a3ffddf6-55f5-4f81-ae7a-3bb9e79a6295\"}\n",
      "2021-07-11 12:30:52,539 selenium.webdriver.remote.remote_connection DEBUG    Finished Request\n",
      "2021-07-11 12:30:52,542 selenium.webdriver.remote.remote_connection DEBUG    POST http://127.0.0.1:65229/session/317acd8cb3050afc69c0aca8e80da469/element/aeb6ac0a-4677-4abf-ae55-8a74bd4f843a/elements {\"using\": \"xpath\", \"value\": \".//option[normalize-space(.) = \\\"Rockwood Roo\\\"]\", \"id\": \"aeb6ac0a-4677-4abf-ae55-8a74bd4f843a\"}\n",
      "2021-07-11 12:30:52,555 selenium.webdriver.remote.remote_connection DEBUG    Finished Request\n",
      "2021-07-11 12:30:52,556 selenium.webdriver.remote.remote_connection DEBUG    GET http://127.0.0.1:65229/session/317acd8cb3050afc69c0aca8e80da469/element/a3ffddf6-55f5-4f81-ae7a-3bb9e79a6295/selected {\"id\": \"a3ffddf6-55f5-4f81-ae7a-3bb9e79a6295\"}\n",
      "2021-07-11 12:30:52,566 selenium.webdriver.remote.remote_connection DEBUG    Finished Request\n",
      "2021-07-11 12:30:52,567 selenium.webdriver.remote.remote_connection DEBUG    POST http://127.0.0.1:65229/session/317acd8cb3050afc69c0aca8e80da469/element/a3ffddf6-55f5-4f81-ae7a-3bb9e79a6295/click {\"id\": \"a3ffddf6-55f5-4f81-ae7a-3bb9e79a6295\"}\n",
      "2021-07-11 12:30:52,601 selenium.webdriver.remote.remote_connection DEBUG    Finished Request\n",
      "2021-07-11 12:30:52,603 selenium.webdriver.remote.remote_connection DEBUG    GET http://127.0.0.1:65229/session/317acd8cb3050afc69c0aca8e80da469/element/fa6ca7a6-6df9-4a7a-87a2-aeeb43b2949f/text {\"id\": \"fa6ca7a6-6df9-4a7a-87a2-aeeb43b2949f\"}\n"
     ]
    },
    {
     "name": "stdout",
     "output_type": "stream",
     "text": [
      "Rockwood Mini Lite\n",
      "Rockwood Roo\n"
     ]
    },
    {
     "name": "stderr",
     "output_type": "stream",
     "text": [
      "2021-07-11 12:30:52,628 selenium.webdriver.remote.remote_connection DEBUG    Finished Request\n",
      "2021-07-11 12:30:52,629 selenium.webdriver.remote.remote_connection DEBUG    GET http://127.0.0.1:65229/session/317acd8cb3050afc69c0aca8e80da469/element/fa6ca7a6-6df9-4a7a-87a2-aeeb43b2949f/text {\"id\": \"fa6ca7a6-6df9-4a7a-87a2-aeeb43b2949f\"}\n",
      "2021-07-11 12:30:52,641 selenium.webdriver.remote.remote_connection DEBUG    Finished Request\n",
      "2021-07-11 12:30:52,643 selenium.webdriver.remote.remote_connection DEBUG    GET http://127.0.0.1:65229/session/317acd8cb3050afc69c0aca8e80da469/element/fa6ca7a6-6df9-4a7a-87a2-aeeb43b2949f/text {\"id\": \"fa6ca7a6-6df9-4a7a-87a2-aeeb43b2949f\"}\n",
      "2021-07-11 12:30:52,651 selenium.webdriver.remote.remote_connection DEBUG    Finished Request\n",
      "2021-07-11 12:30:52,652 selenium.webdriver.remote.remote_connection DEBUG    POST http://127.0.0.1:65229/session/317acd8cb3050afc69c0aca8e80da469/element/aeb6ac0a-4677-4abf-ae55-8a74bd4f843a/elements {\"using\": \"xpath\", \"value\": \".//option[normalize-space(.) = \\\"Rockwood Signature\\\"]\", \"id\": \"aeb6ac0a-4677-4abf-ae55-8a74bd4f843a\"}\n",
      "2021-07-11 12:30:52,666 selenium.webdriver.remote.remote_connection DEBUG    Finished Request\n",
      "2021-07-11 12:30:52,667 selenium.webdriver.remote.remote_connection DEBUG    GET http://127.0.0.1:65229/session/317acd8cb3050afc69c0aca8e80da469/element/fa6ca7a6-6df9-4a7a-87a2-aeeb43b2949f/selected {\"id\": \"fa6ca7a6-6df9-4a7a-87a2-aeeb43b2949f\"}\n",
      "2021-07-11 12:30:52,688 selenium.webdriver.remote.remote_connection DEBUG    Finished Request\n",
      "2021-07-11 12:30:52,689 selenium.webdriver.remote.remote_connection DEBUG    POST http://127.0.0.1:65229/session/317acd8cb3050afc69c0aca8e80da469/element/fa6ca7a6-6df9-4a7a-87a2-aeeb43b2949f/click {\"id\": \"fa6ca7a6-6df9-4a7a-87a2-aeeb43b2949f\"}\n",
      "2021-07-11 12:30:52,735 selenium.webdriver.remote.remote_connection DEBUG    Finished Request\n",
      "2021-07-11 12:30:52,736 selenium.webdriver.remote.remote_connection DEBUG    GET http://127.0.0.1:65229/session/317acd8cb3050afc69c0aca8e80da469/element/3eef0d67-e444-4700-a716-508df208c8bf/text {\"id\": \"3eef0d67-e444-4700-a716-508df208c8bf\"}\n",
      "2021-07-11 12:30:52,752 selenium.webdriver.remote.remote_connection DEBUG    Finished Request\n",
      "2021-07-11 12:30:52,754 selenium.webdriver.remote.remote_connection DEBUG    GET http://127.0.0.1:65229/session/317acd8cb3050afc69c0aca8e80da469/element/3eef0d67-e444-4700-a716-508df208c8bf/text {\"id\": \"3eef0d67-e444-4700-a716-508df208c8bf\"}\n",
      "2021-07-11 12:30:52,768 selenium.webdriver.remote.remote_connection DEBUG    Finished Request\n",
      "2021-07-11 12:30:52,769 selenium.webdriver.remote.remote_connection DEBUG    GET http://127.0.0.1:65229/session/317acd8cb3050afc69c0aca8e80da469/element/3eef0d67-e444-4700-a716-508df208c8bf/text {\"id\": \"3eef0d67-e444-4700-a716-508df208c8bf\"}\n",
      "2021-07-11 12:30:52,785 selenium.webdriver.remote.remote_connection DEBUG    Finished Request\n",
      "2021-07-11 12:30:52,786 selenium.webdriver.remote.remote_connection DEBUG    POST http://127.0.0.1:65229/session/317acd8cb3050afc69c0aca8e80da469/element/aeb6ac0a-4677-4abf-ae55-8a74bd4f843a/elements {\"using\": \"xpath\", \"value\": \".//option[normalize-space(.) = \\\"Rockwood Tent\\\"]\", \"id\": \"aeb6ac0a-4677-4abf-ae55-8a74bd4f843a\"}\n",
      "2021-07-11 12:30:52,809 selenium.webdriver.remote.remote_connection DEBUG    Finished Request\n",
      "2021-07-11 12:30:52,810 selenium.webdriver.remote.remote_connection DEBUG    GET http://127.0.0.1:65229/session/317acd8cb3050afc69c0aca8e80da469/element/3eef0d67-e444-4700-a716-508df208c8bf/selected {\"id\": \"3eef0d67-e444-4700-a716-508df208c8bf\"}\n",
      "2021-07-11 12:30:52,824 selenium.webdriver.remote.remote_connection DEBUG    Finished Request\n"
     ]
    },
    {
     "name": "stdout",
     "output_type": "stream",
     "text": [
      "Rockwood Signature\n",
      "Rockwood Tent\n"
     ]
    },
    {
     "name": "stderr",
     "output_type": "stream",
     "text": [
      "2021-07-11 12:30:52,825 selenium.webdriver.remote.remote_connection DEBUG    POST http://127.0.0.1:65229/session/317acd8cb3050afc69c0aca8e80da469/element/3eef0d67-e444-4700-a716-508df208c8bf/click {\"id\": \"3eef0d67-e444-4700-a716-508df208c8bf\"}\n",
      "2021-07-11 12:30:52,852 selenium.webdriver.remote.remote_connection DEBUG    Finished Request\n",
      "2021-07-11 12:30:52,853 selenium.webdriver.remote.remote_connection DEBUG    GET http://127.0.0.1:65229/session/317acd8cb3050afc69c0aca8e80da469/element/8fd0191b-0a66-443f-be83-162628482e0e/text {\"id\": \"8fd0191b-0a66-443f-be83-162628482e0e\"}\n",
      "2021-07-11 12:30:52,871 selenium.webdriver.remote.remote_connection DEBUG    Finished Request\n",
      "2021-07-11 12:30:52,873 selenium.webdriver.remote.remote_connection DEBUG    GET http://127.0.0.1:65229/session/317acd8cb3050afc69c0aca8e80da469/element/8fd0191b-0a66-443f-be83-162628482e0e/text {\"id\": \"8fd0191b-0a66-443f-be83-162628482e0e\"}\n",
      "2021-07-11 12:30:52,890 selenium.webdriver.remote.remote_connection DEBUG    Finished Request\n",
      "2021-07-11 12:30:52,891 selenium.webdriver.remote.remote_connection DEBUG    GET http://127.0.0.1:65229/session/317acd8cb3050afc69c0aca8e80da469/element/8fd0191b-0a66-443f-be83-162628482e0e/text {\"id\": \"8fd0191b-0a66-443f-be83-162628482e0e\"}\n",
      "2021-07-11 12:30:52,902 selenium.webdriver.remote.remote_connection DEBUG    Finished Request\n",
      "2021-07-11 12:30:52,903 selenium.webdriver.remote.remote_connection DEBUG    POST http://127.0.0.1:65229/session/317acd8cb3050afc69c0aca8e80da469/element/aeb6ac0a-4677-4abf-ae55-8a74bd4f843a/elements {\"using\": \"xpath\", \"value\": \".//option[normalize-space(.) = \\\"Rockwood Ultra Lite\\\"]\", \"id\": \"aeb6ac0a-4677-4abf-ae55-8a74bd4f843a\"}\n",
      "2021-07-11 12:30:52,917 selenium.webdriver.remote.remote_connection DEBUG    Finished Request\n",
      "2021-07-11 12:30:52,918 selenium.webdriver.remote.remote_connection DEBUG    GET http://127.0.0.1:65229/session/317acd8cb3050afc69c0aca8e80da469/element/8fd0191b-0a66-443f-be83-162628482e0e/selected {\"id\": \"8fd0191b-0a66-443f-be83-162628482e0e\"}\n",
      "2021-07-11 12:30:52,931 selenium.webdriver.remote.remote_connection DEBUG    Finished Request\n",
      "2021-07-11 12:30:52,934 selenium.webdriver.remote.remote_connection DEBUG    POST http://127.0.0.1:65229/session/317acd8cb3050afc69c0aca8e80da469/element/8fd0191b-0a66-443f-be83-162628482e0e/click {\"id\": \"8fd0191b-0a66-443f-be83-162628482e0e\"}\n",
      "2021-07-11 12:30:52,958 selenium.webdriver.remote.remote_connection DEBUG    Finished Request\n",
      "2021-07-11 12:30:52,959 selenium.webdriver.remote.remote_connection DEBUG    GET http://127.0.0.1:65229/session/317acd8cb3050afc69c0aca8e80da469/element/fa0a3a9b-8356-470a-bb5b-1c5055f9d302/text {\"id\": \"fa0a3a9b-8356-470a-bb5b-1c5055f9d302\"}\n",
      "2021-07-11 12:30:52,973 selenium.webdriver.remote.remote_connection DEBUG    Finished Request\n",
      "2021-07-11 12:30:52,974 selenium.webdriver.remote.remote_connection DEBUG    GET http://127.0.0.1:65229/session/317acd8cb3050afc69c0aca8e80da469/element/fa0a3a9b-8356-470a-bb5b-1c5055f9d302/text {\"id\": \"fa0a3a9b-8356-470a-bb5b-1c5055f9d302\"}\n",
      "2021-07-11 12:30:52,984 selenium.webdriver.remote.remote_connection DEBUG    Finished Request\n",
      "2021-07-11 12:30:52,985 selenium.webdriver.remote.remote_connection DEBUG    GET http://127.0.0.1:65229/session/317acd8cb3050afc69c0aca8e80da469/element/fa0a3a9b-8356-470a-bb5b-1c5055f9d302/text {\"id\": \"fa0a3a9b-8356-470a-bb5b-1c5055f9d302\"}\n",
      "2021-07-11 12:30:52,992 selenium.webdriver.remote.remote_connection DEBUG    Finished Request\n",
      "2021-07-11 12:30:52,993 selenium.webdriver.remote.remote_connection DEBUG    POST http://127.0.0.1:65229/session/317acd8cb3050afc69c0aca8e80da469/element/aeb6ac0a-4677-4abf-ae55-8a74bd4f843a/elements {\"using\": \"xpath\", \"value\": \".//option[normalize-space(.) = \\\"Sabre\\\"]\", \"id\": \"aeb6ac0a-4677-4abf-ae55-8a74bd4f843a\"}\n",
      "2021-07-11 12:30:53,006 selenium.webdriver.remote.remote_connection DEBUG    Finished Request\n",
      "2021-07-11 12:30:53,007 selenium.webdriver.remote.remote_connection DEBUG    GET http://127.0.0.1:65229/session/317acd8cb3050afc69c0aca8e80da469/element/fa0a3a9b-8356-470a-bb5b-1c5055f9d302/selected {\"id\": \"fa0a3a9b-8356-470a-bb5b-1c5055f9d302\"}\n",
      "2021-07-11 12:30:53,018 selenium.webdriver.remote.remote_connection DEBUG    Finished Request\n",
      "2021-07-11 12:30:53,020 selenium.webdriver.remote.remote_connection DEBUG    POST http://127.0.0.1:65229/session/317acd8cb3050afc69c0aca8e80da469/element/fa0a3a9b-8356-470a-bb5b-1c5055f9d302/click {\"id\": \"fa0a3a9b-8356-470a-bb5b-1c5055f9d302\"}\n",
      "2021-07-11 12:30:53,042 selenium.webdriver.remote.remote_connection DEBUG    Finished Request\n",
      "2021-07-11 12:30:53,042 selenium.webdriver.remote.remote_connection DEBUG    GET http://127.0.0.1:65229/session/317acd8cb3050afc69c0aca8e80da469/element/f0ed8381-7ecc-4d66-9079-06360e72ef36/text {\"id\": \"f0ed8381-7ecc-4d66-9079-06360e72ef36\"}\n",
      "2021-07-11 12:30:53,059 selenium.webdriver.remote.remote_connection DEBUG    Finished Request\n",
      "2021-07-11 12:30:53,059 selenium.webdriver.remote.remote_connection DEBUG    GET http://127.0.0.1:65229/session/317acd8cb3050afc69c0aca8e80da469/element/f0ed8381-7ecc-4d66-9079-06360e72ef36/text {\"id\": \"f0ed8381-7ecc-4d66-9079-06360e72ef36\"}\n",
      "2021-07-11 12:30:53,070 selenium.webdriver.remote.remote_connection DEBUG    Finished Request\n",
      "2021-07-11 12:30:53,072 selenium.webdriver.remote.remote_connection DEBUG    GET http://127.0.0.1:65229/session/317acd8cb3050afc69c0aca8e80da469/element/f0ed8381-7ecc-4d66-9079-06360e72ef36/text {\"id\": \"f0ed8381-7ecc-4d66-9079-06360e72ef36\"}\n",
      "2021-07-11 12:30:53,084 selenium.webdriver.remote.remote_connection DEBUG    Finished Request\n"
     ]
    },
    {
     "name": "stdout",
     "output_type": "stream",
     "text": [
      "Rockwood Ultra Lite\n",
      "Sabre\n",
      "Salem\n"
     ]
    },
    {
     "name": "stderr",
     "output_type": "stream",
     "text": [
      "2021-07-11 12:30:53,085 selenium.webdriver.remote.remote_connection DEBUG    POST http://127.0.0.1:65229/session/317acd8cb3050afc69c0aca8e80da469/element/aeb6ac0a-4677-4abf-ae55-8a74bd4f843a/elements {\"using\": \"xpath\", \"value\": \".//option[normalize-space(.) = \\\"Salem\\\"]\", \"id\": \"aeb6ac0a-4677-4abf-ae55-8a74bd4f843a\"}\n",
      "2021-07-11 12:30:53,100 selenium.webdriver.remote.remote_connection DEBUG    Finished Request\n",
      "2021-07-11 12:30:53,101 selenium.webdriver.remote.remote_connection DEBUG    GET http://127.0.0.1:65229/session/317acd8cb3050afc69c0aca8e80da469/element/f0ed8381-7ecc-4d66-9079-06360e72ef36/selected {\"id\": \"f0ed8381-7ecc-4d66-9079-06360e72ef36\"}\n",
      "2021-07-11 12:30:53,110 selenium.webdriver.remote.remote_connection DEBUG    Finished Request\n",
      "2021-07-11 12:30:53,112 selenium.webdriver.remote.remote_connection DEBUG    POST http://127.0.0.1:65229/session/317acd8cb3050afc69c0aca8e80da469/element/f0ed8381-7ecc-4d66-9079-06360e72ef36/click {\"id\": \"f0ed8381-7ecc-4d66-9079-06360e72ef36\"}\n",
      "2021-07-11 12:30:53,139 selenium.webdriver.remote.remote_connection DEBUG    Finished Request\n",
      "2021-07-11 12:30:53,140 selenium.webdriver.remote.remote_connection DEBUG    GET http://127.0.0.1:65229/session/317acd8cb3050afc69c0aca8e80da469/element/fd2f2576-6cdc-4708-b0d3-1f0857708ea9/text {\"id\": \"fd2f2576-6cdc-4708-b0d3-1f0857708ea9\"}\n",
      "2021-07-11 12:30:53,156 selenium.webdriver.remote.remote_connection DEBUG    Finished Request\n",
      "2021-07-11 12:30:53,157 selenium.webdriver.remote.remote_connection DEBUG    GET http://127.0.0.1:65229/session/317acd8cb3050afc69c0aca8e80da469/element/fd2f2576-6cdc-4708-b0d3-1f0857708ea9/text {\"id\": \"fd2f2576-6cdc-4708-b0d3-1f0857708ea9\"}\n",
      "2021-07-11 12:30:53,166 selenium.webdriver.remote.remote_connection DEBUG    Finished Request\n",
      "2021-07-11 12:30:53,168 selenium.webdriver.remote.remote_connection DEBUG    GET http://127.0.0.1:65229/session/317acd8cb3050afc69c0aca8e80da469/element/fd2f2576-6cdc-4708-b0d3-1f0857708ea9/text {\"id\": \"fd2f2576-6cdc-4708-b0d3-1f0857708ea9\"}\n",
      "2021-07-11 12:30:53,176 selenium.webdriver.remote.remote_connection DEBUG    Finished Request\n",
      "2021-07-11 12:30:53,178 selenium.webdriver.remote.remote_connection DEBUG    POST http://127.0.0.1:65229/session/317acd8cb3050afc69c0aca8e80da469/element/aeb6ac0a-4677-4abf-ae55-8a74bd4f843a/elements {\"using\": \"xpath\", \"value\": \".//option[normalize-space(.) = \\\"Salem FSX\\\"]\", \"id\": \"aeb6ac0a-4677-4abf-ae55-8a74bd4f843a\"}\n",
      "2021-07-11 12:30:53,191 selenium.webdriver.remote.remote_connection DEBUG    Finished Request\n",
      "2021-07-11 12:30:53,192 selenium.webdriver.remote.remote_connection DEBUG    GET http://127.0.0.1:65229/session/317acd8cb3050afc69c0aca8e80da469/element/fd2f2576-6cdc-4708-b0d3-1f0857708ea9/selected {\"id\": \"fd2f2576-6cdc-4708-b0d3-1f0857708ea9\"}\n",
      "2021-07-11 12:30:53,204 selenium.webdriver.remote.remote_connection DEBUG    Finished Request\n",
      "2021-07-11 12:30:53,205 selenium.webdriver.remote.remote_connection DEBUG    POST http://127.0.0.1:65229/session/317acd8cb3050afc69c0aca8e80da469/element/fd2f2576-6cdc-4708-b0d3-1f0857708ea9/click {\"id\": \"fd2f2576-6cdc-4708-b0d3-1f0857708ea9\"}\n",
      "2021-07-11 12:30:53,227 selenium.webdriver.remote.remote_connection DEBUG    Finished Request\n",
      "2021-07-11 12:30:53,232 selenium.webdriver.remote.remote_connection DEBUG    GET http://127.0.0.1:65229/session/317acd8cb3050afc69c0aca8e80da469/element/e7e54a72-c2d2-4bf2-87e5-462ed60ba485/text {\"id\": \"e7e54a72-c2d2-4bf2-87e5-462ed60ba485\"}\n",
      "2021-07-11 12:30:53,247 selenium.webdriver.remote.remote_connection DEBUG    Finished Request\n",
      "2021-07-11 12:30:53,249 selenium.webdriver.remote.remote_connection DEBUG    GET http://127.0.0.1:65229/session/317acd8cb3050afc69c0aca8e80da469/element/e7e54a72-c2d2-4bf2-87e5-462ed60ba485/text {\"id\": \"e7e54a72-c2d2-4bf2-87e5-462ed60ba485\"}\n",
      "2021-07-11 12:30:53,257 selenium.webdriver.remote.remote_connection DEBUG    Finished Request\n",
      "2021-07-11 12:30:53,258 selenium.webdriver.remote.remote_connection DEBUG    GET http://127.0.0.1:65229/session/317acd8cb3050afc69c0aca8e80da469/element/e7e54a72-c2d2-4bf2-87e5-462ed60ba485/text {\"id\": \"e7e54a72-c2d2-4bf2-87e5-462ed60ba485\"}\n",
      "2021-07-11 12:30:53,267 selenium.webdriver.remote.remote_connection DEBUG    Finished Request\n",
      "2021-07-11 12:30:53,268 selenium.webdriver.remote.remote_connection DEBUG    POST http://127.0.0.1:65229/session/317acd8cb3050afc69c0aca8e80da469/element/aeb6ac0a-4677-4abf-ae55-8a74bd4f843a/elements {\"using\": \"xpath\", \"value\": \".//option[normalize-space(.) = \\\"Salem FSX Northwest\\\"]\", \"id\": \"aeb6ac0a-4677-4abf-ae55-8a74bd4f843a\"}\n",
      "2021-07-11 12:30:53,283 selenium.webdriver.remote.remote_connection DEBUG    Finished Request\n",
      "2021-07-11 12:30:53,284 selenium.webdriver.remote.remote_connection DEBUG    GET http://127.0.0.1:65229/session/317acd8cb3050afc69c0aca8e80da469/element/e7e54a72-c2d2-4bf2-87e5-462ed60ba485/selected {\"id\": \"e7e54a72-c2d2-4bf2-87e5-462ed60ba485\"}\n",
      "2021-07-11 12:30:53,293 selenium.webdriver.remote.remote_connection DEBUG    Finished Request\n",
      "2021-07-11 12:30:53,296 selenium.webdriver.remote.remote_connection DEBUG    POST http://127.0.0.1:65229/session/317acd8cb3050afc69c0aca8e80da469/element/e7e54a72-c2d2-4bf2-87e5-462ed60ba485/click {\"id\": \"e7e54a72-c2d2-4bf2-87e5-462ed60ba485\"}\n",
      "2021-07-11 12:30:53,324 selenium.webdriver.remote.remote_connection DEBUG    Finished Request\n",
      "2021-07-11 12:30:53,325 selenium.webdriver.remote.remote_connection DEBUG    GET http://127.0.0.1:65229/session/317acd8cb3050afc69c0aca8e80da469/element/c8e9fac8-e2e0-4aa2-bccb-d1367085da22/text {\"id\": \"c8e9fac8-e2e0-4aa2-bccb-d1367085da22\"}\n",
      "2021-07-11 12:30:53,341 selenium.webdriver.remote.remote_connection DEBUG    Finished Request\n",
      "2021-07-11 12:30:53,342 selenium.webdriver.remote.remote_connection DEBUG    GET http://127.0.0.1:65229/session/317acd8cb3050afc69c0aca8e80da469/element/c8e9fac8-e2e0-4aa2-bccb-d1367085da22/text {\"id\": \"c8e9fac8-e2e0-4aa2-bccb-d1367085da22\"}\n",
      "2021-07-11 12:30:53,353 selenium.webdriver.remote.remote_connection DEBUG    Finished Request\n",
      "2021-07-11 12:30:53,354 selenium.webdriver.remote.remote_connection DEBUG    GET http://127.0.0.1:65229/session/317acd8cb3050afc69c0aca8e80da469/element/c8e9fac8-e2e0-4aa2-bccb-d1367085da22/text {\"id\": \"c8e9fac8-e2e0-4aa2-bccb-d1367085da22\"}\n",
      "2021-07-11 12:30:53,364 selenium.webdriver.remote.remote_connection DEBUG    Finished Request\n"
     ]
    },
    {
     "name": "stdout",
     "output_type": "stream",
     "text": [
      "Salem FSX\n",
      "Salem FSX Northwest\n",
      "Salem Villa\n"
     ]
    },
    {
     "name": "stderr",
     "output_type": "stream",
     "text": [
      "2021-07-11 12:30:53,366 selenium.webdriver.remote.remote_connection DEBUG    POST http://127.0.0.1:65229/session/317acd8cb3050afc69c0aca8e80da469/element/aeb6ac0a-4677-4abf-ae55-8a74bd4f843a/elements {\"using\": \"xpath\", \"value\": \".//option[normalize-space(.) = \\\"Salem Villa\\\"]\", \"id\": \"aeb6ac0a-4677-4abf-ae55-8a74bd4f843a\"}\n",
      "2021-07-11 12:30:53,379 selenium.webdriver.remote.remote_connection DEBUG    Finished Request\n",
      "2021-07-11 12:30:53,381 selenium.webdriver.remote.remote_connection DEBUG    GET http://127.0.0.1:65229/session/317acd8cb3050afc69c0aca8e80da469/element/c8e9fac8-e2e0-4aa2-bccb-d1367085da22/selected {\"id\": \"c8e9fac8-e2e0-4aa2-bccb-d1367085da22\"}\n",
      "2021-07-11 12:30:53,392 selenium.webdriver.remote.remote_connection DEBUG    Finished Request\n",
      "2021-07-11 12:30:53,393 selenium.webdriver.remote.remote_connection DEBUG    POST http://127.0.0.1:65229/session/317acd8cb3050afc69c0aca8e80da469/element/c8e9fac8-e2e0-4aa2-bccb-d1367085da22/click {\"id\": \"c8e9fac8-e2e0-4aa2-bccb-d1367085da22\"}\n",
      "2021-07-11 12:30:53,420 selenium.webdriver.remote.remote_connection DEBUG    Finished Request\n",
      "2021-07-11 12:30:53,421 selenium.webdriver.remote.remote_connection DEBUG    GET http://127.0.0.1:65229/session/317acd8cb3050afc69c0aca8e80da469/element/d76e855f-6c57-4cd5-b343-ba3b0f946cb4/text {\"id\": \"d76e855f-6c57-4cd5-b343-ba3b0f946cb4\"}\n",
      "2021-07-11 12:30:53,436 selenium.webdriver.remote.remote_connection DEBUG    Finished Request\n",
      "2021-07-11 12:30:53,437 selenium.webdriver.remote.remote_connection DEBUG    GET http://127.0.0.1:65229/session/317acd8cb3050afc69c0aca8e80da469/element/d76e855f-6c57-4cd5-b343-ba3b0f946cb4/text {\"id\": \"d76e855f-6c57-4cd5-b343-ba3b0f946cb4\"}\n",
      "2021-07-11 12:30:53,446 selenium.webdriver.remote.remote_connection DEBUG    Finished Request\n",
      "2021-07-11 12:30:53,449 selenium.webdriver.remote.remote_connection DEBUG    GET http://127.0.0.1:65229/session/317acd8cb3050afc69c0aca8e80da469/element/d76e855f-6c57-4cd5-b343-ba3b0f946cb4/text {\"id\": \"d76e855f-6c57-4cd5-b343-ba3b0f946cb4\"}\n",
      "2021-07-11 12:30:53,456 selenium.webdriver.remote.remote_connection DEBUG    Finished Request\n",
      "2021-07-11 12:30:53,457 selenium.webdriver.remote.remote_connection DEBUG    POST http://127.0.0.1:65229/session/317acd8cb3050afc69c0aca8e80da469/element/aeb6ac0a-4677-4abf-ae55-8a74bd4f843a/elements {\"using\": \"xpath\", \"value\": \".//option[normalize-space(.) = \\\"Sandpiper\\\"]\", \"id\": \"aeb6ac0a-4677-4abf-ae55-8a74bd4f843a\"}\n",
      "2021-07-11 12:30:53,473 selenium.webdriver.remote.remote_connection DEBUG    Finished Request\n",
      "2021-07-11 12:30:53,474 selenium.webdriver.remote.remote_connection DEBUG    GET http://127.0.0.1:65229/session/317acd8cb3050afc69c0aca8e80da469/element/d76e855f-6c57-4cd5-b343-ba3b0f946cb4/selected {\"id\": \"d76e855f-6c57-4cd5-b343-ba3b0f946cb4\"}\n",
      "2021-07-11 12:30:53,493 selenium.webdriver.remote.remote_connection DEBUG    Finished Request\n",
      "2021-07-11 12:30:53,496 selenium.webdriver.remote.remote_connection DEBUG    POST http://127.0.0.1:65229/session/317acd8cb3050afc69c0aca8e80da469/element/d76e855f-6c57-4cd5-b343-ba3b0f946cb4/click {\"id\": \"d76e855f-6c57-4cd5-b343-ba3b0f946cb4\"}\n",
      "2021-07-11 12:30:53,530 selenium.webdriver.remote.remote_connection DEBUG    Finished Request\n",
      "2021-07-11 12:30:53,533 selenium.webdriver.remote.remote_connection DEBUG    GET http://127.0.0.1:65229/session/317acd8cb3050afc69c0aca8e80da469/element/4f20d4cb-59cf-4103-a28c-a669bc824c43/text {\"id\": \"4f20d4cb-59cf-4103-a28c-a669bc824c43\"}\n",
      "2021-07-11 12:30:53,548 selenium.webdriver.remote.remote_connection DEBUG    Finished Request\n",
      "2021-07-11 12:30:53,550 selenium.webdriver.remote.remote_connection DEBUG    GET http://127.0.0.1:65229/session/317acd8cb3050afc69c0aca8e80da469/element/4f20d4cb-59cf-4103-a28c-a669bc824c43/text {\"id\": \"4f20d4cb-59cf-4103-a28c-a669bc824c43\"}\n",
      "2021-07-11 12:30:53,557 selenium.webdriver.remote.remote_connection DEBUG    Finished Request\n",
      "2021-07-11 12:30:53,558 selenium.webdriver.remote.remote_connection DEBUG    GET http://127.0.0.1:65229/session/317acd8cb3050afc69c0aca8e80da469/element/4f20d4cb-59cf-4103-a28c-a669bc824c43/text {\"id\": \"4f20d4cb-59cf-4103-a28c-a669bc824c43\"}\n",
      "2021-07-11 12:30:53,568 selenium.webdriver.remote.remote_connection DEBUG    Finished Request\n",
      "2021-07-11 12:30:53,569 selenium.webdriver.remote.remote_connection DEBUG    POST http://127.0.0.1:65229/session/317acd8cb3050afc69c0aca8e80da469/element/aeb6ac0a-4677-4abf-ae55-8a74bd4f843a/elements {\"using\": \"xpath\", \"value\": \".//option[normalize-space(.) = \\\"Sandpiper C-Class\\\"]\", \"id\": \"aeb6ac0a-4677-4abf-ae55-8a74bd4f843a\"}\n",
      "2021-07-11 12:30:53,583 selenium.webdriver.remote.remote_connection DEBUG    Finished Request\n",
      "2021-07-11 12:30:53,584 selenium.webdriver.remote.remote_connection DEBUG    GET http://127.0.0.1:65229/session/317acd8cb3050afc69c0aca8e80da469/element/4f20d4cb-59cf-4103-a28c-a669bc824c43/selected {\"id\": \"4f20d4cb-59cf-4103-a28c-a669bc824c43\"}\n",
      "2021-07-11 12:30:53,596 selenium.webdriver.remote.remote_connection DEBUG    Finished Request\n",
      "2021-07-11 12:30:53,598 selenium.webdriver.remote.remote_connection DEBUG    POST http://127.0.0.1:65229/session/317acd8cb3050afc69c0aca8e80da469/element/4f20d4cb-59cf-4103-a28c-a669bc824c43/click {\"id\": \"4f20d4cb-59cf-4103-a28c-a669bc824c43\"}\n",
      "2021-07-11 12:30:53,624 selenium.webdriver.remote.remote_connection DEBUG    Finished Request\n",
      "2021-07-11 12:30:53,625 selenium.webdriver.remote.remote_connection DEBUG    GET http://127.0.0.1:65229/session/317acd8cb3050afc69c0aca8e80da469/element/a7eda5f0-e816-480d-a3f0-0871d9223948/text {\"id\": \"a7eda5f0-e816-480d-a3f0-0871d9223948\"}\n",
      "2021-07-11 12:30:53,640 selenium.webdriver.remote.remote_connection DEBUG    Finished Request\n"
     ]
    },
    {
     "name": "stdout",
     "output_type": "stream",
     "text": [
      "Sandpiper\n",
      "Sandpiper C-Class\n"
     ]
    },
    {
     "name": "stderr",
     "output_type": "stream",
     "text": [
      "2021-07-11 12:30:53,641 selenium.webdriver.remote.remote_connection DEBUG    GET http://127.0.0.1:65229/session/317acd8cb3050afc69c0aca8e80da469/element/a7eda5f0-e816-480d-a3f0-0871d9223948/text {\"id\": \"a7eda5f0-e816-480d-a3f0-0871d9223948\"}\n",
      "2021-07-11 12:30:53,652 selenium.webdriver.remote.remote_connection DEBUG    Finished Request\n",
      "2021-07-11 12:30:53,653 selenium.webdriver.remote.remote_connection DEBUG    GET http://127.0.0.1:65229/session/317acd8cb3050afc69c0aca8e80da469/element/a7eda5f0-e816-480d-a3f0-0871d9223948/text {\"id\": \"a7eda5f0-e816-480d-a3f0-0871d9223948\"}\n",
      "2021-07-11 12:30:53,664 selenium.webdriver.remote.remote_connection DEBUG    Finished Request\n",
      "2021-07-11 12:30:53,666 selenium.webdriver.remote.remote_connection DEBUG    POST http://127.0.0.1:65229/session/317acd8cb3050afc69c0aca8e80da469/element/aeb6ac0a-4677-4abf-ae55-8a74bd4f843a/elements {\"using\": \"xpath\", \"value\": \".//option[normalize-space(.) = \\\"Sandpiper Destination\\\"]\", \"id\": \"aeb6ac0a-4677-4abf-ae55-8a74bd4f843a\"}\n",
      "2021-07-11 12:30:53,679 selenium.webdriver.remote.remote_connection DEBUG    Finished Request\n",
      "2021-07-11 12:30:53,681 selenium.webdriver.remote.remote_connection DEBUG    GET http://127.0.0.1:65229/session/317acd8cb3050afc69c0aca8e80da469/element/a7eda5f0-e816-480d-a3f0-0871d9223948/selected {\"id\": \"a7eda5f0-e816-480d-a3f0-0871d9223948\"}\n",
      "2021-07-11 12:30:53,692 selenium.webdriver.remote.remote_connection DEBUG    Finished Request\n",
      "2021-07-11 12:30:53,693 selenium.webdriver.remote.remote_connection DEBUG    POST http://127.0.0.1:65229/session/317acd8cb3050afc69c0aca8e80da469/element/a7eda5f0-e816-480d-a3f0-0871d9223948/click {\"id\": \"a7eda5f0-e816-480d-a3f0-0871d9223948\"}\n",
      "2021-07-11 12:30:53,721 selenium.webdriver.remote.remote_connection DEBUG    Finished Request\n",
      "2021-07-11 12:30:53,722 selenium.webdriver.remote.remote_connection DEBUG    GET http://127.0.0.1:65229/session/317acd8cb3050afc69c0aca8e80da469/element/80efddc3-6245-4bcc-aaa6-894a0df82ed9/text {\"id\": \"80efddc3-6245-4bcc-aaa6-894a0df82ed9\"}\n",
      "2021-07-11 12:30:53,740 selenium.webdriver.remote.remote_connection DEBUG    Finished Request\n",
      "2021-07-11 12:30:53,741 selenium.webdriver.remote.remote_connection DEBUG    GET http://127.0.0.1:65229/session/317acd8cb3050afc69c0aca8e80da469/element/80efddc3-6245-4bcc-aaa6-894a0df82ed9/text {\"id\": \"80efddc3-6245-4bcc-aaa6-894a0df82ed9\"}\n",
      "2021-07-11 12:30:53,754 selenium.webdriver.remote.remote_connection DEBUG    Finished Request\n",
      "2021-07-11 12:30:53,756 selenium.webdriver.remote.remote_connection DEBUG    GET http://127.0.0.1:65229/session/317acd8cb3050afc69c0aca8e80da469/element/80efddc3-6245-4bcc-aaa6-894a0df82ed9/text {\"id\": \"80efddc3-6245-4bcc-aaa6-894a0df82ed9\"}\n",
      "2021-07-11 12:30:53,770 selenium.webdriver.remote.remote_connection DEBUG    Finished Request\n",
      "2021-07-11 12:30:53,771 selenium.webdriver.remote.remote_connection DEBUG    POST http://127.0.0.1:65229/session/317acd8cb3050afc69c0aca8e80da469/element/aeb6ac0a-4677-4abf-ae55-8a74bd4f843a/elements {\"using\": \"xpath\", \"value\": \".//option[normalize-space(.) = \\\"Sandstorm\\\"]\", \"id\": \"aeb6ac0a-4677-4abf-ae55-8a74bd4f843a\"}\n",
      "2021-07-11 12:30:53,785 selenium.webdriver.remote.remote_connection DEBUG    Finished Request\n",
      "2021-07-11 12:30:53,786 selenium.webdriver.remote.remote_connection DEBUG    GET http://127.0.0.1:65229/session/317acd8cb3050afc69c0aca8e80da469/element/80efddc3-6245-4bcc-aaa6-894a0df82ed9/selected {\"id\": \"80efddc3-6245-4bcc-aaa6-894a0df82ed9\"}\n",
      "2021-07-11 12:30:53,799 selenium.webdriver.remote.remote_connection DEBUG    Finished Request\n",
      "2021-07-11 12:30:53,800 selenium.webdriver.remote.remote_connection DEBUG    POST http://127.0.0.1:65229/session/317acd8cb3050afc69c0aca8e80da469/element/80efddc3-6245-4bcc-aaa6-894a0df82ed9/click {\"id\": \"80efddc3-6245-4bcc-aaa6-894a0df82ed9\"}\n",
      "2021-07-11 12:30:53,832 selenium.webdriver.remote.remote_connection DEBUG    Finished Request\n",
      "2021-07-11 12:30:53,833 selenium.webdriver.remote.remote_connection DEBUG    GET http://127.0.0.1:65229/session/317acd8cb3050afc69c0aca8e80da469/element/eb4313c4-8c55-4821-9151-e28c5738753f/text {\"id\": \"eb4313c4-8c55-4821-9151-e28c5738753f\"}\n",
      "2021-07-11 12:30:53,850 selenium.webdriver.remote.remote_connection DEBUG    Finished Request\n"
     ]
    },
    {
     "name": "stdout",
     "output_type": "stream",
     "text": [
      "Sandpiper Destination\n",
      "Sandstorm\n"
     ]
    },
    {
     "name": "stderr",
     "output_type": "stream",
     "text": [
      "2021-07-11 12:30:53,851 selenium.webdriver.remote.remote_connection DEBUG    GET http://127.0.0.1:65229/session/317acd8cb3050afc69c0aca8e80da469/element/eb4313c4-8c55-4821-9151-e28c5738753f/text {\"id\": \"eb4313c4-8c55-4821-9151-e28c5738753f\"}\n",
      "2021-07-11 12:30:53,859 selenium.webdriver.remote.remote_connection DEBUG    Finished Request\n",
      "2021-07-11 12:30:53,861 selenium.webdriver.remote.remote_connection DEBUG    GET http://127.0.0.1:65229/session/317acd8cb3050afc69c0aca8e80da469/element/eb4313c4-8c55-4821-9151-e28c5738753f/text {\"id\": \"eb4313c4-8c55-4821-9151-e28c5738753f\"}\n",
      "2021-07-11 12:30:53,871 selenium.webdriver.remote.remote_connection DEBUG    Finished Request\n",
      "2021-07-11 12:30:53,873 selenium.webdriver.remote.remote_connection DEBUG    POST http://127.0.0.1:65229/session/317acd8cb3050afc69c0aca8e80da469/element/aeb6ac0a-4677-4abf-ae55-8a74bd4f843a/elements {\"using\": \"xpath\", \"value\": \".//option[normalize-space(.) = \\\"Shockwave\\\"]\", \"id\": \"aeb6ac0a-4677-4abf-ae55-8a74bd4f843a\"}\n",
      "2021-07-11 12:30:53,922 selenium.webdriver.remote.remote_connection DEBUG    Finished Request\n",
      "2021-07-11 12:30:53,923 selenium.webdriver.remote.remote_connection DEBUG    GET http://127.0.0.1:65229/session/317acd8cb3050afc69c0aca8e80da469/element/eb4313c4-8c55-4821-9151-e28c5738753f/selected {\"id\": \"eb4313c4-8c55-4821-9151-e28c5738753f\"}\n",
      "2021-07-11 12:30:53,936 selenium.webdriver.remote.remote_connection DEBUG    Finished Request\n",
      "2021-07-11 12:30:53,937 selenium.webdriver.remote.remote_connection DEBUG    POST http://127.0.0.1:65229/session/317acd8cb3050afc69c0aca8e80da469/element/eb4313c4-8c55-4821-9151-e28c5738753f/click {\"id\": \"eb4313c4-8c55-4821-9151-e28c5738753f\"}\n",
      "2021-07-11 12:30:53,960 selenium.webdriver.remote.remote_connection DEBUG    Finished Request\n",
      "2021-07-11 12:30:53,962 selenium.webdriver.remote.remote_connection DEBUG    GET http://127.0.0.1:65229/session/317acd8cb3050afc69c0aca8e80da469/element/bbafafd4-85f4-4a63-b245-d379a31c84b0/text {\"id\": \"bbafafd4-85f4-4a63-b245-d379a31c84b0\"}\n",
      "2021-07-11 12:30:53,982 selenium.webdriver.remote.remote_connection DEBUG    Finished Request\n",
      "2021-07-11 12:30:53,985 selenium.webdriver.remote.remote_connection DEBUG    GET http://127.0.0.1:65229/session/317acd8cb3050afc69c0aca8e80da469/element/bbafafd4-85f4-4a63-b245-d379a31c84b0/text {\"id\": \"bbafafd4-85f4-4a63-b245-d379a31c84b0\"}\n",
      "2021-07-11 12:30:53,992 selenium.webdriver.remote.remote_connection DEBUG    Finished Request\n",
      "2021-07-11 12:30:53,993 selenium.webdriver.remote.remote_connection DEBUG    GET http://127.0.0.1:65229/session/317acd8cb3050afc69c0aca8e80da469/element/bbafafd4-85f4-4a63-b245-d379a31c84b0/text {\"id\": \"bbafafd4-85f4-4a63-b245-d379a31c84b0\"}\n",
      "2021-07-11 12:30:54,005 selenium.webdriver.remote.remote_connection DEBUG    Finished Request\n",
      "2021-07-11 12:30:54,006 selenium.webdriver.remote.remote_connection DEBUG    POST http://127.0.0.1:65229/session/317acd8cb3050afc69c0aca8e80da469/element/aeb6ac0a-4677-4abf-ae55-8a74bd4f843a/elements {\"using\": \"xpath\", \"value\": \".//option[normalize-space(.) = \\\"Sierra\\\"]\", \"id\": \"aeb6ac0a-4677-4abf-ae55-8a74bd4f843a\"}\n",
      "2021-07-11 12:30:54,021 selenium.webdriver.remote.remote_connection DEBUG    Finished Request\n",
      "2021-07-11 12:30:54,022 selenium.webdriver.remote.remote_connection DEBUG    GET http://127.0.0.1:65229/session/317acd8cb3050afc69c0aca8e80da469/element/bbafafd4-85f4-4a63-b245-d379a31c84b0/selected {\"id\": \"bbafafd4-85f4-4a63-b245-d379a31c84b0\"}\n",
      "2021-07-11 12:30:54,037 selenium.webdriver.remote.remote_connection DEBUG    Finished Request\n",
      "2021-07-11 12:30:54,038 selenium.webdriver.remote.remote_connection DEBUG    POST http://127.0.0.1:65229/session/317acd8cb3050afc69c0aca8e80da469/element/bbafafd4-85f4-4a63-b245-d379a31c84b0/click {\"id\": \"bbafafd4-85f4-4a63-b245-d379a31c84b0\"}\n",
      "2021-07-11 12:30:54,075 selenium.webdriver.remote.remote_connection DEBUG    Finished Request\n"
     ]
    },
    {
     "name": "stdout",
     "output_type": "stream",
     "text": [
      "Shockwave\n",
      "Sierra\n"
     ]
    },
    {
     "name": "stderr",
     "output_type": "stream",
     "text": [
      "2021-07-11 12:30:54,076 selenium.webdriver.remote.remote_connection DEBUG    GET http://127.0.0.1:65229/session/317acd8cb3050afc69c0aca8e80da469/element/9b8e4a25-ad3e-4f80-95a2-571b63cb5565/text {\"id\": \"9b8e4a25-ad3e-4f80-95a2-571b63cb5565\"}\n",
      "2021-07-11 12:30:54,102 selenium.webdriver.remote.remote_connection DEBUG    Finished Request\n",
      "2021-07-11 12:30:54,103 selenium.webdriver.remote.remote_connection DEBUG    GET http://127.0.0.1:65229/session/317acd8cb3050afc69c0aca8e80da469/element/9b8e4a25-ad3e-4f80-95a2-571b63cb5565/text {\"id\": \"9b8e4a25-ad3e-4f80-95a2-571b63cb5565\"}\n",
      "2021-07-11 12:30:54,113 selenium.webdriver.remote.remote_connection DEBUG    Finished Request\n",
      "2021-07-11 12:30:54,116 selenium.webdriver.remote.remote_connection DEBUG    GET http://127.0.0.1:65229/session/317acd8cb3050afc69c0aca8e80da469/element/9b8e4a25-ad3e-4f80-95a2-571b63cb5565/text {\"id\": \"9b8e4a25-ad3e-4f80-95a2-571b63cb5565\"}\n",
      "2021-07-11 12:30:54,124 selenium.webdriver.remote.remote_connection DEBUG    Finished Request\n",
      "2021-07-11 12:30:54,125 selenium.webdriver.remote.remote_connection DEBUG    POST http://127.0.0.1:65229/session/317acd8cb3050afc69c0aca8e80da469/element/aeb6ac0a-4677-4abf-ae55-8a74bd4f843a/elements {\"using\": \"xpath\", \"value\": \".//option[normalize-space(.) = \\\"Sierra C-Class\\\"]\", \"id\": \"aeb6ac0a-4677-4abf-ae55-8a74bd4f843a\"}\n",
      "2021-07-11 12:30:54,140 selenium.webdriver.remote.remote_connection DEBUG    Finished Request\n",
      "2021-07-11 12:30:54,141 selenium.webdriver.remote.remote_connection DEBUG    GET http://127.0.0.1:65229/session/317acd8cb3050afc69c0aca8e80da469/element/9b8e4a25-ad3e-4f80-95a2-571b63cb5565/selected {\"id\": \"9b8e4a25-ad3e-4f80-95a2-571b63cb5565\"}\n",
      "2021-07-11 12:30:54,155 selenium.webdriver.remote.remote_connection DEBUG    Finished Request\n",
      "2021-07-11 12:30:54,156 selenium.webdriver.remote.remote_connection DEBUG    POST http://127.0.0.1:65229/session/317acd8cb3050afc69c0aca8e80da469/element/9b8e4a25-ad3e-4f80-95a2-571b63cb5565/click {\"id\": \"9b8e4a25-ad3e-4f80-95a2-571b63cb5565\"}\n",
      "2021-07-11 12:30:54,198 selenium.webdriver.remote.remote_connection DEBUG    Finished Request\n",
      "2021-07-11 12:30:54,200 selenium.webdriver.remote.remote_connection DEBUG    GET http://127.0.0.1:65229/session/317acd8cb3050afc69c0aca8e80da469/element/003708fb-7323-4a10-86a5-6b3b0771f923/text {\"id\": \"003708fb-7323-4a10-86a5-6b3b0771f923\"}\n",
      "2021-07-11 12:30:54,234 selenium.webdriver.remote.remote_connection DEBUG    Finished Request\n",
      "2021-07-11 12:30:54,235 selenium.webdriver.remote.remote_connection DEBUG    GET http://127.0.0.1:65229/session/317acd8cb3050afc69c0aca8e80da469/element/003708fb-7323-4a10-86a5-6b3b0771f923/text {\"id\": \"003708fb-7323-4a10-86a5-6b3b0771f923\"}\n",
      "2021-07-11 12:30:54,253 selenium.webdriver.remote.remote_connection DEBUG    Finished Request\n",
      "2021-07-11 12:30:54,255 selenium.webdriver.remote.remote_connection DEBUG    GET http://127.0.0.1:65229/session/317acd8cb3050afc69c0aca8e80da469/element/003708fb-7323-4a10-86a5-6b3b0771f923/text {\"id\": \"003708fb-7323-4a10-86a5-6b3b0771f923\"}\n",
      "2021-07-11 12:30:54,267 selenium.webdriver.remote.remote_connection DEBUG    Finished Request\n",
      "2021-07-11 12:30:54,268 selenium.webdriver.remote.remote_connection DEBUG    POST http://127.0.0.1:65229/session/317acd8cb3050afc69c0aca8e80da469/element/aeb6ac0a-4677-4abf-ae55-8a74bd4f843a/elements {\"using\": \"xpath\", \"value\": \".//option[normalize-space(.) = \\\"Sierra Destination\\\"]\", \"id\": \"aeb6ac0a-4677-4abf-ae55-8a74bd4f843a\"}\n",
      "2021-07-11 12:30:54,283 selenium.webdriver.remote.remote_connection DEBUG    Finished Request\n",
      "2021-07-11 12:30:54,284 selenium.webdriver.remote.remote_connection DEBUG    GET http://127.0.0.1:65229/session/317acd8cb3050afc69c0aca8e80da469/element/003708fb-7323-4a10-86a5-6b3b0771f923/selected {\"id\": \"003708fb-7323-4a10-86a5-6b3b0771f923\"}\n",
      "2021-07-11 12:30:54,298 selenium.webdriver.remote.remote_connection DEBUG    Finished Request\n"
     ]
    },
    {
     "name": "stdout",
     "output_type": "stream",
     "text": [
      "Sierra C-Class\n",
      "Sierra Destination\n"
     ]
    },
    {
     "name": "stderr",
     "output_type": "stream",
     "text": [
      "2021-07-11 12:30:54,300 selenium.webdriver.remote.remote_connection DEBUG    POST http://127.0.0.1:65229/session/317acd8cb3050afc69c0aca8e80da469/element/003708fb-7323-4a10-86a5-6b3b0771f923/click {\"id\": \"003708fb-7323-4a10-86a5-6b3b0771f923\"}\n",
      "2021-07-11 12:30:54,326 selenium.webdriver.remote.remote_connection DEBUG    Finished Request\n",
      "2021-07-11 12:30:54,327 selenium.webdriver.remote.remote_connection DEBUG    GET http://127.0.0.1:65229/session/317acd8cb3050afc69c0aca8e80da469/element/48189d54-8beb-4f95-b707-f13c05c88907/text {\"id\": \"48189d54-8beb-4f95-b707-f13c05c88907\"}\n",
      "2021-07-11 12:30:54,345 selenium.webdriver.remote.remote_connection DEBUG    Finished Request\n",
      "2021-07-11 12:30:54,347 selenium.webdriver.remote.remote_connection DEBUG    GET http://127.0.0.1:65229/session/317acd8cb3050afc69c0aca8e80da469/element/48189d54-8beb-4f95-b707-f13c05c88907/text {\"id\": \"48189d54-8beb-4f95-b707-f13c05c88907\"}\n",
      "2021-07-11 12:30:54,356 selenium.webdriver.remote.remote_connection DEBUG    Finished Request\n",
      "2021-07-11 12:30:54,357 selenium.webdriver.remote.remote_connection DEBUG    GET http://127.0.0.1:65229/session/317acd8cb3050afc69c0aca8e80da469/element/48189d54-8beb-4f95-b707-f13c05c88907/text {\"id\": \"48189d54-8beb-4f95-b707-f13c05c88907\"}\n",
      "2021-07-11 12:30:54,365 selenium.webdriver.remote.remote_connection DEBUG    Finished Request\n",
      "2021-07-11 12:30:54,366 selenium.webdriver.remote.remote_connection DEBUG    POST http://127.0.0.1:65229/session/317acd8cb3050afc69c0aca8e80da469/element/aeb6ac0a-4677-4abf-ae55-8a74bd4f843a/elements {\"using\": \"xpath\", \"value\": \".//option[normalize-space(.) = \\\"Solera\\\"]\", \"id\": \"aeb6ac0a-4677-4abf-ae55-8a74bd4f843a\"}\n",
      "2021-07-11 12:30:54,380 selenium.webdriver.remote.remote_connection DEBUG    Finished Request\n",
      "2021-07-11 12:30:54,381 selenium.webdriver.remote.remote_connection DEBUG    GET http://127.0.0.1:65229/session/317acd8cb3050afc69c0aca8e80da469/element/48189d54-8beb-4f95-b707-f13c05c88907/selected {\"id\": \"48189d54-8beb-4f95-b707-f13c05c88907\"}\n",
      "2021-07-11 12:30:54,391 selenium.webdriver.remote.remote_connection DEBUG    Finished Request\n",
      "2021-07-11 12:30:54,391 selenium.webdriver.remote.remote_connection DEBUG    POST http://127.0.0.1:65229/session/317acd8cb3050afc69c0aca8e80da469/element/48189d54-8beb-4f95-b707-f13c05c88907/click {\"id\": \"48189d54-8beb-4f95-b707-f13c05c88907\"}\n",
      "2021-07-11 12:30:54,417 selenium.webdriver.remote.remote_connection DEBUG    Finished Request\n",
      "2021-07-11 12:30:54,420 selenium.webdriver.remote.remote_connection DEBUG    GET http://127.0.0.1:65229/session/317acd8cb3050afc69c0aca8e80da469/element/5c023bfe-78af-4424-9d63-2b867ec338e4/text {\"id\": \"5c023bfe-78af-4424-9d63-2b867ec338e4\"}\n",
      "2021-07-11 12:30:54,433 selenium.webdriver.remote.remote_connection DEBUG    Finished Request\n",
      "2021-07-11 12:30:54,434 selenium.webdriver.remote.remote_connection DEBUG    GET http://127.0.0.1:65229/session/317acd8cb3050afc69c0aca8e80da469/element/5c023bfe-78af-4424-9d63-2b867ec338e4/text {\"id\": \"5c023bfe-78af-4424-9d63-2b867ec338e4\"}\n",
      "2021-07-11 12:30:54,444 selenium.webdriver.remote.remote_connection DEBUG    Finished Request\n",
      "2021-07-11 12:30:54,447 selenium.webdriver.remote.remote_connection DEBUG    GET http://127.0.0.1:65229/session/317acd8cb3050afc69c0aca8e80da469/element/5c023bfe-78af-4424-9d63-2b867ec338e4/text {\"id\": \"5c023bfe-78af-4424-9d63-2b867ec338e4\"}\n",
      "2021-07-11 12:30:54,454 selenium.webdriver.remote.remote_connection DEBUG    Finished Request\n",
      "2021-07-11 12:30:54,455 selenium.webdriver.remote.remote_connection DEBUG    POST http://127.0.0.1:65229/session/317acd8cb3050afc69c0aca8e80da469/element/aeb6ac0a-4677-4abf-ae55-8a74bd4f843a/elements {\"using\": \"xpath\", \"value\": \".//option[normalize-space(.) = \\\"Sonoma\\\"]\", \"id\": \"aeb6ac0a-4677-4abf-ae55-8a74bd4f843a\"}\n",
      "2021-07-11 12:30:54,469 selenium.webdriver.remote.remote_connection DEBUG    Finished Request\n",
      "2021-07-11 12:30:54,470 selenium.webdriver.remote.remote_connection DEBUG    GET http://127.0.0.1:65229/session/317acd8cb3050afc69c0aca8e80da469/element/5c023bfe-78af-4424-9d63-2b867ec338e4/selected {\"id\": \"5c023bfe-78af-4424-9d63-2b867ec338e4\"}\n",
      "2021-07-11 12:30:54,481 selenium.webdriver.remote.remote_connection DEBUG    Finished Request\n",
      "2021-07-11 12:30:54,482 selenium.webdriver.remote.remote_connection DEBUG    POST http://127.0.0.1:65229/session/317acd8cb3050afc69c0aca8e80da469/element/5c023bfe-78af-4424-9d63-2b867ec338e4/click {\"id\": \"5c023bfe-78af-4424-9d63-2b867ec338e4\"}\n",
      "2021-07-11 12:30:54,520 selenium.webdriver.remote.remote_connection DEBUG    Finished Request\n",
      "2021-07-11 12:30:54,521 selenium.webdriver.remote.remote_connection DEBUG    GET http://127.0.0.1:65229/session/317acd8cb3050afc69c0aca8e80da469/element/649549e5-6809-4031-9fae-e1b1214c9bc3/text {\"id\": \"649549e5-6809-4031-9fae-e1b1214c9bc3\"}\n",
      "2021-07-11 12:30:54,535 selenium.webdriver.remote.remote_connection DEBUG    Finished Request\n",
      "2021-07-11 12:30:54,536 selenium.webdriver.remote.remote_connection DEBUG    GET http://127.0.0.1:65229/session/317acd8cb3050afc69c0aca8e80da469/element/649549e5-6809-4031-9fae-e1b1214c9bc3/text {\"id\": \"649549e5-6809-4031-9fae-e1b1214c9bc3\"}\n",
      "2021-07-11 12:30:54,547 selenium.webdriver.remote.remote_connection DEBUG    Finished Request\n"
     ]
    },
    {
     "name": "stdout",
     "output_type": "stream",
     "text": [
      "Solera\n",
      "Sonoma\n"
     ]
    },
    {
     "name": "stderr",
     "output_type": "stream",
     "text": [
      "2021-07-11 12:30:54,548 selenium.webdriver.remote.remote_connection DEBUG    GET http://127.0.0.1:65229/session/317acd8cb3050afc69c0aca8e80da469/element/649549e5-6809-4031-9fae-e1b1214c9bc3/text {\"id\": \"649549e5-6809-4031-9fae-e1b1214c9bc3\"}\n",
      "2021-07-11 12:30:54,557 selenium.webdriver.remote.remote_connection DEBUG    Finished Request\n",
      "2021-07-11 12:30:54,558 selenium.webdriver.remote.remote_connection DEBUG    POST http://127.0.0.1:65229/session/317acd8cb3050afc69c0aca8e80da469/element/aeb6ac0a-4677-4abf-ae55-8a74bd4f843a/elements {\"using\": \"xpath\", \"value\": \".//option[normalize-space(.) = \\\"Stealth\\\"]\", \"id\": \"aeb6ac0a-4677-4abf-ae55-8a74bd4f843a\"}\n",
      "2021-07-11 12:30:54,574 selenium.webdriver.remote.remote_connection DEBUG    Finished Request\n",
      "2021-07-11 12:30:54,575 selenium.webdriver.remote.remote_connection DEBUG    GET http://127.0.0.1:65229/session/317acd8cb3050afc69c0aca8e80da469/element/649549e5-6809-4031-9fae-e1b1214c9bc3/selected {\"id\": \"649549e5-6809-4031-9fae-e1b1214c9bc3\"}\n",
      "2021-07-11 12:30:54,588 selenium.webdriver.remote.remote_connection DEBUG    Finished Request\n",
      "2021-07-11 12:30:54,589 selenium.webdriver.remote.remote_connection DEBUG    POST http://127.0.0.1:65229/session/317acd8cb3050afc69c0aca8e80da469/element/649549e5-6809-4031-9fae-e1b1214c9bc3/click {\"id\": \"649549e5-6809-4031-9fae-e1b1214c9bc3\"}\n",
      "2021-07-11 12:30:54,616 selenium.webdriver.remote.remote_connection DEBUG    Finished Request\n",
      "2021-07-11 12:30:54,617 selenium.webdriver.remote.remote_connection DEBUG    GET http://127.0.0.1:65229/session/317acd8cb3050afc69c0aca8e80da469/element/bd2c2db9-f073-4946-abbd-29a49d779658/text {\"id\": \"bd2c2db9-f073-4946-abbd-29a49d779658\"}\n",
      "2021-07-11 12:30:54,630 selenium.webdriver.remote.remote_connection DEBUG    Finished Request\n",
      "2021-07-11 12:30:54,631 selenium.webdriver.remote.remote_connection DEBUG    GET http://127.0.0.1:65229/session/317acd8cb3050afc69c0aca8e80da469/element/bd2c2db9-f073-4946-abbd-29a49d779658/text {\"id\": \"bd2c2db9-f073-4946-abbd-29a49d779658\"}\n",
      "2021-07-11 12:30:54,641 selenium.webdriver.remote.remote_connection DEBUG    Finished Request\n",
      "2021-07-11 12:30:54,642 selenium.webdriver.remote.remote_connection DEBUG    GET http://127.0.0.1:65229/session/317acd8cb3050afc69c0aca8e80da469/element/bd2c2db9-f073-4946-abbd-29a49d779658/text {\"id\": \"bd2c2db9-f073-4946-abbd-29a49d779658\"}\n",
      "2021-07-11 12:30:54,653 selenium.webdriver.remote.remote_connection DEBUG    Finished Request\n",
      "2021-07-11 12:30:54,655 selenium.webdriver.remote.remote_connection DEBUG    POST http://127.0.0.1:65229/session/317acd8cb3050afc69c0aca8e80da469/element/aeb6ac0a-4677-4abf-ae55-8a74bd4f843a/elements {\"using\": \"xpath\", \"value\": \".//option[normalize-space(.) = \\\"Sunseeker Classic\\\"]\", \"id\": \"aeb6ac0a-4677-4abf-ae55-8a74bd4f843a\"}\n",
      "2021-07-11 12:30:54,667 selenium.webdriver.remote.remote_connection DEBUG    Finished Request\n",
      "2021-07-11 12:30:54,670 selenium.webdriver.remote.remote_connection DEBUG    GET http://127.0.0.1:65229/session/317acd8cb3050afc69c0aca8e80da469/element/bd2c2db9-f073-4946-abbd-29a49d779658/selected {\"id\": \"bd2c2db9-f073-4946-abbd-29a49d779658\"}\n",
      "2021-07-11 12:30:54,679 selenium.webdriver.remote.remote_connection DEBUG    Finished Request\n",
      "2021-07-11 12:30:54,680 selenium.webdriver.remote.remote_connection DEBUG    POST http://127.0.0.1:65229/session/317acd8cb3050afc69c0aca8e80da469/element/bd2c2db9-f073-4946-abbd-29a49d779658/click {\"id\": \"bd2c2db9-f073-4946-abbd-29a49d779658\"}\n",
      "2021-07-11 12:30:54,705 selenium.webdriver.remote.remote_connection DEBUG    Finished Request\n",
      "2021-07-11 12:30:54,706 selenium.webdriver.remote.remote_connection DEBUG    GET http://127.0.0.1:65229/session/317acd8cb3050afc69c0aca8e80da469/element/9f2dfbad-0509-4c1b-9ecd-36c19d658ac1/text {\"id\": \"9f2dfbad-0509-4c1b-9ecd-36c19d658ac1\"}\n",
      "2021-07-11 12:30:54,720 selenium.webdriver.remote.remote_connection DEBUG    Finished Request\n",
      "2021-07-11 12:30:54,722 selenium.webdriver.remote.remote_connection DEBUG    GET http://127.0.0.1:65229/session/317acd8cb3050afc69c0aca8e80da469/element/9f2dfbad-0509-4c1b-9ecd-36c19d658ac1/text {\"id\": \"9f2dfbad-0509-4c1b-9ecd-36c19d658ac1\"}\n"
     ]
    },
    {
     "name": "stdout",
     "output_type": "stream",
     "text": [
      "Stealth\n",
      "Sunseeker Classic\n"
     ]
    },
    {
     "name": "stderr",
     "output_type": "stream",
     "text": [
      "2021-07-11 12:30:54,732 selenium.webdriver.remote.remote_connection DEBUG    Finished Request\n",
      "2021-07-11 12:30:54,733 selenium.webdriver.remote.remote_connection DEBUG    GET http://127.0.0.1:65229/session/317acd8cb3050afc69c0aca8e80da469/element/9f2dfbad-0509-4c1b-9ecd-36c19d658ac1/text {\"id\": \"9f2dfbad-0509-4c1b-9ecd-36c19d658ac1\"}\n",
      "2021-07-11 12:30:54,742 selenium.webdriver.remote.remote_connection DEBUG    Finished Request\n",
      "2021-07-11 12:30:54,743 selenium.webdriver.remote.remote_connection DEBUG    POST http://127.0.0.1:65229/session/317acd8cb3050afc69c0aca8e80da469/element/aeb6ac0a-4677-4abf-ae55-8a74bd4f843a/elements {\"using\": \"xpath\", \"value\": \".//option[normalize-space(.) = \\\"Sunseeker LE\\\"]\", \"id\": \"aeb6ac0a-4677-4abf-ae55-8a74bd4f843a\"}\n",
      "2021-07-11 12:30:54,757 selenium.webdriver.remote.remote_connection DEBUG    Finished Request\n",
      "2021-07-11 12:30:54,757 selenium.webdriver.remote.remote_connection DEBUG    GET http://127.0.0.1:65229/session/317acd8cb3050afc69c0aca8e80da469/element/9f2dfbad-0509-4c1b-9ecd-36c19d658ac1/selected {\"id\": \"9f2dfbad-0509-4c1b-9ecd-36c19d658ac1\"}\n",
      "2021-07-11 12:30:54,768 selenium.webdriver.remote.remote_connection DEBUG    Finished Request\n",
      "2021-07-11 12:30:54,770 selenium.webdriver.remote.remote_connection DEBUG    POST http://127.0.0.1:65229/session/317acd8cb3050afc69c0aca8e80da469/element/9f2dfbad-0509-4c1b-9ecd-36c19d658ac1/click {\"id\": \"9f2dfbad-0509-4c1b-9ecd-36c19d658ac1\"}\n",
      "2021-07-11 12:30:54,792 selenium.webdriver.remote.remote_connection DEBUG    Finished Request\n",
      "2021-07-11 12:30:54,793 selenium.webdriver.remote.remote_connection DEBUG    GET http://127.0.0.1:65229/session/317acd8cb3050afc69c0aca8e80da469/element/d5e77836-b62c-4ff7-ad59-447966fe8b28/text {\"id\": \"d5e77836-b62c-4ff7-ad59-447966fe8b28\"}\n",
      "2021-07-11 12:30:54,807 selenium.webdriver.remote.remote_connection DEBUG    Finished Request\n",
      "2021-07-11 12:30:54,808 selenium.webdriver.remote.remote_connection DEBUG    GET http://127.0.0.1:65229/session/317acd8cb3050afc69c0aca8e80da469/element/d5e77836-b62c-4ff7-ad59-447966fe8b28/text {\"id\": \"d5e77836-b62c-4ff7-ad59-447966fe8b28\"}\n",
      "2021-07-11 12:30:54,819 selenium.webdriver.remote.remote_connection DEBUG    Finished Request\n",
      "2021-07-11 12:30:54,821 selenium.webdriver.remote.remote_connection DEBUG    GET http://127.0.0.1:65229/session/317acd8cb3050afc69c0aca8e80da469/element/d5e77836-b62c-4ff7-ad59-447966fe8b28/text {\"id\": \"d5e77836-b62c-4ff7-ad59-447966fe8b28\"}\n",
      "2021-07-11 12:30:54,830 selenium.webdriver.remote.remote_connection DEBUG    Finished Request\n",
      "2021-07-11 12:30:54,831 selenium.webdriver.remote.remote_connection DEBUG    POST http://127.0.0.1:65229/session/317acd8cb3050afc69c0aca8e80da469/element/aeb6ac0a-4677-4abf-ae55-8a74bd4f843a/elements {\"using\": \"xpath\", \"value\": \".//option[normalize-space(.) = \\\"Sunseeker MBS\\\"]\", \"id\": \"aeb6ac0a-4677-4abf-ae55-8a74bd4f843a\"}\n",
      "2021-07-11 12:30:54,847 selenium.webdriver.remote.remote_connection DEBUG    Finished Request\n",
      "2021-07-11 12:30:54,848 selenium.webdriver.remote.remote_connection DEBUG    GET http://127.0.0.1:65229/session/317acd8cb3050afc69c0aca8e80da469/element/d5e77836-b62c-4ff7-ad59-447966fe8b28/selected {\"id\": \"d5e77836-b62c-4ff7-ad59-447966fe8b28\"}\n",
      "2021-07-11 12:30:54,859 selenium.webdriver.remote.remote_connection DEBUG    Finished Request\n",
      "2021-07-11 12:30:54,861 selenium.webdriver.remote.remote_connection DEBUG    POST http://127.0.0.1:65229/session/317acd8cb3050afc69c0aca8e80da469/element/d5e77836-b62c-4ff7-ad59-447966fe8b28/click {\"id\": \"d5e77836-b62c-4ff7-ad59-447966fe8b28\"}\n",
      "2021-07-11 12:30:54,897 selenium.webdriver.remote.remote_connection DEBUG    Finished Request\n",
      "2021-07-11 12:30:54,898 selenium.webdriver.remote.remote_connection DEBUG    GET http://127.0.0.1:65229/session/317acd8cb3050afc69c0aca8e80da469/element/67abc70f-3c3c-40be-a4e3-989b3ed9db33/text {\"id\": \"67abc70f-3c3c-40be-a4e3-989b3ed9db33\"}\n",
      "2021-07-11 12:30:54,916 selenium.webdriver.remote.remote_connection DEBUG    Finished Request\n",
      "2021-07-11 12:30:54,917 selenium.webdriver.remote.remote_connection DEBUG    GET http://127.0.0.1:65229/session/317acd8cb3050afc69c0aca8e80da469/element/67abc70f-3c3c-40be-a4e3-989b3ed9db33/text {\"id\": \"67abc70f-3c3c-40be-a4e3-989b3ed9db33\"}\n"
     ]
    },
    {
     "name": "stdout",
     "output_type": "stream",
     "text": [
      "Sunseeker LE\n",
      "Sunseeker MBS\n"
     ]
    },
    {
     "name": "stderr",
     "output_type": "stream",
     "text": [
      "2021-07-11 12:30:54,925 selenium.webdriver.remote.remote_connection DEBUG    Finished Request\n",
      "2021-07-11 12:30:54,928 selenium.webdriver.remote.remote_connection DEBUG    GET http://127.0.0.1:65229/session/317acd8cb3050afc69c0aca8e80da469/element/67abc70f-3c3c-40be-a4e3-989b3ed9db33/text {\"id\": \"67abc70f-3c3c-40be-a4e3-989b3ed9db33\"}\n",
      "2021-07-11 12:30:54,937 selenium.webdriver.remote.remote_connection DEBUG    Finished Request\n",
      "2021-07-11 12:30:54,938 selenium.webdriver.remote.remote_connection DEBUG    POST http://127.0.0.1:65229/session/317acd8cb3050afc69c0aca8e80da469/element/aeb6ac0a-4677-4abf-ae55-8a74bd4f843a/elements {\"using\": \"xpath\", \"value\": \".//option[normalize-space(.) = \\\"Sunseeker TS\\\"]\", \"id\": \"aeb6ac0a-4677-4abf-ae55-8a74bd4f843a\"}\n",
      "2021-07-11 12:30:54,951 selenium.webdriver.remote.remote_connection DEBUG    Finished Request\n",
      "2021-07-11 12:30:54,952 selenium.webdriver.remote.remote_connection DEBUG    GET http://127.0.0.1:65229/session/317acd8cb3050afc69c0aca8e80da469/element/67abc70f-3c3c-40be-a4e3-989b3ed9db33/selected {\"id\": \"67abc70f-3c3c-40be-a4e3-989b3ed9db33\"}\n",
      "2021-07-11 12:30:54,964 selenium.webdriver.remote.remote_connection DEBUG    Finished Request\n",
      "2021-07-11 12:30:54,965 selenium.webdriver.remote.remote_connection DEBUG    POST http://127.0.0.1:65229/session/317acd8cb3050afc69c0aca8e80da469/element/67abc70f-3c3c-40be-a4e3-989b3ed9db33/click {\"id\": \"67abc70f-3c3c-40be-a4e3-989b3ed9db33\"}\n",
      "2021-07-11 12:30:54,989 selenium.webdriver.remote.remote_connection DEBUG    Finished Request\n",
      "2021-07-11 12:30:54,989 selenium.webdriver.remote.remote_connection DEBUG    GET http://127.0.0.1:65229/session/317acd8cb3050afc69c0aca8e80da469/element/4d435997-a634-4ab4-b8d4-55f753565508/text {\"id\": \"4d435997-a634-4ab4-b8d4-55f753565508\"}\n",
      "2021-07-11 12:30:55,004 selenium.webdriver.remote.remote_connection DEBUG    Finished Request\n",
      "2021-07-11 12:30:55,005 selenium.webdriver.remote.remote_connection DEBUG    GET http://127.0.0.1:65229/session/317acd8cb3050afc69c0aca8e80da469/element/4d435997-a634-4ab4-b8d4-55f753565508/text {\"id\": \"4d435997-a634-4ab4-b8d4-55f753565508\"}\n",
      "2021-07-11 12:30:55,015 selenium.webdriver.remote.remote_connection DEBUG    Finished Request\n",
      "2021-07-11 12:30:55,016 selenium.webdriver.remote.remote_connection DEBUG    GET http://127.0.0.1:65229/session/317acd8cb3050afc69c0aca8e80da469/element/4d435997-a634-4ab4-b8d4-55f753565508/text {\"id\": \"4d435997-a634-4ab4-b8d4-55f753565508\"}\n",
      "2021-07-11 12:30:55,024 selenium.webdriver.remote.remote_connection DEBUG    Finished Request\n",
      "2021-07-11 12:30:55,025 selenium.webdriver.remote.remote_connection DEBUG    POST http://127.0.0.1:65229/session/317acd8cb3050afc69c0aca8e80da469/element/aeb6ac0a-4677-4abf-ae55-8a74bd4f843a/elements {\"using\": \"xpath\", \"value\": \".//option[normalize-space(.) = \\\"Surveyor Legend\\\"]\", \"id\": \"aeb6ac0a-4677-4abf-ae55-8a74bd4f843a\"}\n",
      "2021-07-11 12:30:55,040 selenium.webdriver.remote.remote_connection DEBUG    Finished Request\n",
      "2021-07-11 12:30:55,041 selenium.webdriver.remote.remote_connection DEBUG    GET http://127.0.0.1:65229/session/317acd8cb3050afc69c0aca8e80da469/element/4d435997-a634-4ab4-b8d4-55f753565508/selected {\"id\": \"4d435997-a634-4ab4-b8d4-55f753565508\"}\n",
      "2021-07-11 12:30:55,054 selenium.webdriver.remote.remote_connection DEBUG    Finished Request\n",
      "2021-07-11 12:30:55,055 selenium.webdriver.remote.remote_connection DEBUG    POST http://127.0.0.1:65229/session/317acd8cb3050afc69c0aca8e80da469/element/4d435997-a634-4ab4-b8d4-55f753565508/click {\"id\": \"4d435997-a634-4ab4-b8d4-55f753565508\"}\n",
      "2021-07-11 12:30:55,086 selenium.webdriver.remote.remote_connection DEBUG    Finished Request\n",
      "2021-07-11 12:30:55,087 selenium.webdriver.remote.remote_connection DEBUG    GET http://127.0.0.1:65229/session/317acd8cb3050afc69c0aca8e80da469/element/21c6c29e-603e-4227-a6c3-b6be16cc7943/text {\"id\": \"21c6c29e-603e-4227-a6c3-b6be16cc7943\"}\n",
      "2021-07-11 12:30:55,102 selenium.webdriver.remote.remote_connection DEBUG    Finished Request\n",
      "2021-07-11 12:30:55,104 selenium.webdriver.remote.remote_connection DEBUG    GET http://127.0.0.1:65229/session/317acd8cb3050afc69c0aca8e80da469/element/21c6c29e-603e-4227-a6c3-b6be16cc7943/text {\"id\": \"21c6c29e-603e-4227-a6c3-b6be16cc7943\"}\n"
     ]
    },
    {
     "name": "stdout",
     "output_type": "stream",
     "text": [
      "Sunseeker TS\n",
      "Surveyor Legend\n"
     ]
    },
    {
     "name": "stderr",
     "output_type": "stream",
     "text": [
      "2021-07-11 12:30:55,119 selenium.webdriver.remote.remote_connection DEBUG    Finished Request\n",
      "2021-07-11 12:30:55,121 selenium.webdriver.remote.remote_connection DEBUG    GET http://127.0.0.1:65229/session/317acd8cb3050afc69c0aca8e80da469/element/21c6c29e-603e-4227-a6c3-b6be16cc7943/text {\"id\": \"21c6c29e-603e-4227-a6c3-b6be16cc7943\"}\n",
      "2021-07-11 12:30:55,137 selenium.webdriver.remote.remote_connection DEBUG    Finished Request\n",
      "2021-07-11 12:30:55,138 selenium.webdriver.remote.remote_connection DEBUG    POST http://127.0.0.1:65229/session/317acd8cb3050afc69c0aca8e80da469/element/aeb6ac0a-4677-4abf-ae55-8a74bd4f843a/elements {\"using\": \"xpath\", \"value\": \".//option[normalize-space(.) = \\\"Vengeance Rogue\\\"]\", \"id\": \"aeb6ac0a-4677-4abf-ae55-8a74bd4f843a\"}\n",
      "2021-07-11 12:30:55,157 selenium.webdriver.remote.remote_connection DEBUG    Finished Request\n",
      "2021-07-11 12:30:55,158 selenium.webdriver.remote.remote_connection DEBUG    GET http://127.0.0.1:65229/session/317acd8cb3050afc69c0aca8e80da469/element/21c6c29e-603e-4227-a6c3-b6be16cc7943/selected {\"id\": \"21c6c29e-603e-4227-a6c3-b6be16cc7943\"}\n",
      "2021-07-11 12:30:55,186 selenium.webdriver.remote.remote_connection DEBUG    Finished Request\n",
      "2021-07-11 12:30:55,187 selenium.webdriver.remote.remote_connection DEBUG    POST http://127.0.0.1:65229/session/317acd8cb3050afc69c0aca8e80da469/element/21c6c29e-603e-4227-a6c3-b6be16cc7943/click {\"id\": \"21c6c29e-603e-4227-a6c3-b6be16cc7943\"}\n",
      "2021-07-11 12:30:55,222 selenium.webdriver.remote.remote_connection DEBUG    Finished Request\n",
      "2021-07-11 12:30:55,223 selenium.webdriver.remote.remote_connection DEBUG    GET http://127.0.0.1:65229/session/317acd8cb3050afc69c0aca8e80da469/element/4ac0d838-bb8e-4436-90a8-19874a97751d/text {\"id\": \"4ac0d838-bb8e-4436-90a8-19874a97751d\"}\n",
      "2021-07-11 12:30:55,241 selenium.webdriver.remote.remote_connection DEBUG    Finished Request\n",
      "2021-07-11 12:30:55,242 selenium.webdriver.remote.remote_connection DEBUG    GET http://127.0.0.1:65229/session/317acd8cb3050afc69c0aca8e80da469/element/4ac0d838-bb8e-4436-90a8-19874a97751d/text {\"id\": \"4ac0d838-bb8e-4436-90a8-19874a97751d\"}\n",
      "2021-07-11 12:30:55,254 selenium.webdriver.remote.remote_connection DEBUG    Finished Request\n",
      "2021-07-11 12:30:55,255 selenium.webdriver.remote.remote_connection DEBUG    GET http://127.0.0.1:65229/session/317acd8cb3050afc69c0aca8e80da469/element/4ac0d838-bb8e-4436-90a8-19874a97751d/text {\"id\": \"4ac0d838-bb8e-4436-90a8-19874a97751d\"}\n",
      "2021-07-11 12:30:55,268 selenium.webdriver.remote.remote_connection DEBUG    Finished Request\n",
      "2021-07-11 12:30:55,269 selenium.webdriver.remote.remote_connection DEBUG    POST http://127.0.0.1:65229/session/317acd8cb3050afc69c0aca8e80da469/element/aeb6ac0a-4677-4abf-ae55-8a74bd4f843a/elements {\"using\": \"xpath\", \"value\": \".//option[normalize-space(.) = \\\"Vengeance Rogue Armored\\\"]\", \"id\": \"aeb6ac0a-4677-4abf-ae55-8a74bd4f843a\"}\n",
      "2021-07-11 12:30:55,284 selenium.webdriver.remote.remote_connection DEBUG    Finished Request\n",
      "2021-07-11 12:30:55,285 selenium.webdriver.remote.remote_connection DEBUG    GET http://127.0.0.1:65229/session/317acd8cb3050afc69c0aca8e80da469/element/4ac0d838-bb8e-4436-90a8-19874a97751d/selected {\"id\": \"4ac0d838-bb8e-4436-90a8-19874a97751d\"}\n",
      "2021-07-11 12:30:55,300 selenium.webdriver.remote.remote_connection DEBUG    Finished Request\n"
     ]
    },
    {
     "name": "stdout",
     "output_type": "stream",
     "text": [
      "Vengeance Rogue\n",
      "Vengeance Rogue Armored\n"
     ]
    },
    {
     "name": "stderr",
     "output_type": "stream",
     "text": [
      "2021-07-11 12:30:55,301 selenium.webdriver.remote.remote_connection DEBUG    POST http://127.0.0.1:65229/session/317acd8cb3050afc69c0aca8e80da469/element/4ac0d838-bb8e-4436-90a8-19874a97751d/click {\"id\": \"4ac0d838-bb8e-4436-90a8-19874a97751d\"}\n",
      "2021-07-11 12:30:55,334 selenium.webdriver.remote.remote_connection DEBUG    Finished Request\n",
      "2021-07-11 12:30:55,335 selenium.webdriver.remote.remote_connection DEBUG    GET http://127.0.0.1:65229/session/317acd8cb3050afc69c0aca8e80da469/element/ebbea870-9c17-42fa-a6e4-f3e1c4145e31/text {\"id\": \"ebbea870-9c17-42fa-a6e4-f3e1c4145e31\"}\n",
      "2021-07-11 12:30:55,351 selenium.webdriver.remote.remote_connection DEBUG    Finished Request\n",
      "2021-07-11 12:30:55,352 selenium.webdriver.remote.remote_connection DEBUG    GET http://127.0.0.1:65229/session/317acd8cb3050afc69c0aca8e80da469/element/ebbea870-9c17-42fa-a6e4-f3e1c4145e31/text {\"id\": \"ebbea870-9c17-42fa-a6e4-f3e1c4145e31\"}\n",
      "2021-07-11 12:30:55,361 selenium.webdriver.remote.remote_connection DEBUG    Finished Request\n",
      "2021-07-11 12:30:55,365 selenium.webdriver.remote.remote_connection DEBUG    GET http://127.0.0.1:65229/session/317acd8cb3050afc69c0aca8e80da469/element/ebbea870-9c17-42fa-a6e4-f3e1c4145e31/text {\"id\": \"ebbea870-9c17-42fa-a6e4-f3e1c4145e31\"}\n",
      "2021-07-11 12:30:55,373 selenium.webdriver.remote.remote_connection DEBUG    Finished Request\n",
      "2021-07-11 12:30:55,374 selenium.webdriver.remote.remote_connection DEBUG    POST http://127.0.0.1:65229/session/317acd8cb3050afc69c0aca8e80da469/element/aeb6ac0a-4677-4abf-ae55-8a74bd4f843a/elements {\"using\": \"xpath\", \"value\": \".//option[normalize-space(.) = \\\"Vibe\\\"]\", \"id\": \"aeb6ac0a-4677-4abf-ae55-8a74bd4f843a\"}\n",
      "2021-07-11 12:30:55,391 selenium.webdriver.remote.remote_connection DEBUG    Finished Request\n",
      "2021-07-11 12:30:55,394 selenium.webdriver.remote.remote_connection DEBUG    GET http://127.0.0.1:65229/session/317acd8cb3050afc69c0aca8e80da469/element/ebbea870-9c17-42fa-a6e4-f3e1c4145e31/selected {\"id\": \"ebbea870-9c17-42fa-a6e4-f3e1c4145e31\"}\n",
      "2021-07-11 12:30:55,417 selenium.webdriver.remote.remote_connection DEBUG    Finished Request\n",
      "2021-07-11 12:30:55,419 selenium.webdriver.remote.remote_connection DEBUG    POST http://127.0.0.1:65229/session/317acd8cb3050afc69c0aca8e80da469/element/ebbea870-9c17-42fa-a6e4-f3e1c4145e31/click {\"id\": \"ebbea870-9c17-42fa-a6e4-f3e1c4145e31\"}\n",
      "2021-07-11 12:30:55,471 selenium.webdriver.remote.remote_connection DEBUG    Finished Request\n",
      "2021-07-11 12:30:55,473 selenium.webdriver.remote.remote_connection DEBUG    GET http://127.0.0.1:65229/session/317acd8cb3050afc69c0aca8e80da469/element/d040076c-f9d2-485a-8a35-035cc2f0a960/text {\"id\": \"d040076c-f9d2-485a-8a35-035cc2f0a960\"}\n",
      "2021-07-11 12:30:55,491 selenium.webdriver.remote.remote_connection DEBUG    Finished Request\n",
      "2021-07-11 12:30:55,492 selenium.webdriver.remote.remote_connection DEBUG    GET http://127.0.0.1:65229/session/317acd8cb3050afc69c0aca8e80da469/element/d040076c-f9d2-485a-8a35-035cc2f0a960/text {\"id\": \"d040076c-f9d2-485a-8a35-035cc2f0a960\"}\n",
      "2021-07-11 12:30:55,506 selenium.webdriver.remote.remote_connection DEBUG    Finished Request\n",
      "2021-07-11 12:30:55,508 selenium.webdriver.remote.remote_connection DEBUG    GET http://127.0.0.1:65229/session/317acd8cb3050afc69c0aca8e80da469/element/d040076c-f9d2-485a-8a35-035cc2f0a960/text {\"id\": \"d040076c-f9d2-485a-8a35-035cc2f0a960\"}\n",
      "2021-07-11 12:30:55,530 selenium.webdriver.remote.remote_connection DEBUG    Finished Request\n",
      "2021-07-11 12:30:55,531 selenium.webdriver.remote.remote_connection DEBUG    POST http://127.0.0.1:65229/session/317acd8cb3050afc69c0aca8e80da469/element/aeb6ac0a-4677-4abf-ae55-8a74bd4f843a/elements {\"using\": \"xpath\", \"value\": \".//option[normalize-space(.) = \\\"Vibe West\\\"]\", \"id\": \"aeb6ac0a-4677-4abf-ae55-8a74bd4f843a\"}\n",
      "2021-07-11 12:30:55,550 selenium.webdriver.remote.remote_connection DEBUG    Finished Request\n"
     ]
    },
    {
     "name": "stdout",
     "output_type": "stream",
     "text": [
      "Vibe\n",
      "Vibe West\n"
     ]
    },
    {
     "name": "stderr",
     "output_type": "stream",
     "text": [
      "2021-07-11 12:30:55,552 selenium.webdriver.remote.remote_connection DEBUG    GET http://127.0.0.1:65229/session/317acd8cb3050afc69c0aca8e80da469/element/d040076c-f9d2-485a-8a35-035cc2f0a960/selected {\"id\": \"d040076c-f9d2-485a-8a35-035cc2f0a960\"}\n",
      "2021-07-11 12:30:55,565 selenium.webdriver.remote.remote_connection DEBUG    Finished Request\n",
      "2021-07-11 12:30:55,568 selenium.webdriver.remote.remote_connection DEBUG    POST http://127.0.0.1:65229/session/317acd8cb3050afc69c0aca8e80da469/element/d040076c-f9d2-485a-8a35-035cc2f0a960/click {\"id\": \"d040076c-f9d2-485a-8a35-035cc2f0a960\"}\n",
      "2021-07-11 12:30:55,618 selenium.webdriver.remote.remote_connection DEBUG    Finished Request\n",
      "2021-07-11 12:30:55,619 selenium.webdriver.remote.remote_connection DEBUG    GET http://127.0.0.1:65229/session/317acd8cb3050afc69c0aca8e80da469/element/c3b703ad-d9aa-48d5-b184-32951c4c99d3/text {\"id\": \"c3b703ad-d9aa-48d5-b184-32951c4c99d3\"}\n",
      "2021-07-11 12:30:55,655 selenium.webdriver.remote.remote_connection DEBUG    Finished Request\n",
      "2021-07-11 12:30:55,657 selenium.webdriver.remote.remote_connection DEBUG    GET http://127.0.0.1:65229/session/317acd8cb3050afc69c0aca8e80da469/element/c3b703ad-d9aa-48d5-b184-32951c4c99d3/text {\"id\": \"c3b703ad-d9aa-48d5-b184-32951c4c99d3\"}\n",
      "2021-07-11 12:30:55,672 selenium.webdriver.remote.remote_connection DEBUG    Finished Request\n",
      "2021-07-11 12:30:55,674 selenium.webdriver.remote.remote_connection DEBUG    GET http://127.0.0.1:65229/session/317acd8cb3050afc69c0aca8e80da469/element/c3b703ad-d9aa-48d5-b184-32951c4c99d3/text {\"id\": \"c3b703ad-d9aa-48d5-b184-32951c4c99d3\"}\n",
      "2021-07-11 12:30:55,687 selenium.webdriver.remote.remote_connection DEBUG    Finished Request\n",
      "2021-07-11 12:30:55,688 selenium.webdriver.remote.remote_connection DEBUG    POST http://127.0.0.1:65229/session/317acd8cb3050afc69c0aca8e80da469/element/aeb6ac0a-4677-4abf-ae55-8a74bd4f843a/elements {\"using\": \"xpath\", \"value\": \".//option[normalize-space(.) = \\\"Wildcat Fifth Wheels\\\"]\", \"id\": \"aeb6ac0a-4677-4abf-ae55-8a74bd4f843a\"}\n",
      "2021-07-11 12:30:55,706 selenium.webdriver.remote.remote_connection DEBUG    Finished Request\n",
      "2021-07-11 12:30:55,707 selenium.webdriver.remote.remote_connection DEBUG    GET http://127.0.0.1:65229/session/317acd8cb3050afc69c0aca8e80da469/element/c3b703ad-d9aa-48d5-b184-32951c4c99d3/selected {\"id\": \"c3b703ad-d9aa-48d5-b184-32951c4c99d3\"}\n",
      "2021-07-11 12:30:55,721 selenium.webdriver.remote.remote_connection DEBUG    Finished Request\n",
      "2021-07-11 12:30:55,722 selenium.webdriver.remote.remote_connection DEBUG    POST http://127.0.0.1:65229/session/317acd8cb3050afc69c0aca8e80da469/element/c3b703ad-d9aa-48d5-b184-32951c4c99d3/click {\"id\": \"c3b703ad-d9aa-48d5-b184-32951c4c99d3\"}\n",
      "2021-07-11 12:30:55,752 selenium.webdriver.remote.remote_connection DEBUG    Finished Request\n",
      "2021-07-11 12:30:55,753 selenium.webdriver.remote.remote_connection DEBUG    GET http://127.0.0.1:65229/session/317acd8cb3050afc69c0aca8e80da469/element/8e2c6518-aa2a-4299-9296-e52eafa599ae/text {\"id\": \"8e2c6518-aa2a-4299-9296-e52eafa599ae\"}\n",
      "2021-07-11 12:30:55,770 selenium.webdriver.remote.remote_connection DEBUG    Finished Request\n",
      "2021-07-11 12:30:55,771 selenium.webdriver.remote.remote_connection DEBUG    GET http://127.0.0.1:65229/session/317acd8cb3050afc69c0aca8e80da469/element/8e2c6518-aa2a-4299-9296-e52eafa599ae/text {\"id\": \"8e2c6518-aa2a-4299-9296-e52eafa599ae\"}\n",
      "2021-07-11 12:30:55,783 selenium.webdriver.remote.remote_connection DEBUG    Finished Request\n",
      "2021-07-11 12:30:55,784 selenium.webdriver.remote.remote_connection DEBUG    GET http://127.0.0.1:65229/session/317acd8cb3050afc69c0aca8e80da469/element/8e2c6518-aa2a-4299-9296-e52eafa599ae/text {\"id\": \"8e2c6518-aa2a-4299-9296-e52eafa599ae\"}\n",
      "2021-07-11 12:30:55,791 selenium.webdriver.remote.remote_connection DEBUG    Finished Request\n",
      "2021-07-11 12:30:55,793 selenium.webdriver.remote.remote_connection DEBUG    POST http://127.0.0.1:65229/session/317acd8cb3050afc69c0aca8e80da469/element/aeb6ac0a-4677-4abf-ae55-8a74bd4f843a/elements {\"using\": \"xpath\", \"value\": \".//option[normalize-space(.) = \\\"Wildcat Travel Trailers\\\"]\", \"id\": \"aeb6ac0a-4677-4abf-ae55-8a74bd4f843a\"}\n",
      "2021-07-11 12:30:55,808 selenium.webdriver.remote.remote_connection DEBUG    Finished Request\n",
      "2021-07-11 12:30:55,812 selenium.webdriver.remote.remote_connection DEBUG    GET http://127.0.0.1:65229/session/317acd8cb3050afc69c0aca8e80da469/element/8e2c6518-aa2a-4299-9296-e52eafa599ae/selected {\"id\": \"8e2c6518-aa2a-4299-9296-e52eafa599ae\"}\n",
      "2021-07-11 12:30:55,824 selenium.webdriver.remote.remote_connection DEBUG    Finished Request\n",
      "2021-07-11 12:30:55,826 selenium.webdriver.remote.remote_connection DEBUG    POST http://127.0.0.1:65229/session/317acd8cb3050afc69c0aca8e80da469/element/8e2c6518-aa2a-4299-9296-e52eafa599ae/click {\"id\": \"8e2c6518-aa2a-4299-9296-e52eafa599ae\"}\n"
     ]
    },
    {
     "name": "stdout",
     "output_type": "stream",
     "text": [
      "Wildcat Fifth Wheels\n",
      "Wildcat Travel Trailers\n"
     ]
    },
    {
     "name": "stderr",
     "output_type": "stream",
     "text": [
      "2021-07-11 12:30:55,876 selenium.webdriver.remote.remote_connection DEBUG    Finished Request\n",
      "2021-07-11 12:30:55,880 selenium.webdriver.remote.remote_connection DEBUG    GET http://127.0.0.1:65229/session/317acd8cb3050afc69c0aca8e80da469/element/781ec080-4883-4dd2-82d5-c20e4e1de979/text {\"id\": \"781ec080-4883-4dd2-82d5-c20e4e1de979\"}\n",
      "2021-07-11 12:30:55,905 selenium.webdriver.remote.remote_connection DEBUG    Finished Request\n",
      "2021-07-11 12:30:55,907 selenium.webdriver.remote.remote_connection DEBUG    GET http://127.0.0.1:65229/session/317acd8cb3050afc69c0aca8e80da469/element/781ec080-4883-4dd2-82d5-c20e4e1de979/text {\"id\": \"781ec080-4883-4dd2-82d5-c20e4e1de979\"}\n",
      "2021-07-11 12:30:55,922 selenium.webdriver.remote.remote_connection DEBUG    Finished Request\n",
      "2021-07-11 12:30:55,923 selenium.webdriver.remote.remote_connection DEBUG    GET http://127.0.0.1:65229/session/317acd8cb3050afc69c0aca8e80da469/element/781ec080-4883-4dd2-82d5-c20e4e1de979/text {\"id\": \"781ec080-4883-4dd2-82d5-c20e4e1de979\"}\n",
      "2021-07-11 12:30:55,937 selenium.webdriver.remote.remote_connection DEBUG    Finished Request\n",
      "2021-07-11 12:30:55,938 selenium.webdriver.remote.remote_connection DEBUG    POST http://127.0.0.1:65229/session/317acd8cb3050afc69c0aca8e80da469/element/aeb6ac0a-4677-4abf-ae55-8a74bd4f843a/elements {\"using\": \"xpath\", \"value\": \".//option[normalize-space(.) = \\\"Wildwood\\\"]\", \"id\": \"aeb6ac0a-4677-4abf-ae55-8a74bd4f843a\"}\n",
      "2021-07-11 12:30:55,952 selenium.webdriver.remote.remote_connection DEBUG    Finished Request\n",
      "2021-07-11 12:30:55,953 selenium.webdriver.remote.remote_connection DEBUG    GET http://127.0.0.1:65229/session/317acd8cb3050afc69c0aca8e80da469/element/781ec080-4883-4dd2-82d5-c20e4e1de979/selected {\"id\": \"781ec080-4883-4dd2-82d5-c20e4e1de979\"}\n",
      "2021-07-11 12:30:55,966 selenium.webdriver.remote.remote_connection DEBUG    Finished Request\n",
      "2021-07-11 12:30:55,967 selenium.webdriver.remote.remote_connection DEBUG    POST http://127.0.0.1:65229/session/317acd8cb3050afc69c0aca8e80da469/element/781ec080-4883-4dd2-82d5-c20e4e1de979/click {\"id\": \"781ec080-4883-4dd2-82d5-c20e4e1de979\"}\n",
      "2021-07-11 12:30:55,997 selenium.webdriver.remote.remote_connection DEBUG    Finished Request\n",
      "2021-07-11 12:30:56,000 selenium.webdriver.remote.remote_connection DEBUG    GET http://127.0.0.1:65229/session/317acd8cb3050afc69c0aca8e80da469/element/aab0f853-8dc1-43e2-8201-3fc8670a78b0/text {\"id\": \"aab0f853-8dc1-43e2-8201-3fc8670a78b0\"}\n",
      "2021-07-11 12:30:56,017 selenium.webdriver.remote.remote_connection DEBUG    Finished Request\n",
      "2021-07-11 12:30:56,018 selenium.webdriver.remote.remote_connection DEBUG    GET http://127.0.0.1:65229/session/317acd8cb3050afc69c0aca8e80da469/element/aab0f853-8dc1-43e2-8201-3fc8670a78b0/text {\"id\": \"aab0f853-8dc1-43e2-8201-3fc8670a78b0\"}\n",
      "2021-07-11 12:30:56,025 selenium.webdriver.remote.remote_connection DEBUG    Finished Request\n",
      "2021-07-11 12:30:56,030 selenium.webdriver.remote.remote_connection DEBUG    GET http://127.0.0.1:65229/session/317acd8cb3050afc69c0aca8e80da469/element/aab0f853-8dc1-43e2-8201-3fc8670a78b0/text {\"id\": \"aab0f853-8dc1-43e2-8201-3fc8670a78b0\"}\n",
      "2021-07-11 12:30:56,040 selenium.webdriver.remote.remote_connection DEBUG    Finished Request\n",
      "2021-07-11 12:30:56,043 selenium.webdriver.remote.remote_connection DEBUG    POST http://127.0.0.1:65229/session/317acd8cb3050afc69c0aca8e80da469/element/aeb6ac0a-4677-4abf-ae55-8a74bd4f843a/elements {\"using\": \"xpath\", \"value\": \".//option[normalize-space(.) = \\\"Wildwood FSX\\\"]\", \"id\": \"aeb6ac0a-4677-4abf-ae55-8a74bd4f843a\"}\n",
      "2021-07-11 12:30:56,068 selenium.webdriver.remote.remote_connection DEBUG    Finished Request\n",
      "2021-07-11 12:30:56,070 selenium.webdriver.remote.remote_connection DEBUG    GET http://127.0.0.1:65229/session/317acd8cb3050afc69c0aca8e80da469/element/aab0f853-8dc1-43e2-8201-3fc8670a78b0/selected {\"id\": \"aab0f853-8dc1-43e2-8201-3fc8670a78b0\"}\n",
      "2021-07-11 12:30:56,088 selenium.webdriver.remote.remote_connection DEBUG    Finished Request\n",
      "2021-07-11 12:30:56,089 selenium.webdriver.remote.remote_connection DEBUG    POST http://127.0.0.1:65229/session/317acd8cb3050afc69c0aca8e80da469/element/aab0f853-8dc1-43e2-8201-3fc8670a78b0/click {\"id\": \"aab0f853-8dc1-43e2-8201-3fc8670a78b0\"}\n",
      "2021-07-11 12:30:56,120 selenium.webdriver.remote.remote_connection DEBUG    Finished Request\n"
     ]
    },
    {
     "name": "stdout",
     "output_type": "stream",
     "text": [
      "Wildwood\n",
      "Wildwood FSX\n"
     ]
    },
    {
     "name": "stderr",
     "output_type": "stream",
     "text": [
      "2021-07-11 12:30:56,121 selenium.webdriver.remote.remote_connection DEBUG    GET http://127.0.0.1:65229/session/317acd8cb3050afc69c0aca8e80da469/element/af9887ed-b4f1-40cd-a1cb-9f7632ffcb20/text {\"id\": \"af9887ed-b4f1-40cd-a1cb-9f7632ffcb20\"}\n",
      "2021-07-11 12:30:56,137 selenium.webdriver.remote.remote_connection DEBUG    Finished Request\n",
      "2021-07-11 12:30:56,138 selenium.webdriver.remote.remote_connection DEBUG    GET http://127.0.0.1:65229/session/317acd8cb3050afc69c0aca8e80da469/element/af9887ed-b4f1-40cd-a1cb-9f7632ffcb20/text {\"id\": \"af9887ed-b4f1-40cd-a1cb-9f7632ffcb20\"}\n",
      "2021-07-11 12:30:56,149 selenium.webdriver.remote.remote_connection DEBUG    Finished Request\n",
      "2021-07-11 12:30:56,151 selenium.webdriver.remote.remote_connection DEBUG    GET http://127.0.0.1:65229/session/317acd8cb3050afc69c0aca8e80da469/element/af9887ed-b4f1-40cd-a1cb-9f7632ffcb20/text {\"id\": \"af9887ed-b4f1-40cd-a1cb-9f7632ffcb20\"}\n",
      "2021-07-11 12:30:56,158 selenium.webdriver.remote.remote_connection DEBUG    Finished Request\n",
      "2021-07-11 12:30:56,162 selenium.webdriver.remote.remote_connection DEBUG    POST http://127.0.0.1:65229/session/317acd8cb3050afc69c0aca8e80da469/element/aeb6ac0a-4677-4abf-ae55-8a74bd4f843a/elements {\"using\": \"xpath\", \"value\": \".//option[normalize-space(.) = \\\"Wildwood FSX Northwest\\\"]\", \"id\": \"aeb6ac0a-4677-4abf-ae55-8a74bd4f843a\"}\n",
      "2021-07-11 12:30:56,174 selenium.webdriver.remote.remote_connection DEBUG    Finished Request\n",
      "2021-07-11 12:30:56,175 selenium.webdriver.remote.remote_connection DEBUG    GET http://127.0.0.1:65229/session/317acd8cb3050afc69c0aca8e80da469/element/af9887ed-b4f1-40cd-a1cb-9f7632ffcb20/selected {\"id\": \"af9887ed-b4f1-40cd-a1cb-9f7632ffcb20\"}\n",
      "2021-07-11 12:30:56,189 selenium.webdriver.remote.remote_connection DEBUG    Finished Request\n",
      "2021-07-11 12:30:56,190 selenium.webdriver.remote.remote_connection DEBUG    POST http://127.0.0.1:65229/session/317acd8cb3050afc69c0aca8e80da469/element/af9887ed-b4f1-40cd-a1cb-9f7632ffcb20/click {\"id\": \"af9887ed-b4f1-40cd-a1cb-9f7632ffcb20\"}\n",
      "2021-07-11 12:30:56,222 selenium.webdriver.remote.remote_connection DEBUG    Finished Request\n",
      "2021-07-11 12:30:56,223 selenium.webdriver.remote.remote_connection DEBUG    GET http://127.0.0.1:65229/session/317acd8cb3050afc69c0aca8e80da469/element/901a7748-bf53-4b9a-a32c-8b15fc86d67e/text {\"id\": \"901a7748-bf53-4b9a-a32c-8b15fc86d67e\"}\n",
      "2021-07-11 12:30:56,252 selenium.webdriver.remote.remote_connection DEBUG    Finished Request\n",
      "2021-07-11 12:30:56,254 selenium.webdriver.remote.remote_connection DEBUG    GET http://127.0.0.1:65229/session/317acd8cb3050afc69c0aca8e80da469/element/901a7748-bf53-4b9a-a32c-8b15fc86d67e/text {\"id\": \"901a7748-bf53-4b9a-a32c-8b15fc86d67e\"}\n",
      "2021-07-11 12:30:56,266 selenium.webdriver.remote.remote_connection DEBUG    Finished Request\n",
      "2021-07-11 12:30:56,267 selenium.webdriver.remote.remote_connection DEBUG    GET http://127.0.0.1:65229/session/317acd8cb3050afc69c0aca8e80da469/element/901a7748-bf53-4b9a-a32c-8b15fc86d67e/text {\"id\": \"901a7748-bf53-4b9a-a32c-8b15fc86d67e\"}\n",
      "2021-07-11 12:30:56,274 selenium.webdriver.remote.remote_connection DEBUG    Finished Request\n",
      "2021-07-11 12:30:56,275 selenium.webdriver.remote.remote_connection DEBUG    POST http://127.0.0.1:65229/session/317acd8cb3050afc69c0aca8e80da469/element/aeb6ac0a-4677-4abf-ae55-8a74bd4f843a/elements {\"using\": \"xpath\", \"value\": \".//option[normalize-space(.) = \\\"Wildwood Lodge\\\"]\", \"id\": \"aeb6ac0a-4677-4abf-ae55-8a74bd4f843a\"}\n",
      "2021-07-11 12:30:56,291 selenium.webdriver.remote.remote_connection DEBUG    Finished Request\n",
      "2021-07-11 12:30:56,292 selenium.webdriver.remote.remote_connection DEBUG    GET http://127.0.0.1:65229/session/317acd8cb3050afc69c0aca8e80da469/element/901a7748-bf53-4b9a-a32c-8b15fc86d67e/selected {\"id\": \"901a7748-bf53-4b9a-a32c-8b15fc86d67e\"}\n",
      "2021-07-11 12:30:56,307 selenium.webdriver.remote.remote_connection DEBUG    Finished Request\n",
      "2021-07-11 12:30:56,309 selenium.webdriver.remote.remote_connection DEBUG    POST http://127.0.0.1:65229/session/317acd8cb3050afc69c0aca8e80da469/element/901a7748-bf53-4b9a-a32c-8b15fc86d67e/click {\"id\": \"901a7748-bf53-4b9a-a32c-8b15fc86d67e\"}\n",
      "2021-07-11 12:30:56,339 selenium.webdriver.remote.remote_connection DEBUG    Finished Request\n"
     ]
    },
    {
     "name": "stdout",
     "output_type": "stream",
     "text": [
      "Wildwood FSX Northwest\n",
      "Wildwood Lodge\n"
     ]
    },
    {
     "name": "stderr",
     "output_type": "stream",
     "text": [
      "2021-07-11 12:30:56,341 selenium.webdriver.remote.remote_connection DEBUG    GET http://127.0.0.1:65229/session/317acd8cb3050afc69c0aca8e80da469/element/58400759-ed25-4133-989b-2c0e8dc85d57/text {\"id\": \"58400759-ed25-4133-989b-2c0e8dc85d57\"}\n",
      "2021-07-11 12:30:56,365 selenium.webdriver.remote.remote_connection DEBUG    Finished Request\n",
      "2021-07-11 12:30:56,366 selenium.webdriver.remote.remote_connection DEBUG    GET http://127.0.0.1:65229/session/317acd8cb3050afc69c0aca8e80da469/element/58400759-ed25-4133-989b-2c0e8dc85d57/text {\"id\": \"58400759-ed25-4133-989b-2c0e8dc85d57\"}\n",
      "2021-07-11 12:30:56,373 selenium.webdriver.remote.remote_connection DEBUG    Finished Request\n",
      "2021-07-11 12:30:56,374 selenium.webdriver.remote.remote_connection DEBUG    GET http://127.0.0.1:65229/session/317acd8cb3050afc69c0aca8e80da469/element/58400759-ed25-4133-989b-2c0e8dc85d57/text {\"id\": \"58400759-ed25-4133-989b-2c0e8dc85d57\"}\n",
      "2021-07-11 12:30:56,388 selenium.webdriver.remote.remote_connection DEBUG    Finished Request\n",
      "2021-07-11 12:30:56,389 selenium.webdriver.remote.remote_connection DEBUG    POST http://127.0.0.1:65229/session/317acd8cb3050afc69c0aca8e80da469/element/aeb6ac0a-4677-4abf-ae55-8a74bd4f843a/elements {\"using\": \"xpath\", \"value\": \".//option[normalize-space(.) = \\\"Wolf Pack\\\"]\", \"id\": \"aeb6ac0a-4677-4abf-ae55-8a74bd4f843a\"}\n",
      "2021-07-11 12:30:56,421 selenium.webdriver.remote.remote_connection DEBUG    Finished Request\n",
      "2021-07-11 12:30:56,422 selenium.webdriver.remote.remote_connection DEBUG    GET http://127.0.0.1:65229/session/317acd8cb3050afc69c0aca8e80da469/element/58400759-ed25-4133-989b-2c0e8dc85d57/selected {\"id\": \"58400759-ed25-4133-989b-2c0e8dc85d57\"}\n",
      "2021-07-11 12:30:56,440 selenium.webdriver.remote.remote_connection DEBUG    Finished Request\n",
      "2021-07-11 12:30:56,441 selenium.webdriver.remote.remote_connection DEBUG    POST http://127.0.0.1:65229/session/317acd8cb3050afc69c0aca8e80da469/element/58400759-ed25-4133-989b-2c0e8dc85d57/click {\"id\": \"58400759-ed25-4133-989b-2c0e8dc85d57\"}\n",
      "2021-07-11 12:30:56,473 selenium.webdriver.remote.remote_connection DEBUG    Finished Request\n",
      "2021-07-11 12:30:56,476 selenium.webdriver.remote.remote_connection DEBUG    GET http://127.0.0.1:65229/session/317acd8cb3050afc69c0aca8e80da469/element/1ca7d7d5-0766-49bc-8711-d6efc5ff3c21/text {\"id\": \"1ca7d7d5-0766-49bc-8711-d6efc5ff3c21\"}\n",
      "2021-07-11 12:30:56,503 selenium.webdriver.remote.remote_connection DEBUG    Finished Request\n",
      "2021-07-11 12:30:56,505 selenium.webdriver.remote.remote_connection DEBUG    GET http://127.0.0.1:65229/session/317acd8cb3050afc69c0aca8e80da469/element/1ca7d7d5-0766-49bc-8711-d6efc5ff3c21/text {\"id\": \"1ca7d7d5-0766-49bc-8711-d6efc5ff3c21\"}\n",
      "2021-07-11 12:30:56,518 selenium.webdriver.remote.remote_connection DEBUG    Finished Request\n",
      "2021-07-11 12:30:56,520 selenium.webdriver.remote.remote_connection DEBUG    GET http://127.0.0.1:65229/session/317acd8cb3050afc69c0aca8e80da469/element/1ca7d7d5-0766-49bc-8711-d6efc5ff3c21/text {\"id\": \"1ca7d7d5-0766-49bc-8711-d6efc5ff3c21\"}\n",
      "2021-07-11 12:30:56,532 selenium.webdriver.remote.remote_connection DEBUG    Finished Request\n",
      "2021-07-11 12:30:56,533 selenium.webdriver.remote.remote_connection DEBUG    POST http://127.0.0.1:65229/session/317acd8cb3050afc69c0aca8e80da469/element/aeb6ac0a-4677-4abf-ae55-8a74bd4f843a/elements {\"using\": \"xpath\", \"value\": \".//option[normalize-space(.) = \\\"Wolf Pack Gold Series\\\"]\", \"id\": \"aeb6ac0a-4677-4abf-ae55-8a74bd4f843a\"}\n",
      "2021-07-11 12:30:56,549 selenium.webdriver.remote.remote_connection DEBUG    Finished Request\n",
      "2021-07-11 12:30:56,550 selenium.webdriver.remote.remote_connection DEBUG    GET http://127.0.0.1:65229/session/317acd8cb3050afc69c0aca8e80da469/element/1ca7d7d5-0766-49bc-8711-d6efc5ff3c21/selected {\"id\": \"1ca7d7d5-0766-49bc-8711-d6efc5ff3c21\"}\n"
     ]
    },
    {
     "name": "stdout",
     "output_type": "stream",
     "text": [
      "Wolf Pack\n",
      "Wolf Pack Gold Series\n"
     ]
    },
    {
     "name": "stderr",
     "output_type": "stream",
     "text": [
      "2021-07-11 12:30:56,564 selenium.webdriver.remote.remote_connection DEBUG    Finished Request\n",
      "2021-07-11 12:30:56,565 selenium.webdriver.remote.remote_connection DEBUG    POST http://127.0.0.1:65229/session/317acd8cb3050afc69c0aca8e80da469/element/1ca7d7d5-0766-49bc-8711-d6efc5ff3c21/click {\"id\": \"1ca7d7d5-0766-49bc-8711-d6efc5ff3c21\"}\n",
      "2021-07-11 12:30:56,590 selenium.webdriver.remote.remote_connection DEBUG    Finished Request\n",
      "2021-07-11 12:30:56,593 selenium.webdriver.remote.remote_connection DEBUG    GET http://127.0.0.1:65229/session/317acd8cb3050afc69c0aca8e80da469/element/68d85ae8-0054-494c-9446-cb9b236a861f/text {\"id\": \"68d85ae8-0054-494c-9446-cb9b236a861f\"}\n",
      "2021-07-11 12:30:56,614 selenium.webdriver.remote.remote_connection DEBUG    Finished Request\n",
      "2021-07-11 12:30:56,616 selenium.webdriver.remote.remote_connection DEBUG    GET http://127.0.0.1:65229/session/317acd8cb3050afc69c0aca8e80da469/element/68d85ae8-0054-494c-9446-cb9b236a861f/text {\"id\": \"68d85ae8-0054-494c-9446-cb9b236a861f\"}\n",
      "2021-07-11 12:30:56,635 selenium.webdriver.remote.remote_connection DEBUG    Finished Request\n",
      "2021-07-11 12:30:56,636 selenium.webdriver.remote.remote_connection DEBUG    GET http://127.0.0.1:65229/session/317acd8cb3050afc69c0aca8e80da469/element/68d85ae8-0054-494c-9446-cb9b236a861f/text {\"id\": \"68d85ae8-0054-494c-9446-cb9b236a861f\"}\n",
      "2021-07-11 12:30:56,649 selenium.webdriver.remote.remote_connection DEBUG    Finished Request\n",
      "2021-07-11 12:30:56,652 selenium.webdriver.remote.remote_connection DEBUG    POST http://127.0.0.1:65229/session/317acd8cb3050afc69c0aca8e80da469/element/aeb6ac0a-4677-4abf-ae55-8a74bd4f843a/elements {\"using\": \"xpath\", \"value\": \".//option[normalize-space(.) = \\\"Wolf Pup\\\"]\", \"id\": \"aeb6ac0a-4677-4abf-ae55-8a74bd4f843a\"}\n",
      "2021-07-11 12:30:56,682 selenium.webdriver.remote.remote_connection DEBUG    Finished Request\n",
      "2021-07-11 12:30:56,684 selenium.webdriver.remote.remote_connection DEBUG    GET http://127.0.0.1:65229/session/317acd8cb3050afc69c0aca8e80da469/element/68d85ae8-0054-494c-9446-cb9b236a861f/selected {\"id\": \"68d85ae8-0054-494c-9446-cb9b236a861f\"}\n",
      "2021-07-11 12:30:56,701 selenium.webdriver.remote.remote_connection DEBUG    Finished Request\n",
      "2021-07-11 12:30:56,702 selenium.webdriver.remote.remote_connection DEBUG    POST http://127.0.0.1:65229/session/317acd8cb3050afc69c0aca8e80da469/element/68d85ae8-0054-494c-9446-cb9b236a861f/click {\"id\": \"68d85ae8-0054-494c-9446-cb9b236a861f\"}\n",
      "2021-07-11 12:30:56,731 selenium.webdriver.remote.remote_connection DEBUG    Finished Request\n",
      "2021-07-11 12:30:56,733 selenium.webdriver.remote.remote_connection DEBUG    GET http://127.0.0.1:65229/session/317acd8cb3050afc69c0aca8e80da469/element/a84511c6-c29c-4b44-92f1-98f3e7af455e/text {\"id\": \"a84511c6-c29c-4b44-92f1-98f3e7af455e\"}\n",
      "2021-07-11 12:30:56,751 selenium.webdriver.remote.remote_connection DEBUG    Finished Request\n",
      "2021-07-11 12:30:56,753 selenium.webdriver.remote.remote_connection DEBUG    GET http://127.0.0.1:65229/session/317acd8cb3050afc69c0aca8e80da469/element/a84511c6-c29c-4b44-92f1-98f3e7af455e/text {\"id\": \"a84511c6-c29c-4b44-92f1-98f3e7af455e\"}\n",
      "2021-07-11 12:30:56,765 selenium.webdriver.remote.remote_connection DEBUG    Finished Request\n",
      "2021-07-11 12:30:56,766 selenium.webdriver.remote.remote_connection DEBUG    GET http://127.0.0.1:65229/session/317acd8cb3050afc69c0aca8e80da469/element/a84511c6-c29c-4b44-92f1-98f3e7af455e/text {\"id\": \"a84511c6-c29c-4b44-92f1-98f3e7af455e\"}\n",
      "2021-07-11 12:30:56,773 selenium.webdriver.remote.remote_connection DEBUG    Finished Request\n",
      "2021-07-11 12:30:56,774 selenium.webdriver.remote.remote_connection DEBUG    POST http://127.0.0.1:65229/session/317acd8cb3050afc69c0aca8e80da469/element/aeb6ac0a-4677-4abf-ae55-8a74bd4f843a/elements {\"using\": \"xpath\", \"value\": \".//option[normalize-space(.) = \\\"Work and Play\\\"]\", \"id\": \"aeb6ac0a-4677-4abf-ae55-8a74bd4f843a\"}\n",
      "2021-07-11 12:30:56,788 selenium.webdriver.remote.remote_connection DEBUG    Finished Request\n",
      "2021-07-11 12:30:56,789 selenium.webdriver.remote.remote_connection DEBUG    GET http://127.0.0.1:65229/session/317acd8cb3050afc69c0aca8e80da469/element/a84511c6-c29c-4b44-92f1-98f3e7af455e/selected {\"id\": \"a84511c6-c29c-4b44-92f1-98f3e7af455e\"}\n",
      "2021-07-11 12:30:56,802 selenium.webdriver.remote.remote_connection DEBUG    Finished Request\n",
      "2021-07-11 12:30:56,804 selenium.webdriver.remote.remote_connection DEBUG    POST http://127.0.0.1:65229/session/317acd8cb3050afc69c0aca8e80da469/element/a84511c6-c29c-4b44-92f1-98f3e7af455e/click {\"id\": \"a84511c6-c29c-4b44-92f1-98f3e7af455e\"}\n"
     ]
    },
    {
     "name": "stdout",
     "output_type": "stream",
     "text": [
      "Wolf Pup\n",
      "Work and Play\n"
     ]
    },
    {
     "name": "stderr",
     "output_type": "stream",
     "text": [
      "2021-07-11 12:30:56,834 selenium.webdriver.remote.remote_connection DEBUG    Finished Request\n",
      "2021-07-11 12:30:56,835 selenium.webdriver.remote.remote_connection DEBUG    GET http://127.0.0.1:65229/session/317acd8cb3050afc69c0aca8e80da469/element/921b7632-41fe-4f2a-9fe4-7d763f97c510/text {\"id\": \"921b7632-41fe-4f2a-9fe4-7d763f97c510\"}\n",
      "2021-07-11 12:30:56,852 selenium.webdriver.remote.remote_connection DEBUG    Finished Request\n",
      "2021-07-11 12:30:56,853 selenium.webdriver.remote.remote_connection DEBUG    GET http://127.0.0.1:65229/session/317acd8cb3050afc69c0aca8e80da469/element/921b7632-41fe-4f2a-9fe4-7d763f97c510/text {\"id\": \"921b7632-41fe-4f2a-9fe4-7d763f97c510\"}\n",
      "2021-07-11 12:30:56,865 selenium.webdriver.remote.remote_connection DEBUG    Finished Request\n",
      "2021-07-11 12:30:56,867 selenium.webdriver.remote.remote_connection DEBUG    GET http://127.0.0.1:65229/session/317acd8cb3050afc69c0aca8e80da469/element/921b7632-41fe-4f2a-9fe4-7d763f97c510/text {\"id\": \"921b7632-41fe-4f2a-9fe4-7d763f97c510\"}\n",
      "2021-07-11 12:30:56,887 selenium.webdriver.remote.remote_connection DEBUG    Finished Request\n",
      "2021-07-11 12:30:56,889 selenium.webdriver.remote.remote_connection DEBUG    POST http://127.0.0.1:65229/session/317acd8cb3050afc69c0aca8e80da469/element/aeb6ac0a-4677-4abf-ae55-8a74bd4f843a/elements {\"using\": \"xpath\", \"value\": \".//option[normalize-space(.) = \\\"X-Lite\\\"]\", \"id\": \"aeb6ac0a-4677-4abf-ae55-8a74bd4f843a\"}\n",
      "2021-07-11 12:30:56,906 selenium.webdriver.remote.remote_connection DEBUG    Finished Request\n",
      "2021-07-11 12:30:56,907 selenium.webdriver.remote.remote_connection DEBUG    GET http://127.0.0.1:65229/session/317acd8cb3050afc69c0aca8e80da469/element/921b7632-41fe-4f2a-9fe4-7d763f97c510/selected {\"id\": \"921b7632-41fe-4f2a-9fe4-7d763f97c510\"}\n",
      "2021-07-11 12:30:56,921 selenium.webdriver.remote.remote_connection DEBUG    Finished Request\n",
      "2021-07-11 12:30:56,922 selenium.webdriver.remote.remote_connection DEBUG    POST http://127.0.0.1:65229/session/317acd8cb3050afc69c0aca8e80da469/element/921b7632-41fe-4f2a-9fe4-7d763f97c510/click {\"id\": \"921b7632-41fe-4f2a-9fe4-7d763f97c510\"}\n",
      "2021-07-11 12:30:56,956 selenium.webdriver.remote.remote_connection DEBUG    Finished Request\n",
      "2021-07-11 12:30:56,957 selenium.webdriver.remote.remote_connection DEBUG    GET http://127.0.0.1:65229/session/317acd8cb3050afc69c0aca8e80da469/element/1524ce9d-e4f5-4809-a471-acf74d015410/text {\"id\": \"1524ce9d-e4f5-4809-a471-acf74d015410\"}\n",
      "2021-07-11 12:30:56,983 selenium.webdriver.remote.remote_connection DEBUG    Finished Request\n",
      "2021-07-11 12:30:56,984 selenium.webdriver.remote.remote_connection DEBUG    GET http://127.0.0.1:65229/session/317acd8cb3050afc69c0aca8e80da469/element/1524ce9d-e4f5-4809-a471-acf74d015410/text {\"id\": \"1524ce9d-e4f5-4809-a471-acf74d015410\"}\n",
      "2021-07-11 12:30:56,991 selenium.webdriver.remote.remote_connection DEBUG    Finished Request\n",
      "2021-07-11 12:30:56,994 selenium.webdriver.remote.remote_connection DEBUG    GET http://127.0.0.1:65229/session/317acd8cb3050afc69c0aca8e80da469/element/1524ce9d-e4f5-4809-a471-acf74d015410/text {\"id\": \"1524ce9d-e4f5-4809-a471-acf74d015410\"}\n",
      "2021-07-11 12:30:57,005 selenium.webdriver.remote.remote_connection DEBUG    Finished Request\n",
      "2021-07-11 12:30:57,005 selenium.webdriver.remote.remote_connection DEBUG    POST http://127.0.0.1:65229/session/317acd8cb3050afc69c0aca8e80da469/element/aeb6ac0a-4677-4abf-ae55-8a74bd4f843a/elements {\"using\": \"xpath\", \"value\": \".//option[normalize-space(.) = \\\"XLR Boost\\\"]\", \"id\": \"aeb6ac0a-4677-4abf-ae55-8a74bd4f843a\"}\n",
      "2021-07-11 12:30:57,020 selenium.webdriver.remote.remote_connection DEBUG    Finished Request\n",
      "2021-07-11 12:30:57,022 selenium.webdriver.remote.remote_connection DEBUG    GET http://127.0.0.1:65229/session/317acd8cb3050afc69c0aca8e80da469/element/1524ce9d-e4f5-4809-a471-acf74d015410/selected {\"id\": \"1524ce9d-e4f5-4809-a471-acf74d015410\"}\n",
      "2021-07-11 12:30:57,036 selenium.webdriver.remote.remote_connection DEBUG    Finished Request\n",
      "2021-07-11 12:30:57,037 selenium.webdriver.remote.remote_connection DEBUG    POST http://127.0.0.1:65229/session/317acd8cb3050afc69c0aca8e80da469/element/1524ce9d-e4f5-4809-a471-acf74d015410/click {\"id\": \"1524ce9d-e4f5-4809-a471-acf74d015410\"}\n"
     ]
    },
    {
     "name": "stdout",
     "output_type": "stream",
     "text": [
      "X-Lite\n",
      "XLR Boost\n"
     ]
    },
    {
     "name": "stderr",
     "output_type": "stream",
     "text": [
      "2021-07-11 12:30:57,072 selenium.webdriver.remote.remote_connection DEBUG    Finished Request\n",
      "2021-07-11 12:30:57,073 selenium.webdriver.remote.remote_connection DEBUG    GET http://127.0.0.1:65229/session/317acd8cb3050afc69c0aca8e80da469/element/cd3cab7c-0329-4c98-a5c3-c4fa0ccfa484/text {\"id\": \"cd3cab7c-0329-4c98-a5c3-c4fa0ccfa484\"}\n",
      "2021-07-11 12:30:57,095 selenium.webdriver.remote.remote_connection DEBUG    Finished Request\n",
      "2021-07-11 12:30:57,098 selenium.webdriver.remote.remote_connection DEBUG    GET http://127.0.0.1:65229/session/317acd8cb3050afc69c0aca8e80da469/element/cd3cab7c-0329-4c98-a5c3-c4fa0ccfa484/text {\"id\": \"cd3cab7c-0329-4c98-a5c3-c4fa0ccfa484\"}\n",
      "2021-07-11 12:30:57,107 selenium.webdriver.remote.remote_connection DEBUG    Finished Request\n",
      "2021-07-11 12:30:57,110 selenium.webdriver.remote.remote_connection DEBUG    GET http://127.0.0.1:65229/session/317acd8cb3050afc69c0aca8e80da469/element/cd3cab7c-0329-4c98-a5c3-c4fa0ccfa484/text {\"id\": \"cd3cab7c-0329-4c98-a5c3-c4fa0ccfa484\"}\n",
      "2021-07-11 12:30:57,121 selenium.webdriver.remote.remote_connection DEBUG    Finished Request\n",
      "2021-07-11 12:30:57,122 selenium.webdriver.remote.remote_connection DEBUG    POST http://127.0.0.1:65229/session/317acd8cb3050afc69c0aca8e80da469/element/aeb6ac0a-4677-4abf-ae55-8a74bd4f843a/elements {\"using\": \"xpath\", \"value\": \".//option[normalize-space(.) = \\\"XLR Hyperlite\\\"]\", \"id\": \"aeb6ac0a-4677-4abf-ae55-8a74bd4f843a\"}\n",
      "2021-07-11 12:30:57,139 selenium.webdriver.remote.remote_connection DEBUG    Finished Request\n",
      "2021-07-11 12:30:57,140 selenium.webdriver.remote.remote_connection DEBUG    GET http://127.0.0.1:65229/session/317acd8cb3050afc69c0aca8e80da469/element/cd3cab7c-0329-4c98-a5c3-c4fa0ccfa484/selected {\"id\": \"cd3cab7c-0329-4c98-a5c3-c4fa0ccfa484\"}\n",
      "2021-07-11 12:30:57,166 selenium.webdriver.remote.remote_connection DEBUG    Finished Request\n",
      "2021-07-11 12:30:57,167 selenium.webdriver.remote.remote_connection DEBUG    POST http://127.0.0.1:65229/session/317acd8cb3050afc69c0aca8e80da469/element/cd3cab7c-0329-4c98-a5c3-c4fa0ccfa484/click {\"id\": \"cd3cab7c-0329-4c98-a5c3-c4fa0ccfa484\"}\n",
      "2021-07-11 12:30:57,221 selenium.webdriver.remote.remote_connection DEBUG    Finished Request\n",
      "2021-07-11 12:30:57,223 selenium.webdriver.remote.remote_connection DEBUG    GET http://127.0.0.1:65229/session/317acd8cb3050afc69c0aca8e80da469/element/e1a0ba7b-c542-4e96-ba68-be0ae3cbfa99/text {\"id\": \"e1a0ba7b-c542-4e96-ba68-be0ae3cbfa99\"}\n",
      "2021-07-11 12:30:57,247 selenium.webdriver.remote.remote_connection DEBUG    Finished Request\n",
      "2021-07-11 12:30:57,248 selenium.webdriver.remote.remote_connection DEBUG    GET http://127.0.0.1:65229/session/317acd8cb3050afc69c0aca8e80da469/element/e1a0ba7b-c542-4e96-ba68-be0ae3cbfa99/text {\"id\": \"e1a0ba7b-c542-4e96-ba68-be0ae3cbfa99\"}\n",
      "2021-07-11 12:30:57,256 selenium.webdriver.remote.remote_connection DEBUG    Finished Request\n",
      "2021-07-11 12:30:57,257 selenium.webdriver.remote.remote_connection DEBUG    GET http://127.0.0.1:65229/session/317acd8cb3050afc69c0aca8e80da469/element/e1a0ba7b-c542-4e96-ba68-be0ae3cbfa99/text {\"id\": \"e1a0ba7b-c542-4e96-ba68-be0ae3cbfa99\"}\n",
      "2021-07-11 12:30:57,268 selenium.webdriver.remote.remote_connection DEBUG    Finished Request\n",
      "2021-07-11 12:30:57,269 selenium.webdriver.remote.remote_connection DEBUG    POST http://127.0.0.1:65229/session/317acd8cb3050afc69c0aca8e80da469/element/aeb6ac0a-4677-4abf-ae55-8a74bd4f843a/elements {\"using\": \"xpath\", \"value\": \".//option[normalize-space(.) = \\\"XLR Nitro\\\"]\", \"id\": \"aeb6ac0a-4677-4abf-ae55-8a74bd4f843a\"}\n",
      "2021-07-11 12:30:57,284 selenium.webdriver.remote.remote_connection DEBUG    Finished Request\n",
      "2021-07-11 12:30:57,284 selenium.webdriver.remote.remote_connection DEBUG    GET http://127.0.0.1:65229/session/317acd8cb3050afc69c0aca8e80da469/element/e1a0ba7b-c542-4e96-ba68-be0ae3cbfa99/selected {\"id\": \"e1a0ba7b-c542-4e96-ba68-be0ae3cbfa99\"}\n"
     ]
    },
    {
     "name": "stdout",
     "output_type": "stream",
     "text": [
      "XLR Hyperlite\n",
      "XLR Nitro\n"
     ]
    },
    {
     "name": "stderr",
     "output_type": "stream",
     "text": [
      "2021-07-11 12:30:57,299 selenium.webdriver.remote.remote_connection DEBUG    Finished Request\n",
      "2021-07-11 12:30:57,300 selenium.webdriver.remote.remote_connection DEBUG    POST http://127.0.0.1:65229/session/317acd8cb3050afc69c0aca8e80da469/element/e1a0ba7b-c542-4e96-ba68-be0ae3cbfa99/click {\"id\": \"e1a0ba7b-c542-4e96-ba68-be0ae3cbfa99\"}\n",
      "2021-07-11 12:30:57,347 selenium.webdriver.remote.remote_connection DEBUG    Finished Request\n"
     ]
    }
   ],
   "source": [
    "\"\"\"\n",
    "# search_button = driver.find_element_by_id(\"ContentPlaceHolder1_btnSearch\")\n",
    "\n",
    "brand_product = Select(driver.find_element_by_id(\"ContentPlaceHolder1_ddlProducts\"))\n",
    "\n",
    "brands_list = []\n",
    "for o in brand_product.options:\n",
    "    brands_list.append(o.text)\n",
    "    print(o.text)\n",
    "    brand_product.select_by_visible_text(o.text)\n",
    "    #search_button.click()\n",
    "# brand_name = brand_product.options[1].text\n",
    "# brand_product.select_by_visible_text(brand_name)\n",
    "\n",
    "time.sleep(2)\"\"\""
   ]
  },
  {
   "cell_type": "code",
   "execution_count": 385,
   "metadata": {},
   "outputs": [
    {
     "data": {
      "text/plain": [
       "['--Select A Brand--',\n",
       " 'Alpha Wolf',\n",
       " 'Arctic Wolf',\n",
       " 'Aurora',\n",
       " 'Berkshire',\n",
       " 'Berkshire XL',\n",
       " 'Berkshire XLT',\n",
       " 'Cardinal Limited',\n",
       " 'Cardinal Luxury',\n",
       " 'Cedar Creek',\n",
       " 'Cedar Creek Champagne Edition',\n",
       " 'Cedar Creek Cottage',\n",
       " 'Cedar Creek Hathaway Edition',\n",
       " 'Cedar Creek Silverback Edition',\n",
       " 'Cherokee',\n",
       " 'Cherokee Destination',\n",
       " 'Cruise Lite',\n",
       " 'Evo',\n",
       " 'Flagstaff Classic',\n",
       " 'Flagstaff E-Pro',\n",
       " 'Flagstaff Hard Side Pop-Up Campers',\n",
       " 'Flagstaff Micro Lite',\n",
       " 'Flagstaff Shamrock',\n",
       " 'Flagstaff Sports Enthusiast Package',\n",
       " 'Flagstaff Super Lite',\n",
       " 'Flagstaff Tent',\n",
       " 'Forester Classic',\n",
       " 'Forester LE',\n",
       " 'Forester MBS',\n",
       " 'Forester TS',\n",
       " 'FR3',\n",
       " 'Georgetown 3 Series GT3',\n",
       " 'Georgetown 5 Series GT5',\n",
       " 'Georgetown 7 Series GT7',\n",
       " 'Grand Surveyor',\n",
       " 'Grey Wolf',\n",
       " 'Grey Wolf Fish House',\n",
       " 'Hemisphere',\n",
       " 'Hemisphere Elite',\n",
       " 'Hemisphere Hyper-Lyte',\n",
       " 'Heritage Glen',\n",
       " 'Heritage Glen Elite',\n",
       " 'Heritage Glen Hyper-Lyte',\n",
       " 'Ibex',\n",
       " 'Impression',\n",
       " 'Independence Trail',\n",
       " 'No Boundaries',\n",
       " 'Ozark',\n",
       " 'r-pod',\n",
       " 'RIVERSTONE',\n",
       " 'Riverstone Reserve Series',\n",
       " 'Rockwood Extreme Sports Package',\n",
       " 'Rockwood Geo Pro',\n",
       " 'Rockwood Hard Side Pop-Up Campers',\n",
       " 'Rockwood Mini Lite',\n",
       " 'Rockwood Roo',\n",
       " 'Rockwood Signature',\n",
       " 'Rockwood Tent',\n",
       " 'Rockwood Ultra Lite',\n",
       " 'Sabre',\n",
       " 'Salem',\n",
       " 'Salem FSX',\n",
       " 'Salem FSX Northwest',\n",
       " 'Salem Villa',\n",
       " 'Sandpiper',\n",
       " 'Sandpiper C-Class',\n",
       " 'Sandpiper Destination',\n",
       " 'Sandstorm',\n",
       " 'Shockwave',\n",
       " 'Sierra',\n",
       " 'Sierra C-Class',\n",
       " 'Sierra Destination',\n",
       " 'Solera',\n",
       " 'Sonoma',\n",
       " 'Stealth',\n",
       " 'Sunseeker Classic',\n",
       " 'Sunseeker LE',\n",
       " 'Sunseeker MBS',\n",
       " 'Sunseeker TS',\n",
       " 'Surveyor Legend',\n",
       " 'Vengeance Rogue',\n",
       " 'Vengeance Rogue Armored',\n",
       " 'Vibe',\n",
       " 'Vibe West',\n",
       " 'Wildcat Fifth Wheels',\n",
       " 'Wildcat Travel Trailers',\n",
       " 'Wildwood',\n",
       " 'Wildwood FSX',\n",
       " 'Wildwood FSX Northwest',\n",
       " 'Wildwood Lodge',\n",
       " 'Wolf Pack',\n",
       " 'Wolf Pack Gold Series',\n",
       " 'Wolf Pup',\n",
       " 'Work and Play',\n",
       " 'X-Lite',\n",
       " 'XLR Boost',\n",
       " 'XLR Hyperlite',\n",
       " 'XLR Nitro']"
      ]
     },
     "execution_count": 385,
     "metadata": {},
     "output_type": "execute_result"
    }
   ],
   "source": [
    "brands_list"
   ]
  },
  {
   "cell_type": "code",
   "execution_count": 234,
   "metadata": {},
   "outputs": [
    {
     "data": {
      "text/plain": [
       "'def clickOutside():\\n    Actions action = new Actions(driver);\\n    action.moveByOffset(0, 0).click().build().perform();'"
      ]
     },
     "execution_count": 234,
     "metadata": {},
     "output_type": "execute_result"
    }
   ],
   "source": [
    "\"\"\"def clickOutside():\n",
    "    Actions action = new Actions(driver);\n",
    "    action.moveByOffset(0, 0).click().build().perform();\"\"\""
   ]
  },
  {
   "cell_type": "markdown",
   "metadata": {
    "scrolled": false
   },
   "source": [
    "# driver.find_elements_by_class_name(\"g-recaptcha\").isEnabled()\n",
    "googleClass = driver.find_elements_by_class_name(\"g-recaptcha\")\n",
    "if (len(googleClass)>0):\n",
    "    googleClass = driver.find_elements_by_class_name(\"g-recaptcha\")[0]\n",
    "    outeriframe = googleClass.find_element_by_tag_name(\"iframe\")\n",
    "    outeriframe.click()\n",
    "    \n",
    "    allIframesLen = driver.find_elements_by_tag_name(\"iframe\")\n",
    "    audioBtnFound = False\n",
    "    audioBtnIndex = -1\n",
    "    \n",
    "    print(len(allIframesLen))\n",
    "    \n",
    "    # //*[@id=\"recaptcha-audio-button\"]\n",
    "    # /html/body/div/div/div[3]/div[2]/div[1]/div[1]/div[2]/button\n",
    "    \n",
    "    for index in range(len(allIframesLen)):\n",
    "        driver.switch_to.default_content()\n",
    "        iframe = driver.find_elements_by_tag_name(\"iframe\")[index]\n",
    "        print(iframe.get_attribute(\"title\"))\n",
    "        driver.implicitly_wait(delayTime)\n",
    "        try:\n",
    "            driver.switch_to_frame(index)\n",
    "            \n",
    "            #audioClass = driver.find_element_by_class(\"button-holder audio-button-holder\")\n",
    "            #print(audioClass.get_attribute(\"name\"))\n",
    "            \n",
    "            #print(driver.)\n",
    "            \n",
    "            audioBtn = driver.find_element_by_id(\"recaptcha-audio-button\")\n",
    "            #audioBtn = driver.find_element(By.XPATH, '//*[@id=\"recaptcha-audio-button\"]')\n",
    "            audioBtn.click()\n",
    "            \n",
    "            audioBtnFound = True\n",
    "            audioBtnIndex = index\n",
    "            break\n",
    "        except Exception as  e:\n",
    "            pass\n",
    "        \n",
    "    if (audioBtnFound):\n",
    "        try:\n",
    "            while True:\n",
    "                href = driver.find_element_by_id(\"audio-source\").get_attribute(\"src\")\n",
    "                response = requests.get(href, stream=True)\n",
    "                saveFile(response, filename)\n",
    "                response = audioToText(os.getcwd()+\"/\"+filename)\n",
    "                print(response)\n",
    "                \n",
    "                driver.switch_to_default_content()\n",
    "                iframe = driver.find_elements_by_tag_name('iframe')[audioBtnIndex]\n",
    "                driver.switch_to.frame(iframe)\n",
    "                \n",
    "                inputBtn = driver.find_element_by_id(\"audio-response\")\n",
    "                inputBtn.send_keys(response)\n",
    "                inputBtn.send_keys(Keys.ENTER)\n",
    "                \n",
    "                time.sleep(2)\n",
    "                errorMsg = driver.find_elements_by_class_name(\"rc-audiochallenge-error-message\")[0]\n",
    "                \n",
    "                if errorMsg.text == \"\" or errorMsg.value_of_css_property(\"display\")==\"none\":\n",
    "                    print(\"success\")\n",
    "                    break\n",
    "        except Exception as e:\n",
    "            print(e)\n",
    "            print(\"Caught.  Need to  change  proxy now\")\n",
    "    else:\n",
    "        print(\"Button  not found. This  should  not  happen\")"
   ]
  },
  {
   "cell_type": "code",
   "execution_count": 235,
   "metadata": {},
   "outputs": [
    {
     "name": "stderr",
     "output_type": "stream",
     "text": [
      "2021-07-11 10:25:24,660 selenium.webdriver.remote.remote_connection DEBUG    POST http://127.0.0.1:54818/session/0c2e10f0ca4f593604df729aeb2cebf8/element/132ef564-b44a-449f-83c9-4b80aceed4c0/click {\"id\": \"132ef564-b44a-449f-83c9-4b80aceed4c0\"}\n",
      "2021-07-11 10:25:57,750 selenium.webdriver.remote.remote_connection DEBUG    Finished Request\n"
     ]
    }
   ],
   "source": [
    "# search_button.click()"
   ]
  },
  {
   "cell_type": "code",
   "execution_count": 278,
   "metadata": {},
   "outputs": [
    {
     "name": "stderr",
     "output_type": "stream",
     "text": [
      "2021-07-11 10:51:50,919 selenium.webdriver.remote.remote_connection DEBUG    POST http://127.0.0.1:54818/session/0c2e10f0ca4f593604df729aeb2cebf8/element {\"using\": \"css selector\", \"value\": \"[id=\\\"map\\\"]\"}\n",
      "2021-07-11 10:51:50,935 selenium.webdriver.remote.remote_connection DEBUG    Finished Request\n",
      "2021-07-11 10:51:50,936 selenium.webdriver.remote.remote_connection DEBUG    POST http://127.0.0.1:54818/session/0c2e10f0ca4f593604df729aeb2cebf8/element/da2134bd-53c9-4898-b934-a3f8b1b0ea3f/elements {\"using\": \"xpath\", \"value\": \"//*[@id=\\\"map\\\"]/div[1]\", \"id\": \"da2134bd-53c9-4898-b934-a3f8b1b0ea3f\"}\n",
      "2021-07-11 10:51:50,956 selenium.webdriver.remote.remote_connection DEBUG    Finished Request\n",
      "2021-07-11 10:51:50,958 selenium.webdriver.remote.remote_connection DEBUG    POST http://127.0.0.1:54818/session/0c2e10f0ca4f593604df729aeb2cebf8/element/0e3756a5-ab6c-4dfa-9ab2-0e85adedb657/elements {\"using\": \"xpath\", \"value\": \"./child::*\", \"id\": \"0e3756a5-ab6c-4dfa-9ab2-0e85adedb657\"}\n",
      "2021-07-11 10:51:50,974 selenium.webdriver.remote.remote_connection DEBUG    Finished Request\n"
     ]
    }
   ],
   "source": [
    "\"\"\"page = driver.find_element_by_id(\"map\");\n",
    "all_dealers = page.find_elements(By.XPATH, '//*[@id=\"map\"]/div[1]')[0].find_elements(By.XPATH, \"./child::*\")\n",
    "# all_dealers=driver.find_elements_by_class_name(\"w-25 pl-3 float-right\")\"\"\""
   ]
  },
  {
   "cell_type": "code",
   "execution_count": 289,
   "metadata": {},
   "outputs": [
    {
     "name": "stderr",
     "output_type": "stream",
     "text": [
      "2021-07-11 10:54:20,495 selenium.webdriver.remote.remote_connection DEBUG    POST http://127.0.0.1:54818/session/0c2e10f0ca4f593604df729aeb2cebf8/element/da2134bd-53c9-4898-b934-a3f8b1b0ea3f/elements {\"using\": \"css selector\", \"value\": \"div.text-left\", \"id\": \"da2134bd-53c9-4898-b934-a3f8b1b0ea3f\"}\n",
      "2021-07-11 10:54:20,522 selenium.webdriver.remote.remote_connection DEBUG    Finished Request\n"
     ]
    }
   ],
   "source": [
    "# all_dealers = page.find_elements_by_css_selector(\"div.text-left\")"
   ]
  },
  {
   "cell_type": "code",
   "execution_count": 290,
   "metadata": {},
   "outputs": [
    {
     "data": {
      "text/plain": [
       "2"
      ]
     },
     "execution_count": 290,
     "metadata": {},
     "output_type": "execute_result"
    }
   ],
   "source": [
    "# len(all_dealers)"
   ]
  },
  {
   "cell_type": "code",
   "execution_count": 296,
   "metadata": {},
   "outputs": [
    {
     "name": "stderr",
     "output_type": "stream",
     "text": [
      "2021-07-11 10:57:49,571 selenium.webdriver.remote.remote_connection DEBUG    POST http://127.0.0.1:54818/session/0c2e10f0ca4f593604df729aeb2cebf8/element/87930d4d-f5be-4ac2-8b0f-8814ca18b607/elements {\"using\": \"css selector\", \"value\": \"div\", \"id\": \"87930d4d-f5be-4ac2-8b0f-8814ca18b607\"}\n",
      "2021-07-11 10:57:49,599 selenium.webdriver.remote.remote_connection DEBUG    Finished Request\n"
     ]
    }
   ],
   "source": []
  },
  {
   "cell_type": "code",
   "execution_count": 331,
   "metadata": {},
   "outputs": [
    {
     "name": "stderr",
     "output_type": "stream",
     "text": [
      "2021-07-11 11:30:09,460 selenium.webdriver.remote.remote_connection DEBUG    POST http://127.0.0.1:54818/session/0c2e10f0ca4f593604df729aeb2cebf8/element/87930d4d-f5be-4ac2-8b0f-8814ca18b607/element {\"using\": \"css selector\", \"value\": \"h3\", \"id\": \"87930d4d-f5be-4ac2-8b0f-8814ca18b607\"}\n",
      "2021-07-11 11:30:09,476 selenium.webdriver.remote.remote_connection DEBUG    Finished Request\n",
      "2021-07-11 11:30:09,477 selenium.webdriver.remote.remote_connection DEBUG    GET http://127.0.0.1:54818/session/0c2e10f0ca4f593604df729aeb2cebf8/element/1522e772-a17e-4f9b-8794-b86816fe3812/text {\"id\": \"1522e772-a17e-4f9b-8794-b86816fe3812\"}\n",
      "2021-07-11 11:30:09,522 selenium.webdriver.remote.remote_connection DEBUG    Finished Request\n",
      "2021-07-11 11:30:09,523 selenium.webdriver.remote.remote_connection DEBUG    POST http://127.0.0.1:54818/session/0c2e10f0ca4f593604df729aeb2cebf8/element/87930d4d-f5be-4ac2-8b0f-8814ca18b607/elements {\"using\": \"css selector\", \"value\": \"div\", \"id\": \"87930d4d-f5be-4ac2-8b0f-8814ca18b607\"}\n",
      "2021-07-11 11:30:09,543 selenium.webdriver.remote.remote_connection DEBUG    Finished Request\n",
      "2021-07-11 11:30:09,544 selenium.webdriver.remote.remote_connection DEBUG    GET http://127.0.0.1:54818/session/0c2e10f0ca4f593604df729aeb2cebf8/element/90dd3472-fd6a-4f78-9b12-8b77094c8bff/text {\"id\": \"90dd3472-fd6a-4f78-9b12-8b77094c8bff\"}\n",
      "2021-07-11 11:30:09,563 selenium.webdriver.remote.remote_connection DEBUG    Finished Request\n",
      "2021-07-11 11:30:09,564 selenium.webdriver.remote.remote_connection DEBUG    GET http://127.0.0.1:54818/session/0c2e10f0ca4f593604df729aeb2cebf8/element/9c6ee6af-c2c5-4546-8753-c97e58e3bf56/text {\"id\": \"9c6ee6af-c2c5-4546-8753-c97e58e3bf56\"}\n",
      "2021-07-11 11:30:09,583 selenium.webdriver.remote.remote_connection DEBUG    Finished Request\n",
      "2021-07-11 11:30:09,584 selenium.webdriver.remote.remote_connection DEBUG    GET http://127.0.0.1:54818/session/0c2e10f0ca4f593604df729aeb2cebf8/element/8cc2e28a-8851-44c5-816f-4253803add2c/text {\"id\": \"8cc2e28a-8851-44c5-816f-4253803add2c\"}\n",
      "2021-07-11 11:30:09,608 selenium.webdriver.remote.remote_connection DEBUG    Finished Request\n",
      "2021-07-11 11:30:09,609 selenium.webdriver.remote.remote_connection DEBUG    GET http://127.0.0.1:54818/session/0c2e10f0ca4f593604df729aeb2cebf8/element/c7173091-a57c-4bef-9d25-1b559e30a6e7/text {\"id\": \"c7173091-a57c-4bef-9d25-1b559e30a6e7\"}\n",
      "2021-07-11 11:30:09,629 selenium.webdriver.remote.remote_connection DEBUG    Finished Request\n",
      "2021-07-11 11:30:09,630 selenium.webdriver.remote.remote_connection DEBUG    POST http://127.0.0.1:54818/session/0c2e10f0ca4f593604df729aeb2cebf8/element/bccf86e4-8c24-4864-92d7-db61d149ee16/element {\"using\": \"css selector\", \"value\": \"a\", \"id\": \"bccf86e4-8c24-4864-92d7-db61d149ee16\"}\n",
      "2021-07-11 11:30:09,645 selenium.webdriver.remote.remote_connection DEBUG    Finished Request\n",
      "2021-07-11 11:30:09,646 selenium.webdriver.remote.remote_connection DEBUG    POST http://127.0.0.1:54818/session/0c2e10f0ca4f593604df729aeb2cebf8/execute/sync {\"script\": \"return (function(){return function(){var d=this;function f(a){return\\\"string\\\"==typeof a};function h(a,b){this.code=a;this.a=l[a]||m;this.message=b||\\\"\\\";a=this.a.replace(/((?:^|\\\\s+)[a-z])/g,function(a){return a.toUpperCase().replace(/^[\\\\s\\\\xa0]+/g,\\\"\\\")});b=a.length-5;if(0>b||a.indexOf(\\\"Error\\\",b)!=b)a+=\\\"Error\\\";this.name=a;a=Error(this.message);a.name=this.name;this.stack=a.stack||\\\"\\\"}\\n(function(){var a=Error;function b(){}b.prototype=a.prototype;h.b=a.prototype;h.prototype=new b;h.prototype.constructor=h;h.a=function(b,c,g){for(var e=Array(arguments.length-2),k=2;k<arguments.length;k++)e[k-2]=arguments[k];return a.prototype[c].apply(b,e)}})();var m=\\\"unknown error\\\",l={15:\\\"element not selectable\\\",11:\\\"element not visible\\\"};l[31]=m;l[30]=m;l[24]=\\\"invalid cookie domain\\\";l[29]=\\\"invalid element coordinates\\\";l[12]=\\\"invalid element state\\\";l[32]=\\\"invalid selector\\\";l[51]=\\\"invalid selector\\\";\\nl[52]=\\\"invalid selector\\\";l[17]=\\\"javascript error\\\";l[405]=\\\"unsupported operation\\\";l[34]=\\\"move target out of bounds\\\";l[27]=\\\"no such alert\\\";l[7]=\\\"no such element\\\";l[8]=\\\"no such frame\\\";l[23]=\\\"no such window\\\";l[28]=\\\"script timeout\\\";l[33]=\\\"session not created\\\";l[10]=\\\"stale element reference\\\";l[21]=\\\"timeout\\\";l[25]=\\\"unable to set cookie\\\";l[26]=\\\"unexpected alert open\\\";l[13]=m;l[9]=\\\"unknown command\\\";h.prototype.toString=function(){return this.name+\\\": \\\"+this.message};var n;a:{var p=d.navigator;if(p){var q=p.userAgent;if(q){n=q;break a}}n=\\\"\\\"}function r(a){return-1!=n.indexOf(a)};function t(a,b){for(var e=a.length,c=f(a)?a.split(\\\"\\\"):a,g=0;g<e;g++)g in c&&b.call(void 0,c[g],g,a)};function v(){return r(\\\"iPhone\\\")&&!r(\\\"iPod\\\")&&!r(\\\"iPad\\\")};function w(){return(r(\\\"Chrome\\\")||r(\\\"CriOS\\\"))&&!r(\\\"Edge\\\")};var x=r(\\\"Opera\\\"),y=r(\\\"Trident\\\")||r(\\\"MSIE\\\"),z=r(\\\"Edge\\\"),A=r(\\\"Gecko\\\")&&!(-1!=n.toLowerCase().indexOf(\\\"webkit\\\")&&!r(\\\"Edge\\\"))&&!(r(\\\"Trident\\\")||r(\\\"MSIE\\\"))&&!r(\\\"Edge\\\"),aa=-1!=n.toLowerCase().indexOf(\\\"webkit\\\")&&!r(\\\"Edge\\\");function B(){var a=d.document;return a?a.documentMode:void 0}var C;\\na:{var D=\\\"\\\",E=function(){var a=n;if(A)return/rv\\\\:([^\\\\);]+)(\\\\)|;)/.exec(a);if(z)return/Edge\\\\/([\\\\d\\\\.]+)/.exec(a);if(y)return/\\\\b(?:MSIE|rv)[: ]([^\\\\);]+)(\\\\)|;)/.exec(a);if(aa)return/WebKit\\\\/(\\\\S+)/.exec(a);if(x)return/(?:Version)[ \\\\/]?(\\\\S+)/.exec(a)}();E&&(D=E?E[1]:\\\"\\\");if(y){var F=B();if(null!=F&&F>parseFloat(D)){C=String(F);break a}}C=D}var G;var H=d.document;G=H&&y?B()||(\\\"CSS1Compat\\\"==H.compatMode?parseInt(C,10):5):void 0;var ba=r(\\\"Firefox\\\"),ca=v()||r(\\\"iPod\\\"),da=r(\\\"iPad\\\"),I=r(\\\"Android\\\")&&!(w()||r(\\\"Firefox\\\")||r(\\\"Opera\\\")||r(\\\"Silk\\\")),ea=w(),J=r(\\\"Safari\\\")&&!(w()||r(\\\"Coast\\\")||r(\\\"Opera\\\")||r(\\\"Edge\\\")||r(\\\"Silk\\\")||r(\\\"Android\\\"))&&!(v()||r(\\\"iPad\\\")||r(\\\"iPod\\\"));function K(a){return(a=a.exec(n))?a[1]:\\\"\\\"}(function(){if(ba)return K(/Firefox\\\\/([0-9.]+)/);if(y||z||x)return C;if(ea)return v()||r(\\\"iPad\\\")||r(\\\"iPod\\\")?K(/CriOS\\\\/([0-9.]+)/):K(/Chrome\\\\/([0-9.]+)/);if(J&&!(v()||r(\\\"iPad\\\")||r(\\\"iPod\\\")))return K(/Version\\\\/([0-9.]+)/);if(ca||da){var a=/Version\\\\/(\\\\S+).*Mobile\\\\/(\\\\S+)/.exec(n);if(a)return a[1]+\\\".\\\"+a[2]}else if(I)return(a=K(/Android\\\\s+([0-9.]+)/))?a:K(/Version\\\\/([0-9.]+)/);return\\\"\\\"})();var L,M=function(){if(!A)return!1;var a=d.Components;if(!a)return!1;try{if(!a.classes)return!1}catch(g){return!1}var b=a.classes,a=a.interfaces,e=b[\\\"@mozilla.org/xpcom/version-comparator;1\\\"].getService(a.nsIVersionComparator),c=b[\\\"@mozilla.org/xre/app-info;1\\\"].getService(a.nsIXULAppInfo).version;L=function(a){e.compare(c,\\\"\\\"+a)};return!0}(),N=y&&!(8<=Number(G)),fa=y&&!(9<=Number(G));I&&M&&L(2.3);I&&M&&L(4);J&&M&&L(6);var ga={SCRIPT:1,STYLE:1,HEAD:1,IFRAME:1,OBJECT:1},O={IMG:\\\" \\\",BR:\\\"\\\\n\\\"};function P(a,b,e){if(!(a.nodeName in ga))if(3==a.nodeType)e?b.push(String(a.nodeValue).replace(/(\\\\r\\\\n|\\\\r|\\\\n)/g,\\\"\\\")):b.push(a.nodeValue);else if(a.nodeName in O)b.push(O[a.nodeName]);else for(a=a.firstChild;a;)P(a,b,e),a=a.nextSibling};function Q(a,b){b=b.toLowerCase();return\\\"style\\\"==b?ha(a.style.cssText):N&&\\\"value\\\"==b&&R(a,\\\"INPUT\\\")?a.value:fa&&!0===a[b]?String(a.getAttribute(b)):(a=a.getAttributeNode(b))&&a.specified?a.value:null}var ia=/[;]+(?=(?:(?:[^\\\"]*\\\"){2})*[^\\\"]*$)(?=(?:(?:[^']*'){2})*[^']*$)(?=(?:[^()]*\\\\([^()]*\\\\))*[^()]*$)/;\\nfunction ha(a){var b=[];t(a.split(ia),function(a){var c=a.indexOf(\\\":\\\");0<c&&(a=[a.slice(0,c),a.slice(c+1)],2==a.length&&b.push(a[0].toLowerCase(),\\\":\\\",a[1],\\\";\\\"))});b=b.join(\\\"\\\");return b=\\\";\\\"==b.charAt(b.length-1)?b:b+\\\";\\\"}function S(a,b){N&&\\\"value\\\"==b&&R(a,\\\"OPTION\\\")&&null===Q(a,\\\"value\\\")?(b=[],P(a,b,!1),a=b.join(\\\"\\\")):a=a[b];return a}function R(a,b){b&&\\\"string\\\"!==typeof b&&(b=b.toString());return!!a&&1==a.nodeType&&(!b||a.tagName.toUpperCase()==b)}\\nfunction T(a){return R(a,\\\"OPTION\\\")?!0:R(a,\\\"INPUT\\\")?(a=a.type.toLowerCase(),\\\"checkbox\\\"==a||\\\"radio\\\"==a):!1};var ja={\\\"class\\\":\\\"className\\\",readonly:\\\"readOnly\\\"},U=\\\"allowfullscreen allowpaymentrequest allowusermedia async autofocus autoplay checked compact complete controls declare default defaultchecked defaultselected defer disabled ended formnovalidate hidden indeterminate iscontenteditable ismap itemscope loop multiple muted nohref nomodule noresize noshade novalidate nowrap open paused playsinline pubdate readonly required reversed scoped seamless seeking selected truespeed typemustmatch willvalidate\\\".split(\\\" \\\");function V(a,b){var e=null,c=b.toLowerCase();if(\\\"style\\\"==c)return(e=a.style)&&!f(e)&&(e=e.cssText),e;if((\\\"selected\\\"==c||\\\"checked\\\"==c)&&T(a)){if(!T(a))throw new h(15,\\\"Element is not selectable\\\");b=\\\"selected\\\";e=a.type&&a.type.toLowerCase();if(\\\"checkbox\\\"==e||\\\"radio\\\"==e)b=\\\"checked\\\";return S(a,b)?\\\"true\\\":null}var g=R(a,\\\"A\\\");if(R(a,\\\"IMG\\\")&&\\\"src\\\"==c||g&&\\\"href\\\"==c)return(e=Q(a,c))&&(e=S(a,c)),e;if(\\\"spellcheck\\\"==c){e=Q(a,c);if(null!==e){if(\\\"false\\\"==e.toLowerCase())return\\\"false\\\";if(\\\"true\\\"==e.toLowerCase())return\\\"true\\\"}return S(a,\\nc)+\\\"\\\"}g=ja[b]||b;a:if(f(U))c=f(c)&&1==c.length?U.indexOf(c,0):-1;else{for(var u=0;u<U.length;u++)if(u in U&&U[u]===c){c=u;break a}c=-1}if(0<=c)return(e=null!==Q(a,b)||S(a,g))?\\\"true\\\":null;try{var k=S(a,g)}catch(ka){}(c=null==k)||(c=typeof k,c=\\\"object\\\"==c&&null!=k||\\\"function\\\"==c);c?e=Q(a,b):e=k;return null!=e?e.toString():null}var W=[\\\"_\\\"],X=d;W[0]in X||!X.execScript||X.execScript(\\\"var \\\"+W[0]);\\nfor(var Y;W.length&&(Y=W.shift());){var Z;if(Z=!W.length)Z=void 0!==V;Z?X[Y]=V:X[Y]&&X[Y]!==Object.prototype[Y]?X=X[Y]:X=X[Y]={}};; return this._.apply(null,arguments);}.apply({navigator:typeof window!='undefined'?window.navigator:null,document:typeof window!='undefined'?window.document:null}, arguments);}\\n).apply(null, arguments);\", \"args\": [{\"ELEMENT\": \"38787c20-309c-4cc4-b241-616647960590\", \"element-6066-11e4-a52e-4f735466cecf\": \"38787c20-309c-4cc4-b241-616647960590\"}, \"href\"]}\n"
     ]
    },
    {
     "name": "stderr",
     "output_type": "stream",
     "text": [
      "2021-07-11 11:30:09,657 selenium.webdriver.remote.remote_connection DEBUG    Finished Request\n",
      "2021-07-11 11:30:09,698 selenium.webdriver.remote.remote_connection DEBUG    POST http://127.0.0.1:54818/session/0c2e10f0ca4f593604df729aeb2cebf8/element/90f9372e-db42-440d-80c5-158497ae402b/element {\"using\": \"css selector\", \"value\": \"h3\", \"id\": \"90f9372e-db42-440d-80c5-158497ae402b\"}\n",
      "2021-07-11 11:30:09,714 selenium.webdriver.remote.remote_connection DEBUG    Finished Request\n",
      "2021-07-11 11:30:09,715 selenium.webdriver.remote.remote_connection DEBUG    GET http://127.0.0.1:54818/session/0c2e10f0ca4f593604df729aeb2cebf8/element/2eb48f03-c19d-45e2-afa0-71225c1a6cc4/text {\"id\": \"2eb48f03-c19d-45e2-afa0-71225c1a6cc4\"}\n",
      "2021-07-11 11:30:09,732 selenium.webdriver.remote.remote_connection DEBUG    Finished Request\n",
      "2021-07-11 11:30:09,733 selenium.webdriver.remote.remote_connection DEBUG    POST http://127.0.0.1:54818/session/0c2e10f0ca4f593604df729aeb2cebf8/element/90f9372e-db42-440d-80c5-158497ae402b/elements {\"using\": \"css selector\", \"value\": \"div\", \"id\": \"90f9372e-db42-440d-80c5-158497ae402b\"}\n",
      "2021-07-11 11:30:09,751 selenium.webdriver.remote.remote_connection DEBUG    Finished Request\n",
      "2021-07-11 11:30:09,753 selenium.webdriver.remote.remote_connection DEBUG    GET http://127.0.0.1:54818/session/0c2e10f0ca4f593604df729aeb2cebf8/element/0ae7969d-cbff-4de5-a753-d469e3bfacf8/text {\"id\": \"0ae7969d-cbff-4de5-a753-d469e3bfacf8\"}\n",
      "2021-07-11 11:30:09,771 selenium.webdriver.remote.remote_connection DEBUG    Finished Request\n",
      "2021-07-11 11:30:09,772 selenium.webdriver.remote.remote_connection DEBUG    GET http://127.0.0.1:54818/session/0c2e10f0ca4f593604df729aeb2cebf8/element/0c91e4d4-3fec-4e9c-8b33-5a03c5212a3e/text {\"id\": \"0c91e4d4-3fec-4e9c-8b33-5a03c5212a3e\"}\n",
      "2021-07-11 11:30:09,798 selenium.webdriver.remote.remote_connection DEBUG    Finished Request\n",
      "2021-07-11 11:30:09,799 selenium.webdriver.remote.remote_connection DEBUG    GET http://127.0.0.1:54818/session/0c2e10f0ca4f593604df729aeb2cebf8/element/8836daa7-2cff-4cad-9536-507bc56bcfd9/text {\"id\": \"8836daa7-2cff-4cad-9536-507bc56bcfd9\"}\n",
      "2021-07-11 11:30:09,817 selenium.webdriver.remote.remote_connection DEBUG    Finished Request\n",
      "2021-07-11 11:30:09,819 selenium.webdriver.remote.remote_connection DEBUG    GET http://127.0.0.1:54818/session/0c2e10f0ca4f593604df729aeb2cebf8/element/12c18f48-4e6e-4b1b-8d86-121014b9148b/text {\"id\": \"12c18f48-4e6e-4b1b-8d86-121014b9148b\"}\n",
      "2021-07-11 11:30:09,838 selenium.webdriver.remote.remote_connection DEBUG    Finished Request\n",
      "2021-07-11 11:30:09,839 selenium.webdriver.remote.remote_connection DEBUG    POST http://127.0.0.1:54818/session/0c2e10f0ca4f593604df729aeb2cebf8/element/20867772-fb47-4924-ae95-c75acd33a937/element {\"using\": \"css selector\", \"value\": \"a\", \"id\": \"20867772-fb47-4924-ae95-c75acd33a937\"}\n",
      "2021-07-11 11:30:09,854 selenium.webdriver.remote.remote_connection DEBUG    Finished Request\n",
      "2021-07-11 11:30:09,856 selenium.webdriver.remote.remote_connection DEBUG    POST http://127.0.0.1:54818/session/0c2e10f0ca4f593604df729aeb2cebf8/execute/sync {\"script\": \"return (function(){return function(){var d=this;function f(a){return\\\"string\\\"==typeof a};function h(a,b){this.code=a;this.a=l[a]||m;this.message=b||\\\"\\\";a=this.a.replace(/((?:^|\\\\s+)[a-z])/g,function(a){return a.toUpperCase().replace(/^[\\\\s\\\\xa0]+/g,\\\"\\\")});b=a.length-5;if(0>b||a.indexOf(\\\"Error\\\",b)!=b)a+=\\\"Error\\\";this.name=a;a=Error(this.message);a.name=this.name;this.stack=a.stack||\\\"\\\"}\\n(function(){var a=Error;function b(){}b.prototype=a.prototype;h.b=a.prototype;h.prototype=new b;h.prototype.constructor=h;h.a=function(b,c,g){for(var e=Array(arguments.length-2),k=2;k<arguments.length;k++)e[k-2]=arguments[k];return a.prototype[c].apply(b,e)}})();var m=\\\"unknown error\\\",l={15:\\\"element not selectable\\\",11:\\\"element not visible\\\"};l[31]=m;l[30]=m;l[24]=\\\"invalid cookie domain\\\";l[29]=\\\"invalid element coordinates\\\";l[12]=\\\"invalid element state\\\";l[32]=\\\"invalid selector\\\";l[51]=\\\"invalid selector\\\";\\nl[52]=\\\"invalid selector\\\";l[17]=\\\"javascript error\\\";l[405]=\\\"unsupported operation\\\";l[34]=\\\"move target out of bounds\\\";l[27]=\\\"no such alert\\\";l[7]=\\\"no such element\\\";l[8]=\\\"no such frame\\\";l[23]=\\\"no such window\\\";l[28]=\\\"script timeout\\\";l[33]=\\\"session not created\\\";l[10]=\\\"stale element reference\\\";l[21]=\\\"timeout\\\";l[25]=\\\"unable to set cookie\\\";l[26]=\\\"unexpected alert open\\\";l[13]=m;l[9]=\\\"unknown command\\\";h.prototype.toString=function(){return this.name+\\\": \\\"+this.message};var n;a:{var p=d.navigator;if(p){var q=p.userAgent;if(q){n=q;break a}}n=\\\"\\\"}function r(a){return-1!=n.indexOf(a)};function t(a,b){for(var e=a.length,c=f(a)?a.split(\\\"\\\"):a,g=0;g<e;g++)g in c&&b.call(void 0,c[g],g,a)};function v(){return r(\\\"iPhone\\\")&&!r(\\\"iPod\\\")&&!r(\\\"iPad\\\")};function w(){return(r(\\\"Chrome\\\")||r(\\\"CriOS\\\"))&&!r(\\\"Edge\\\")};var x=r(\\\"Opera\\\"),y=r(\\\"Trident\\\")||r(\\\"MSIE\\\"),z=r(\\\"Edge\\\"),A=r(\\\"Gecko\\\")&&!(-1!=n.toLowerCase().indexOf(\\\"webkit\\\")&&!r(\\\"Edge\\\"))&&!(r(\\\"Trident\\\")||r(\\\"MSIE\\\"))&&!r(\\\"Edge\\\"),aa=-1!=n.toLowerCase().indexOf(\\\"webkit\\\")&&!r(\\\"Edge\\\");function B(){var a=d.document;return a?a.documentMode:void 0}var C;\\na:{var D=\\\"\\\",E=function(){var a=n;if(A)return/rv\\\\:([^\\\\);]+)(\\\\)|;)/.exec(a);if(z)return/Edge\\\\/([\\\\d\\\\.]+)/.exec(a);if(y)return/\\\\b(?:MSIE|rv)[: ]([^\\\\);]+)(\\\\)|;)/.exec(a);if(aa)return/WebKit\\\\/(\\\\S+)/.exec(a);if(x)return/(?:Version)[ \\\\/]?(\\\\S+)/.exec(a)}();E&&(D=E?E[1]:\\\"\\\");if(y){var F=B();if(null!=F&&F>parseFloat(D)){C=String(F);break a}}C=D}var G;var H=d.document;G=H&&y?B()||(\\\"CSS1Compat\\\"==H.compatMode?parseInt(C,10):5):void 0;var ba=r(\\\"Firefox\\\"),ca=v()||r(\\\"iPod\\\"),da=r(\\\"iPad\\\"),I=r(\\\"Android\\\")&&!(w()||r(\\\"Firefox\\\")||r(\\\"Opera\\\")||r(\\\"Silk\\\")),ea=w(),J=r(\\\"Safari\\\")&&!(w()||r(\\\"Coast\\\")||r(\\\"Opera\\\")||r(\\\"Edge\\\")||r(\\\"Silk\\\")||r(\\\"Android\\\"))&&!(v()||r(\\\"iPad\\\")||r(\\\"iPod\\\"));function K(a){return(a=a.exec(n))?a[1]:\\\"\\\"}(function(){if(ba)return K(/Firefox\\\\/([0-9.]+)/);if(y||z||x)return C;if(ea)return v()||r(\\\"iPad\\\")||r(\\\"iPod\\\")?K(/CriOS\\\\/([0-9.]+)/):K(/Chrome\\\\/([0-9.]+)/);if(J&&!(v()||r(\\\"iPad\\\")||r(\\\"iPod\\\")))return K(/Version\\\\/([0-9.]+)/);if(ca||da){var a=/Version\\\\/(\\\\S+).*Mobile\\\\/(\\\\S+)/.exec(n);if(a)return a[1]+\\\".\\\"+a[2]}else if(I)return(a=K(/Android\\\\s+([0-9.]+)/))?a:K(/Version\\\\/([0-9.]+)/);return\\\"\\\"})();var L,M=function(){if(!A)return!1;var a=d.Components;if(!a)return!1;try{if(!a.classes)return!1}catch(g){return!1}var b=a.classes,a=a.interfaces,e=b[\\\"@mozilla.org/xpcom/version-comparator;1\\\"].getService(a.nsIVersionComparator),c=b[\\\"@mozilla.org/xre/app-info;1\\\"].getService(a.nsIXULAppInfo).version;L=function(a){e.compare(c,\\\"\\\"+a)};return!0}(),N=y&&!(8<=Number(G)),fa=y&&!(9<=Number(G));I&&M&&L(2.3);I&&M&&L(4);J&&M&&L(6);var ga={SCRIPT:1,STYLE:1,HEAD:1,IFRAME:1,OBJECT:1},O={IMG:\\\" \\\",BR:\\\"\\\\n\\\"};function P(a,b,e){if(!(a.nodeName in ga))if(3==a.nodeType)e?b.push(String(a.nodeValue).replace(/(\\\\r\\\\n|\\\\r|\\\\n)/g,\\\"\\\")):b.push(a.nodeValue);else if(a.nodeName in O)b.push(O[a.nodeName]);else for(a=a.firstChild;a;)P(a,b,e),a=a.nextSibling};function Q(a,b){b=b.toLowerCase();return\\\"style\\\"==b?ha(a.style.cssText):N&&\\\"value\\\"==b&&R(a,\\\"INPUT\\\")?a.value:fa&&!0===a[b]?String(a.getAttribute(b)):(a=a.getAttributeNode(b))&&a.specified?a.value:null}var ia=/[;]+(?=(?:(?:[^\\\"]*\\\"){2})*[^\\\"]*$)(?=(?:(?:[^']*'){2})*[^']*$)(?=(?:[^()]*\\\\([^()]*\\\\))*[^()]*$)/;\\nfunction ha(a){var b=[];t(a.split(ia),function(a){var c=a.indexOf(\\\":\\\");0<c&&(a=[a.slice(0,c),a.slice(c+1)],2==a.length&&b.push(a[0].toLowerCase(),\\\":\\\",a[1],\\\";\\\"))});b=b.join(\\\"\\\");return b=\\\";\\\"==b.charAt(b.length-1)?b:b+\\\";\\\"}function S(a,b){N&&\\\"value\\\"==b&&R(a,\\\"OPTION\\\")&&null===Q(a,\\\"value\\\")?(b=[],P(a,b,!1),a=b.join(\\\"\\\")):a=a[b];return a}function R(a,b){b&&\\\"string\\\"!==typeof b&&(b=b.toString());return!!a&&1==a.nodeType&&(!b||a.tagName.toUpperCase()==b)}\\nfunction T(a){return R(a,\\\"OPTION\\\")?!0:R(a,\\\"INPUT\\\")?(a=a.type.toLowerCase(),\\\"checkbox\\\"==a||\\\"radio\\\"==a):!1};var ja={\\\"class\\\":\\\"className\\\",readonly:\\\"readOnly\\\"},U=\\\"allowfullscreen allowpaymentrequest allowusermedia async autofocus autoplay checked compact complete controls declare default defaultchecked defaultselected defer disabled ended formnovalidate hidden indeterminate iscontenteditable ismap itemscope loop multiple muted nohref nomodule noresize noshade novalidate nowrap open paused playsinline pubdate readonly required reversed scoped seamless seeking selected truespeed typemustmatch willvalidate\\\".split(\\\" \\\");function V(a,b){var e=null,c=b.toLowerCase();if(\\\"style\\\"==c)return(e=a.style)&&!f(e)&&(e=e.cssText),e;if((\\\"selected\\\"==c||\\\"checked\\\"==c)&&T(a)){if(!T(a))throw new h(15,\\\"Element is not selectable\\\");b=\\\"selected\\\";e=a.type&&a.type.toLowerCase();if(\\\"checkbox\\\"==e||\\\"radio\\\"==e)b=\\\"checked\\\";return S(a,b)?\\\"true\\\":null}var g=R(a,\\\"A\\\");if(R(a,\\\"IMG\\\")&&\\\"src\\\"==c||g&&\\\"href\\\"==c)return(e=Q(a,c))&&(e=S(a,c)),e;if(\\\"spellcheck\\\"==c){e=Q(a,c);if(null!==e){if(\\\"false\\\"==e.toLowerCase())return\\\"false\\\";if(\\\"true\\\"==e.toLowerCase())return\\\"true\\\"}return S(a,\\nc)+\\\"\\\"}g=ja[b]||b;a:if(f(U))c=f(c)&&1==c.length?U.indexOf(c,0):-1;else{for(var u=0;u<U.length;u++)if(u in U&&U[u]===c){c=u;break a}c=-1}if(0<=c)return(e=null!==Q(a,b)||S(a,g))?\\\"true\\\":null;try{var k=S(a,g)}catch(ka){}(c=null==k)||(c=typeof k,c=\\\"object\\\"==c&&null!=k||\\\"function\\\"==c);c?e=Q(a,b):e=k;return null!=e?e.toString():null}var W=[\\\"_\\\"],X=d;W[0]in X||!X.execScript||X.execScript(\\\"var \\\"+W[0]);\\nfor(var Y;W.length&&(Y=W.shift());){var Z;if(Z=!W.length)Z=void 0!==V;Z?X[Y]=V:X[Y]&&X[Y]!==Object.prototype[Y]?X=X[Y]:X=X[Y]={}};; return this._.apply(null,arguments);}.apply({navigator:typeof window!='undefined'?window.navigator:null,document:typeof window!='undefined'?window.document:null}, arguments);}\\n).apply(null, arguments);\", \"args\": [{\"ELEMENT\": \"032160d9-95c6-43c7-9b0f-5d4e65d4cfa4\", \"element-6066-11e4-a52e-4f735466cecf\": \"032160d9-95c6-43c7-9b0f-5d4e65d4cfa4\"}, \"href\"]}\n"
     ]
    },
    {
     "name": "stderr",
     "output_type": "stream",
     "text": [
      "2021-07-11 11:30:09,865 selenium.webdriver.remote.remote_connection DEBUG    Finished Request\n"
     ]
    },
    {
     "name": "stdout",
     "output_type": "stream",
     "text": [
      "Alpha Wolf | Camping World RV Sales - Kingston | 98.2 miles (158.0 km) | 124 NY-28 | Kingston, NY 12401 | 845-943-2010 | http://www.campingworldofkingston.com/ | Gander RV Sales | 135.1 miles (217.5 km) | 12634 Rt. 9 W | W. Coxsackie, NY 12192 |  | http://rv.ganderoutdoors.com/ | \n",
      "\n"
     ]
    }
   ],
   "source": [
    "\"\"\"data=\"\"\n",
    "data += brand_name+\" | \"\n",
    "for i in  range(len(all_dealers)):\n",
    "    # print(all_dealers[i].find_element_by_tag_name('h3').text)\n",
    "    data+=all_dealers[i].find_element_by_tag_name('h3').text+\" | \"\n",
    "    x = all_dealers[i].find_elements_by_tag_name('div')\n",
    "    for i in range(len(x)-2):\n",
    "        # print(x[i].text)\n",
    "        data += x[i].text +\" | \"\n",
    "    q = x[len(x)-2]\n",
    "    # //*[@id=\"hlWebsite1\"]\n",
    "    q = q.find_element_by_tag_name('a')\n",
    "    # print(q.get_attribute(\"href\"))\n",
    "    data += q.get_attribute(\"href\")+\" | \"\n",
    "data+=\"\\n\"\n",
    "print(data)\n",
    "    # q.find_element(By.XPATH, './/div[contains(text(), \"Website\")]/a')\"\"\""
   ]
  },
  {
   "cell_type": "code",
   "execution_count": 325,
   "metadata": {},
   "outputs": [
    {
     "name": "stdout",
     "output_type": "stream",
     "text": [
      "Gander RV Sales | 135.1 miles (217.5 km) | 12634 Rt. 9 W | W. Coxsackie, NY 12192 |  | http://rv.ganderoutdoors.com/ | \n",
      "\n"
     ]
    }
   ],
   "source": [
    "print(data)"
   ]
  },
  {
   "cell_type": "code",
   "execution_count": 173,
   "metadata": {},
   "outputs": [
    {
     "name": "stderr",
     "output_type": "stream",
     "text": [
      "2021-07-11 08:08:31,723 selenium.webdriver.remote.remote_connection DEBUG    DELETE http://127.0.0.1:61143/session/c4dc619c0d0ed0844988d1a8de8d9a62 {}\n",
      "2021-07-11 08:08:31,726 selenium.webdriver.remote.remote_connection DEBUG    Finished Request\n"
     ]
    }
   ],
   "source": [
    "time.sleep(5)\n",
    "driver.quit()"
   ]
  },
  {
   "cell_type": "code",
   "execution_count": null,
   "metadata": {},
   "outputs": [],
   "source": []
  }
 ],
 "metadata": {
  "kernelspec": {
   "display_name": "Python 3",
   "language": "python",
   "name": "python3"
  },
  "language_info": {
   "codemirror_mode": {
    "name": "ipython",
    "version": 3
   },
   "file_extension": ".py",
   "mimetype": "text/x-python",
   "name": "python",
   "nbconvert_exporter": "python",
   "pygments_lexer": "ipython3",
   "version": "3.8.5"
  }
 },
 "nbformat": 4,
 "nbformat_minor": 4
}

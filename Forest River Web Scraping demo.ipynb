{
 "cells": [
  {
   "cell_type": "markdown",
   "metadata": {},
   "source": [
    "## Tasks:\n",
    "dealer name, address, phone no, website, brand name"
   ]
  },
  {
   "cell_type": "code",
   "execution_count": 1,
   "metadata": {},
   "outputs": [],
   "source": [
    "from http_request_randomizer.requests.proxy.requestProxy import  RequestProxy"
   ]
  },
  {
   "cell_type": "code",
   "execution_count": 2,
   "metadata": {},
   "outputs": [],
   "source": [
    "from selenium import webdriver\n",
    "from selenium.webdriver.support.ui import Select\n",
    "import time\n",
    "import urllib.request\n",
    "from inscriptis import get_text\n",
    "from selenium.webdriver.common.keys import Keys\n",
    "from webdriver_manager.chrome import ChromeDriverManager\n",
    "from selenium.webdriver.common.by import By"
   ]
  },
  {
   "cell_type": "code",
   "execution_count": 3,
   "metadata": {},
   "outputs": [],
   "source": [
    "import requests\n",
    "import string\n",
    "import lxml.html as lh\n",
    "import pandas as pd\n",
    "from bs4 import BeautifulSoup"
   ]
  },
  {
   "cell_type": "code",
   "execution_count": 4,
   "metadata": {},
   "outputs": [],
   "source": [
    "import csv"
   ]
  },
  {
   "cell_type": "code",
   "execution_count": 5,
   "metadata": {},
   "outputs": [],
   "source": [
    "from fake_useragent import UserAgent\n",
    "ua = UserAgent()"
   ]
  },
  {
   "cell_type": "code",
   "execution_count": 6,
   "metadata": {},
   "outputs": [
    {
     "name": "stderr",
     "output_type": "stream",
     "text": [
      "2021-07-16 00:40:04,159 http_request_randomizer.requests.useragent.userAgent INFO     Using local file for user agents: D:\\users\\SUSHIL\\sushil\\anaconda\\installed\\lib\\site-packages\\http_request_randomizer\\requests\\proxy\\../data/user_agents.txt\n",
      "2021-07-16 00:40:04,207 root   DEBUG    === Initialized Proxy Parsers ===\n",
      "2021-07-16 00:40:04,208 root   DEBUG    \t FreeProxy parser of 'http://free-proxy-list.net' with required bandwidth: '150' KBs\n",
      "2021-07-16 00:40:04,208 root   DEBUG    \t PremProxy parser of 'https://premproxy.com/list/' with required bandwidth: '150' KBs\n",
      "2021-07-16 00:40:04,211 root   DEBUG    \t SslProxy parser of 'https://www.sslproxies.org' with required bandwidth: '150' KBs\n",
      "2021-07-16 00:40:04,212 root   DEBUG    =================================\n",
      "2021-07-16 00:40:05,055 root   DEBUG    Added 300 proxies from FreeProxy\n",
      "2021-07-16 00:40:05,715 http_request_randomizer.requests.parsers.PremProxyParser WARNING  Proxy Provider url failed: https://premproxy.com/list/\n",
      "2021-07-16 00:40:05,716 http_request_randomizer.requests.parsers.PremProxyParser DEBUG    Pages: set()\n",
      "2021-07-16 00:40:06,371 http_request_randomizer.requests.parsers.PremProxyParser WARNING  Proxy Provider url failed: https://premproxy.com/list/\n",
      "2021-07-16 00:40:06,371 root   DEBUG    Added 0 proxies from PremProxy\n",
      "2021-07-16 00:40:07,376 root   DEBUG    Added 100 proxies from SslProxy\n",
      "2021-07-16 00:40:07,377 root   DEBUG    Total proxies = 400\n",
      "2021-07-16 00:40:07,378 root   DEBUG    Filtered proxies = 400\n"
     ]
    }
   ],
   "source": [
    "req_proxy = RequestProxy()\n",
    "proxies = req_proxy.get_proxy_list()"
   ]
  },
  {
   "cell_type": "code",
   "execution_count": 7,
   "metadata": {},
   "outputs": [],
   "source": [
    "delayTime = 2\n",
    "audioToTextDelay = 10\n",
    "filename = \"test.mp3\"\n",
    "byPassUrl = \"https://forestriverinc.com/rvs/dealer-locator\"\n",
    "googleIBMLink = \"https://speech-to-text-demo.ng.bluemix.net/\""
   ]
  },
  {
   "cell_type": "code",
   "execution_count": 8,
   "metadata": {},
   "outputs": [],
   "source": [
    "zip_code_list = ['35010', '36420', '36201', '30601', '36502', '36830', '35020', '35203', '73030', '35045', '35055', '30030', '36732', '36301', '65708', '36027', '29506', '35967', '35901', '29601', '35976', '35801', '75951', '43302', '36602', '36104', '36801', '65679', '36867', '36610', '35768', '36701', '35660', '35150', '35160', '48098', '35401', '35674', '36088', '99501', '38016', '99701', '99827', '13077', '99801', '99901', '99615', '99752', '99762', '99645', '99664', '99835', '99840', '99686', '85321', '85323', '85603', '85122', '85225', '07013', '80118', '86001', '29506', '85337', '91204', '91203', '86401', '86403', '85201', '85621', '86039', '85004', '86303', '85251', '85635', '85281', '85638', '85701', '86042', '86515', '86047', '85364', '71923', '72055', '47006', '72015', '72315', '08104', '72034', '71635', '71730', '28301', '72335', '72904', '72601', '59601', '60174', '71901', '32202', '72401', '72201', '77382', '72110', '02840', '72114', '34773', '71601', '72756', '72143', '72160', '72956', '72301', '94501', '91801', '92805', '94509', '91006', '93301', '92311', '94002', '94704', '90210', '92821', '90621', '91502', '92231', '94515', '92008', '93923', '95928', '91910', '91711', '90220', '03301', '92118', '92626', '90232', '94014', '95616', '90241', '92243', '94530', '91731', '92025', '95501', '06824', '92335', '94536', '93721', '92832', '92843', '91204', '94544', '90038', '92648', '92201', '90301', '92606', '90631', '92651', '17602', '94550', '95240', '93436', '90802', '90012', '90265', '94553', '98270', '94025', '95340', '95354', '93940', '94040', '92363', '92663', '06851', '94945', '94612', '92054', '93023', '91762', '92866', '95965', '93030', '93950', '92262', '93550', '94301', '91101', '94952', '91766', '93041', '91730', '96080', '96001', '92373', '90277', '94063', '23219', '92501', '95678', '95814', '93901', '92401', '92672', '92101', '91401', '94103', '91776', '95112', '92675', '94577', '93401', '91108', '94401', '90731', '94901', '93452', '92701', '93101', '95050', '91321', '95060', '90401', '95401', '94965', '93065', '95476', '94080', '95202', '94087', '96130', '91362', '90503', '95380', '97880', '94590', '93001', '92395', '93291', '94596', '78252', '91790', '90601', '95695', '92886', '95991', '81101', '81611', '80011', '80302', '80424', '48116', '81212', '80427', '56523', '80903', '81321', '80813', '80202', '81301', '80110', '80517', '80521', '80701', '20007', '81601', '80401', '81501', '80631', '81230', '81050', '80461', '80120', '80501', '80537', '81401', '81427', '81147', '81004', '81433', '80487', '20164', '81435', '81657', '81089', '80030', '06401', '54923', '07003', '06405', '06604', '06010', '02816', '06810', '06820', '06418', '06118', '06512', '06082', '06824', '06032', '06830', '06340', '06437', '06518', '06103', '06759', '03104', '02048', '06451', '06457', '06460', '06770', '06051', '06511', '06320', '06473', '06851', '06360', '06475', '92866', '47274', '06484', '06070', '06489', '06901', '06378', '06615', '06790', '06492', '06702', '12188', '13601', '06107', '06516', '06880', '06109', '06226', '12496', '06095', '06096', '06098', '19901', '19958', '06460', '19720', '07102', '30080', '19801', '32320', '33830', '33430', '33431', '34205', '33904', '33755', '32931', '32955', '33134', '32114', '32720', '33441', '33444', '32034', '33301', '33901', '34950', '32548', '32601', '33009', '33013', '90038', '66757', '32202', '33040', '32055', '33853', '33801', '33771', '32901', '33131', '33139', '34102', '32168', '34475', '32801', '32174', '32177', '32905', '33480', '32401', '32501', '33060', '32084', '33701', '32771', '34237', '33870', '32301', '33602', '34689', '32796', '90291', '33401', '32096', '33880', '80482', '12210', '31709', '31711', '30601', '30334', '30904', '98110', '30512', '31520', '30701', '75006', '43215', '30533', '30720', '06820', '30030', '80118', '30344', '31750', '31030', '32601', '60525', '31201', '30060', '31061', '67665', '00165', '31401', '30577', '31601', '31830', '31088', '98826', '31501', '96714', '96720', '96704', '96813', '96732', '96744', '96746', '96743', '96761', '96762', '96786', '96793', '96743', '83221', '83702', '83805', '83605', '83814', '83631', '83402', '38301', '14092', '83843', '83651', '83204', '83856', '83440', '83353', '83301', '62002', '60004', '11368', '80011', '62220', '61008', '47405', '53005', '62206', '62914', '60409', '44702', '62901', '62626', '64836', '17920', '61820', '29401', '19013', '60604', '60411', '60804', '62234', '24541', '30030', '60115', '60016', '95620', '61244', '62201', '62401', '60120', '60126', '60201', '77541', '61036', '61401', '60137', '60026', '62040', '17102', '62948', '90042', '32202', '60432', '60901', '62233', '61443', '19144', '92630', '60048', '66762', '60532', '60148', '48048', '61938', '61265', '07722', '22309', '60060', '60540', '62354', '61761', '60064', '60302', '97712', '61350', '60074', '60466', '60068', '61554', '61602', '23803', '48342', '02169', '61866', '60305', '61201', '61101', '01970', '62984', '60076', '60473', '01103', '61364', '77002', '61801', '45377', '62690', '60085', '60187', '60091', '60093', '62095', '84737', '29624', '01730', '47405', '43215', '47331', '47112', '47933', '46312', '46516', '60421', '47708', '46802', '47432', '46402', '14456', '46528', '46140', '46324', '46342', '25701', '46204', '47130', '46901', '70501', '53715', '43302', '46360', '46544', '47305', '46550', '37243', '43054', '19720', '47631', '02360', '23219', '47579', '40065', '46601', '47807', '46383', '47591', '46992', '47906', '52203', '50010', '28607', '05401', '50613', '52401', '50616', '74342', '39056', '51501', '52801', '50309', '52001', '51334', '06824', '50501', '50112', '50125', '52240', '52632', '50401', '29464', '52761', '02459', '52577', '52501', '51101', '50701', '50595', '50265', '79601', '67005', '66002', '66720', '67337', '66846', '67801', '66801', '66701', '11530', '67530', '33607', '67501', '67301', '66441', '64106', '66044', '66048', '67301', '10024', '67460', '67104', '02459', '66061', '66064', '61350', '66204', '15219', '67401', '66203', '66967', '66612', '67202', '97520', '40906', '40004', '40403', '40475', '42101', '42718', '30014', '24541', '17022', '40601', '40831', '40330', '41701', '89015', '42748', '42240', '40508', '40202', '42066', '41056', '40965', '02840', '42303', '42003', '75008', '23219', '70510', '22314', '78602', '70802', '70427', '71111', '70053', '70360', '70501', '70601', '71201', '70380', '71457', '70560', '70112', '70570', '71270', '70582', '71107', '70301', '36830', '30904', '04401', '04609', '44256', '04915', '04005', '04538', '31520', '04619', '55402', '04421', '04631', '04605', '06032', '04743', '59030', '04730', '04046', '03904', '14092', '04652', '04654', '04473', '97201', '04769', '04841', '04276', '04072', '04074', '04901', '17401', '98520', '21401', '21202', '20814', '20715', '02138', '21228', '20742', '29201', '21502', '18042', '21921', '21727', '21701', '20770', '21740', '20781', '39440', '94612', '21842', '20850', '20686', '21801', '20910', '20912', '21286', '80030', '19001', '67301', '01913', '01002', '01810', '22201', '01331', '02703', '02630', '01730', '01915', '02203', '02532', '02184', '02301', '02445', '02138', '44702', '02129', '01824', '48118', '01013', '39056', '02025', '03301', '01923', '03755', '02026', '02638', '02332', '02642', '02539', '98201', '02719', '02720', '02540', '01420', '01702', '01930', '01230', '46140', '06340', '02646', '01830', '02043', '01040', '02601', '01938', '66044', '30326', '01453', '40508', '01851', '01056', '01902', '02148', '01945', '01752', '97501', '02186', '01908', '01760', '02740', '01950', '02459', '01247', '01060', '05907', '02062', '01960', '01201', '02360', '02657', '02169', '07869', '02151', '01970', '46123', '01906', '02143', '01075', '01103', '01263', '02072', '01566', '01776', '02780', '01876', '02657', '13601', '63119', '02482', '02667', '02379', '01089', '90067', '02188', '02382', '01267', '01801', '02543', '01608', '49221', '80420', '48104', '49017', '48708', '49022', '48304', '29577', '49720', '49721', '48126', '48226', '48823', '48021', '48229', '49829', '48502', '49417', '49503', '49738', '48230', '60611', '90042', '49423', '49931', '49643', '71953', '49938', '49849', '39201', '49007', '48933', '48150', '49431', '49701', '49660', '49855', '49858', '79701', '71201', '48043', '29464', '49440', '60714', '49770', '48342', '48060', '48067', '48601', '49781', '64501', '49783', '49684', '08608', '74136', '48192', '48197', '56007', '22314', '78701', '56601', '47405', '56401', '56716', '55802', '89301', '55734', '55021', '56537', '68901', '55746', '56649', '56345', '56001', '55415', '56560', '56073', '55057', '55060', '56164', '34684', '14604', '56301', '55101', '56378', '55075', '74074', '24522', '56201', '55987', '39520', '39530', '44702', '38614', '29201', '43215', '38834', '29601', '46142', '33707', '39401', '27540', '39201', '39440', '36609', '39120', '39564', '38655', '39567', '39571', '19102', '39150', '39759', '38804', '39183', '10996', '39194', '65233', '65616', '63701', '64836', '45601', '27520', '29201', '64024', '63135', '63031', '61252', '63401', '67301', '65101', '64801', '64106', '63501', '81052', '40508', '64468', '65708', '64850', '63869', '65401', '63301', '64501', '63103', '63670', '01970', '65301', '01103', '64093', '65775', '78701', '59101', '59715', '59701', '80435', '59442', '59330', '59401', '59501', '59601', '59901', '17044', '14454', '59301', '59802', '89440', '68310', '98004', '68010', '69337', '43215', '94536', '68801', '68901', '68847', '66762', '69001', '89423', '68410', '23510', '69101', '68102', '68048', '68970', '45365', '89005', '89701', '89801', '89301', '89406', '43430', '89013', '89015', '89101', '89030', '89501', '89431', '89440', '89445', '54923', '91711', '03301', '03038', '19901', '27701', '03833', '67301', '21076', '27278', '03431', '03246', '03104', '03064', '03458', '02360', '03801', '14604', '01970', '03878', '07712', '08401', '07002', '07003', '08505', '08805', '63044', '05401', '83605', '08104', '08204', '07013', '07016', '07017', '08817', '07201', '80110', '23801', '08028', '07601', '08033', '07030', '07111', '07302', '08733', '98499', '90802', '07740', '53715', '94025', '07078', '08332', '07042', '07960', '28120', '08901', '06776', '07102', '21842', '92866', '07054', '07055', '07505', '08861', '46168', '08542', '07450', '60172', '07070', '01970', '02143', '07079', '07512', '08608', '67301', '94587', '08360', '19087', '07086', '07093', '07052', '08046', '07095', '87034', '88310', '87102', '90701', '87002', '92008', '93612', '88030', '06032', '68102', '61036', '30326', '88001', '89101', '87544', '88260', '88130', '87740', '88203', '87501', '87420', '88061', '87801', '87571', '87901', '88401', '12210', '12010', '36830', '11704', '14020', '12508', '01730', '13905', '10462', '11216', '14202', '14757', '14225', '39056', '12047', '11224', '13326', '28107', '13045', '46307', '14048', '14052', '11937', '10709', '14901', '11354', '11375', '14063', '11530', '14456', '12801', '12078', '11023', '14840', '10027', '11550', '13350', '12534', '25701', '12538', '13357', '14850', '23185', '15901', '12401', '14218', '12946', '11756', '14094', '10543', '10024', '13662', '06457', '11501', '22309', '12561', '10801', '12553', '10007', '12550', '14301', '11030', '10960', '13669', '14760', '13421', '13820', '10562', '13126', '11771', '17078', '10566', '12901', '53074', '13676', '12601', '11366', '12140', '14604', '00165', '12306', '10580', '11963', '12983', '12866', '10583', '12305', '13148', '11942', '10306', '11790', '10980', '13202', '10591', '12883', '14223', '48098', '13502', '13601', '12189', '14891', '14224', '10601', '12498', '10701', '27203', '28801', '44256', '29902', '28607', '05401', '27516', '28280', '03301', '27701', '27932', '27909', '28301', '28052', '27530', '27401', '29601', '24558', '89015', '28601', '27260', '27278', '32202', '28501', '27949', '28358', '28557', '28655', '27959', '28560', '28374', '27601', '27801', '21801', '89119', '98826', '19801', '66736', '27101', '58501', '58301', '58601', '58102', '58203', '23185', '58554', '58701', '80246', '58072', '58075', '58801', '44308', '66604', '44004', '30601', '44203', '01730', '43311', '42101', '44702', '45601', '45202', '44113', '44118', '43215', '44030', '44221', '45402', '43512', '19954', '44112', '43920', '44035', '44123', '45840', '45631', '29601', '10004', '98032', '45429', '98499', '17602', '45801', '44052', '02048', '30060', '43302', '43935', '44646', '44060', '06457', '48160', '22309', '17959', '07102', '60714', '45239', '06851', '44074', '44077', '44129', '45356', '03801', '43456', '01970', '44870', '44122', '01103', '43952', '44883', '43604', '61801', '74136', '44691', '43085', '45385', '45387', '44503', '43701', '60611', '73521', '73717', '73005', '73401', '74003', '64424', '73018', '74017', '39056', '74023', '29334', '74701', '73034', '73036', '73644', '73701', '36027', '21701', '73044', '73942', '46342', '74848', '55038', '73501', '74501', '33131', '73110', '73160', '74401', '73069', '73102', '74447', '73075', '74056', '31069', '74601', '74361', '74955', '74063', '74066', '33772', '66203', '74074', '74464', '10014', '74103', '74301', '74884', '73801', '12210', '97520', '97103', '97814', '97005', '97703', '57006', '97720', '97420', '97333', '97401', '97526', '97124', '97031', '32202', '97845', '97601', '97850', '97035', '97630', '97128', '97501', '97132', '02840', '91762', '97045', '97801', '97465', '97201', '97754', '98052', '97467', '97470', '01970', '97138', '01103', '97058', '97141', '19001', '15001', '18101', '16601', '15003', '01730', '18018', '17815', '16701', '06010', '62901', '17013', '17201', '19013', '29201', '18042', '16501', '67301', '20874', '17325', '15601', '21076', '55939', '17102', '18201', '17033', '66757', '18431', '46072', '15644', '18229', '15901', '17602', '11756', '17044', '17745', '19053', '15132', '16335', '06457', '15146', '18634', '19720', '18938', '15068', '19401', '16301', '19102', '19460', '15219', '19464', '17901', '19601', '18503', '17872', '02067', '16801', '18360', '17801', '19081', '18252', '32796', '15401', '74136', '98826', '19380', '18701', '17701', '17401', '60010', '06010', '02863', '02910', '02818', '02914', '12401', '06457', '02882', '02840', '02852', '02860', '03801', '02903', '02879', '02878', '74136', '02889', '02891', '02852', '02895', '70510', '29801', '29624', '29902', '08104', '29401', '29201', '29532', '29506', '29340', '20007', '29601', '46142', '29550', '17602', '29464', '29577', '29115', '29730', '29306', '29150', '67301', '98520', '57717', '57006', '44702', '57730', '57231', '57732', '71901', '57350', '34787', '53715', '57252', '57301', '57601', '57501', '57701', '57104', '57783', '57785', '57069', '13601', '57078', '37701', '30601', '37402', '37040', '44113', '29201', '38501', '45402', '37643', '67301', '37066', '37738', '37743', '39201', '37604', '37659', '37660', '37902', '64468', '38103', '07960', '37130', '37243', '59745', '37830', '40065', '37388', '79601', '48326', '79107', '22201', '78701', '77520', '92223', '79720', '79007', '78520', '77803', '92008', '76031', '77840', '78401', '22202', '75201', '78840', '43023', '76201', '78852', '78539', '79901', '76102', '77541', '77550', '75040', '77963', '29601', '78550', '77002', '35801', '75060', '37604', '75662', '76541', '78363', '78040', '98632', '79401', '75904', '66427', '78501', '75069', '75149', '79701', '64801', '75961', '78130', '79761', '92866', '79065', '75008', '91101', '79772', '78577', '11803', '75074', '77640', '77979', '75081', '76903', '78205', '77474', '78666', '75090', '46818', '76501', '75501', '77590', '75702', '78801', '77901', '76701', '74066', '76301', '79907', '84092', '84003', '84010', '84302', '84720', '16833', '64153', '17070', '84023', '84032', '84741', '84041', '84043', '84321', '84642', '84532', '22902', '42071', '84648', '84401', '84758', '84058', '84759', '84060', '85541', '67301', '84606', '84770', '84111', '84660', '84663', '84074', '84078', '12065', '05101', '05201', '05301', '05401', '21221', '03104', '05753', '05602', '02840', '02360', '05701', '05478', '05819', '02067', '05404', '24210', '22314', '06010', '22902', '23320', '24541', '22030', '22046', '22401', '23669', '21076', '23860', '40508', '24504', '20110', '24112', '22844', '23606', '23510', '23803', '03801', '20190', '23219', '24011', '24401', '23434', '23451', '22980', '23185', '01890', '98520', '98221', '36830', '98004', '98225', '98337', '17920', '99116', '98239', '98926', '17522', '98201', '98550', '98626', '99336', '98632', '98837', '98277', '98501', '99301', '98281', '98362', '99163', '98372', '98052', '98057', '99352', '98164', '99201', '98402', '98660', '99362', '98801', '98901', '44256', '25801', '24701', '26201', '25414', '29401', '26301', '26241', '56031', '53024', '25425', '97124', '25951', '25701', '26726', '17837', '84321', '25401', '26505', '26041', '26155', '26101', '26416', '08742', '08542', '67568', '25443', '25303', '26651', '26062', '24801', '26070', '33327', '26003', '24986', '25661', '54911', '97520', '53913', '94002', '53511', '54701', '54935', '54301', '94544', '53545', '53140', '54601', '53147', '53715', '54220', '54143', '54952', '53202', '54956', '53574', '54153', '54901', '54157', '53901', '53821', '53403', '54501', '54971', '53081', '53588', '54481', '54235', '54880', '53186', '54403', '53213', '53214', '53095', '53965', '14202', '82601', '82001', '82414', '80118', '60201', '82716', '84023', '39201', '82520', '82070', '19720', '64061', '82301', '82501', '82901', '82801', '82442', '82443', '06790', '82401']"
   ]
  },
  {
   "cell_type": "code",
   "execution_count": 9,
   "metadata": {},
   "outputs": [],
   "source": [
    "brands_list= ['Alpha Wolf',\n",
    " 'Arctic Wolf',\n",
    " 'Aurora',\n",
    " 'Berkshire',\n",
    " 'Berkshire XL',\n",
    " 'Berkshire XLT',\n",
    " 'Cardinal Limited',\n",
    " 'Cardinal Luxury',\n",
    " 'Cedar Creek',\n",
    " 'Cedar Creek Champagne Edition',\n",
    " 'Cedar Creek Cottage',\n",
    " 'Cedar Creek Hathaway Edition',\n",
    " 'Cedar Creek Silverback Edition',\n",
    " 'Cherokee',\n",
    " 'Cherokee Destination',\n",
    " 'Cruise Lite',\n",
    " 'Evo',\n",
    " 'Flagstaff Classic',\n",
    " 'Flagstaff E-Pro',\n",
    " 'Flagstaff Hard Side Pop-Up Campers',\n",
    " 'Flagstaff Micro Lite',\n",
    " 'Flagstaff Shamrock',\n",
    " 'Flagstaff Sports Enthusiast Package',\n",
    " 'Flagstaff Super Lite',\n",
    " 'Flagstaff Tent',\n",
    " 'Forester Classic',\n",
    " 'Forester LE',\n",
    " 'Forester MBS',\n",
    " 'Forester TS',\n",
    " 'FR3',\n",
    " 'Georgetown 3 Series GT3',\n",
    " 'Georgetown 5 Series GT5',\n",
    " 'Georgetown 7 Series GT7',\n",
    " 'Grand Surveyor',\n",
    " 'Grey Wolf',\n",
    " 'Grey Wolf Fish House',\n",
    " 'Hemisphere',\n",
    " 'Hemisphere Elite',\n",
    " 'Hemisphere Hyper-Lyte',\n",
    " 'Heritage Glen',\n",
    " 'Heritage Glen Elite',\n",
    " 'Heritage Glen Hyper-Lyte',\n",
    " 'Ibex',\n",
    " 'Impression',\n",
    " 'Independence Trail',\n",
    " 'No Boundaries',\n",
    " 'Ozark',\n",
    " 'r-pod',\n",
    " 'RIVERSTONE',\n",
    " 'Riverstone Reserve Series',\n",
    " 'Rockwood Extreme Sports Package',\n",
    " 'Rockwood Geo Pro',\n",
    " 'Rockwood Hard Side Pop-Up Campers',\n",
    " 'Rockwood Mini Lite',\n",
    " 'Rockwood Roo',\n",
    " 'Rockwood Signature',\n",
    " 'Rockwood Tent',\n",
    " 'Rockwood Ultra Lite',\n",
    " 'Sabre',\n",
    " 'Salem',\n",
    " 'Salem FSX',\n",
    " 'Salem FSX Northwest',\n",
    " 'Salem Villa',\n",
    " 'Sandpiper',\n",
    " 'Sandpiper C-Class',\n",
    " 'Sandpiper Destination',\n",
    " 'Sandstorm',\n",
    " 'Shockwave',\n",
    " 'Sierra',\n",
    " 'Sierra C-Class',\n",
    " 'Sierra Destination',\n",
    " 'Solera',\n",
    " 'Sonoma',\n",
    " 'Stealth',\n",
    " 'Sunseeker Classic',\n",
    " 'Sunseeker LE',\n",
    " 'Sunseeker MBS',\n",
    " 'Sunseeker TS',\n",
    " 'Surveyor Legend',\n",
    " 'Vengeance Rogue',\n",
    " 'Vengeance Rogue Armored',\n",
    " 'Vibe',\n",
    " 'Vibe West',\n",
    " 'Wildcat Fifth Wheels',\n",
    " 'Wildcat Travel Trailers',\n",
    " 'Wildwood',\n",
    " 'Wildwood FSX',\n",
    " 'Wildwood FSX Northwest',\n",
    " 'Wildwood Lodge',\n",
    " 'Wolf Pack',\n",
    " 'Wolf Pack Gold Series',\n",
    " 'Wolf Pup',\n",
    " 'Work and Play',\n",
    " 'X-Lite',\n",
    " 'XLR Boost',\n",
    " 'XLR Hyperlite',\n",
    " 'XLR Nitro']"
   ]
  },
  {
   "cell_type": "code",
   "execution_count": 10,
   "metadata": {},
   "outputs": [
    {
     "data": {
      "text/plain": [
       "1949"
      ]
     },
     "execution_count": 10,
     "metadata": {},
     "output_type": "execute_result"
    }
   ],
   "source": [
    "len(zip_code_list)"
   ]
  },
  {
   "cell_type": "code",
   "execution_count": 11,
   "metadata": {},
   "outputs": [
    {
     "data": {
      "text/plain": [
       "97"
      ]
     },
     "execution_count": 11,
     "metadata": {},
     "output_type": "execute_result"
    }
   ],
   "source": [
    "len(brands_list)"
   ]
  },
  {
   "cell_type": "code",
   "execution_count": 12,
   "metadata": {},
   "outputs": [
    {
     "data": {
      "text/plain": [
       "400"
      ]
     },
     "execution_count": 12,
     "metadata": {},
     "output_type": "execute_result"
    }
   ],
   "source": [
    "len(proxies)"
   ]
  },
  {
   "cell_type": "code",
   "execution_count": 13,
   "metadata": {},
   "outputs": [],
   "source": [
    "count=0"
   ]
  },
  {
   "cell_type": "code",
   "execution_count": 14,
   "metadata": {},
   "outputs": [],
   "source": [
    "proxies_start=10"
   ]
  },
  {
   "cell_type": "code",
   "execution_count": 15,
   "metadata": {},
   "outputs": [],
   "source": [
    "zip_codes_done=0"
   ]
  },
  {
   "cell_type": "code",
   "execution_count": 16,
   "metadata": {},
   "outputs": [],
   "source": [
    "brands_done=26"
   ]
  },
  {
   "cell_type": "code",
   "execution_count": 17,
   "metadata": {},
   "outputs": [],
   "source": [
    "def isCaptcha():\n",
    "    googleClass = driver.find_elements_by_class_name(\"g-recaptcha\")\n",
    "    return (len(googleClass)>0)"
   ]
  },
  {
   "cell_type": "code",
   "execution_count": 18,
   "metadata": {},
   "outputs": [],
   "source": [
    "def saveData(data):\n",
    "    with open('data.txt', 'a') as file:\n",
    "        #writer = csv.writer(file, delimiter = \"|\")\n",
    "        #writer.writerow(data)\n",
    "        file.write(data)"
   ]
  },
  {
   "cell_type": "code",
   "execution_count": 19,
   "metadata": {},
   "outputs": [],
   "source": [
    "def getData(zip_start=0, brands_start=0, count=0):\n",
    "    count=0\n",
    "    for i in range(zip_start, len(zip_code_list)):\n",
    "        \n",
    "        for j in range(brands_start, len(brands_list)):\n",
    "            \n",
    "            # Going to the web page\n",
    "            driver.get(\"https://forestriverinc.com/rvs/dealer-locator\")\n",
    "            time.sleep(1)\n",
    "\n",
    "            if (isCaptcha()):\n",
    "                driver.quit()\n",
    "                return i,  j,  count,  False\n",
    "            postal_code = driver.find_element_by_id(\"ContentPlaceHolder1_tbZipCode\")\n",
    "            postal_code.send_keys(zip_code_list[i])\n",
    "            time.sleep(1)\n",
    "\n",
    "            search_button = driver.find_element_by_id(\"ContentPlaceHolder1_btnSearch\")\n",
    "            brand_product = Select(driver.find_element_by_id(\"ContentPlaceHolder1_ddlProducts\"))\n",
    "            # print(o.text)\n",
    "            brand_product.select_by_visible_text(brands_list[j])\n",
    "            time.sleep(1)\n",
    "            search_button.click()\n",
    "            \n",
    "            time.sleep(1)\n",
    "            \n",
    "            errors = driver.find_elements_by_id(\"ContentPlaceHolder1_lblError\")\n",
    "            if (len(errors)>0):\n",
    "                brands_done=j\n",
    "                count+=1\n",
    "                data=\"\"\n",
    "                data += zip_code_list[i]+\" | \"\n",
    "                data += brands_list[j]+\" | \"\n",
    "                data+=\"\\n\"\n",
    "                print(data)\n",
    "\n",
    "                saveData(data)\n",
    "                continue\n",
    "            \n",
    "            page = driver.find_element_by_id(\"map\");\n",
    "            all_dealers = page.find_elements(By.XPATH, '//*[@id=\"map\"]/div[1]')[0].find_elements(By.XPATH, \"./child::*\")\n",
    "            all_dealers = page.find_elements_by_css_selector(\"div.text-left\")\n",
    "            \n",
    "            data=\"\"\n",
    "            data += zip_code_list[i]+\" | \"\n",
    "            data += brands_list[j]+\" | \"\n",
    "            for k in  range(len(all_dealers)):\n",
    "                # print(all_dealers[i].find_element_by_tag_name('h3').text)\n",
    "                data+=all_dealers[k].find_element_by_tag_name('h3').text+\" | \"\n",
    "                x = all_dealers[k].find_elements_by_tag_name('div')\n",
    "                for k in range(len(x)-2):\n",
    "                    # print(x[i].text)\n",
    "                    data += x[k].text +\" | \"\n",
    "                q = x[len(x)-2]\n",
    "                # //*[@id=\"hlWebsite1\"]\n",
    "                q = q.find_element_by_tag_name('a')\n",
    "                # print(q.get_attribute(\"href\"))\n",
    "                data += q.get_attribute(\"href\")+\" | \"\n",
    "            data+=\"\\n\"\n",
    "            print(data)\n",
    "            \n",
    "            saveData(data)\n",
    "            \n",
    "            time.sleep(1)\n",
    "            count=count+1\n",
    "            print(count)\n",
    "            brands_done=j+1\n",
    "            print(\"brands done : \", brands_done)\n",
    "            # print(zip_codes_done, brands_codes_done)\n",
    "            \n",
    "        zip_codes_done=i+1\n",
    "        brands_start=0\n",
    "        print(\"zip_codes_done : \", zip_codes_done)"
   ]
  },
  {
   "cell_type": "code",
   "execution_count": null,
   "metadata": {},
   "outputs": [
    {
     "name": "stdout",
     "output_type": "stream",
     "text": [
      "23 2.180.33.84:80\n",
      "Mozilla/5.0 (Windows NT 6.1; WOW64) AppleWebKit/537.36 (KHTML, like Gecko) Chrome/27.0.1453.93 Safari/537.36\n"
     ]
    },
    {
     "name": "stderr",
     "output_type": "stream",
     "text": [
      "<ipython-input-20-b6b82b8f045c>:31: DeprecationWarning: use options instead of chrome_options\n",
      "  driver = webdriver.Chrome(\"D:\\Chromedriver\\chromedriver.exe\", chrome_options=options)\n",
      "2021-07-16 00:40:08,893 selenium.webdriver.remote.remote_connection DEBUG    POST http://127.0.0.1:58779/session {\"capabilities\": {\"firstMatch\": [{}], \"alwaysMatch\": {\"browserName\": \"chrome\", \"platformName\": \"any\", \"proxy\": {\"httpProxy\": \"2.180.33.84:80\", \"ftpProxy\": \"2.180.33.84:80\", \"sslProxy\": \"2.180.33.84:80\", \"proxyType\": \"manual\"}, \"goog:chromeOptions\": {\"excludeSwitches\": [\"enable-automation\"], \"useAutomationExtension\": false, \"extensions\": [], \"args\": [\"--disable-notifications\", \"--mute-audio\", \"start-maximized\", \"window-size=800,600\", \"user-agent=Mozilla/5.0 (Windows NT 6.1; WOW64) AppleWebKit/537.36 (KHTML, like Gecko) Chrome/27.0.1453.93 Safari/537.36\"]}}}, \"desiredCapabilities\": {\"browserName\": \"chrome\", \"version\": \"\", \"platform\": \"ANY\", \"proxy\": {\"httpProxy\": \"2.180.33.84:80\", \"ftpProxy\": \"2.180.33.84:80\", \"sslProxy\": \"2.180.33.84:80\", \"proxyType\": \"MANUAL\"}, \"goog:chromeOptions\": {\"excludeSwitches\": [\"enable-automation\"], \"useAutomationExtension\": false, \"extensions\": [], \"args\": [\"--disable-notifications\", \"--mute-audio\", \"start-maximized\", \"window-size=800,600\", \"user-agent=Mozilla/5.0 (Windows NT 6.1; WOW64) AppleWebKit/537.36 (KHTML, like Gecko) Chrome/27.0.1453.93 Safari/537.36\"]}}}\n",
      "2021-07-16 00:40:11,060 selenium.webdriver.remote.remote_connection DEBUG    Finished Request\n",
      "2021-07-16 00:40:11,061 selenium.webdriver.remote.remote_connection DEBUG    POST http://127.0.0.1:58779/session/034d707cc59ee34ae07286a28d73f835/execute/sync {\"script\": \"Object.defineProperty(navigator, 'webdriver', {get: () => undefined})\", \"args\": []}\n",
      "2021-07-16 00:40:11,108 selenium.webdriver.remote.remote_connection DEBUG    Finished Request\n",
      "2021-07-16 00:40:11,109 selenium.webdriver.remote.remote_connection DEBUG    POST http://127.0.0.1:58779/session/034d707cc59ee34ae07286a28d73f835/url {\"url\": \"https://forestriverinc.com/rvs/dealer-locator\"}\n",
      "2021-07-16 00:40:53,738 selenium.webdriver.remote.remote_connection DEBUG    Finished Request\n",
      "2021-07-16 00:40:53,739 selenium.webdriver.remote.remote_connection DEBUG    DELETE http://127.0.0.1:58779/session/034d707cc59ee34ae07286a28d73f835 {}\n",
      "2021-07-16 00:40:53,889 selenium.webdriver.remote.remote_connection DEBUG    Finished Request\n"
     ]
    },
    {
     "name": "stdout",
     "output_type": "stream",
     "text": [
      "24 41.234.66.33:3128\n",
      "Mozilla/5.0 (Windows NT 5.1) AppleWebKit/537.36 (KHTML, like Gecko) Chrome/34.0.1847.116 Safari/537.36 Mozilla/5.0 (iPad; U; CPU OS 3_2 like Mac OS X; en-us) AppleWebKit/531.21.10 (KHTML, like Gecko) Version/4.0.4 Mobile/7B334b Safari/531.21.10\n"
     ]
    },
    {
     "name": "stderr",
     "output_type": "stream",
     "text": [
      "2021-07-16 00:40:56,556 selenium.webdriver.remote.remote_connection DEBUG    POST http://127.0.0.1:53179/session {\"capabilities\": {\"firstMatch\": [{}], \"alwaysMatch\": {\"browserName\": \"chrome\", \"platformName\": \"any\", \"proxy\": {\"httpProxy\": \"41.234.66.33:3128\", \"ftpProxy\": \"41.234.66.33:3128\", \"sslProxy\": \"41.234.66.33:3128\", \"proxyType\": \"manual\"}, \"goog:chromeOptions\": {\"excludeSwitches\": [\"enable-automation\"], \"useAutomationExtension\": false, \"extensions\": [], \"args\": [\"--disable-notifications\", \"--mute-audio\", \"start-maximized\", \"window-size=800,600\", \"user-agent=Mozilla/5.0 (Windows NT 5.1) AppleWebKit/537.36 (KHTML, like Gecko) Chrome/34.0.1847.116 Safari/537.36 Mozilla/5.0 (iPad; U; CPU OS 3_2 like Mac OS X; en-us) AppleWebKit/531.21.10 (KHTML, like Gecko) Version/4.0.4 Mobile/7B334b Safari/531.21.10\"]}}}, \"desiredCapabilities\": {\"browserName\": \"chrome\", \"version\": \"\", \"platform\": \"ANY\", \"proxy\": {\"httpProxy\": \"41.234.66.33:3128\", \"ftpProxy\": \"41.234.66.33:3128\", \"sslProxy\": \"41.234.66.33:3128\", \"proxyType\": \"MANUAL\"}, \"goog:chromeOptions\": {\"excludeSwitches\": [\"enable-automation\"], \"useAutomationExtension\": false, \"extensions\": [], \"args\": [\"--disable-notifications\", \"--mute-audio\", \"start-maximized\", \"window-size=800,600\", \"user-agent=Mozilla/5.0 (Windows NT 5.1) AppleWebKit/537.36 (KHTML, like Gecko) Chrome/34.0.1847.116 Safari/537.36 Mozilla/5.0 (iPad; U; CPU OS 3_2 like Mac OS X; en-us) AppleWebKit/531.21.10 (KHTML, like Gecko) Version/4.0.4 Mobile/7B334b Safari/531.21.10\"]}}}\n",
      "2021-07-16 00:40:57,425 selenium.webdriver.remote.remote_connection DEBUG    Finished Request\n",
      "2021-07-16 00:40:57,426 selenium.webdriver.remote.remote_connection DEBUG    POST http://127.0.0.1:53179/session/b7c42882b92b3abdcb73d8374333cfdc/execute/sync {\"script\": \"Object.defineProperty(navigator, 'webdriver', {get: () => undefined})\", \"args\": []}\n",
      "2021-07-16 00:40:57,454 selenium.webdriver.remote.remote_connection DEBUG    Finished Request\n",
      "2021-07-16 00:40:57,456 selenium.webdriver.remote.remote_connection DEBUG    POST http://127.0.0.1:53179/session/b7c42882b92b3abdcb73d8374333cfdc/url {\"url\": \"https://forestriverinc.com/rvs/dealer-locator\"}\n",
      "2021-07-16 00:41:27,780 selenium.webdriver.remote.remote_connection DEBUG    Finished Request\n",
      "2021-07-16 00:41:28,791 selenium.webdriver.remote.remote_connection DEBUG    POST http://127.0.0.1:53179/session/b7c42882b92b3abdcb73d8374333cfdc/elements {\"using\": \"css selector\", \"value\": \".g-recaptcha\"}\n",
      "2021-07-16 00:41:59,028 selenium.webdriver.remote.remote_connection DEBUG    Finished Request\n",
      "2021-07-16 00:41:59,030 selenium.webdriver.remote.remote_connection DEBUG    POST http://127.0.0.1:53179/session/b7c42882b92b3abdcb73d8374333cfdc/element {\"using\": \"css selector\", \"value\": \"[id=\\\"ContentPlaceHolder1_tbZipCode\\\"]\"}\n",
      "2021-07-16 00:41:59,054 selenium.webdriver.remote.remote_connection DEBUG    Finished Request\n",
      "2021-07-16 00:41:59,055 selenium.webdriver.remote.remote_connection DEBUG    DELETE http://127.0.0.1:53179/session/b7c42882b92b3abdcb73d8374333cfdc {}\n",
      "2021-07-16 00:41:59,180 selenium.webdriver.remote.remote_connection DEBUG    Finished Request\n"
     ]
    },
    {
     "name": "stdout",
     "output_type": "stream",
     "text": [
      "25 20.46.250.183:80\n",
      "Mozilla/5.0 (Macintosh; Intel Mac OS X 10_8_2) AppleWebKit/537.17 (KHTML, like Gecko) Chrome/24.0.1309.0 Safari/537.17\n"
     ]
    },
    {
     "name": "stderr",
     "output_type": "stream",
     "text": [
      "2021-07-16 00:42:01,815 selenium.webdriver.remote.remote_connection DEBUG    POST http://127.0.0.1:52080/session {\"capabilities\": {\"firstMatch\": [{}], \"alwaysMatch\": {\"browserName\": \"chrome\", \"platformName\": \"any\", \"proxy\": {\"httpProxy\": \"20.46.250.183:80\", \"ftpProxy\": \"20.46.250.183:80\", \"sslProxy\": \"20.46.250.183:80\", \"proxyType\": \"manual\"}, \"goog:chromeOptions\": {\"excludeSwitches\": [\"enable-automation\"], \"useAutomationExtension\": false, \"extensions\": [], \"args\": [\"--disable-notifications\", \"--mute-audio\", \"start-maximized\", \"window-size=800,600\", \"user-agent=Mozilla/5.0 (Macintosh; Intel Mac OS X 10_8_2) AppleWebKit/537.17 (KHTML, like Gecko) Chrome/24.0.1309.0 Safari/537.17\"]}}}, \"desiredCapabilities\": {\"browserName\": \"chrome\", \"version\": \"\", \"platform\": \"ANY\", \"proxy\": {\"httpProxy\": \"20.46.250.183:80\", \"ftpProxy\": \"20.46.250.183:80\", \"sslProxy\": \"20.46.250.183:80\", \"proxyType\": \"MANUAL\"}, \"goog:chromeOptions\": {\"excludeSwitches\": [\"enable-automation\"], \"useAutomationExtension\": false, \"extensions\": [], \"args\": [\"--disable-notifications\", \"--mute-audio\", \"start-maximized\", \"window-size=800,600\", \"user-agent=Mozilla/5.0 (Macintosh; Intel Mac OS X 10_8_2) AppleWebKit/537.17 (KHTML, like Gecko) Chrome/24.0.1309.0 Safari/537.17\"]}}}\n",
      "2021-07-16 00:42:02,717 selenium.webdriver.remote.remote_connection DEBUG    Finished Request\n",
      "2021-07-16 00:42:02,719 selenium.webdriver.remote.remote_connection DEBUG    POST http://127.0.0.1:52080/session/464c9f45ebc445e0b378fc4b005b04be/execute/sync {\"script\": \"Object.defineProperty(navigator, 'webdriver', {get: () => undefined})\", \"args\": []}\n",
      "2021-07-16 00:42:02,903 selenium.webdriver.remote.remote_connection DEBUG    Finished Request\n",
      "2021-07-16 00:42:02,904 selenium.webdriver.remote.remote_connection DEBUG    POST http://127.0.0.1:52080/session/464c9f45ebc445e0b378fc4b005b04be/url {\"url\": \"https://forestriverinc.com/rvs/dealer-locator\"}\n",
      "2021-07-16 00:42:36,473 selenium.webdriver.remote.remote_connection DEBUG    Finished Request\n",
      "2021-07-16 00:42:37,475 selenium.webdriver.remote.remote_connection DEBUG    POST http://127.0.0.1:52080/session/464c9f45ebc445e0b378fc4b005b04be/elements {\"using\": \"css selector\", \"value\": \".g-recaptcha\"}\n",
      "2021-07-16 00:43:32,372 selenium.webdriver.remote.remote_connection DEBUG    Finished Request\n",
      "2021-07-16 00:43:32,373 selenium.webdriver.remote.remote_connection DEBUG    POST http://127.0.0.1:52080/session/464c9f45ebc445e0b378fc4b005b04be/element {\"using\": \"css selector\", \"value\": \"[id=\\\"ContentPlaceHolder1_tbZipCode\\\"]\"}\n",
      "2021-07-16 00:43:32,391 selenium.webdriver.remote.remote_connection DEBUG    Finished Request\n",
      "2021-07-16 00:43:32,393 selenium.webdriver.remote.remote_connection DEBUG    POST http://127.0.0.1:52080/session/464c9f45ebc445e0b378fc4b005b04be/element/ddd528e1-47fe-4327-a22b-24713508d55b/value {\"text\": \"36420\", \"value\": [\"3\", \"6\", \"4\", \"2\", \"0\"], \"id\": \"ddd528e1-47fe-4327-a22b-24713508d55b\"}\n",
      "2021-07-16 00:43:32,806 selenium.webdriver.remote.remote_connection DEBUG    Finished Request\n",
      "2021-07-16 00:43:33,821 selenium.webdriver.remote.remote_connection DEBUG    POST http://127.0.0.1:52080/session/464c9f45ebc445e0b378fc4b005b04be/element {\"using\": \"css selector\", \"value\": \"[id=\\\"ContentPlaceHolder1_btnSearch\\\"]\"}\n",
      "2021-07-16 00:43:33,835 selenium.webdriver.remote.remote_connection DEBUG    Finished Request\n",
      "2021-07-16 00:43:33,838 selenium.webdriver.remote.remote_connection DEBUG    POST http://127.0.0.1:52080/session/464c9f45ebc445e0b378fc4b005b04be/element {\"using\": \"css selector\", \"value\": \"[id=\\\"ContentPlaceHolder1_ddlProducts\\\"]\"}\n",
      "2021-07-16 00:43:33,861 selenium.webdriver.remote.remote_connection DEBUG    Finished Request\n",
      "2021-07-16 00:43:33,863 selenium.webdriver.remote.remote_connection DEBUG    GET http://127.0.0.1:52080/session/464c9f45ebc445e0b378fc4b005b04be/element/508dc4db-72a0-4a1f-9ee4-7261bd318cf3/name {\"id\": \"508dc4db-72a0-4a1f-9ee4-7261bd318cf3\"}\n",
      "2021-07-16 00:43:33,875 selenium.webdriver.remote.remote_connection DEBUG    Finished Request\n",
      "2021-07-16 00:43:33,879 selenium.webdriver.remote.remote_connection DEBUG    POST http://127.0.0.1:52080/session/464c9f45ebc445e0b378fc4b005b04be/execute/sync {\"script\": \"return (function(){return function(){var d=this;function f(a){return\\\"string\\\"==typeof a};function h(a,b){this.code=a;this.a=l[a]||m;this.message=b||\\\"\\\";a=this.a.replace(/((?:^|\\\\s+)[a-z])/g,function(a){return a.toUpperCase().replace(/^[\\\\s\\\\xa0]+/g,\\\"\\\")});b=a.length-5;if(0>b||a.indexOf(\\\"Error\\\",b)!=b)a+=\\\"Error\\\";this.name=a;a=Error(this.message);a.name=this.name;this.stack=a.stack||\\\"\\\"}\\n(function(){var a=Error;function b(){}b.prototype=a.prototype;h.b=a.prototype;h.prototype=new b;h.prototype.constructor=h;h.a=function(b,c,g){for(var e=Array(arguments.length-2),k=2;k<arguments.length;k++)e[k-2]=arguments[k];return a.prototype[c].apply(b,e)}})();var m=\\\"unknown error\\\",l={15:\\\"element not selectable\\\",11:\\\"element not visible\\\"};l[31]=m;l[30]=m;l[24]=\\\"invalid cookie domain\\\";l[29]=\\\"invalid element coordinates\\\";l[12]=\\\"invalid element state\\\";l[32]=\\\"invalid selector\\\";l[51]=\\\"invalid selector\\\";\\nl[52]=\\\"invalid selector\\\";l[17]=\\\"javascript error\\\";l[405]=\\\"unsupported operation\\\";l[34]=\\\"move target out of bounds\\\";l[27]=\\\"no such alert\\\";l[7]=\\\"no such element\\\";l[8]=\\\"no such frame\\\";l[23]=\\\"no such window\\\";l[28]=\\\"script timeout\\\";l[33]=\\\"session not created\\\";l[10]=\\\"stale element reference\\\";l[21]=\\\"timeout\\\";l[25]=\\\"unable to set cookie\\\";l[26]=\\\"unexpected alert open\\\";l[13]=m;l[9]=\\\"unknown command\\\";h.prototype.toString=function(){return this.name+\\\": \\\"+this.message};var n;a:{var p=d.navigator;if(p){var q=p.userAgent;if(q){n=q;break a}}n=\\\"\\\"}function r(a){return-1!=n.indexOf(a)};function t(a,b){for(var e=a.length,c=f(a)?a.split(\\\"\\\"):a,g=0;g<e;g++)g in c&&b.call(void 0,c[g],g,a)};function v(){return r(\\\"iPhone\\\")&&!r(\\\"iPod\\\")&&!r(\\\"iPad\\\")};function w(){return(r(\\\"Chrome\\\")||r(\\\"CriOS\\\"))&&!r(\\\"Edge\\\")};var x=r(\\\"Opera\\\"),y=r(\\\"Trident\\\")||r(\\\"MSIE\\\"),z=r(\\\"Edge\\\"),A=r(\\\"Gecko\\\")&&!(-1!=n.toLowerCase().indexOf(\\\"webkit\\\")&&!r(\\\"Edge\\\"))&&!(r(\\\"Trident\\\")||r(\\\"MSIE\\\"))&&!r(\\\"Edge\\\"),aa=-1!=n.toLowerCase().indexOf(\\\"webkit\\\")&&!r(\\\"Edge\\\");function B(){var a=d.document;return a?a.documentMode:void 0}var C;\\na:{var D=\\\"\\\",E=function(){var a=n;if(A)return/rv\\\\:([^\\\\);]+)(\\\\)|;)/.exec(a);if(z)return/Edge\\\\/([\\\\d\\\\.]+)/.exec(a);if(y)return/\\\\b(?:MSIE|rv)[: ]([^\\\\);]+)(\\\\)|;)/.exec(a);if(aa)return/WebKit\\\\/(\\\\S+)/.exec(a);if(x)return/(?:Version)[ \\\\/]?(\\\\S+)/.exec(a)}();E&&(D=E?E[1]:\\\"\\\");if(y){var F=B();if(null!=F&&F>parseFloat(D)){C=String(F);break a}}C=D}var G;var H=d.document;G=H&&y?B()||(\\\"CSS1Compat\\\"==H.compatMode?parseInt(C,10):5):void 0;var ba=r(\\\"Firefox\\\"),ca=v()||r(\\\"iPod\\\"),da=r(\\\"iPad\\\"),I=r(\\\"Android\\\")&&!(w()||r(\\\"Firefox\\\")||r(\\\"Opera\\\")||r(\\\"Silk\\\")),ea=w(),J=r(\\\"Safari\\\")&&!(w()||r(\\\"Coast\\\")||r(\\\"Opera\\\")||r(\\\"Edge\\\")||r(\\\"Silk\\\")||r(\\\"Android\\\"))&&!(v()||r(\\\"iPad\\\")||r(\\\"iPod\\\"));function K(a){return(a=a.exec(n))?a[1]:\\\"\\\"}(function(){if(ba)return K(/Firefox\\\\/([0-9.]+)/);if(y||z||x)return C;if(ea)return v()||r(\\\"iPad\\\")||r(\\\"iPod\\\")?K(/CriOS\\\\/([0-9.]+)/):K(/Chrome\\\\/([0-9.]+)/);if(J&&!(v()||r(\\\"iPad\\\")||r(\\\"iPod\\\")))return K(/Version\\\\/([0-9.]+)/);if(ca||da){var a=/Version\\\\/(\\\\S+).*Mobile\\\\/(\\\\S+)/.exec(n);if(a)return a[1]+\\\".\\\"+a[2]}else if(I)return(a=K(/Android\\\\s+([0-9.]+)/))?a:K(/Version\\\\/([0-9.]+)/);return\\\"\\\"})();var L,M=function(){if(!A)return!1;var a=d.Components;if(!a)return!1;try{if(!a.classes)return!1}catch(g){return!1}var b=a.classes,a=a.interfaces,e=b[\\\"@mozilla.org/xpcom/version-comparator;1\\\"].getService(a.nsIVersionComparator),c=b[\\\"@mozilla.org/xre/app-info;1\\\"].getService(a.nsIXULAppInfo).version;L=function(a){e.compare(c,\\\"\\\"+a)};return!0}(),N=y&&!(8<=Number(G)),fa=y&&!(9<=Number(G));I&&M&&L(2.3);I&&M&&L(4);J&&M&&L(6);var ga={SCRIPT:1,STYLE:1,HEAD:1,IFRAME:1,OBJECT:1},O={IMG:\\\" \\\",BR:\\\"\\\\n\\\"};function P(a,b,e){if(!(a.nodeName in ga))if(3==a.nodeType)e?b.push(String(a.nodeValue).replace(/(\\\\r\\\\n|\\\\r|\\\\n)/g,\\\"\\\")):b.push(a.nodeValue);else if(a.nodeName in O)b.push(O[a.nodeName]);else for(a=a.firstChild;a;)P(a,b,e),a=a.nextSibling};function Q(a,b){b=b.toLowerCase();return\\\"style\\\"==b?ha(a.style.cssText):N&&\\\"value\\\"==b&&R(a,\\\"INPUT\\\")?a.value:fa&&!0===a[b]?String(a.getAttribute(b)):(a=a.getAttributeNode(b))&&a.specified?a.value:null}var ia=/[;]+(?=(?:(?:[^\\\"]*\\\"){2})*[^\\\"]*$)(?=(?:(?:[^']*'){2})*[^']*$)(?=(?:[^()]*\\\\([^()]*\\\\))*[^()]*$)/;\\nfunction ha(a){var b=[];t(a.split(ia),function(a){var c=a.indexOf(\\\":\\\");0<c&&(a=[a.slice(0,c),a.slice(c+1)],2==a.length&&b.push(a[0].toLowerCase(),\\\":\\\",a[1],\\\";\\\"))});b=b.join(\\\"\\\");return b=\\\";\\\"==b.charAt(b.length-1)?b:b+\\\";\\\"}function S(a,b){N&&\\\"value\\\"==b&&R(a,\\\"OPTION\\\")&&null===Q(a,\\\"value\\\")?(b=[],P(a,b,!1),a=b.join(\\\"\\\")):a=a[b];return a}function R(a,b){b&&\\\"string\\\"!==typeof b&&(b=b.toString());return!!a&&1==a.nodeType&&(!b||a.tagName.toUpperCase()==b)}\\nfunction T(a){return R(a,\\\"OPTION\\\")?!0:R(a,\\\"INPUT\\\")?(a=a.type.toLowerCase(),\\\"checkbox\\\"==a||\\\"radio\\\"==a):!1};var ja={\\\"class\\\":\\\"className\\\",readonly:\\\"readOnly\\\"},U=\\\"allowfullscreen allowpaymentrequest allowusermedia async autofocus autoplay checked compact complete controls declare default defaultchecked defaultselected defer disabled ended formnovalidate hidden indeterminate iscontenteditable ismap itemscope loop multiple muted nohref nomodule noresize noshade novalidate nowrap open paused playsinline pubdate readonly required reversed scoped seamless seeking selected truespeed typemustmatch willvalidate\\\".split(\\\" \\\");function V(a,b){var e=null,c=b.toLowerCase();if(\\\"style\\\"==c)return(e=a.style)&&!f(e)&&(e=e.cssText),e;if((\\\"selected\\\"==c||\\\"checked\\\"==c)&&T(a)){if(!T(a))throw new h(15,\\\"Element is not selectable\\\");b=\\\"selected\\\";e=a.type&&a.type.toLowerCase();if(\\\"checkbox\\\"==e||\\\"radio\\\"==e)b=\\\"checked\\\";return S(a,b)?\\\"true\\\":null}var g=R(a,\\\"A\\\");if(R(a,\\\"IMG\\\")&&\\\"src\\\"==c||g&&\\\"href\\\"==c)return(e=Q(a,c))&&(e=S(a,c)),e;if(\\\"spellcheck\\\"==c){e=Q(a,c);if(null!==e){if(\\\"false\\\"==e.toLowerCase())return\\\"false\\\";if(\\\"true\\\"==e.toLowerCase())return\\\"true\\\"}return S(a,\\nc)+\\\"\\\"}g=ja[b]||b;a:if(f(U))c=f(c)&&1==c.length?U.indexOf(c,0):-1;else{for(var u=0;u<U.length;u++)if(u in U&&U[u]===c){c=u;break a}c=-1}if(0<=c)return(e=null!==Q(a,b)||S(a,g))?\\\"true\\\":null;try{var k=S(a,g)}catch(ka){}(c=null==k)||(c=typeof k,c=\\\"object\\\"==c&&null!=k||\\\"function\\\"==c);c?e=Q(a,b):e=k;return null!=e?e.toString():null}var W=[\\\"_\\\"],X=d;W[0]in X||!X.execScript||X.execScript(\\\"var \\\"+W[0]);\\nfor(var Y;W.length&&(Y=W.shift());){var Z;if(Z=!W.length)Z=void 0!==V;Z?X[Y]=V:X[Y]&&X[Y]!==Object.prototype[Y]?X=X[Y]:X=X[Y]={}};; return this._.apply(null,arguments);}.apply({navigator:typeof window!='undefined'?window.navigator:null,document:typeof window!='undefined'?window.document:null}, arguments);}\\n).apply(null, arguments);\", \"args\": [{\"ELEMENT\": \"508dc4db-72a0-4a1f-9ee4-7261bd318cf3\", \"element-6066-11e4-a52e-4f735466cecf\": \"508dc4db-72a0-4a1f-9ee4-7261bd318cf3\"}, \"multiple\"]}\n"
     ]
    },
    {
     "name": "stderr",
     "output_type": "stream",
     "text": [
      "2021-07-16 00:43:33,903 selenium.webdriver.remote.remote_connection DEBUG    Finished Request\n",
      "2021-07-16 00:43:33,904 selenium.webdriver.remote.remote_connection DEBUG    POST http://127.0.0.1:52080/session/464c9f45ebc445e0b378fc4b005b04be/element/508dc4db-72a0-4a1f-9ee4-7261bd318cf3/elements {\"using\": \"xpath\", \"value\": \".//option[normalize-space(.) = \\\"Alpha Wolf\\\"]\", \"id\": \"508dc4db-72a0-4a1f-9ee4-7261bd318cf3\"}\n",
      "2021-07-16 00:43:33,929 selenium.webdriver.remote.remote_connection DEBUG    Finished Request\n",
      "2021-07-16 00:43:33,931 selenium.webdriver.remote.remote_connection DEBUG    GET http://127.0.0.1:52080/session/464c9f45ebc445e0b378fc4b005b04be/element/fa579e0c-8b01-42de-83c2-31bab119f6c9/selected {\"id\": \"fa579e0c-8b01-42de-83c2-31bab119f6c9\"}\n",
      "2021-07-16 00:43:33,972 selenium.webdriver.remote.remote_connection DEBUG    Finished Request\n",
      "2021-07-16 00:43:33,974 selenium.webdriver.remote.remote_connection DEBUG    POST http://127.0.0.1:52080/session/464c9f45ebc445e0b378fc4b005b04be/element/fa579e0c-8b01-42de-83c2-31bab119f6c9/click {\"id\": \"fa579e0c-8b01-42de-83c2-31bab119f6c9\"}\n",
      "2021-07-16 00:43:34,009 selenium.webdriver.remote.remote_connection DEBUG    Finished Request\n",
      "2021-07-16 00:43:35,018 selenium.webdriver.remote.remote_connection DEBUG    POST http://127.0.0.1:52080/session/464c9f45ebc445e0b378fc4b005b04be/element/528bfdcb-4819-46f1-a017-aa87775151cd/click {\"id\": \"528bfdcb-4819-46f1-a017-aa87775151cd\"}\n",
      "2021-07-16 00:44:14,055 selenium.webdriver.remote.remote_connection DEBUG    Finished Request\n",
      "2021-07-16 00:44:15,064 selenium.webdriver.remote.remote_connection DEBUG    POST http://127.0.0.1:52080/session/464c9f45ebc445e0b378fc4b005b04be/elements {\"using\": \"css selector\", \"value\": \"[id=\\\"ContentPlaceHolder1_lblError\\\"]\"}\n",
      "2021-07-16 00:44:15,081 selenium.webdriver.remote.remote_connection DEBUG    Finished Request\n",
      "2021-07-16 00:44:15,083 selenium.webdriver.remote.remote_connection DEBUG    POST http://127.0.0.1:52080/session/464c9f45ebc445e0b378fc4b005b04be/element {\"using\": \"css selector\", \"value\": \"[id=\\\"map\\\"]\"}\n",
      "2021-07-16 00:44:15,106 selenium.webdriver.remote.remote_connection DEBUG    Finished Request\n",
      "2021-07-16 00:44:15,112 selenium.webdriver.remote.remote_connection DEBUG    POST http://127.0.0.1:52080/session/464c9f45ebc445e0b378fc4b005b04be/element/0cf4d74f-86d3-4357-9417-8fc604e94616/elements {\"using\": \"xpath\", \"value\": \"//*[@id=\\\"map\\\"]/div[1]\", \"id\": \"0cf4d74f-86d3-4357-9417-8fc604e94616\"}\n",
      "2021-07-16 00:44:15,142 selenium.webdriver.remote.remote_connection DEBUG    Finished Request\n",
      "2021-07-16 00:44:15,144 selenium.webdriver.remote.remote_connection DEBUG    POST http://127.0.0.1:52080/session/464c9f45ebc445e0b378fc4b005b04be/element/f9cff14d-b1f4-48cb-8ac4-3cf9a9b8927c/elements {\"using\": \"xpath\", \"value\": \"./child::*\", \"id\": \"f9cff14d-b1f4-48cb-8ac4-3cf9a9b8927c\"}\n",
      "2021-07-16 00:44:15,165 selenium.webdriver.remote.remote_connection DEBUG    Finished Request\n",
      "2021-07-16 00:44:15,169 selenium.webdriver.remote.remote_connection DEBUG    POST http://127.0.0.1:52080/session/464c9f45ebc445e0b378fc4b005b04be/element/0cf4d74f-86d3-4357-9417-8fc604e94616/elements {\"using\": \"css selector\", \"value\": \"div.text-left\", \"id\": \"0cf4d74f-86d3-4357-9417-8fc604e94616\"}\n",
      "2021-07-16 00:44:15,183 selenium.webdriver.remote.remote_connection DEBUG    Finished Request\n",
      "2021-07-16 00:44:15,184 selenium.webdriver.remote.remote_connection DEBUG    POST http://127.0.0.1:52080/session/464c9f45ebc445e0b378fc4b005b04be/element/f08b561c-5af8-4090-938e-73ee3a436279/element {\"using\": \"css selector\", \"value\": \"h3\", \"id\": \"f08b561c-5af8-4090-938e-73ee3a436279\"}\n",
      "2021-07-16 00:44:15,221 selenium.webdriver.remote.remote_connection DEBUG    Finished Request\n",
      "2021-07-16 00:44:15,223 selenium.webdriver.remote.remote_connection DEBUG    GET http://127.0.0.1:52080/session/464c9f45ebc445e0b378fc4b005b04be/element/af6ecac3-ab0f-4752-97eb-7c5accd954b3/text {\"id\": \"af6ecac3-ab0f-4752-97eb-7c5accd954b3\"}\n",
      "2021-07-16 00:44:15,267 selenium.webdriver.remote.remote_connection DEBUG    Finished Request\n",
      "2021-07-16 00:44:15,268 selenium.webdriver.remote.remote_connection DEBUG    POST http://127.0.0.1:52080/session/464c9f45ebc445e0b378fc4b005b04be/element/f08b561c-5af8-4090-938e-73ee3a436279/elements {\"using\": \"css selector\", \"value\": \"div\", \"id\": \"f08b561c-5af8-4090-938e-73ee3a436279\"}\n",
      "2021-07-16 00:44:15,287 selenium.webdriver.remote.remote_connection DEBUG    Finished Request\n",
      "2021-07-16 00:44:15,289 selenium.webdriver.remote.remote_connection DEBUG    GET http://127.0.0.1:52080/session/464c9f45ebc445e0b378fc4b005b04be/element/11dab99a-3c7a-489c-9d84-de833ead7101/text {\"id\": \"11dab99a-3c7a-489c-9d84-de833ead7101\"}\n",
      "2021-07-16 00:44:15,309 selenium.webdriver.remote.remote_connection DEBUG    Finished Request\n",
      "2021-07-16 00:44:15,311 selenium.webdriver.remote.remote_connection DEBUG    GET http://127.0.0.1:52080/session/464c9f45ebc445e0b378fc4b005b04be/element/c6e40d68-de89-47ca-a047-404fa3a162da/text {\"id\": \"c6e40d68-de89-47ca-a047-404fa3a162da\"}\n",
      "2021-07-16 00:44:15,336 selenium.webdriver.remote.remote_connection DEBUG    Finished Request\n",
      "2021-07-16 00:44:15,337 selenium.webdriver.remote.remote_connection DEBUG    GET http://127.0.0.1:52080/session/464c9f45ebc445e0b378fc4b005b04be/element/a476e49a-452a-44ac-b796-9aef7b74bd31/text {\"id\": \"a476e49a-452a-44ac-b796-9aef7b74bd31\"}\n",
      "2021-07-16 00:44:15,354 selenium.webdriver.remote.remote_connection DEBUG    Finished Request\n",
      "2021-07-16 00:44:15,355 selenium.webdriver.remote.remote_connection DEBUG    GET http://127.0.0.1:52080/session/464c9f45ebc445e0b378fc4b005b04be/element/c30394d6-7608-4f6d-a3a3-6eed7eb38aaf/text {\"id\": \"c30394d6-7608-4f6d-a3a3-6eed7eb38aaf\"}\n",
      "2021-07-16 00:44:15,377 selenium.webdriver.remote.remote_connection DEBUG    Finished Request\n",
      "2021-07-16 00:44:15,379 selenium.webdriver.remote.remote_connection DEBUG    POST http://127.0.0.1:52080/session/464c9f45ebc445e0b378fc4b005b04be/element/b50ed82a-5681-45ee-9386-77456909c4df/element {\"using\": \"css selector\", \"value\": \"a\", \"id\": \"b50ed82a-5681-45ee-9386-77456909c4df\"}\n",
      "2021-07-16 00:44:15,396 selenium.webdriver.remote.remote_connection DEBUG    Finished Request\n",
      "2021-07-16 00:44:15,397 selenium.webdriver.remote.remote_connection DEBUG    POST http://127.0.0.1:52080/session/464c9f45ebc445e0b378fc4b005b04be/execute/sync {\"script\": \"return (function(){return function(){var d=this;function f(a){return\\\"string\\\"==typeof a};function h(a,b){this.code=a;this.a=l[a]||m;this.message=b||\\\"\\\";a=this.a.replace(/((?:^|\\\\s+)[a-z])/g,function(a){return a.toUpperCase().replace(/^[\\\\s\\\\xa0]+/g,\\\"\\\")});b=a.length-5;if(0>b||a.indexOf(\\\"Error\\\",b)!=b)a+=\\\"Error\\\";this.name=a;a=Error(this.message);a.name=this.name;this.stack=a.stack||\\\"\\\"}\\n(function(){var a=Error;function b(){}b.prototype=a.prototype;h.b=a.prototype;h.prototype=new b;h.prototype.constructor=h;h.a=function(b,c,g){for(var e=Array(arguments.length-2),k=2;k<arguments.length;k++)e[k-2]=arguments[k];return a.prototype[c].apply(b,e)}})();var m=\\\"unknown error\\\",l={15:\\\"element not selectable\\\",11:\\\"element not visible\\\"};l[31]=m;l[30]=m;l[24]=\\\"invalid cookie domain\\\";l[29]=\\\"invalid element coordinates\\\";l[12]=\\\"invalid element state\\\";l[32]=\\\"invalid selector\\\";l[51]=\\\"invalid selector\\\";\\nl[52]=\\\"invalid selector\\\";l[17]=\\\"javascript error\\\";l[405]=\\\"unsupported operation\\\";l[34]=\\\"move target out of bounds\\\";l[27]=\\\"no such alert\\\";l[7]=\\\"no such element\\\";l[8]=\\\"no such frame\\\";l[23]=\\\"no such window\\\";l[28]=\\\"script timeout\\\";l[33]=\\\"session not created\\\";l[10]=\\\"stale element reference\\\";l[21]=\\\"timeout\\\";l[25]=\\\"unable to set cookie\\\";l[26]=\\\"unexpected alert open\\\";l[13]=m;l[9]=\\\"unknown command\\\";h.prototype.toString=function(){return this.name+\\\": \\\"+this.message};var n;a:{var p=d.navigator;if(p){var q=p.userAgent;if(q){n=q;break a}}n=\\\"\\\"}function r(a){return-1!=n.indexOf(a)};function t(a,b){for(var e=a.length,c=f(a)?a.split(\\\"\\\"):a,g=0;g<e;g++)g in c&&b.call(void 0,c[g],g,a)};function v(){return r(\\\"iPhone\\\")&&!r(\\\"iPod\\\")&&!r(\\\"iPad\\\")};function w(){return(r(\\\"Chrome\\\")||r(\\\"CriOS\\\"))&&!r(\\\"Edge\\\")};var x=r(\\\"Opera\\\"),y=r(\\\"Trident\\\")||r(\\\"MSIE\\\"),z=r(\\\"Edge\\\"),A=r(\\\"Gecko\\\")&&!(-1!=n.toLowerCase().indexOf(\\\"webkit\\\")&&!r(\\\"Edge\\\"))&&!(r(\\\"Trident\\\")||r(\\\"MSIE\\\"))&&!r(\\\"Edge\\\"),aa=-1!=n.toLowerCase().indexOf(\\\"webkit\\\")&&!r(\\\"Edge\\\");function B(){var a=d.document;return a?a.documentMode:void 0}var C;\\na:{var D=\\\"\\\",E=function(){var a=n;if(A)return/rv\\\\:([^\\\\);]+)(\\\\)|;)/.exec(a);if(z)return/Edge\\\\/([\\\\d\\\\.]+)/.exec(a);if(y)return/\\\\b(?:MSIE|rv)[: ]([^\\\\);]+)(\\\\)|;)/.exec(a);if(aa)return/WebKit\\\\/(\\\\S+)/.exec(a);if(x)return/(?:Version)[ \\\\/]?(\\\\S+)/.exec(a)}();E&&(D=E?E[1]:\\\"\\\");if(y){var F=B();if(null!=F&&F>parseFloat(D)){C=String(F);break a}}C=D}var G;var H=d.document;G=H&&y?B()||(\\\"CSS1Compat\\\"==H.compatMode?parseInt(C,10):5):void 0;var ba=r(\\\"Firefox\\\"),ca=v()||r(\\\"iPod\\\"),da=r(\\\"iPad\\\"),I=r(\\\"Android\\\")&&!(w()||r(\\\"Firefox\\\")||r(\\\"Opera\\\")||r(\\\"Silk\\\")),ea=w(),J=r(\\\"Safari\\\")&&!(w()||r(\\\"Coast\\\")||r(\\\"Opera\\\")||r(\\\"Edge\\\")||r(\\\"Silk\\\")||r(\\\"Android\\\"))&&!(v()||r(\\\"iPad\\\")||r(\\\"iPod\\\"));function K(a){return(a=a.exec(n))?a[1]:\\\"\\\"}(function(){if(ba)return K(/Firefox\\\\/([0-9.]+)/);if(y||z||x)return C;if(ea)return v()||r(\\\"iPad\\\")||r(\\\"iPod\\\")?K(/CriOS\\\\/([0-9.]+)/):K(/Chrome\\\\/([0-9.]+)/);if(J&&!(v()||r(\\\"iPad\\\")||r(\\\"iPod\\\")))return K(/Version\\\\/([0-9.]+)/);if(ca||da){var a=/Version\\\\/(\\\\S+).*Mobile\\\\/(\\\\S+)/.exec(n);if(a)return a[1]+\\\".\\\"+a[2]}else if(I)return(a=K(/Android\\\\s+([0-9.]+)/))?a:K(/Version\\\\/([0-9.]+)/);return\\\"\\\"})();var L,M=function(){if(!A)return!1;var a=d.Components;if(!a)return!1;try{if(!a.classes)return!1}catch(g){return!1}var b=a.classes,a=a.interfaces,e=b[\\\"@mozilla.org/xpcom/version-comparator;1\\\"].getService(a.nsIVersionComparator),c=b[\\\"@mozilla.org/xre/app-info;1\\\"].getService(a.nsIXULAppInfo).version;L=function(a){e.compare(c,\\\"\\\"+a)};return!0}(),N=y&&!(8<=Number(G)),fa=y&&!(9<=Number(G));I&&M&&L(2.3);I&&M&&L(4);J&&M&&L(6);var ga={SCRIPT:1,STYLE:1,HEAD:1,IFRAME:1,OBJECT:1},O={IMG:\\\" \\\",BR:\\\"\\\\n\\\"};function P(a,b,e){if(!(a.nodeName in ga))if(3==a.nodeType)e?b.push(String(a.nodeValue).replace(/(\\\\r\\\\n|\\\\r|\\\\n)/g,\\\"\\\")):b.push(a.nodeValue);else if(a.nodeName in O)b.push(O[a.nodeName]);else for(a=a.firstChild;a;)P(a,b,e),a=a.nextSibling};function Q(a,b){b=b.toLowerCase();return\\\"style\\\"==b?ha(a.style.cssText):N&&\\\"value\\\"==b&&R(a,\\\"INPUT\\\")?a.value:fa&&!0===a[b]?String(a.getAttribute(b)):(a=a.getAttributeNode(b))&&a.specified?a.value:null}var ia=/[;]+(?=(?:(?:[^\\\"]*\\\"){2})*[^\\\"]*$)(?=(?:(?:[^']*'){2})*[^']*$)(?=(?:[^()]*\\\\([^()]*\\\\))*[^()]*$)/;\\nfunction ha(a){var b=[];t(a.split(ia),function(a){var c=a.indexOf(\\\":\\\");0<c&&(a=[a.slice(0,c),a.slice(c+1)],2==a.length&&b.push(a[0].toLowerCase(),\\\":\\\",a[1],\\\";\\\"))});b=b.join(\\\"\\\");return b=\\\";\\\"==b.charAt(b.length-1)?b:b+\\\";\\\"}function S(a,b){N&&\\\"value\\\"==b&&R(a,\\\"OPTION\\\")&&null===Q(a,\\\"value\\\")?(b=[],P(a,b,!1),a=b.join(\\\"\\\")):a=a[b];return a}function R(a,b){b&&\\\"string\\\"!==typeof b&&(b=b.toString());return!!a&&1==a.nodeType&&(!b||a.tagName.toUpperCase()==b)}\\nfunction T(a){return R(a,\\\"OPTION\\\")?!0:R(a,\\\"INPUT\\\")?(a=a.type.toLowerCase(),\\\"checkbox\\\"==a||\\\"radio\\\"==a):!1};var ja={\\\"class\\\":\\\"className\\\",readonly:\\\"readOnly\\\"},U=\\\"allowfullscreen allowpaymentrequest allowusermedia async autofocus autoplay checked compact complete controls declare default defaultchecked defaultselected defer disabled ended formnovalidate hidden indeterminate iscontenteditable ismap itemscope loop multiple muted nohref nomodule noresize noshade novalidate nowrap open paused playsinline pubdate readonly required reversed scoped seamless seeking selected truespeed typemustmatch willvalidate\\\".split(\\\" \\\");function V(a,b){var e=null,c=b.toLowerCase();if(\\\"style\\\"==c)return(e=a.style)&&!f(e)&&(e=e.cssText),e;if((\\\"selected\\\"==c||\\\"checked\\\"==c)&&T(a)){if(!T(a))throw new h(15,\\\"Element is not selectable\\\");b=\\\"selected\\\";e=a.type&&a.type.toLowerCase();if(\\\"checkbox\\\"==e||\\\"radio\\\"==e)b=\\\"checked\\\";return S(a,b)?\\\"true\\\":null}var g=R(a,\\\"A\\\");if(R(a,\\\"IMG\\\")&&\\\"src\\\"==c||g&&\\\"href\\\"==c)return(e=Q(a,c))&&(e=S(a,c)),e;if(\\\"spellcheck\\\"==c){e=Q(a,c);if(null!==e){if(\\\"false\\\"==e.toLowerCase())return\\\"false\\\";if(\\\"true\\\"==e.toLowerCase())return\\\"true\\\"}return S(a,\\nc)+\\\"\\\"}g=ja[b]||b;a:if(f(U))c=f(c)&&1==c.length?U.indexOf(c,0):-1;else{for(var u=0;u<U.length;u++)if(u in U&&U[u]===c){c=u;break a}c=-1}if(0<=c)return(e=null!==Q(a,b)||S(a,g))?\\\"true\\\":null;try{var k=S(a,g)}catch(ka){}(c=null==k)||(c=typeof k,c=\\\"object\\\"==c&&null!=k||\\\"function\\\"==c);c?e=Q(a,b):e=k;return null!=e?e.toString():null}var W=[\\\"_\\\"],X=d;W[0]in X||!X.execScript||X.execScript(\\\"var \\\"+W[0]);\\nfor(var Y;W.length&&(Y=W.shift());){var Z;if(Z=!W.length)Z=void 0!==V;Z?X[Y]=V:X[Y]&&X[Y]!==Object.prototype[Y]?X=X[Y]:X=X[Y]={}};; return this._.apply(null,arguments);}.apply({navigator:typeof window!='undefined'?window.navigator:null,document:typeof window!='undefined'?window.document:null}, arguments);}\\n).apply(null, arguments);\", \"args\": [{\"ELEMENT\": \"76ed2a20-4f7f-4ddf-b4d5-fad239f90993\", \"element-6066-11e4-a52e-4f735466cecf\": \"76ed2a20-4f7f-4ddf-b4d5-fad239f90993\"}, \"href\"]}\n"
     ]
    },
    {
     "name": "stderr",
     "output_type": "stream",
     "text": [
      "2021-07-16 00:44:15,409 selenium.webdriver.remote.remote_connection DEBUG    Finished Request\n",
      "2021-07-16 00:44:15,410 selenium.webdriver.remote.remote_connection DEBUG    POST http://127.0.0.1:52080/session/464c9f45ebc445e0b378fc4b005b04be/element/1e87d251-9869-47ec-a409-f5cb24223f2d/element {\"using\": \"css selector\", \"value\": \"h3\", \"id\": \"1e87d251-9869-47ec-a409-f5cb24223f2d\"}\n",
      "2021-07-16 00:44:15,425 selenium.webdriver.remote.remote_connection DEBUG    Finished Request\n",
      "2021-07-16 00:44:15,427 selenium.webdriver.remote.remote_connection DEBUG    GET http://127.0.0.1:52080/session/464c9f45ebc445e0b378fc4b005b04be/element/abeb78fe-04bb-41f0-97b8-400d70e06be1/text {\"id\": \"abeb78fe-04bb-41f0-97b8-400d70e06be1\"}\n",
      "2021-07-16 00:44:15,456 selenium.webdriver.remote.remote_connection DEBUG    Finished Request\n",
      "2021-07-16 00:44:15,458 selenium.webdriver.remote.remote_connection DEBUG    POST http://127.0.0.1:52080/session/464c9f45ebc445e0b378fc4b005b04be/element/1e87d251-9869-47ec-a409-f5cb24223f2d/elements {\"using\": \"css selector\", \"value\": \"div\", \"id\": \"1e87d251-9869-47ec-a409-f5cb24223f2d\"}\n",
      "2021-07-16 00:44:15,478 selenium.webdriver.remote.remote_connection DEBUG    Finished Request\n",
      "2021-07-16 00:44:15,480 selenium.webdriver.remote.remote_connection DEBUG    GET http://127.0.0.1:52080/session/464c9f45ebc445e0b378fc4b005b04be/element/35e16033-1148-4190-8353-5067e958b5f3/text {\"id\": \"35e16033-1148-4190-8353-5067e958b5f3\"}\n",
      "2021-07-16 00:44:15,497 selenium.webdriver.remote.remote_connection DEBUG    Finished Request\n",
      "2021-07-16 00:44:15,498 selenium.webdriver.remote.remote_connection DEBUG    GET http://127.0.0.1:52080/session/464c9f45ebc445e0b378fc4b005b04be/element/5780bd1e-2e9e-402f-8d7d-2093f991e086/text {\"id\": \"5780bd1e-2e9e-402f-8d7d-2093f991e086\"}\n",
      "2021-07-16 00:44:15,516 selenium.webdriver.remote.remote_connection DEBUG    Finished Request\n",
      "2021-07-16 00:44:15,520 selenium.webdriver.remote.remote_connection DEBUG    GET http://127.0.0.1:52080/session/464c9f45ebc445e0b378fc4b005b04be/element/c81325aa-d885-49af-a73c-78e6d0576253/text {\"id\": \"c81325aa-d885-49af-a73c-78e6d0576253\"}\n",
      "2021-07-16 00:44:15,539 selenium.webdriver.remote.remote_connection DEBUG    Finished Request\n",
      "2021-07-16 00:44:15,540 selenium.webdriver.remote.remote_connection DEBUG    GET http://127.0.0.1:52080/session/464c9f45ebc445e0b378fc4b005b04be/element/b25a11eb-517b-47ff-974a-7f1dbb43724b/text {\"id\": \"b25a11eb-517b-47ff-974a-7f1dbb43724b\"}\n",
      "2021-07-16 00:44:15,566 selenium.webdriver.remote.remote_connection DEBUG    Finished Request\n",
      "2021-07-16 00:44:15,570 selenium.webdriver.remote.remote_connection DEBUG    POST http://127.0.0.1:52080/session/464c9f45ebc445e0b378fc4b005b04be/element/7186a300-31ad-432b-acef-98f219b9f8a5/element {\"using\": \"css selector\", \"value\": \"a\", \"id\": \"7186a300-31ad-432b-acef-98f219b9f8a5\"}\n",
      "2021-07-16 00:44:15,590 selenium.webdriver.remote.remote_connection DEBUG    Finished Request\n",
      "2021-07-16 00:44:15,592 selenium.webdriver.remote.remote_connection DEBUG    POST http://127.0.0.1:52080/session/464c9f45ebc445e0b378fc4b005b04be/execute/sync {\"script\": \"return (function(){return function(){var d=this;function f(a){return\\\"string\\\"==typeof a};function h(a,b){this.code=a;this.a=l[a]||m;this.message=b||\\\"\\\";a=this.a.replace(/((?:^|\\\\s+)[a-z])/g,function(a){return a.toUpperCase().replace(/^[\\\\s\\\\xa0]+/g,\\\"\\\")});b=a.length-5;if(0>b||a.indexOf(\\\"Error\\\",b)!=b)a+=\\\"Error\\\";this.name=a;a=Error(this.message);a.name=this.name;this.stack=a.stack||\\\"\\\"}\\n(function(){var a=Error;function b(){}b.prototype=a.prototype;h.b=a.prototype;h.prototype=new b;h.prototype.constructor=h;h.a=function(b,c,g){for(var e=Array(arguments.length-2),k=2;k<arguments.length;k++)e[k-2]=arguments[k];return a.prototype[c].apply(b,e)}})();var m=\\\"unknown error\\\",l={15:\\\"element not selectable\\\",11:\\\"element not visible\\\"};l[31]=m;l[30]=m;l[24]=\\\"invalid cookie domain\\\";l[29]=\\\"invalid element coordinates\\\";l[12]=\\\"invalid element state\\\";l[32]=\\\"invalid selector\\\";l[51]=\\\"invalid selector\\\";\\nl[52]=\\\"invalid selector\\\";l[17]=\\\"javascript error\\\";l[405]=\\\"unsupported operation\\\";l[34]=\\\"move target out of bounds\\\";l[27]=\\\"no such alert\\\";l[7]=\\\"no such element\\\";l[8]=\\\"no such frame\\\";l[23]=\\\"no such window\\\";l[28]=\\\"script timeout\\\";l[33]=\\\"session not created\\\";l[10]=\\\"stale element reference\\\";l[21]=\\\"timeout\\\";l[25]=\\\"unable to set cookie\\\";l[26]=\\\"unexpected alert open\\\";l[13]=m;l[9]=\\\"unknown command\\\";h.prototype.toString=function(){return this.name+\\\": \\\"+this.message};var n;a:{var p=d.navigator;if(p){var q=p.userAgent;if(q){n=q;break a}}n=\\\"\\\"}function r(a){return-1!=n.indexOf(a)};function t(a,b){for(var e=a.length,c=f(a)?a.split(\\\"\\\"):a,g=0;g<e;g++)g in c&&b.call(void 0,c[g],g,a)};function v(){return r(\\\"iPhone\\\")&&!r(\\\"iPod\\\")&&!r(\\\"iPad\\\")};function w(){return(r(\\\"Chrome\\\")||r(\\\"CriOS\\\"))&&!r(\\\"Edge\\\")};var x=r(\\\"Opera\\\"),y=r(\\\"Trident\\\")||r(\\\"MSIE\\\"),z=r(\\\"Edge\\\"),A=r(\\\"Gecko\\\")&&!(-1!=n.toLowerCase().indexOf(\\\"webkit\\\")&&!r(\\\"Edge\\\"))&&!(r(\\\"Trident\\\")||r(\\\"MSIE\\\"))&&!r(\\\"Edge\\\"),aa=-1!=n.toLowerCase().indexOf(\\\"webkit\\\")&&!r(\\\"Edge\\\");function B(){var a=d.document;return a?a.documentMode:void 0}var C;\\na:{var D=\\\"\\\",E=function(){var a=n;if(A)return/rv\\\\:([^\\\\);]+)(\\\\)|;)/.exec(a);if(z)return/Edge\\\\/([\\\\d\\\\.]+)/.exec(a);if(y)return/\\\\b(?:MSIE|rv)[: ]([^\\\\);]+)(\\\\)|;)/.exec(a);if(aa)return/WebKit\\\\/(\\\\S+)/.exec(a);if(x)return/(?:Version)[ \\\\/]?(\\\\S+)/.exec(a)}();E&&(D=E?E[1]:\\\"\\\");if(y){var F=B();if(null!=F&&F>parseFloat(D)){C=String(F);break a}}C=D}var G;var H=d.document;G=H&&y?B()||(\\\"CSS1Compat\\\"==H.compatMode?parseInt(C,10):5):void 0;var ba=r(\\\"Firefox\\\"),ca=v()||r(\\\"iPod\\\"),da=r(\\\"iPad\\\"),I=r(\\\"Android\\\")&&!(w()||r(\\\"Firefox\\\")||r(\\\"Opera\\\")||r(\\\"Silk\\\")),ea=w(),J=r(\\\"Safari\\\")&&!(w()||r(\\\"Coast\\\")||r(\\\"Opera\\\")||r(\\\"Edge\\\")||r(\\\"Silk\\\")||r(\\\"Android\\\"))&&!(v()||r(\\\"iPad\\\")||r(\\\"iPod\\\"));function K(a){return(a=a.exec(n))?a[1]:\\\"\\\"}(function(){if(ba)return K(/Firefox\\\\/([0-9.]+)/);if(y||z||x)return C;if(ea)return v()||r(\\\"iPad\\\")||r(\\\"iPod\\\")?K(/CriOS\\\\/([0-9.]+)/):K(/Chrome\\\\/([0-9.]+)/);if(J&&!(v()||r(\\\"iPad\\\")||r(\\\"iPod\\\")))return K(/Version\\\\/([0-9.]+)/);if(ca||da){var a=/Version\\\\/(\\\\S+).*Mobile\\\\/(\\\\S+)/.exec(n);if(a)return a[1]+\\\".\\\"+a[2]}else if(I)return(a=K(/Android\\\\s+([0-9.]+)/))?a:K(/Version\\\\/([0-9.]+)/);return\\\"\\\"})();var L,M=function(){if(!A)return!1;var a=d.Components;if(!a)return!1;try{if(!a.classes)return!1}catch(g){return!1}var b=a.classes,a=a.interfaces,e=b[\\\"@mozilla.org/xpcom/version-comparator;1\\\"].getService(a.nsIVersionComparator),c=b[\\\"@mozilla.org/xre/app-info;1\\\"].getService(a.nsIXULAppInfo).version;L=function(a){e.compare(c,\\\"\\\"+a)};return!0}(),N=y&&!(8<=Number(G)),fa=y&&!(9<=Number(G));I&&M&&L(2.3);I&&M&&L(4);J&&M&&L(6);var ga={SCRIPT:1,STYLE:1,HEAD:1,IFRAME:1,OBJECT:1},O={IMG:\\\" \\\",BR:\\\"\\\\n\\\"};function P(a,b,e){if(!(a.nodeName in ga))if(3==a.nodeType)e?b.push(String(a.nodeValue).replace(/(\\\\r\\\\n|\\\\r|\\\\n)/g,\\\"\\\")):b.push(a.nodeValue);else if(a.nodeName in O)b.push(O[a.nodeName]);else for(a=a.firstChild;a;)P(a,b,e),a=a.nextSibling};function Q(a,b){b=b.toLowerCase();return\\\"style\\\"==b?ha(a.style.cssText):N&&\\\"value\\\"==b&&R(a,\\\"INPUT\\\")?a.value:fa&&!0===a[b]?String(a.getAttribute(b)):(a=a.getAttributeNode(b))&&a.specified?a.value:null}var ia=/[;]+(?=(?:(?:[^\\\"]*\\\"){2})*[^\\\"]*$)(?=(?:(?:[^']*'){2})*[^']*$)(?=(?:[^()]*\\\\([^()]*\\\\))*[^()]*$)/;\\nfunction ha(a){var b=[];t(a.split(ia),function(a){var c=a.indexOf(\\\":\\\");0<c&&(a=[a.slice(0,c),a.slice(c+1)],2==a.length&&b.push(a[0].toLowerCase(),\\\":\\\",a[1],\\\";\\\"))});b=b.join(\\\"\\\");return b=\\\";\\\"==b.charAt(b.length-1)?b:b+\\\";\\\"}function S(a,b){N&&\\\"value\\\"==b&&R(a,\\\"OPTION\\\")&&null===Q(a,\\\"value\\\")?(b=[],P(a,b,!1),a=b.join(\\\"\\\")):a=a[b];return a}function R(a,b){b&&\\\"string\\\"!==typeof b&&(b=b.toString());return!!a&&1==a.nodeType&&(!b||a.tagName.toUpperCase()==b)}\\nfunction T(a){return R(a,\\\"OPTION\\\")?!0:R(a,\\\"INPUT\\\")?(a=a.type.toLowerCase(),\\\"checkbox\\\"==a||\\\"radio\\\"==a):!1};var ja={\\\"class\\\":\\\"className\\\",readonly:\\\"readOnly\\\"},U=\\\"allowfullscreen allowpaymentrequest allowusermedia async autofocus autoplay checked compact complete controls declare default defaultchecked defaultselected defer disabled ended formnovalidate hidden indeterminate iscontenteditable ismap itemscope loop multiple muted nohref nomodule noresize noshade novalidate nowrap open paused playsinline pubdate readonly required reversed scoped seamless seeking selected truespeed typemustmatch willvalidate\\\".split(\\\" \\\");function V(a,b){var e=null,c=b.toLowerCase();if(\\\"style\\\"==c)return(e=a.style)&&!f(e)&&(e=e.cssText),e;if((\\\"selected\\\"==c||\\\"checked\\\"==c)&&T(a)){if(!T(a))throw new h(15,\\\"Element is not selectable\\\");b=\\\"selected\\\";e=a.type&&a.type.toLowerCase();if(\\\"checkbox\\\"==e||\\\"radio\\\"==e)b=\\\"checked\\\";return S(a,b)?\\\"true\\\":null}var g=R(a,\\\"A\\\");if(R(a,\\\"IMG\\\")&&\\\"src\\\"==c||g&&\\\"href\\\"==c)return(e=Q(a,c))&&(e=S(a,c)),e;if(\\\"spellcheck\\\"==c){e=Q(a,c);if(null!==e){if(\\\"false\\\"==e.toLowerCase())return\\\"false\\\";if(\\\"true\\\"==e.toLowerCase())return\\\"true\\\"}return S(a,\\nc)+\\\"\\\"}g=ja[b]||b;a:if(f(U))c=f(c)&&1==c.length?U.indexOf(c,0):-1;else{for(var u=0;u<U.length;u++)if(u in U&&U[u]===c){c=u;break a}c=-1}if(0<=c)return(e=null!==Q(a,b)||S(a,g))?\\\"true\\\":null;try{var k=S(a,g)}catch(ka){}(c=null==k)||(c=typeof k,c=\\\"object\\\"==c&&null!=k||\\\"function\\\"==c);c?e=Q(a,b):e=k;return null!=e?e.toString():null}var W=[\\\"_\\\"],X=d;W[0]in X||!X.execScript||X.execScript(\\\"var \\\"+W[0]);\\nfor(var Y;W.length&&(Y=W.shift());){var Z;if(Z=!W.length)Z=void 0!==V;Z?X[Y]=V:X[Y]&&X[Y]!==Object.prototype[Y]?X=X[Y]:X=X[Y]={}};; return this._.apply(null,arguments);}.apply({navigator:typeof window!='undefined'?window.navigator:null,document:typeof window!='undefined'?window.document:null}, arguments);}\\n).apply(null, arguments);\", \"args\": [{\"ELEMENT\": \"d09aa914-124c-4f1a-a4a6-9532d9e43cf7\", \"element-6066-11e4-a52e-4f735466cecf\": \"d09aa914-124c-4f1a-a4a6-9532d9e43cf7\"}, \"href\"]}\n"
     ]
    },
    {
     "name": "stderr",
     "output_type": "stream",
     "text": [
      "2021-07-16 00:44:15,610 selenium.webdriver.remote.remote_connection DEBUG    Finished Request\n"
     ]
    },
    {
     "name": "stdout",
     "output_type": "stream",
     "text": [
      "36420 | Alpha Wolf | Gander Outdoors | 73.4 miles (118.2 km) | 2961 Ross Clark Circle SW | Dothan, AL 36301 | 866-504-3880 | http://www.campingworldofdothan.com/ | Gander RV | 85.0 miles (136.7 km) | 6240 Gulf Breeze Pkwy US Hwy 98 | Gulf Breeze, FL 32563 | 866-413-6348 | http://www.campingworldofgulfbreeze.com/ | \n",
      "\n"
     ]
    },
    {
     "name": "stderr",
     "output_type": "stream",
     "text": [
      "2021-07-16 00:44:16,651 selenium.webdriver.remote.remote_connection DEBUG    POST http://127.0.0.1:52080/session/464c9f45ebc445e0b378fc4b005b04be/url {\"url\": \"https://forestriverinc.com/rvs/dealer-locator\"}\n"
     ]
    },
    {
     "name": "stdout",
     "output_type": "stream",
     "text": [
      "1\n",
      "brands done :  1\n"
     ]
    }
   ],
   "source": [
    "zip_codes_done = 1\n",
    "brands_done = 0\n",
    "count = 0\n",
    "proxies_start=23\n",
    "for i in  range(proxies_start, len(proxies)):\n",
    "    PROXY = proxies[i].get_address()\n",
    "    webdriver.DesiredCapabilities.CHROME['proxy'] = {\n",
    "        \"httpProxy\":PROXY,\n",
    "        \"ftpProxy\":PROXY,\n",
    "        \"sslProxy\":PROXY,\n",
    "\n",
    "        \"proxyType\":\"MANUAL\",\n",
    "    }\n",
    "    \n",
    "    print(i,  proxies[i].get_address())\n",
    "    proxies_start=i+1\n",
    "    running = True;\n",
    "    while(running):\n",
    "        options = webdriver.ChromeOptions()\n",
    "        options.add_argument('--disable-notifications')\n",
    "        options.add_argument('--mute-audio')\n",
    "        options.add_argument(\"start-maximized\")\n",
    "        options.add_experimental_option(\"excludeSwitches\", [\"enable-automation\"])\n",
    "        options.add_experimental_option('useAutomationExtension', False)\n",
    "        options.add_argument(\"window-size=800,600\")\n",
    "        # a = ua.random\n",
    "        user_agent = ua.random\n",
    "        print(user_agent)\n",
    "        options.add_argument(f'user-agent={user_agent}')\n",
    "        count = 0;\n",
    "        driver = webdriver.Chrome(\"D:\\Chromedriver\\chromedriver.exe\", chrome_options=options)\n",
    "        driver.execute_script(\"Object.defineProperty(navigator, 'webdriver', {get: () => undefined})\")\n",
    "        \n",
    "        try:\n",
    "            zip_codes_done,  brands_done, count, status = getData(zip_codes_done, brands_done, count)\n",
    "            # print(count)\n",
    "            if (status == False):\n",
    "                running = False\n",
    "        except Exception as e:\n",
    "            driver.quit()\n",
    "            proxies_start=i+1\n",
    "            break;\n",
    "            \n",
    "                \n",
    "        "
   ]
  }
 ],
 "metadata": {
  "kernelspec": {
   "display_name": "Python 3",
   "language": "python",
   "name": "python3"
  },
  "language_info": {
   "codemirror_mode": {
    "name": "ipython",
    "version": 3
   },
   "file_extension": ".py",
   "mimetype": "text/x-python",
   "name": "python",
   "nbconvert_exporter": "python",
   "pygments_lexer": "ipython3",
   "version": "3.8.5"
  }
 },
 "nbformat": 4,
 "nbformat_minor": 4
}
